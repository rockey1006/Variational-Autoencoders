{
  "nbformat": 4,
  "nbformat_minor": 0,
  "metadata": {
    "colab": {
      "name": "classifier10_20.ipynb",
      "provenance": [],
      "authorship_tag": "ABX9TyNYBfFxm9AGvMeRUMXIlFLN",
      "include_colab_link": true
    },
    "kernelspec": {
      "name": "python3",
      "display_name": "Python 3"
    },
    "accelerator": "GPU"
  },
  "cells": [
    {
      "cell_type": "markdown",
      "metadata": {
        "id": "view-in-github",
        "colab_type": "text"
      },
      "source": [
        "<a href=\"https://colab.research.google.com/github/rockey1006/Variational-Autoencoders/blob/master/oneshot10_22.ipynb\" target=\"_parent\"><img src=\"https://colab.research.google.com/assets/colab-badge.svg\" alt=\"Open In Colab\"/></a>"
      ]
    },
    {
      "cell_type": "code",
      "metadata": {
        "id": "9bNeIls_vvHu",
        "outputId": "a67afdf4-1e63-4cb5-9c6a-122d2fb3cd62",
        "colab": {
          "base_uri": "https://localhost:8080/",
          "height": 122
        }
      },
      "source": [
        "!git clone https://github.com/rockey1006/classifier.git"
      ],
      "execution_count": 1,
      "outputs": [
        {
          "output_type": "stream",
          "text": [
            "Cloning into 'classifier'...\n",
            "remote: Enumerating objects: 17, done.\u001b[K\n",
            "remote: Counting objects: 100% (17/17), done.\u001b[K\n",
            "remote: Compressing objects: 100% (15/15), done.\u001b[K\n",
            "remote: Total 17 (delta 0), reused 0 (delta 0), pack-reused 0\u001b[K\n",
            "Unpacking objects: 100% (17/17), done.\n"
          ],
          "name": "stdout"
        }
      ]
    },
    {
      "cell_type": "code",
      "metadata": {
        "id": "hkoslNjev4S3",
        "outputId": "245f89d5-b7f8-4ca7-e921-496444c9b1d2",
        "colab": {
          "base_uri": "https://localhost:8080/",
          "height": 34
        }
      },
      "source": [
        "\n",
        "from google.colab import drive\n",
        "drive.mount('/content/drive')"
      ],
      "execution_count": 2,
      "outputs": [
        {
          "output_type": "stream",
          "text": [
            "Mounted at /content/drive\n"
          ],
          "name": "stdout"
        }
      ]
    },
    {
      "cell_type": "code",
      "metadata": {
        "id": "5O3YtJGvwQHK"
      },
      "source": [
        "from zipfile import ZipFile\n",
        "with ZipFile('/content/drive/My Drive/trainning_set.zip', 'r') as zipObj:\n",
        "   # Extract all the contents of zip file in different directory\n",
        "   zipObj.extractall('train')"
      ],
      "execution_count": 10,
      "outputs": []
    },
    {
      "cell_type": "code",
      "metadata": {
        "id": "hoF7iCYcxO3E"
      },
      "source": [
        "from zipfile import ZipFile\n",
        "with ZipFile('/content/drive/My Drive/one-shot_set.zip', 'r') as zipObj:\n",
        "   # Extract all the contents of zip file in different directory\n",
        "   zipObj.extractall('oneshotset')"
      ],
      "execution_count": 5,
      "outputs": []
    },
    {
      "cell_type": "code",
      "metadata": {
        "id": "L4jO1xBiqBkK"
      },
      "source": [
        "from zipfile import ZipFile\n",
        "with ZipFile('/content/drive/My Drive/base_set.zip', 'r') as zipObj:\n",
        "   # Extract all the contents of zip file in different directory\n",
        "   zipObj.extractall('baseset')"
      ],
      "execution_count": 6,
      "outputs": []
    },
    {
      "cell_type": "code",
      "metadata": {
        "id": "q9Lnx9nZwc6B"
      },
      "source": [
        "from zipfile import ZipFile\n",
        "with ZipFile('/content/drive/My Drive/vgg_face_weights.zip', 'r') as zipObj:\n",
        "   # Extract all the contents of zip file in different directory\n",
        "   zipObj.extractall('vgg_face_weights/')"
      ],
      "execution_count": 8,
      "outputs": []
    },
    {
      "cell_type": "code",
      "metadata": {
        "id": "KVil8UF5xjYW",
        "outputId": "b0d096d4-1e2d-41bf-93af-61c4d4a4d0e6",
        "colab": {
          "base_uri": "https://localhost:8080/",
          "height": 1000
        }
      },
      "source": [
        "!python /content/classifier/Face2020.py"
      ],
      "execution_count": 18,
      "outputs": [
        {
          "output_type": "stream",
          "text": [
            "2020-10-22 23:59:05.291258: I tensorflow/stream_executor/platform/default/dso_loader.cc:48] Successfully opened dynamic library libcudart.so.10.1\n",
            "2020-10-22 23:59:08.591114: I tensorflow/stream_executor/platform/default/dso_loader.cc:48] Successfully opened dynamic library libcuda.so.1\n",
            "2020-10-22 23:59:08.591280: I tensorflow/stream_executor/cuda/cuda_gpu_executor.cc:982] successful NUMA node read from SysFS had negative value (-1), but there must be at least one NUMA node, so returning NUMA node zero\n",
            "2020-10-22 23:59:08.591813: I tensorflow/core/common_runtime/gpu/gpu_device.cc:1716] Found device 0 with properties: \n",
            "pciBusID: 0000:00:04.0 name: Tesla T4 computeCapability: 7.5\n",
            "coreClock: 1.59GHz coreCount: 40 deviceMemorySize: 14.73GiB deviceMemoryBandwidth: 298.08GiB/s\n",
            "2020-10-22 23:59:08.591863: I tensorflow/stream_executor/platform/default/dso_loader.cc:48] Successfully opened dynamic library libcudart.so.10.1\n",
            "2020-10-22 23:59:08.591918: I tensorflow/stream_executor/platform/default/dso_loader.cc:48] Successfully opened dynamic library libcublas.so.10\n",
            "2020-10-22 23:59:08.593425: I tensorflow/stream_executor/platform/default/dso_loader.cc:48] Successfully opened dynamic library libcufft.so.10\n",
            "2020-10-22 23:59:08.593515: I tensorflow/stream_executor/platform/default/dso_loader.cc:48] Successfully opened dynamic library libcurand.so.10\n",
            "2020-10-22 23:59:08.593548: I tensorflow/stream_executor/platform/default/dso_loader.cc:48] Successfully opened dynamic library libcusolver.so.10\n",
            "2020-10-22 23:59:08.594273: I tensorflow/stream_executor/platform/default/dso_loader.cc:48] Successfully opened dynamic library libcusparse.so.10\n",
            "2020-10-22 23:59:08.594357: I tensorflow/stream_executor/platform/default/dso_loader.cc:48] Successfully opened dynamic library libcudnn.so.7\n",
            "2020-10-22 23:59:08.594446: I tensorflow/stream_executor/cuda/cuda_gpu_executor.cc:982] successful NUMA node read from SysFS had negative value (-1), but there must be at least one NUMA node, so returning NUMA node zero\n",
            "2020-10-22 23:59:08.594983: I tensorflow/stream_executor/cuda/cuda_gpu_executor.cc:982] successful NUMA node read from SysFS had negative value (-1), but there must be at least one NUMA node, so returning NUMA node zero\n",
            "2020-10-22 23:59:08.595488: I tensorflow/core/common_runtime/gpu/gpu_device.cc:1858] Adding visible gpu devices: 0\n",
            "2020-10-22 23:59:08.600306: I tensorflow/core/platform/profile_utils/cpu_utils.cc:104] CPU Frequency: 2200000000 Hz\n",
            "2020-10-22 23:59:08.600534: I tensorflow/compiler/xla/service/service.cc:168] XLA service 0x4f4cd340 initialized for platform Host (this does not guarantee that XLA will be used). Devices:\n",
            "2020-10-22 23:59:08.600562: I tensorflow/compiler/xla/service/service.cc:176]   StreamExecutor device (0): Host, Default Version\n",
            "2020-10-22 23:59:08.601785: I tensorflow/stream_executor/cuda/cuda_gpu_executor.cc:982] successful NUMA node read from SysFS had negative value (-1), but there must be at least one NUMA node, so returning NUMA node zero\n",
            "2020-10-22 23:59:08.602405: I tensorflow/compiler/xla/service/service.cc:168] XLA service 0x4f4cd500 initialized for platform CUDA (this does not guarantee that XLA will be used). Devices:\n",
            "2020-10-22 23:59:08.602429: I tensorflow/compiler/xla/service/service.cc:176]   StreamExecutor device (0): Tesla T4, Compute Capability 7.5\n",
            "2020-10-22 23:59:08.602562: I tensorflow/stream_executor/cuda/cuda_gpu_executor.cc:982] successful NUMA node read from SysFS had negative value (-1), but there must be at least one NUMA node, so returning NUMA node zero\n",
            "2020-10-22 23:59:08.603082: I tensorflow/core/common_runtime/gpu/gpu_device.cc:1716] Found device 0 with properties: \n",
            "pciBusID: 0000:00:04.0 name: Tesla T4 computeCapability: 7.5\n",
            "coreClock: 1.59GHz coreCount: 40 deviceMemorySize: 14.73GiB deviceMemoryBandwidth: 298.08GiB/s\n",
            "2020-10-22 23:59:08.603119: I tensorflow/stream_executor/platform/default/dso_loader.cc:48] Successfully opened dynamic library libcudart.so.10.1\n",
            "2020-10-22 23:59:08.603139: I tensorflow/stream_executor/platform/default/dso_loader.cc:48] Successfully opened dynamic library libcublas.so.10\n",
            "2020-10-22 23:59:08.603167: I tensorflow/stream_executor/platform/default/dso_loader.cc:48] Successfully opened dynamic library libcufft.so.10\n",
            "2020-10-22 23:59:08.603187: I tensorflow/stream_executor/platform/default/dso_loader.cc:48] Successfully opened dynamic library libcurand.so.10\n",
            "2020-10-22 23:59:08.603202: I tensorflow/stream_executor/platform/default/dso_loader.cc:48] Successfully opened dynamic library libcusolver.so.10\n",
            "2020-10-22 23:59:08.603222: I tensorflow/stream_executor/platform/default/dso_loader.cc:48] Successfully opened dynamic library libcusparse.so.10\n",
            "2020-10-22 23:59:08.603237: I tensorflow/stream_executor/platform/default/dso_loader.cc:48] Successfully opened dynamic library libcudnn.so.7\n",
            "2020-10-22 23:59:08.603300: I tensorflow/stream_executor/cuda/cuda_gpu_executor.cc:982] successful NUMA node read from SysFS had negative value (-1), but there must be at least one NUMA node, so returning NUMA node zero\n",
            "2020-10-22 23:59:08.603836: I tensorflow/stream_executor/cuda/cuda_gpu_executor.cc:982] successful NUMA node read from SysFS had negative value (-1), but there must be at least one NUMA node, so returning NUMA node zero\n",
            "2020-10-22 23:59:08.604331: I tensorflow/core/common_runtime/gpu/gpu_device.cc:1858] Adding visible gpu devices: 0\n",
            "2020-10-22 23:59:08.604376: I tensorflow/stream_executor/platform/default/dso_loader.cc:48] Successfully opened dynamic library libcudart.so.10.1\n",
            "2020-10-22 23:59:09.217741: I tensorflow/core/common_runtime/gpu/gpu_device.cc:1257] Device interconnect StreamExecutor with strength 1 edge matrix:\n",
            "2020-10-22 23:59:09.217801: I tensorflow/core/common_runtime/gpu/gpu_device.cc:1263]      0 \n",
            "2020-10-22 23:59:09.217813: I tensorflow/core/common_runtime/gpu/gpu_device.cc:1276] 0:   N \n",
            "2020-10-22 23:59:09.218012: I tensorflow/stream_executor/cuda/cuda_gpu_executor.cc:982] successful NUMA node read from SysFS had negative value (-1), but there must be at least one NUMA node, so returning NUMA node zero\n",
            "2020-10-22 23:59:09.218612: I tensorflow/stream_executor/cuda/cuda_gpu_executor.cc:982] successful NUMA node read from SysFS had negative value (-1), but there must be at least one NUMA node, so returning NUMA node zero\n",
            "2020-10-22 23:59:09.219128: W tensorflow/core/common_runtime/gpu/gpu_bfc_allocator.cc:39] Overriding allow_growth setting because the TF_FORCE_GPU_ALLOW_GROWTH environment variable is set. Original config value was 0.\n",
            "2020-10-22 23:59:09.219178: I tensorflow/core/common_runtime/gpu/gpu_device.cc:1402] Created TensorFlow device (/job:localhost/replica:0/task:0/device:GPU:0 with 13603 MB memory) -> physical GPU (device: 0, name: Tesla T4, pci bus id: 0000:00:04.0, compute capability: 7.5)\n",
            "/content/vgg_face_weights\n",
            "2020-10-22 23:59:09.823295: I tensorflow/stream_executor/platform/default/dso_loader.cc:48] Successfully opened dynamic library libcudnn.so.7\n",
            "2020-10-22 23:59:09.962189: I tensorflow/stream_executor/platform/default/dso_loader.cc:48] Successfully opened dynamic library libcublas.so.10\n",
            "(1054, 2622)\n",
            "(1054,)\n",
            "Epoch 1/50\n",
            "33/33 [==============================] - 0s 8ms/step - loss: 7.6459 - accuracy: 0.1528 - val_loss: 8.1637 - val_accuracy: 0.0000e+00\n",
            "Epoch 2/50\n",
            "33/33 [==============================] - 0s 5ms/step - loss: 5.4790 - accuracy: 0.3112 - val_loss: 7.3209 - val_accuracy: 0.0033\n",
            "Epoch 3/50\n",
            "33/33 [==============================] - 0s 4ms/step - loss: 4.4181 - accuracy: 0.3596 - val_loss: 6.9603 - val_accuracy: 0.0000e+00\n",
            "Epoch 4/50\n",
            "33/33 [==============================] - 0s 5ms/step - loss: 3.8858 - accuracy: 0.4013 - val_loss: 6.8155 - val_accuracy: 0.0000e+00\n",
            "Epoch 5/50\n",
            "33/33 [==============================] - 0s 4ms/step - loss: 3.5505 - accuracy: 0.4345 - val_loss: 6.7188 - val_accuracy: 0.0033\n",
            "Epoch 6/50\n",
            "33/33 [==============================] - 0s 4ms/step - loss: 3.2805 - accuracy: 0.4877 - val_loss: 6.6339 - val_accuracy: 0.0033\n",
            "Epoch 7/50\n",
            "33/33 [==============================] - 0s 5ms/step - loss: 3.0680 - accuracy: 0.5095 - val_loss: 6.5732 - val_accuracy: 0.0066\n",
            "Epoch 8/50\n",
            "33/33 [==============================] - 0s 4ms/step - loss: 2.8889 - accuracy: 0.5455 - val_loss: 6.5637 - val_accuracy: 0.0033\n",
            "Epoch 9/50\n",
            "33/33 [==============================] - 0s 4ms/step - loss: 2.6914 - accuracy: 0.5750 - val_loss: 6.5050 - val_accuracy: 0.0033\n",
            "Epoch 10/50\n",
            "33/33 [==============================] - 0s 4ms/step - loss: 2.5201 - accuracy: 0.5996 - val_loss: 6.4832 - val_accuracy: 0.0066\n",
            "Epoch 11/50\n",
            "33/33 [==============================] - 0s 4ms/step - loss: 2.3720 - accuracy: 0.6328 - val_loss: 6.4730 - val_accuracy: 0.0066\n",
            "Epoch 12/50\n",
            "33/33 [==============================] - 0s 4ms/step - loss: 2.2167 - accuracy: 0.6689 - val_loss: 6.4585 - val_accuracy: 0.0066\n",
            "Epoch 13/50\n",
            "33/33 [==============================] - 0s 5ms/step - loss: 2.0904 - accuracy: 0.7106 - val_loss: 6.4633 - val_accuracy: 0.0000e+00\n",
            "Epoch 14/50\n",
            "33/33 [==============================] - 0s 6ms/step - loss: 1.9302 - accuracy: 0.7438 - val_loss: 6.4401 - val_accuracy: 0.0033\n",
            "Epoch 15/50\n",
            "33/33 [==============================] - 0s 5ms/step - loss: 1.8158 - accuracy: 0.7704 - val_loss: 6.4541 - val_accuracy: 0.0000e+00\n",
            "Epoch 16/50\n",
            "33/33 [==============================] - 0s 5ms/step - loss: 1.7148 - accuracy: 0.7960 - val_loss: 6.4445 - val_accuracy: 0.0033\n",
            "Epoch 17/50\n",
            "33/33 [==============================] - 0s 5ms/step - loss: 1.5686 - accuracy: 0.8311 - val_loss: 6.4635 - val_accuracy: 0.0000e+00\n",
            "Epoch 18/50\n",
            "33/33 [==============================] - 0s 5ms/step - loss: 1.4712 - accuracy: 0.8577 - val_loss: 6.4979 - val_accuracy: 0.0033\n",
            "Epoch 19/50\n",
            "33/33 [==============================] - 0s 5ms/step - loss: 1.3663 - accuracy: 0.8890 - val_loss: 6.5004 - val_accuracy: 0.0033\n",
            "Epoch 20/50\n",
            "33/33 [==============================] - 0s 4ms/step - loss: 1.2560 - accuracy: 0.8975 - val_loss: 6.5234 - val_accuracy: 0.0033\n",
            "Epoch 21/50\n",
            "33/33 [==============================] - 0s 5ms/step - loss: 1.1728 - accuracy: 0.9355 - val_loss: 6.5479 - val_accuracy: 0.0033\n",
            "Epoch 22/50\n",
            "33/33 [==============================] - 0s 5ms/step - loss: 1.1023 - accuracy: 0.9383 - val_loss: 6.5925 - val_accuracy: 0.0033\n",
            "Epoch 23/50\n",
            "33/33 [==============================] - 0s 5ms/step - loss: 0.9831 - accuracy: 0.9564 - val_loss: 6.6280 - val_accuracy: 0.0033\n",
            "Epoch 24/50\n",
            "33/33 [==============================] - 0s 5ms/step - loss: 0.9201 - accuracy: 0.9677 - val_loss: 6.6583 - val_accuracy: 0.0033\n",
            "Epoch 25/50\n",
            "33/33 [==============================] - 0s 5ms/step - loss: 0.8493 - accuracy: 0.9677 - val_loss: 6.7179 - val_accuracy: 0.0033\n",
            "Epoch 26/50\n",
            "33/33 [==============================] - 0s 4ms/step - loss: 0.7733 - accuracy: 0.9886 - val_loss: 6.7465 - val_accuracy: 0.0033\n",
            "Epoch 27/50\n",
            "33/33 [==============================] - 0s 4ms/step - loss: 0.7370 - accuracy: 0.9772 - val_loss: 6.8395 - val_accuracy: 0.0033\n",
            "Epoch 28/50\n",
            "33/33 [==============================] - 0s 5ms/step - loss: 0.6617 - accuracy: 0.9905 - val_loss: 6.9047 - val_accuracy: 0.0033\n",
            "Epoch 29/50\n",
            "33/33 [==============================] - 0s 5ms/step - loss: 0.6109 - accuracy: 0.9934 - val_loss: 6.9662 - val_accuracy: 0.0033\n",
            "Epoch 30/50\n",
            "33/33 [==============================] - 0s 6ms/step - loss: 0.5645 - accuracy: 0.9905 - val_loss: 7.0624 - val_accuracy: 0.0033\n",
            "Epoch 31/50\n",
            "33/33 [==============================] - 0s 5ms/step - loss: 0.5055 - accuracy: 0.9962 - val_loss: 7.1411 - val_accuracy: 0.0033\n",
            "Epoch 32/50\n",
            "33/33 [==============================] - 0s 5ms/step - loss: 0.4819 - accuracy: 0.9962 - val_loss: 7.2156 - val_accuracy: 0.0033\n",
            "Epoch 33/50\n",
            "33/33 [==============================] - 0s 5ms/step - loss: 0.4454 - accuracy: 0.9972 - val_loss: 7.2249 - val_accuracy: 0.0033\n",
            "Epoch 34/50\n",
            "33/33 [==============================] - 0s 5ms/step - loss: 0.4023 - accuracy: 0.9962 - val_loss: 7.3720 - val_accuracy: 0.0033\n",
            "Epoch 35/50\n",
            "33/33 [==============================] - 0s 4ms/step - loss: 0.3830 - accuracy: 0.9981 - val_loss: 7.4645 - val_accuracy: 0.0033\n",
            "Epoch 36/50\n",
            "33/33 [==============================] - 0s 5ms/step - loss: 0.3536 - accuracy: 0.9991 - val_loss: 7.5475 - val_accuracy: 0.0033\n",
            "Epoch 37/50\n",
            "33/33 [==============================] - 0s 5ms/step - loss: 0.3254 - accuracy: 0.9981 - val_loss: 7.6215 - val_accuracy: 0.0033\n",
            "Epoch 38/50\n",
            "33/33 [==============================] - 0s 6ms/step - loss: 0.2984 - accuracy: 0.9981 - val_loss: 7.7406 - val_accuracy: 0.0033\n",
            "Epoch 39/50\n",
            "33/33 [==============================] - 0s 5ms/step - loss: 0.2719 - accuracy: 1.0000 - val_loss: 7.7957 - val_accuracy: 0.0033\n",
            "Epoch 40/50\n",
            "33/33 [==============================] - 0s 5ms/step - loss: 0.2545 - accuracy: 1.0000 - val_loss: 7.9203 - val_accuracy: 0.0033\n",
            "Epoch 41/50\n",
            "33/33 [==============================] - 0s 4ms/step - loss: 0.2380 - accuracy: 0.9972 - val_loss: 7.9976 - val_accuracy: 0.0033\n",
            "Epoch 42/50\n",
            "33/33 [==============================] - 0s 6ms/step - loss: 0.2206 - accuracy: 0.9991 - val_loss: 8.0968 - val_accuracy: 0.0033\n",
            "Epoch 43/50\n",
            "33/33 [==============================] - 0s 5ms/step - loss: 0.2119 - accuracy: 1.0000 - val_loss: 8.1519 - val_accuracy: 0.0033\n",
            "Epoch 44/50\n",
            "33/33 [==============================] - 0s 5ms/step - loss: 0.1945 - accuracy: 0.9991 - val_loss: 8.2234 - val_accuracy: 0.0033\n",
            "Epoch 45/50\n",
            "33/33 [==============================] - 0s 6ms/step - loss: 0.1797 - accuracy: 1.0000 - val_loss: 8.3075 - val_accuracy: 0.0033\n",
            "Epoch 46/50\n",
            "33/33 [==============================] - 0s 5ms/step - loss: 0.1655 - accuracy: 1.0000 - val_loss: 8.4009 - val_accuracy: 0.0033\n",
            "Epoch 47/50\n",
            "33/33 [==============================] - 0s 5ms/step - loss: 0.1645 - accuracy: 1.0000 - val_loss: 8.4405 - val_accuracy: 0.0033\n",
            "Epoch 48/50\n",
            "33/33 [==============================] - 0s 6ms/step - loss: 0.1509 - accuracy: 1.0000 - val_loss: 8.5437 - val_accuracy: 0.0033\n",
            "Epoch 49/50\n",
            "33/33 [==============================] - 0s 5ms/step - loss: 0.1413 - accuracy: 1.0000 - val_loss: 8.6525 - val_accuracy: 0.0033\n",
            "Epoch 50/50\n",
            "33/33 [==============================] - 0s 4ms/step - loss: 0.1327 - accuracy: 0.9991 - val_loss: 8.6821 - val_accuracy: 0.0033\n",
            "done..\n"
          ],
          "name": "stdout"
        }
      ]
    }
  ]
}