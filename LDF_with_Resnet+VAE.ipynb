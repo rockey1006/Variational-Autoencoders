{
  "nbformat": 4,
  "nbformat_minor": 0,
  "metadata": {
    "colab": {
      "name": "Extract_LDF_with_Resnet+VAE.ipynb",
      "provenance": [],
      "collapsed_sections": [],
      "include_colab_link": true
    },
    "kernelspec": {
      "name": "python3",
      "display_name": "Python 3"
    }
  },
  "cells": [
    {
      "cell_type": "markdown",
      "metadata": {
        "id": "view-in-github",
        "colab_type": "text"
      },
      "source": [
        "<a href=\"https://colab.research.google.com/github/rockey1006/Variational-Autoencoders/blob/master/LDF_with_Resnet%2BVAE.ipynb\" target=\"_parent\"><img src=\"https://colab.research.google.com/assets/colab-badge.svg\" alt=\"Open In Colab\"/></a>"
      ]
    },
    {
      "cell_type": "code",
      "metadata": {
        "id": "HurGhCm40lky",
        "colab_type": "code",
        "outputId": "1ada7c9a-a575-489f-81cd-e3bf5f4cec5b",
        "colab": {
          "base_uri": "https://localhost:8080/",
          "height": 552
        }
      },
      "source": [
        "from keras.applications.resnet import ResNet101\n",
        "from keras.preprocessing import image\n",
        "from keras.applications.resnet import preprocess_input\n",
        "from keras.models import Model\n",
        "import numpy as np\n",
        "import matplotlib.pyplot as plt\n",
        "from scipy.stats import norm\n",
        "from keras.layers import Input, Dense, Lambda\n",
        "from keras.models import Model\n",
        "from keras import backend as K\n",
        "from keras import metrics\n",
        "import tensorflow as tf\n",
        "from tensorflow import keras\n",
        "import numpy as np\n",
        "%matplotlib inline\n",
        "import matplotlib.pyplot as plt\n",
        "from matplotlib.image import imread\n",
        "from skimage.transform import resize\n",
        "import glob\n",
        "import pandas as pd\n",
        "from sklearn.model_selection import train_test_split\n",
        "base_model = ResNet101(weights='imagenet')\n",
        "model = Model(inputs=base_model.input, outputs=base_model.layers[-2].output)\n"
      ],
      "execution_count": 2,
      "outputs": [
        {
          "output_type": "stream",
          "text": [
            "Using TensorFlow backend.\n"
          ],
          "name": "stderr"
        },
        {
          "output_type": "display_data",
          "data": {
            "text/html": [
              "<p style=\"color: red;\">\n",
              "The default version of TensorFlow in Colab will soon switch to TensorFlow 2.x.<br>\n",
              "We recommend you <a href=\"https://www.tensorflow.org/guide/migrate\" target=\"_blank\">upgrade</a> now \n",
              "or ensure your notebook will continue to use TensorFlow 1.x via the <code>%tensorflow_version 1.x</code> magic:\n",
              "<a href=\"https://colab.research.google.com/notebooks/tensorflow_version.ipynb\" target=\"_blank\">more info</a>.</p>\n"
            ],
            "text/plain": [
              "<IPython.core.display.HTML object>"
            ]
          },
          "metadata": {
            "tags": []
          }
        },
        {
          "output_type": "stream",
          "text": [
            "WARNING:tensorflow:From /usr/local/lib/python3.6/dist-packages/keras/backend/tensorflow_backend.py:66: The name tf.get_default_graph is deprecated. Please use tf.compat.v1.get_default_graph instead.\n",
            "\n",
            "WARNING:tensorflow:From /usr/local/lib/python3.6/dist-packages/keras/backend/tensorflow_backend.py:541: The name tf.placeholder is deprecated. Please use tf.compat.v1.placeholder instead.\n",
            "\n",
            "WARNING:tensorflow:From /usr/local/lib/python3.6/dist-packages/keras/backend/tensorflow_backend.py:4432: The name tf.random_uniform is deprecated. Please use tf.random.uniform instead.\n",
            "\n",
            "WARNING:tensorflow:From /usr/local/lib/python3.6/dist-packages/keras/backend/tensorflow_backend.py:190: The name tf.get_default_session is deprecated. Please use tf.compat.v1.get_default_session instead.\n",
            "\n",
            "WARNING:tensorflow:From /usr/local/lib/python3.6/dist-packages/keras/backend/tensorflow_backend.py:197: The name tf.ConfigProto is deprecated. Please use tf.compat.v1.ConfigProto instead.\n",
            "\n",
            "WARNING:tensorflow:From /usr/local/lib/python3.6/dist-packages/keras/backend/tensorflow_backend.py:203: The name tf.Session is deprecated. Please use tf.compat.v1.Session instead.\n",
            "\n",
            "WARNING:tensorflow:From /usr/local/lib/python3.6/dist-packages/keras/backend/tensorflow_backend.py:207: The name tf.global_variables is deprecated. Please use tf.compat.v1.global_variables instead.\n",
            "\n",
            "WARNING:tensorflow:From /usr/local/lib/python3.6/dist-packages/keras/backend/tensorflow_backend.py:216: The name tf.is_variable_initialized is deprecated. Please use tf.compat.v1.is_variable_initialized instead.\n",
            "\n",
            "WARNING:tensorflow:From /usr/local/lib/python3.6/dist-packages/keras/backend/tensorflow_backend.py:223: The name tf.variables_initializer is deprecated. Please use tf.compat.v1.variables_initializer instead.\n",
            "\n",
            "WARNING:tensorflow:From /usr/local/lib/python3.6/dist-packages/keras/backend/tensorflow_backend.py:2041: The name tf.nn.fused_batch_norm is deprecated. Please use tf.compat.v1.nn.fused_batch_norm instead.\n",
            "\n",
            "WARNING:tensorflow:From /usr/local/lib/python3.6/dist-packages/keras/backend/tensorflow_backend.py:148: The name tf.placeholder_with_default is deprecated. Please use tf.compat.v1.placeholder_with_default instead.\n",
            "\n",
            "WARNING:tensorflow:From /usr/local/lib/python3.6/dist-packages/keras/backend/tensorflow_backend.py:4267: The name tf.nn.max_pool is deprecated. Please use tf.nn.max_pool2d instead.\n",
            "\n",
            "Downloading data from https://github.com/keras-team/keras-applications/releases/download/resnet/resnet101_weights_tf_dim_ordering_tf_kernels.h5\n",
            "179650560/179648224 [==============================] - 2s 0us/step\n"
          ],
          "name": "stdout"
        }
      ]
    },
    {
      "cell_type": "code",
      "metadata": {
        "id": "YKO9R0xGvfZp",
        "colab_type": "code",
        "colab": {
          "base_uri": "https://localhost:8080/",
          "height": 35
        },
        "outputId": "2fb72df1-7f77-409a-9d74-1eb27391e0a0"
      },
      "source": [
        "from google.colab import drive\n",
        "drive.mount('/content/drive')"
      ],
      "execution_count": 3,
      "outputs": [
        {
          "output_type": "stream",
          "text": [
            "Drive already mounted at /content/drive; to attempt to forcibly remount, call drive.mount(\"/content/drive\", force_remount=True).\n"
          ],
          "name": "stdout"
        }
      ]
    },
    {
      "cell_type": "code",
      "metadata": {
        "id": "HKmOaNiE01sj",
        "colab_type": "code",
        "colab": {}
      },
      "source": [
        "#from google.colab import files\n",
        "#uploaded = files.upload()"
      ],
      "execution_count": 0,
      "outputs": []
    },
    {
      "cell_type": "code",
      "metadata": {
        "id": "GRWfsIyigFfD",
        "colab_type": "code",
        "colab": {}
      },
      "source": [
        "import tarfile\n",
        "tar = tarfile.open('/content/drive/My Drive/lfw.tgz')\n",
        "names = tar.getnames()\n",
        "for name in names:\n",
        "  tar.extract(name,path='/content/lfw')\n",
        "tar.close()"
      ],
      "execution_count": 0,
      "outputs": []
    },
    {
      "cell_type": "code",
      "metadata": {
        "id": "aZlItTBI9A1D",
        "colab_type": "code",
        "outputId": "21fc3ad0-391f-4388-d443-1e70cb919535",
        "colab": {
          "base_uri": "https://localhost:8080/",
          "height": 35
        }
      },
      "source": [
        "paths_path = \"/content/lfw/lfw/*/*\"\n",
        "paths_list = glob.glob(paths_path)\n",
        "paths_list[:1]\n",
        "labels = [p.split(\"/\")[-1].split(\"00\")[0].replace(\"_\", \" \").rstrip() for p in paths_list]\n",
        "labels[:5]\n",
        "len(labels)#13233 images\n",
        "#5749 people\n",
        "#1680 people with two or more images"
      ],
      "execution_count": 9,
      "outputs": [
        {
          "output_type": "execute_result",
          "data": {
            "text/plain": [
              "13233"
            ]
          },
          "metadata": {
            "tags": []
          },
          "execution_count": 9
        }
      ]
    },
    {
      "cell_type": "code",
      "metadata": {
        "id": "wOPj6jxRFP_I",
        "colab_type": "code",
        "outputId": "169c76ab-bd12-45f6-86ea-3f95e5e8115c",
        "colab": {
          "base_uri": "https://localhost:8080/",
          "height": 87
        }
      },
      "source": [
        "face_labels = pd.Series(labels)\n",
        "top_faces = face_labels.value_counts()[:10]\n",
        "top_face_names = top_faces.index\n",
        "top_face_names\n"
      ],
      "execution_count": 10,
      "outputs": [
        {
          "output_type": "execute_result",
          "data": {
            "text/plain": [
              "Index(['Tony Blair', 'Colin Powell', 'George W Bush', 'Donald Rumsfeld',\n",
              "       'Gerhard Schroeder', 'Ariel Sharon', 'Hugo Chavez', 'Junichiro Koizumi',\n",
              "       'Jean Chretien', 'John Ashcroft'],\n",
              "      dtype='object')"
            ]
          },
          "metadata": {
            "tags": []
          },
          "execution_count": 10
        }
      ]
    },
    {
      "cell_type": "code",
      "metadata": {
        "id": "0eTZnGcxFalL",
        "colab_type": "code",
        "outputId": "50df7faf-f58d-4443-eee1-c45a34383aa3",
        "colab": {
          "base_uri": "https://localhost:8080/",
          "height": 35
        }
      },
      "source": [
        "\n",
        "face_lookup = pd.Series(top_face_names)\n",
        "face_lookup = face_lookup.reset_index()\n",
        "face_lookup.columns = ['num_label', 'name']\n",
        "face_lookup.head()\n",
        "fac_labels = face_labels.reset_index()\n",
        "fac_labels.columns = ['idx', 'name']\n",
        "fac_labels.head()\n",
        "mgd = pd.merge(fac_labels, face_lookup, how=\"inner\", left_on='name', right_on=\"name\")\n",
        "mgd.head()\n",
        "mgd.shape"
      ],
      "execution_count": 11,
      "outputs": [
        {
          "output_type": "execute_result",
          "data": {
            "text/plain": [
              "(811, 3)"
            ]
          },
          "metadata": {
            "tags": []
          },
          "execution_count": 11
        }
      ]
    },
    {
      "cell_type": "code",
      "metadata": {
        "id": "xKScdJFAFi-U",
        "colab_type": "code",
        "outputId": "27a58b9a-a5af-4f3b-ec18-6c4d60d43f6f",
        "colab": {
          "base_uri": "https://localhost:8080/",
          "height": 268
        }
      },
      "source": [
        "df = mgd.set_index(\"idx\")\n",
        "df = mgd['name']\n",
        "y = mgd['num_label'] \n",
        "X_train, X_test, y_train, y_test = train_test_split(df, y, test_size=0.2, \n",
        "                                                    random_state=42)\n",
        "img_train = [imread(img) for i, img in enumerate(paths_list) if i in X_train.index]\n",
        "img_test = [imread(img) for i, img in enumerate(paths_list) if i in X_test.index]\n",
        "\n",
        "def resize_image(img):\n",
        "    img = resize(img, (100, 100), anti_aliasing=True)\n",
        "    return img\n",
        "\n",
        "def rescale_image(img):\n",
        "    return img /255\n",
        "\n",
        "#First resize...\n",
        "img_train = [resize_image(i) for i in img_train]\n",
        "img_test = [resize_image(i) for i in img_test]\n",
        "\n",
        "#...then output a sample to check it has worked...\n",
        "io = resize_image(img_train[0])\n",
        "plt.figure()\n",
        "plt.imshow(io)\n",
        "plt.colorbar()\n",
        "plt.grid(False)\n",
        "plt.show()"
      ],
      "execution_count": 16,
      "outputs": [
        {
          "output_type": "display_data",
          "data": {
            "image/png": "[encoded data removed]",
            "text/plain": [
              "<Figure size 432x288 with 2 Axes>"
            ]
          },
          "metadata": {
            "tags": []
          }
        }
      ]
    },
    {
      "cell_type": "code",
      "metadata": {
        "id": "fIPahMplFoCj",
        "colab_type": "code",
        "outputId": "42be4562-b8cc-45b7-a8b0-9ed13af42fbf",
        "colab": {
          "base_uri": "https://localhost:8080/",
          "height": 35
        }
      },
      "source": [
        "len(img_train)\n",
        "#len(img_test)"
      ],
      "execution_count": 13,
      "outputs": [
        {
          "output_type": "execute_result",
          "data": {
            "text/plain": [
              "648"
            ]
          },
          "metadata": {
            "tags": []
          },
          "execution_count": 13
        }
      ]
    },
    {
      "cell_type": "code",
      "metadata": {
        "id": "8ZWi52GNF-4n",
        "colab_type": "code",
        "outputId": "23d7a3d8-ac23-4c03-d5d7-cdfab3e55260",
        "colab": {
          "base_uri": "https://localhost:8080/",
          "height": 35
        }
      },
      "source": [
        "print(img_train[0].shape)"
      ],
      "execution_count": 14,
      "outputs": [
        {
          "output_type": "stream",
          "text": [
            "(224, 224, 3)\n"
          ],
          "name": "stdout"
        }
      ]
    },
    {
      "cell_type": "code",
      "metadata": {
        "id": "ZlfFc_lx06Wh",
        "colab_type": "code",
        "colab": {}
      },
      "source": [
        "#img = image.load_img(img_path,target_size=(224, 224))\n",
        "features=[]\n",
        "for i, element in enumerate(img_train):\n",
        "  x = image.img_to_array(element)\n",
        "  x = np.expand_dims(x, axis=0)\n",
        "  x = preprocess_input(x)\n",
        "\n",
        "  features.append(model.predict(x))\n",
        "  \n"
      ],
      "execution_count": 0,
      "outputs": []
    },
    {
      "cell_type": "code",
      "metadata": {
        "id": "VeH4B1MBZrRO",
        "colab_type": "code",
        "colab": {}
      },
      "source": [
        "features_test=[]\n",
        "for i, element in enumerate(img_test):\n",
        "  x = image.img_to_array(element)\n",
        "  x = np.expand_dims(x, axis=0)\n",
        "  x = preprocess_input(x)\n",
        "  features_test.append(model.predict(x))"
      ],
      "execution_count": 0,
      "outputs": []
    },
    {
      "cell_type": "code",
      "metadata": {
        "id": "lYY05K9HI-3M",
        "colab_type": "code",
        "outputId": "796fe0e2-dff0-4b49-8ebd-6b60348ae52e",
        "colab": {
          "base_uri": "https://localhost:8080/",
          "height": 35
        }
      },
      "source": [
        "len(features)"
      ],
      "execution_count": 0,
      "outputs": [
        {
          "output_type": "execute_result",
          "data": {
            "text/plain": [
              "648"
            ]
          },
          "metadata": {
            "tags": []
          },
          "execution_count": 11
        }
      ]
    },
    {
      "cell_type": "code",
      "metadata": {
        "id": "J4kr-HrxcaHC",
        "colab_type": "code",
        "outputId": "f9f12fb3-58fb-47e2-c634-73300b353780",
        "colab": {
          "base_uri": "https://localhost:8080/",
          "height": 35
        }
      },
      "source": [
        "len(features_test)"
      ],
      "execution_count": 0,
      "outputs": [
        {
          "output_type": "execute_result",
          "data": {
            "text/plain": [
              "163"
            ]
          },
          "metadata": {
            "tags": []
          },
          "execution_count": 12
        }
      ]
    },
    {
      "cell_type": "code",
      "metadata": {
        "id": "bDASBh5gcfwA",
        "colab_type": "code",
        "outputId": "5f14f746-bfdf-4124-83d7-330b661e1781",
        "colab": {
          "base_uri": "https://localhost:8080/",
          "height": 35
        }
      },
      "source": [
        "len(y_train)"
      ],
      "execution_count": 0,
      "outputs": [
        {
          "output_type": "execute_result",
          "data": {
            "text/plain": [
              "648"
            ]
          },
          "metadata": {
            "tags": []
          },
          "execution_count": 13
        }
      ]
    },
    {
      "cell_type": "code",
      "metadata": {
        "id": "SEVlFcHRclKB",
        "colab_type": "code",
        "outputId": "fbd84991-3d0a-4220-aab9-6f7f8136c19a",
        "colab": {
          "base_uri": "https://localhost:8080/",
          "height": 35
        }
      },
      "source": [
        "len(y_test)"
      ],
      "execution_count": 0,
      "outputs": [
        {
          "output_type": "execute_result",
          "data": {
            "text/plain": [
              "163"
            ]
          },
          "metadata": {
            "tags": []
          },
          "execution_count": 14
        }
      ]
    },
    {
      "cell_type": "code",
      "metadata": {
        "id": "2mOEuKJk1HYF",
        "colab_type": "code",
        "outputId": "99836804-2f9a-4038-fd30-32cb70215bf6",
        "colab": {
          "base_uri": "https://localhost:8080/",
          "height": 35
        }
      },
      "source": [
        "print(features[2])\n"
      ],
      "execution_count": 0,
      "outputs": [
        {
          "output_type": "stream",
          "text": [
            "[[0.8473449 0.        0.        ... 0.        0.        0.       ]]\n"
          ],
          "name": "stdout"
        }
      ]
    },
    {
      "cell_type": "code",
      "metadata": {
        "id": "KzYDnJev1NmF",
        "colab_type": "code",
        "outputId": "2d8c03ff-9e08-45b6-c87e-213ac8711bbf",
        "colab": {
          "base_uri": "https://localhost:8080/",
          "height": 35
        }
      },
      "source": [
        "print(features[2].shape)\n"
      ],
      "execution_count": 0,
      "outputs": [
        {
          "output_type": "stream",
          "text": [
            "(1, 2048)\n"
          ],
          "name": "stdout"
        }
      ]
    },
    {
      "cell_type": "code",
      "metadata": {
        "id": "GQmoJtzTlSPS",
        "colab_type": "code",
        "colab": {}
      },
      "source": [
        "batch_size = 100 \n",
        "original_dim = 30000\n",
        "latent_dim = 2\n",
        "intermediate_dim = 256\n",
        "epochs = 50\n",
        "epsilon_std = 1.0\n",
        "x = Input(shape=(original_dim,))\n",
        "h = Dense(intermediate_dim, activation='relu')(x)#中间结果h，隐藏层256个结点，激活函数relu\n",
        "z_mean = Dense(latent_dim)(h)#隐变量输出层1有2 个结点\n",
        "z_log_var = Dense(latent_dim)(h)#隐变量输出层2有2个结点"
      ],
      "execution_count": 0,
      "outputs": []
    },
    {
      "cell_type": "code",
      "metadata": {
        "id": "XsKvrcajlsZf",
        "colab_type": "code",
        "outputId": "18645250-8ae8-425c-a1f1-abb50dbe1b33",
        "colab": {
          "base_uri": "https://localhost:8080/",
          "height": 416
        }
      },
      "source": [
        "def sampling(args):\n",
        "    z_mean, z_log_var = args\n",
        "    epsilon = K.random_normal(shape=(K.shape(z_mean)[0], latent_dim), mean=0., stddev=epsilon_std)\n",
        "    return z_mean + K.exp(z_log_var / 2) * epsilon\n",
        "# note that \"output_shape\" isn't necessary with the TensorFlow backend\n",
        "z = Lambda(sampling, output_shape=(latent_dim,))([z_mean, z_log_var])#输入是z_mean和z_log_var，输出是z\n",
        "decoder_h = Dense(intermediate_dim, activation='relu')#隐藏层\n",
        "decoder_mean = Dense(original_dim, activation='sigmoid')#输出层\n",
        "h_decoded = decoder_h(z)#中间值\n",
        "x_decoded_mean = decoder_mean(h_decoded)#输出值\n",
        "vae = Model(x, x_decoded_mean)\n",
        "#model = Model(inputs=[a1, a2], outputs=[b1, b3, b3])\n",
        "\n",
        "# Compute VAE loss\n",
        "xent_loss = original_dim * metrics.binary_crossentropy(x, x_decoded_mean)\n",
        "kl_loss = - 0.5 * K.sum(1 + z_log_var - K.square(z_mean) - K.exp(z_log_var), axis=-1) #KL+交叉熵\n",
        "vae_loss = K.mean(xent_loss + kl_loss)\n",
        "\n",
        "vae.add_loss(vae_loss) #复杂损失函数所以不在compile声明，而使用add_loss\n",
        "vae.compile(optimizer='rmsprop') #用于配置训练模型。\n",
        "\n",
        "#compile(self, optimizer, loss, metrics=None, loss_weights=None, sample_weight_mode=None, \n",
        "#weighted_metrics=None, target_tensors=None)\n",
        "\n",
        "vae.summary() #model.summary()：打印出模型概况，它实际调用的是keras.utils.print_summary\n"
      ],
      "execution_count": 24,
      "outputs": [
        {
          "output_type": "stream",
          "text": [
            "Model: \"model_3\"\n",
            "__________________________________________________________________________________________________\n",
            "Layer (type)                    Output Shape         Param #     Connected to                     \n",
            "==================================================================================================\n",
            "input_3 (InputLayer)            (None, 30000)        0                                            \n",
            "__________________________________________________________________________________________________\n",
            "dense_6 (Dense)                 (None, 256)          7680256     input_3[0][0]                    \n",
            "__________________________________________________________________________________________________\n",
            "dense_7 (Dense)                 (None, 2)            514         dense_6[0][0]                    \n",
            "__________________________________________________________________________________________________\n",
            "dense_8 (Dense)                 (None, 2)            514         dense_6[0][0]                    \n",
            "__________________________________________________________________________________________________\n",
            "lambda_2 (Lambda)               (None, 2)            0           dense_7[0][0]                    \n",
            "                                                                 dense_8[0][0]                    \n",
            "__________________________________________________________________________________________________\n",
            "dense_9 (Dense)                 (None, 256)          768         lambda_2[0][0]                   \n",
            "__________________________________________________________________________________________________\n",
            "dense_10 (Dense)                (None, 30000)        7710000     dense_9[0][0]                    \n",
            "==================================================================================================\n",
            "Total params: 15,392,052\n",
            "Trainable params: 15,392,052\n",
            "Non-trainable params: 0\n",
            "__________________________________________________________________________________________________\n"
          ],
          "name": "stdout"
        }
      ]
    },
    {
      "cell_type": "code",
      "metadata": {
        "id": "_0o9V4_b8rXb",
        "colab_type": "code",
        "outputId": "8b8d5186-501a-4fee-b1c7-42cdffdfaa79",
        "colab": {
          "base_uri": "https://localhost:8080/",
          "height": 52
        }
      },
      "source": [
        "x_train = np.array(features) \n",
        "print(x_train.shape)\n",
        "x_train = x_train.reshape((len(x_train), np.prod(x_train.shape[1:])))\n",
        "print(x_train.shape)"
      ],
      "execution_count": 20,
      "outputs": [
        {
          "output_type": "stream",
          "text": [
            "(648, 100, 100, 3)\n",
            "(648, 30000)\n"
          ],
          "name": "stdout"
        }
      ]
    },
    {
      "cell_type": "code",
      "metadata": {
        "id": "1hVzPOqs0Km5",
        "colab_type": "code",
        "colab": {
          "base_uri": "https://localhost:8080/",
          "height": 52
        },
        "outputId": "e9bb5a79-0be4-44b2-e0e8-264fb9837245"
      },
      "source": [
        "x_train = np.array(img_train) \n",
        "print(x_train.shape)\n",
        "x_train = x_train.reshape((len(x_train), np.prod(x_train.shape[1:])))\n",
        "print(x_train.shape)"
      ],
      "execution_count": 25,
      "outputs": [
        {
          "output_type": "stream",
          "text": [
            "(648, 100, 100, 3)\n",
            "(648, 30000)\n"
          ],
          "name": "stdout"
        }
      ]
    },
    {
      "cell_type": "code",
      "metadata": {
        "id": "pT1oy-CgdY9n",
        "colab_type": "code",
        "outputId": "03625b54-dfc8-4bbd-8ca8-b63a1ef85a0f",
        "colab": {
          "base_uri": "https://localhost:8080/",
          "height": 52
        }
      },
      "source": [
        "x_test = np.array(img_test) \n",
        "print(x_test.shape)\n",
        "x_test = x_test.reshape((len(x_test), np.prod(x_test.shape[1:])))#改变shape\n",
        "print(x_test.shape)"
      ],
      "execution_count": 26,
      "outputs": [
        {
          "output_type": "stream",
          "text": [
            "(163, 100, 100, 3)\n",
            "(163, 30000)\n"
          ],
          "name": "stdout"
        }
      ]
    },
    {
      "cell_type": "code",
      "metadata": {
        "id": "GJmUAd8-mnsP",
        "colab_type": "code",
        "outputId": "1b2ee970-dccf-4f27-c74a-82379b388330",
        "colab": {
          "base_uri": "https://localhost:8080/",
          "height": 1000
        }
      },
      "source": [
        "vae.fit(x_train,#算输出和输入分布的差异所以没有y\n",
        "        shuffle=True,\n",
        "        epochs=epochs,\n",
        "        batch_size=batch_size,\n",
        "        verbose=2,\n",
        "        validation_data=(x_test, None))"
      ],
      "execution_count": 27,
      "outputs": [
        {
          "output_type": "stream",
          "text": [
            "WARNING:tensorflow:From /usr/local/lib/python3.6/dist-packages/keras/backend/tensorflow_backend.py:1033: The name tf.assign_add is deprecated. Please use tf.compat.v1.assign_add instead.\n",
            "\n",
            "WARNING:tensorflow:From /usr/local/lib/python3.6/dist-packages/keras/backend/tensorflow_backend.py:1020: The name tf.assign is deprecated. Please use tf.compat.v1.assign instead.\n",
            "\n",
            "Train on 648 samples, validate on 163 samples\n",
            "Epoch 1/50\n",
            " - 5s - loss: 39886.1094 - val_loss: 20435.7491\n",
            "Epoch 2/50\n",
            " - 3s - loss: 20399.0414 - val_loss: 20128.0605\n",
            "Epoch 3/50\n",
            " - 3s - loss: 20102.0732 - val_loss: 19361.9615\n",
            "Epoch 4/50\n",
            " - 3s - loss: 19947.8549 - val_loss: 19062.4088\n",
            "Epoch 5/50\n",
            " - 3s - loss: 426510665.1210 - val_loss: 21920.5762\n",
            "Epoch 6/50\n",
            " - 3s - loss: 21514.2877 - val_loss: 20685.5893\n",
            "Epoch 7/50\n",
            " - 3s - loss: 20216.2846 - val_loss: 19271.6354\n",
            "Epoch 8/50\n",
            " - 3s - loss: 18938.5090 - val_loss: 18839.9671\n",
            "Epoch 9/50\n",
            " - 3s - loss: 18749.9679 - val_loss: 18825.5247\n",
            "Epoch 10/50\n",
            " - 3s - loss: 18764.6797 - val_loss: 18535.1715\n",
            "Epoch 11/50\n",
            " - 3s - loss: 18599.9493 - val_loss: 18496.5647\n",
            "Epoch 12/50\n",
            " - 3s - loss: 18702.7648 - val_loss: 18510.5008\n",
            "Epoch 13/50\n",
            " - 3s - loss: 18468.3630 - val_loss: 18659.3803\n",
            "Epoch 14/50\n",
            " - 3s - loss: 18412.7485 - val_loss: 18738.3431\n",
            "Epoch 15/50\n",
            " - 3s - loss: 18687.9255 - val_loss: 18366.3372\n",
            "Epoch 16/50\n",
            " - 3s - loss: 18325.1418 - val_loss: 19154.9849\n",
            "Epoch 17/50\n",
            " - 3s - loss: 18683.6577 - val_loss: 18416.4591\n",
            "Epoch 18/50\n",
            " - 3s - loss: 18366.2073 - val_loss: 18532.2079\n",
            "Epoch 19/50\n",
            " - 3s - loss: 18535.7228 - val_loss: 18792.5882\n",
            "Epoch 20/50\n",
            " - 3s - loss: 18431.2297 - val_loss: 18522.0221\n",
            "Epoch 21/50\n",
            " - 3s - loss: 18524.5673 - val_loss: 18348.2361\n",
            "Epoch 22/50\n",
            " - 3s - loss: 18376.9400 - val_loss: 18343.9351\n",
            "Epoch 23/50\n",
            " - 3s - loss: 18461.8507 - val_loss: 18278.4255\n",
            "Epoch 24/50\n",
            " - 3s - loss: 18500.9431 - val_loss: 18540.7991\n",
            "Epoch 25/50\n",
            " - 3s - loss: 18388.3264 - val_loss: 18277.5357\n",
            "Epoch 26/50\n",
            " - 3s - loss: 18482.0046 - val_loss: 18677.4826\n",
            "Epoch 27/50\n",
            " - 3s - loss: 18418.8873 - val_loss: 18283.8075\n",
            "Epoch 28/50\n",
            " - 3s - loss: 18400.4304 - val_loss: 18897.7342\n",
            "Epoch 29/50\n",
            " - 3s - loss: 18419.4704 - val_loss: 18518.3651\n",
            "Epoch 30/50\n",
            " - 3s - loss: 18555.8617 - val_loss: 18842.0253\n",
            "Epoch 31/50\n",
            " - 3s - loss: 18445.0125 - val_loss: 18383.7558\n",
            "Epoch 32/50\n",
            " - 3s - loss: 18408.4559 - val_loss: 18539.7619\n",
            "Epoch 33/50\n",
            " - 3s - loss: 18319.5656 - val_loss: 18623.5385\n",
            "Epoch 34/50\n",
            " - 3s - loss: 18610.9276 - val_loss: 18275.5356\n",
            "Epoch 35/50\n",
            " - 3s - loss: 18440.6408 - val_loss: 19135.9944\n",
            "Epoch 36/50\n",
            " - 3s - loss: 18535.4488 - val_loss: 18483.3774\n",
            "Epoch 37/50\n",
            " - 3s - loss: 18562.3742 - val_loss: 18511.7512\n",
            "Epoch 38/50\n",
            " - 3s - loss: 18444.5745 - val_loss: 18338.1309\n",
            "Epoch 39/50\n",
            " - 3s - loss: 18658.1225 - val_loss: 18383.7184\n",
            "Epoch 40/50\n",
            " - 3s - loss: 18504.8061 - val_loss: 18708.8913\n",
            "Epoch 41/50\n",
            " - 3s - loss: 18443.6576 - val_loss: 18463.8797\n",
            "Epoch 42/50\n",
            " - 3s - loss: 18957.4351 - val_loss: 18330.6683\n",
            "Epoch 43/50\n",
            " - 3s - loss: 18435.1407 - val_loss: 18868.8647\n",
            "Epoch 44/50\n",
            " - 3s - loss: 18905.3326 - val_loss: 18568.1526\n",
            "Epoch 45/50\n",
            " - 3s - loss: 18813.7498 - val_loss: 18459.6084\n",
            "Epoch 46/50\n",
            " - 3s - loss: 18692.9829 - val_loss: 20737.6052\n",
            "Epoch 47/50\n",
            " - 3s - loss: 18989.3290 - val_loss: 22447.0154\n",
            "Epoch 48/50\n",
            " - 3s - loss: 19340.3707 - val_loss: 18727.5150\n",
            "Epoch 49/50\n",
            " - 3s - loss: 18638.1399 - val_loss: 18371.9621\n",
            "Epoch 50/50\n",
            " - 3s - loss: 19435.1429 - val_loss: 22221.1546\n"
          ],
          "name": "stdout"
        },
        {
          "output_type": "execute_result",
          "data": {
            "text/plain": [
              "<keras.callbacks.History at 0x7efe1ee347f0>"
            ]
          },
          "metadata": {
            "tags": []
          },
          "execution_count": 27
        }
      ]
    },
    {
      "cell_type": "code",
      "metadata": {
        "id": "UX0yg4gWmwq2",
        "colab_type": "code",
        "colab": {}
      },
      "source": [
        "encoder = Model(x, z_mean)\n",
        "# display a 2D plot of the digit classes in the latent space\n",
        "x_test_encoded = encoder.predict(x_test, batch_size=batch_size)"
      ],
      "execution_count": 0,
      "outputs": []
    },
    {
      "cell_type": "code",
      "metadata": {
        "id": "kKiMN77upGq_",
        "colab_type": "code",
        "outputId": "a02baa54-06d9-466d-d141-8930161a8924",
        "colab": {
          "base_uri": "https://localhost:8080/",
          "height": 52
        }
      },
      "source": [
        "plt.figure(figsize=(18, 16), dpi=200)#Create a new figure."
      ],
      "execution_count": 29,
      "outputs": [
        {
          "output_type": "execute_result",
          "data": {
            "text/plain": [
              "<Figure size 3600x3200 with 0 Axes>"
            ]
          },
          "metadata": {
            "tags": []
          },
          "execution_count": 29
        },
        {
          "output_type": "display_data",
          "data": {
            "text/plain": [
              "<Figure size 3600x3200 with 0 Axes>"
            ]
          },
          "metadata": {
            "tags": []
          }
        }
      ]
    },
    {
      "cell_type": "code",
      "metadata": {
        "id": "3NE1hvk_uQPi",
        "colab_type": "code",
        "outputId": "7c0ba405-d88c-4964-f24f-2c89a1b6c317",
        "colab": {
          "base_uri": "https://localhost:8080/",
          "height": 281
        }
      },
      "source": [
        "plt.scatter(x_test_encoded[:, 0], x_test_encoded[:, 1],c=y_test)\n",
        "plt.title('Variational Autoencoder')\n",
        "plt.colorbar()\n",
        "plt.show()\n"
      ],
      "execution_count": 30,
      "outputs": [
        {
          "output_type": "display_data",
          "data": {
            "image/png": "[encoded data removed]",
            "text/plain": [
              "<Figure size 432x288 with 2 Axes>"
            ]
          },
          "metadata": {
            "tags": []
          }
        }
      ]
    }
  ]
}