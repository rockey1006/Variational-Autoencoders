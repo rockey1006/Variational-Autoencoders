{
  "nbformat": 4,
  "nbformat_minor": 0,
  "metadata": {
    "colab": {
      "name": "Untitled31.ipynb",
      "provenance": [],
      "authorship_tag": "ABX9TyPDnbaEj1ALTtU0vCDG5awY",
      "include_colab_link": true
    },
    "kernelspec": {
      "name": "python3",
      "display_name": "Python 3"
    },
    "accelerator": "GPU"
  },
  "cells": [
    {
      "cell_type": "markdown",
      "metadata": {
        "id": "view-in-github",
        "colab_type": "text"
      },
      "source": [
        "<a href=\"https://colab.research.google.com/github/rockey1006/Variational-Autoencoders/blob/master/Untitled31.ipynb\" target=\"_parent\"><img src=\"https://colab.research.google.com/assets/colab-badge.svg\" alt=\"Open In Colab\"/></a>"
      ]
    },
    {
      "cell_type": "code",
      "metadata": {
        "id": "4qcFLvI0JBv5"
      },
      "source": [
        "from google.colab import drive\n",
        "drive.mount('/content/drive')"
      ],
      "execution_count": null,
      "outputs": []
    },
    {
      "cell_type": "code",
      "metadata": {
        "id": "6UsAf17yJQAv"
      },
      "source": [
        "!git clone https://github.com/rockey1006/facenet.git\n",
        "!pip uninstall tensorflow\n",
        "!pip install tensorflow==1.13.2\n",
        "!pip install scipy==1.2.1\n",
        "!pip install facenet"
      ],
      "execution_count": null,
      "outputs": []
    },
    {
      "cell_type": "code",
      "metadata": {
        "id": "6BwKebSZJWeA"
      },
      "source": [
        "from zipfile import ZipFile\n",
        "with ZipFile('/content/drive/My Drive/20170708-150701.zip', 'r') as zipObj:\n",
        "   # Extract all the contents of zip file in different directory\n",
        "   zipObj.extractall('/content/ATT')"
      ],
      "execution_count": null,
      "outputs": []
    },
    {
      "cell_type": "code",
      "metadata": {
        "id": "lu3zEsHOKcK4"
      },
      "source": [
        "import numpy as np\n",
        "import matplotlib.pyplot as plt\n",
        "from google.colab import files\n",
        "uploaded = files.upload()\n",
        "from PIL import Image,ImageOps\n",
        "import cv2 as cv"
      ],
      "execution_count": null,
      "outputs": []
    },
    {
      "cell_type": "code",
      "metadata": {
        "id": "IVogacmaNOfn"
      },
      "source": [
        "!git clone https://github.com/stardust66/facenet-vae.git"
      ],
      "execution_count": null,
      "outputs": []
    },
    {
      "cell_type": "code",
      "metadata": {
        "id": "T6o0c9oTKiDc"
      },
      "source": [
        "\n",
        "from skimage import data, io\n",
        "\n",
        "img = io.imread(\"/content/000005.png\")\n",
        "io.imshow(img)\n",
        "\n",
        "io.show()"
      ],
      "execution_count": null,
      "outputs": []
    },
    {
      "cell_type": "code",
      "metadata": {
        "id": "DFkcAvO9QLVw"
      },
      "source": [
        "from skimage.transform import resize\n",
        "from skimage.io import imread, imshow\n",
        "from numpy import array\n",
        "img = imread('/content/000005.png')\n",
        "\n",
        "img_resized = resize(img, (64, 64))\n",
        "\n",
        "\n",
        "io.imshow(img_resized)\n",
        "\n",
        "io.show()\n",
        "\n",
        "\n",
        "io.imsave('/content/ruoqi2_save.jpg', image)"
      ],
      "execution_count": null,
      "outputs": []
    },
    {
      "cell_type": "code",
      "metadata": {
        "id": "tXTcF8A3jZke"
      },
      "source": [
        "img = imread('/content/4.jpg')\n",
        "\n",
        "img_resized = resize(img, (64, 64))\n",
        "\n",
        "\n",
        "io.imshow(img_resized)\n",
        "\n",
        "io.show()"
      ],
      "execution_count": null,
      "outputs": []
    },
    {
      "cell_type": "code",
      "metadata": {
        "id": "-fDl15b7MxQk"
      },
      "source": [
        "!python /content/facenetvae/attribute.py  31\\"
      ],
      "execution_count": null,
      "outputs": []
    },
    {
      "cell_type": "code",
      "metadata": {
        "id": "6XUKNS-XOKB-"
      },
      "source": [
        ""
      ],
      "execution_count": null,
      "outputs": []
    }
  ]
}