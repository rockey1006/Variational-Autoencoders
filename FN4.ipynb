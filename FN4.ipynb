{
  "nbformat": 4,
  "nbformat_minor": 0,
  "metadata": {
    "colab": {
      "name": "FN4.ipynb",
      "provenance": [],
      "authorship_tag": "ABX9TyMS9sH+1AWSMuBwn2bYtn60",
      "include_colab_link": true
    },
    "kernelspec": {
      "name": "python3",
      "display_name": "Python 3"
    }
  },
  "cells": [
    {
      "cell_type": "markdown",
      "metadata": {
        "id": "view-in-github",
        "colab_type": "text"
      },
      "source": [
        "<a href=\"https://colab.research.google.com/github/rockey1006/Variational-Autoencoders/blob/master/FN4.ipynb\" target=\"_parent\"><img src=\"https://colab.research.google.com/assets/colab-badge.svg\" alt=\"Open In Colab\"/></a>"
      ]
    },
    {
      "cell_type": "code",
      "metadata": {
        "id": "ZyIouJhNHlbl",
        "colab_type": "code",
        "colab": {
          "base_uri": "https://localhost:8080/",
          "height": 87
        },
        "outputId": "0a9b78e8-3fd8-4d59-dd71-a8590033c37b"
      },
      "source": [
        "! git clone https://github.com/rockey1006/facenet-vae.git"
      ],
      "execution_count": 1,
      "outputs": [
        {
          "output_type": "stream",
          "text": [
            "Cloning into 'facenet-vae'...\n",
            "remote: Enumerating objects: 70, done.\u001b[K\n",
            "remote: Total 70 (delta 0), reused 0 (delta 0), pack-reused 70\n",
            "Unpacking objects: 100% (70/70), done.\n"
          ],
          "name": "stdout"
        }
      ]
    },
    {
      "cell_type": "code",
      "metadata": {
        "id": "x5nf2apEIlWx",
        "colab_type": "code",
        "colab": {
          "base_uri": "https://localhost:8080/",
          "height": 124
        },
        "outputId": "8e7b1f15-2053-4cd6-ed81-94fe56c94d52"
      },
      "source": [
        "from google.colab import drive\n",
        "drive.mount('/content/drive')"
      ],
      "execution_count": 3,
      "outputs": [
        {
          "output_type": "stream",
          "text": [
            "Go to this URL in a browser: https://accounts.google.com/o/oauth2/auth?client_id=947318989803-6bn6qk8qdgf4n4g3pfee6491hc0brc4i.apps.googleusercontent.com&redirect_uri=urn%3aietf%3awg%3aoauth%3a2.0%3aoob&response_type=code&scope=email%20https%3a%2f%2fwww.googleapis.com%2fauth%2fdocs.test%20https%3a%2f%2fwww.googleapis.com%2fauth%2fdrive%20https%3a%2f%2fwww.googleapis.com%2fauth%2fdrive.photos.readonly%20https%3a%2f%2fwww.googleapis.com%2fauth%2fpeopleapi.readonly\n",
            "\n",
            "Enter your authorization code:\n",
            "··········\n",
            "Mounted at /content/drive\n"
          ],
          "name": "stdout"
        }
      ]
    },
    {
      "cell_type": "code",
      "metadata": {
        "id": "YI7zwPSgZoSB",
        "colab_type": "code",
        "colab": {}
      },
      "source": [
        ""
      ],
      "execution_count": 0,
      "outputs": []
    },
    {
      "cell_type": "code",
      "metadata": {
        "id": "AbfkTAj8I8Nh",
        "colab_type": "code",
        "colab": {}
      },
      "source": [
        "from zipfile import ZipFile"
      ],
      "execution_count": 0,
      "outputs": []
    },
    {
      "cell_type": "code",
      "metadata": {
        "id": "2OsNIzC1Ilol",
        "colab_type": "code",
        "colab": {}
      },
      "source": [
        "\n",
        "with ZipFile('/content/drive/My Drive/20170512-110547.zip', 'r') as zipObj:\n",
        "   # Extract all the contents of zip file in different directory\n",
        "   zipObj.extractall('/content/facenet')"
      ],
      "execution_count": 0,
      "outputs": []
    },
    {
      "cell_type": "code",
      "metadata": {
        "id": "ng-abqB8aGhg",
        "colab_type": "code",
        "colab": {}
      },
      "source": [
        "\n",
        "with ZipFile('/content/drive/My Drive/20170708-150701.zip', 'r') as zipObj:\n",
        "   # Extract all the contents of zip file in different directory\n",
        "   zipObj.extractall('/content/facenet')"
      ],
      "execution_count": 0,
      "outputs": []
    },
    {
      "cell_type": "code",
      "metadata": {
        "id": "GF8-Sy21Il3b",
        "colab_type": "code",
        "colab": {
          "base_uri": "https://localhost:8080/",
          "height": 104
        },
        "outputId": "f9687e8b-1357-4ff9-c1cd-b6df90874b96"
      },
      "source": [
        "!git clone https://github.com/rockey1006/facenet.git"
      ],
      "execution_count": 6,
      "outputs": [
        {
          "output_type": "stream",
          "text": [
            "Cloning into 'facenet'...\n",
            "remote: Enumerating objects: 3149, done.\u001b[K\n",
            "Receiving objects:   0% (1/3149)   \rReceiving objects:   1% (32/3149)   \rReceiving objects:   2% (63/3149)   \rReceiving objects:   3% (95/3149)   \rReceiving objects:   4% (126/3149)   \rReceiving objects:   5% (158/3149)   \rReceiving objects:   6% (189/3149)   \rReceiving objects:   7% (221/3149)   \rReceiving objects:   8% (252/3149)   \rReceiving objects:   9% (284/3149)   \rReceiving objects:  10% (315/3149)   \rReceiving objects:  11% (347/3149)   \rReceiving objects:  12% (378/3149)   \rReceiving objects:  13% (410/3149)   \rReceiving objects:  14% (441/3149)   \rReceiving objects:  15% (473/3149)   \rReceiving objects:  16% (504/3149)   \rReceiving objects:  17% (536/3149)   \rReceiving objects:  18% (567/3149)   \rReceiving objects:  19% (599/3149)   \rReceiving objects:  20% (630/3149)   \rReceiving objects:  21% (662/3149)   \rReceiving objects:  22% (693/3149)   \rReceiving objects:  23% (725/3149)   \rReceiving objects:  24% (756/3149)   \rReceiving objects:  25% (788/3149)   \rReceiving objects:  26% (819/3149)   \rReceiving objects:  27% (851/3149)   \rReceiving objects:  28% (882/3149)   \rReceiving objects:  29% (914/3149)   \rReceiving objects:  30% (945/3149)   \rReceiving objects:  31% (977/3149)   \rReceiving objects:  32% (1008/3149)   \rReceiving objects:  33% (1040/3149)   \rReceiving objects:  34% (1071/3149)   \rReceiving objects:  35% (1103/3149)   \rReceiving objects:  36% (1134/3149)   \rReceiving objects:  37% (1166/3149)   \rReceiving objects:  38% (1197/3149)   \rReceiving objects:  39% (1229/3149)   \rReceiving objects:  40% (1260/3149)   \rReceiving objects:  41% (1292/3149)   \rReceiving objects:  42% (1323/3149)   \rReceiving objects:  43% (1355/3149)   \rReceiving objects:  44% (1386/3149)   \rReceiving objects:  45% (1418/3149)   \rReceiving objects:  46% (1449/3149)   \rReceiving objects:  47% (1481/3149)   \rReceiving objects:  48% (1512/3149)   \rReceiving objects:  49% (1544/3149)   \rReceiving objects:  50% (1575/3149)   \rReceiving objects:  51% (1606/3149)   \rReceiving objects:  52% (1638/3149)   \rReceiving objects:  53% (1669/3149)   \rReceiving objects:  54% (1701/3149)   \rReceiving objects:  55% (1732/3149)   \rReceiving objects:  56% (1764/3149)   \rReceiving objects:  57% (1795/3149)   \rReceiving objects:  58% (1827/3149)   \rReceiving objects:  59% (1858/3149)   \rReceiving objects:  60% (1890/3149)   \rReceiving objects:  61% (1921/3149)   \rReceiving objects:  62% (1953/3149)   \rReceiving objects:  63% (1984/3149)   \rReceiving objects:  64% (2016/3149)   \rReceiving objects:  65% (2047/3149)   \rReceiving objects:  66% (2079/3149)   \rReceiving objects:  67% (2110/3149)   \rReceiving objects:  68% (2142/3149)   \rReceiving objects:  69% (2173/3149)   \rReceiving objects:  70% (2205/3149)   \rReceiving objects:  71% (2236/3149)   \rReceiving objects:  72% (2268/3149)   \rReceiving objects:  73% (2299/3149)   \rReceiving objects:  74% (2331/3149)   \rReceiving objects:  75% (2362/3149)   \rReceiving objects:  76% (2394/3149)   \rReceiving objects:  77% (2425/3149)   \rReceiving objects:  78% (2457/3149)   \rReceiving objects:  79% (2488/3149)   \rReceiving objects:  80% (2520/3149)   \rReceiving objects:  81% (2551/3149)   \rReceiving objects:  82% (2583/3149)   \rReceiving objects:  83% (2614/3149)   \rReceiving objects:  84% (2646/3149)   \rReceiving objects:  85% (2677/3149)   \rReceiving objects:  86% (2709/3149)   \rReceiving objects:  87% (2740/3149)   \rReceiving objects:  88% (2772/3149)   \rReceiving objects:  89% (2803/3149)   \rReceiving objects:  90% (2835/3149)   \rReceiving objects:  91% (2866/3149)   \rReceiving objects:  92% (2898/3149)   \rReceiving objects:  93% (2929/3149)   \rremote: Total 3149 (delta 0), reused 0 (delta 0), pack-reused 3149\u001b[K\n",
            "Receiving objects:  94% (2961/3149)   \rReceiving objects:  95% (2992/3149)   \rReceiving objects:  96% (3024/3149)   \rReceiving objects:  97% (3055/3149)   \rReceiving objects:  98% (3087/3149)   \rReceiving objects:  99% (3118/3149)   \rReceiving objects: 100% (3149/3149)   \rReceiving objects: 100% (3149/3149), 2.94 MiB | 23.68 MiB/s, done.\n",
            "Resolving deltas:   0% (0/2231)   \rResolving deltas:   1% (25/2231)   \rResolving deltas:   2% (45/2231)   \rResolving deltas:   3% (71/2231)   \rResolving deltas:   4% (93/2231)   \rResolving deltas:   6% (137/2231)   \rResolving deltas:   7% (157/2231)   \rResolving deltas:   8% (180/2231)   \rResolving deltas:   9% (223/2231)   \rResolving deltas:  10% (224/2231)   \rResolving deltas:  12% (285/2231)   \rResolving deltas:  14% (321/2231)   \rResolving deltas:  15% (336/2231)   \rResolving deltas:  16% (379/2231)   \rResolving deltas:  17% (384/2231)   \rResolving deltas:  18% (402/2231)   \rResolving deltas:  19% (424/2231)   \rResolving deltas:  20% (449/2231)   \rResolving deltas:  21% (471/2231)   \rResolving deltas:  22% (491/2231)   \rResolving deltas:  23% (517/2231)   \rResolving deltas:  24% (538/2231)   \rResolving deltas:  25% (569/2231)   \rResolving deltas:  26% (583/2231)   \rResolving deltas:  27% (613/2231)   \rResolving deltas:  29% (653/2231)   \rResolving deltas:  33% (742/2231)   \rResolving deltas:  35% (793/2231)   \rResolving deltas:  36% (804/2231)   \rResolving deltas:  37% (839/2231)   \rResolving deltas:  44% (1001/2231)   \rResolving deltas:  47% (1052/2231)   \rResolving deltas:  48% (1073/2231)   \rResolving deltas:  50% (1129/2231)   \rResolving deltas:  51% (1143/2231)   \rResolving deltas:  52% (1161/2231)   \rResolving deltas:  54% (1211/2231)   \rResolving deltas:  59% (1331/2231)   \rResolving deltas:  60% (1351/2231)   \rResolving deltas:  61% (1383/2231)   \rResolving deltas:  63% (1407/2231)   \rResolving deltas:  65% (1459/2231)   \rResolving deltas:  66% (1475/2231)   \rResolving deltas:  67% (1514/2231)   \rResolving deltas:  68% (1537/2231)   \rResolving deltas:  70% (1584/2231)   \rResolving deltas:  73% (1632/2231)   \rResolving deltas:  75% (1675/2231)   \rResolving deltas:  76% (1696/2231)   \rResolving deltas:  77% (1723/2231)   \rResolving deltas:  80% (1803/2231)   \rResolving deltas:  82% (1836/2231)   \rResolving deltas:  84% (1887/2231)   \rResolving deltas:  85% (1902/2231)   \rResolving deltas:  86% (1921/2231)   \rResolving deltas:  87% (1944/2231)   \rResolving deltas:  88% (1972/2231)   \rResolving deltas:  89% (1987/2231)   \rResolving deltas:  90% (2027/2231)   \rResolving deltas:  91% (2046/2231)   \rResolving deltas:  92% (2066/2231)   \rResolving deltas:  94% (2102/2231)   \rResolving deltas:  95% (2136/2231)   \rResolving deltas:  96% (2158/2231)   \rResolving deltas:  97% (2169/2231)   \rResolving deltas:  98% (2188/2231)   \rResolving deltas:  99% (2216/2231)   \rResolving deltas: 100% (2231/2231)   \rResolving deltas: 100% (2231/2231), done.\n"
          ],
          "name": "stdout"
        }
      ]
    },
    {
      "cell_type": "code",
      "metadata": {
        "id": "GTJZ-BIXMWYL",
        "colab_type": "code",
        "colab": {
          "base_uri": "https://localhost:8080/",
          "height": 765
        },
        "outputId": "5f397a11-c0c7-43e6-b9f8-1b62e6881e49"
      },
      "source": [
        "!pip install facenet"
      ],
      "execution_count": 8,
      "outputs": [
        {
          "output_type": "stream",
          "text": [
            "Collecting facenet\n",
            "\u001b[?25l  Downloading https://files.pythonhosted.org/packages/c7/f3/60482134a769400a20574fc802a1adf6f6ea7c25f469307dbeafc896f372/facenet-1.0.5-py3-none-any.whl (2.0MB)\n",
            "\u001b[K     |████████████████████████████████| 2.0MB 2.8MB/s \n",
            "\u001b[?25hRequirement already satisfied: tensorflow in /usr/local/lib/python3.6/dist-packages (from facenet) (1.15.0)\n",
            "Requirement already satisfied: opencv-python in /usr/local/lib/python3.6/dist-packages (from facenet) (4.1.2.30)\n",
            "Requirement already satisfied: requests in /usr/local/lib/python3.6/dist-packages (from facenet) (2.21.0)\n",
            "Requirement already satisfied: scikit-learn in /usr/local/lib/python3.6/dist-packages (from facenet) (0.22.1)\n",
            "Requirement already satisfied: Pillow in /usr/local/lib/python3.6/dist-packages (from facenet) (6.2.2)\n",
            "Requirement already satisfied: h5py in /usr/local/lib/python3.6/dist-packages (from facenet) (2.8.0)\n",
            "Requirement already satisfied: psutil in /usr/local/lib/python3.6/dist-packages (from facenet) (5.4.8)\n",
            "Requirement already satisfied: scipy in /usr/local/lib/python3.6/dist-packages (from facenet) (1.4.1)\n",
            "Requirement already satisfied: matplotlib in /usr/local/lib/python3.6/dist-packages (from facenet) (3.1.2)\n",
            "Requirement already satisfied: astor>=0.6.0 in /usr/local/lib/python3.6/dist-packages (from tensorflow->facenet) (0.8.1)\n",
            "Requirement already satisfied: wrapt>=1.11.1 in /usr/local/lib/python3.6/dist-packages (from tensorflow->facenet) (1.11.2)\n",
            "Requirement already satisfied: tensorflow-estimator==1.15.1 in /usr/local/lib/python3.6/dist-packages (from tensorflow->facenet) (1.15.1)\n",
            "Requirement already satisfied: protobuf>=3.6.1 in /usr/local/lib/python3.6/dist-packages (from tensorflow->facenet) (3.10.0)\n",
            "Requirement already satisfied: google-pasta>=0.1.6 in /usr/local/lib/python3.6/dist-packages (from tensorflow->facenet) (0.1.8)\n",
            "Requirement already satisfied: opt-einsum>=2.3.2 in /usr/local/lib/python3.6/dist-packages (from tensorflow->facenet) (3.1.0)\n",
            "Requirement already satisfied: tensorboard<1.16.0,>=1.15.0 in /usr/local/lib/python3.6/dist-packages (from tensorflow->facenet) (1.15.0)\n",
            "Requirement already satisfied: wheel>=0.26 in /usr/local/lib/python3.6/dist-packages (from tensorflow->facenet) (0.33.6)\n",
            "Requirement already satisfied: keras-preprocessing>=1.0.5 in /usr/local/lib/python3.6/dist-packages (from tensorflow->facenet) (1.1.0)\n",
            "Requirement already satisfied: keras-applications>=1.0.8 in /usr/local/lib/python3.6/dist-packages (from tensorflow->facenet) (1.0.8)\n",
            "Requirement already satisfied: six>=1.10.0 in /usr/local/lib/python3.6/dist-packages (from tensorflow->facenet) (1.12.0)\n",
            "Requirement already satisfied: grpcio>=1.8.6 in /usr/local/lib/python3.6/dist-packages (from tensorflow->facenet) (1.15.0)\n",
            "Requirement already satisfied: numpy<2.0,>=1.16.0 in /usr/local/lib/python3.6/dist-packages (from tensorflow->facenet) (1.17.5)\n",
            "Requirement already satisfied: absl-py>=0.7.0 in /usr/local/lib/python3.6/dist-packages (from tensorflow->facenet) (0.9.0)\n",
            "Requirement already satisfied: termcolor>=1.1.0 in /usr/local/lib/python3.6/dist-packages (from tensorflow->facenet) (1.1.0)\n",
            "Requirement already satisfied: gast==0.2.2 in /usr/local/lib/python3.6/dist-packages (from tensorflow->facenet) (0.2.2)\n",
            "Requirement already satisfied: chardet<3.1.0,>=3.0.2 in /usr/local/lib/python3.6/dist-packages (from requests->facenet) (3.0.4)\n",
            "Requirement already satisfied: certifi>=2017.4.17 in /usr/local/lib/python3.6/dist-packages (from requests->facenet) (2019.11.28)\n",
            "Requirement already satisfied: idna<2.9,>=2.5 in /usr/local/lib/python3.6/dist-packages (from requests->facenet) (2.8)\n",
            "Requirement already satisfied: urllib3<1.25,>=1.21.1 in /usr/local/lib/python3.6/dist-packages (from requests->facenet) (1.24.3)\n",
            "Requirement already satisfied: joblib>=0.11 in /usr/local/lib/python3.6/dist-packages (from scikit-learn->facenet) (0.14.1)\n",
            "Requirement already satisfied: cycler>=0.10 in /usr/local/lib/python3.6/dist-packages (from matplotlib->facenet) (0.10.0)\n",
            "Requirement already satisfied: pyparsing!=2.0.4,!=2.1.2,!=2.1.6,>=2.0.1 in /usr/local/lib/python3.6/dist-packages (from matplotlib->facenet) (2.4.6)\n",
            "Requirement already satisfied: python-dateutil>=2.1 in /usr/local/lib/python3.6/dist-packages (from matplotlib->facenet) (2.6.1)\n",
            "Requirement already satisfied: kiwisolver>=1.0.1 in /usr/local/lib/python3.6/dist-packages (from matplotlib->facenet) (1.1.0)\n",
            "Requirement already satisfied: setuptools in /usr/local/lib/python3.6/dist-packages (from protobuf>=3.6.1->tensorflow->facenet) (42.0.2)\n",
            "Requirement already satisfied: markdown>=2.6.8 in /usr/local/lib/python3.6/dist-packages (from tensorboard<1.16.0,>=1.15.0->tensorflow->facenet) (3.1.1)\n",
            "Requirement already satisfied: werkzeug>=0.11.15 in /usr/local/lib/python3.6/dist-packages (from tensorboard<1.16.0,>=1.15.0->tensorflow->facenet) (0.16.0)\n",
            "Installing collected packages: facenet\n",
            "Successfully installed facenet-1.0.5\n"
          ],
          "name": "stdout"
        }
      ]
    },
    {
      "cell_type": "code",
      "metadata": {
        "id": "XtNX9u04Mp_i",
        "colab_type": "code",
        "colab": {
          "base_uri": "https://localhost:8080/",
          "height": 35
        },
        "outputId": "20bd746f-8fa6-450d-e4fa-bf1a63ed98f1"
      },
      "source": [
        "%matplotlib inline\n",
        "%pylab inline\n",
        "\n",
        "\n",
        "from __future__ import absolute_import\n",
        "from __future__ import division\n",
        "from __future__ import print_function"
      ],
      "execution_count": 9,
      "outputs": [
        {
          "output_type": "stream",
          "text": [
            "Populating the interactive namespace from numpy and matplotlib\n"
          ],
          "name": "stdout"
        }
      ]
    },
    {
      "cell_type": "code",
      "metadata": {
        "id": "JUyaz-xWMtB-",
        "colab_type": "code",
        "colab": {
          "base_uri": "https://localhost:8080/",
          "height": 64
        },
        "outputId": "45cfeb85-ea95-431d-8443-410f663aa381"
      },
      "source": [
        "import tensorflow as tf\n",
        "import sys\n",
        "import argparse\n",
        "import importlib\n",
        "import facenet\n",
        "import os\n",
        "import numpy as np\n",
        "import h5py\n",
        "import math\n",
        "from scipy import misc\n",
        "\n",
        "import os\n",
        "os.environ['TF_CPP_MIN_LOG_LEVEL'] = '3'\n",
        "tf.logging.set_verbosity(tf.logging.ERROR)\n",
        "\n",
        "import matplotlib\n",
        "import matplotlib.patches as mpatches\n",
        "import matplotlib.pyplot as plt\n",
        "np.random.seed(None)\n",
        "pylab.rcParams['figure.figsize'] = (10, 6)"
      ],
      "execution_count": 10,
      "outputs": [
        {
          "output_type": "display_data",
          "data": {
            "text/html": [
              "<p style=\"color: red;\">\n",
              "The default version of TensorFlow in Colab will soon switch to TensorFlow 2.x.<br>\n",
              "We recommend you <a href=\"https://www.tensorflow.org/guide/migrate\" target=\"_blank\">upgrade</a> now \n",
              "or ensure your notebook will continue to use TensorFlow 1.x via the <code>%tensorflow_version 1.x</code> magic:\n",
              "<a href=\"https://colab.research.google.com/notebooks/tensorflow_version.ipynb\" target=\"_blank\">more info</a>.</p>\n"
            ],
            "text/plain": [
              "<IPython.core.display.HTML object>"
            ]
          },
          "metadata": {
            "tags": []
          }
        }
      ]
    },
    {
      "cell_type": "code",
      "metadata": {
        "id": "0vIJyyjIRcIJ",
        "colab_type": "code",
        "colab": {
          "base_uri": "https://localhost:8080/",
          "height": 35
        },
        "outputId": "41b02c7e-69b7-4f6c-df47-382ad579171c"
      },
      "source": [
        "%cd /content/"
      ],
      "execution_count": 46,
      "outputs": [
        {
          "output_type": "stream",
          "text": [
            "/content\n"
          ],
          "name": "stdout"
        }
      ]
    },
    {
      "cell_type": "code",
      "metadata": {
        "id": "PK-0NyIxe0Ve",
        "colab_type": "code",
        "colab": {
          "base_uri": "https://localhost:8080/",
          "height": 52
        },
        "outputId": "ab26888d-e7e8-42ed-f75b-b8f48b7740e8"
      },
      "source": [
        "! echo $PYTHONPATH\n",
        "\n",
        "import os\n",
        "os.environ['PYTHONPATH'] = \"/content/facenet/src/generative/models\"\n",
        "\n",
        "! echo $PYTHONPATH\n",
        "\n",
        "\n",
        "#当你导入一个模块，Python 解析器对模块位置的搜索顺序是：\n",
        "#1、当前目录\n",
        "#2、如果不在当前目录，Python 则搜索在 shell 变量 PYTHONPATH 下的每个目录。\n",
        "#3、如果都找不到，Python会察看默认路径。UNIX下，默认路径一般为/usr/local/lib/python/。\n",
        "#模块搜索路径存储在 system 模块的 sys.path 变量中。变量里包含当前目录，PYTHONPATH和由安装过程决定的默认目录。\n",
        "#PYTHONPATH 变量\n",
        "#作为环境变量，PYTHONPATH 由装在一个列表里的许多目录组成。PYTHONPATH 的语法和 shell 变量 PATH 的一样。\n",
        "#在 Windows 系统，典型的 PYTHONPATH 如下：\n",
        "#set PYTHONPATH=c:\\python27\\lib;\n",
        "#在 UNIX 系统，典型的 PYTHONPATH 如下：\n",
        "#set PYTHONPATH=/usr/local/lib/python"
      ],
      "execution_count": 54,
      "outputs": [
        {
          "output_type": "stream",
          "text": [
            "/env/python:/content/facenet/src\n",
            "/content/facenet/src/generative/models\n"
          ],
          "name": "stdout"
        }
      ]
    },
    {
      "cell_type": "code",
      "metadata": {
        "id": "4bLBeM6cjuXh",
        "colab_type": "code",
        "colab": {
          "base_uri": "https://localhost:8080/",
          "height": 52
        },
        "outputId": "ac081df9-0920-4d29-90c2-715a5ec3377c"
      },
      "source": [
        "! echo $PYTHONPATH\n",
        "\n",
        "import os\n",
        "os.environ['PYTHONPATH'] = \"/generative/models\"\n",
        "\n",
        "! echo $PYTHONPATH"
      ],
      "execution_count": 59,
      "outputs": [
        {
          "output_type": "stream",
          "text": [
            "/content/facenet/src/generative/models\n",
            "/generative/models\n"
          ],
          "name": "stdout"
        }
      ]
    },
    {
      "cell_type": "code",
      "metadata": {
        "id": "0uMSxwBtebW-",
        "colab_type": "code",
        "colab": {}
      },
      "source": [
        "from facenet.src.generative.models import dfc_vae"
      ],
      "execution_count": 0,
      "outputs": []
    },
    {
      "cell_type": "code",
      "metadata": {
        "id": "X316TWqDOmVd",
        "colab_type": "code",
        "colab": {}
      },
      "source": [
        "img_mean = np.array([134.10714722, 102.52040863, 87.15436554])\n",
        "img_stddev = np.sqrt(np.array([3941.30175781, 2856.94287109, 2519.35791016]))\n",
        "\n",
        "latentVarSize = 100\n",
        "vae_def = dfc_vae\n",
        "vae = vae_def.Vae(latentVarSize)\n",
        "gen_image_size = vae.get_image_size()"
      ],
      "execution_count": 0,
      "outputs": []
    },
    {
      "cell_type": "code",
      "metadata": {
        "id": "NYYzU33trSCs",
        "colab_type": "code",
        "colab": {}
      },
      "source": [
        "import shutil, sys  \n"
      ],
      "execution_count": 0,
      "outputs": []
    },
    {
      "cell_type": "code",
      "metadata": {
        "id": "c2OdMLerrTkI",
        "colab_type": "code",
        "colab": {
          "base_uri": "https://localhost:8080/",
          "height": 35
        },
        "outputId": "87083000-3143-440b-e3c3-d0981c8b883f"
      },
      "source": [
        "shutil.move(\"/content/facenet/20170708-150701/attribute_vectors.h5\", \"/content/facenet/vae/20170708-150701\")\n"
      ],
      "execution_count": 80,
      "outputs": [
        {
          "output_type": "execute_result",
          "data": {
            "text/plain": [
              "'/content/facenet/vae/20170708-150701/attribute_vectors.h5'"
            ]
          },
          "metadata": {
            "tags": []
          },
          "execution_count": 80
        }
      ]
    },
    {
      "cell_type": "code",
      "metadata": {
        "id": "DYsEYfh6rhS7",
        "colab_type": "code",
        "colab": {
          "base_uri": "https://localhost:8080/",
          "height": 35
        },
        "outputId": "b8072a75-9692-41b4-d906-621dd9f9dc61"
      },
      "source": [
        "shutil.move(\"/content/facenet/20170708-150701/model.ckpt-50000.data-00000-of-00001\", \"/content/facenet/vae/20170708-150701\")\n"
      ],
      "execution_count": 81,
      "outputs": [
        {
          "output_type": "execute_result",
          "data": {
            "text/plain": [
              "'/content/facenet/vae/20170708-150701/model.ckpt-50000.data-00000-of-00001'"
            ]
          },
          "metadata": {
            "tags": []
          },
          "execution_count": 81
        }
      ]
    },
    {
      "cell_type": "code",
      "metadata": {
        "id": "BAnQ3-IFrhmG",
        "colab_type": "code",
        "colab": {
          "base_uri": "https://localhost:8080/",
          "height": 35
        },
        "outputId": "c1943447-667d-48c4-90e6-6d6069642914"
      },
      "source": [
        "shutil.move(\"/content/facenet/20170708-150701/model.ckpt-50000.index\", \"/content/facenet/vae/20170708-150701\")\n"
      ],
      "execution_count": 82,
      "outputs": [
        {
          "output_type": "execute_result",
          "data": {
            "text/plain": [
              "'/content/facenet/vae/20170708-150701/model.ckpt-50000.index'"
            ]
          },
          "metadata": {
            "tags": []
          },
          "execution_count": 82
        }
      ]
    },
    {
      "cell_type": "code",
      "metadata": {
        "id": "khxXBsOGsGsY",
        "colab_type": "code",
        "colab": {
          "base_uri": "https://localhost:8080/",
          "height": 52
        },
        "outputId": "2826652a-e07c-493a-f109-f427d24b7763"
      },
      "source": [
        "! echo $PYTHONPATH\n",
        "\n",
        "import os\n",
        "os.environ['PYTHONPATH'] = \"/content/facenet/vae\"\n",
        "\n",
        "! echo $PYTHONPATH"
      ],
      "execution_count": 84,
      "outputs": [
        {
          "output_type": "stream",
          "text": [
            "/generative/models\n",
            "/content/facenet/vae\n"
          ],
          "name": "stdout"
        }
      ]
    },
    {
      "cell_type": "code",
      "metadata": {
        "id": "nNalOvJPpUoi",
        "colab_type": "code",
        "colab": {
          "base_uri": "https://localhost:8080/",
          "height": 131
        },
        "outputId": "1050e1e6-c998-41e1-f879-ec91d915270c"
      },
      "source": [
        "!python facenet/src/generative/modify_attribute.py \\\n",
        " src.generative.models.dfc_vae \\\n",
        " ~/vae/20170708-150701/model.ckpt-50000 \\#arguments are required: vae_checkpoint, attributes_filename, output_image_filename\n",
        " ~/vae/20170708-150701/attribute_vectors.h5 \\\n",
        " ~/vae/20170708-150701/add_smile.png"
      ],
      "execution_count": 93,
      "outputs": [
        {
          "output_type": "error",
          "ename": "IndentationError",
          "evalue": "ignored",
          "traceback": [
            "\u001b[0;36m  File \u001b[0;32m\"<ipython-input-93-b7325e161fd0>\"\u001b[0;36m, line \u001b[0;32m2\u001b[0m\n\u001b[0;31m    ~/vae/20170708-150701/attribute_vectors.h5  ~/vae/20170708-150701/add_smile.png\u001b[0m\n\u001b[0m    ^\u001b[0m\n\u001b[0;31mIndentationError\u001b[0m\u001b[0;31m:\u001b[0m unexpected indent\n"
          ]
        }
      ]
    },
    {
      "cell_type": "code",
      "metadata": {
        "id": "aMY3spf2u6He",
        "colab_type": "code",
        "colab": {
          "base_uri": "https://localhost:8080/",
          "height": 52
        },
        "outputId": "8f81803c-2ba2-46b3-d2f3-2e63e5b0accf"
      },
      "source": [
        "! echo $PYTHONPATH\n",
        "\n",
        "import os\n",
        "os.environ['PYTHONPATH'] = \"/generative/models\"\n",
        "\n",
        "! echo $PYTHONPATH"
      ],
      "execution_count": 97,
      "outputs": [
        {
          "output_type": "stream",
          "text": [
            "/content/facenet/vae\n",
            "/generative/models\n"
          ],
          "name": "stdout"
        }
      ]
    },
    {
      "cell_type": "code",
      "metadata": {
        "id": "_ciFgua2vWkj",
        "colab_type": "code",
        "colab": {
          "base_uri": "https://localhost:8080/",
          "height": 52
        },
        "outputId": "70ef8c46-6b3e-4d86-a706-26bdf0fe1103"
      },
      "source": [
        "! echo $PYTHONPATH\n",
        "\n",
        "import os\n",
        "os.environ['PYTHONPATH'] = \"/content/facenet/vae\"\n",
        "\n",
        "! echo $PYTHONPATH"
      ],
      "execution_count": 100,
      "outputs": [
        {
          "output_type": "stream",
          "text": [
            "/generative/models\n",
            "/content/facenet/vae\n"
          ],
          "name": "stdout"
        }
      ]
    },
    {
      "cell_type": "code",
      "metadata": {
        "id": "LNgn86rRv90I",
        "colab_type": "code",
        "colab": {}
      },
      "source": [
        "from facenet.src.generative.models import dfc_vae"
      ],
      "execution_count": 0,
      "outputs": []
    },
    {
      "cell_type": "code",
      "metadata": {
        "id": "HOKWsT1Bvkfg",
        "colab_type": "code",
        "colab": {}
      },
      "source": [
        "! echo $PYTHONPATH\n",
        "\n",
        "import os\n",
        "os.environ['PYTHONPATH'] = \"/content/facenet/vae\"\n",
        "\n",
        "! echo $PYTHONPATH"
      ],
      "execution_count": 0,
      "outputs": []
    },
    {
      "cell_type": "code",
      "metadata": {
        "id": "J2Tb2sk3yO45",
        "colab_type": "code",
        "colab": {
          "base_uri": "https://localhost:8080/",
          "height": 35
        },
        "outputId": "d280672f-ebd2-4709-e1ea-505e46b8007e"
      },
      "source": [
        "shutil.move(\"/content/facenet/vae/20170708-150701/attribute_vectors.h5\", \"/root/vae/20170708-150701\")\n"
      ],
      "execution_count": 109,
      "outputs": [
        {
          "output_type": "execute_result",
          "data": {
            "text/plain": [
              "'/root/vae/20170708-150701/attribute_vectors.h5'"
            ]
          },
          "metadata": {
            "tags": []
          },
          "execution_count": 109
        }
      ]
    },
    {
      "cell_type": "code",
      "metadata": {
        "id": "olfmPISHytjv",
        "colab_type": "code",
        "colab": {
          "base_uri": "https://localhost:8080/",
          "height": 35
        },
        "outputId": "22002164-fc75-4631-b564-3b93afe72c89"
      },
      "source": [
        "shutil.move(\"/content/facenet/vae/20170708-150701/model.ckpt-50000.data-00000-of-00001\", \"/root/vae/20170708-150701\")\n"
      ],
      "execution_count": 111,
      "outputs": [
        {
          "output_type": "execute_result",
          "data": {
            "text/plain": [
              "'/root/vae/20170708-150701/model.ckpt-50000.data-00000-of-00001'"
            ]
          },
          "metadata": {
            "tags": []
          },
          "execution_count": 111
        }
      ]
    },
    {
      "cell_type": "code",
      "metadata": {
        "id": "MzToOZb_zLdp",
        "colab_type": "code",
        "colab": {
          "base_uri": "https://localhost:8080/",
          "height": 35
        },
        "outputId": "5565a95a-b168-41f0-ff6b-2915e36bb06e"
      },
      "source": [
        "shutil.move(\"/content/facenet/vae/20170708-150701/model.ckpt-50000.index\", \"/root/vae/20170708-150701\")\n"
      ],
      "execution_count": 112,
      "outputs": [
        {
          "output_type": "execute_result",
          "data": {
            "text/plain": [
              "'/root/vae/20170708-150701/model.ckpt-50000.index'"
            ]
          },
          "metadata": {
            "tags": []
          },
          "execution_count": 112
        }
      ]
    },
    {
      "cell_type": "code",
      "metadata": {
        "id": "Gf0E_Lj32vwF",
        "colab_type": "code",
        "colab": {}
      },
      "source": [
        "import facenet.src.facenet as facenet\n"
      ],
      "execution_count": 0,
      "outputs": []
    },
    {
      "cell_type": "code",
      "metadata": {
        "id": "Lsl3WP9Quie6",
        "colab_type": "code",
        "colab": {
          "base_uri": "https://localhost:8080/",
          "height": 956
        },
        "outputId": "8b840779-14a9-4c38-b171-71486f6b3404"
      },
      "source": [
        "!python facenet/src/generative/modify_attribute.py \\\n",
        "facenet.src.generative.models.dfc_vae \\\n",
        "~/vae/20170708-150701/model.ckpt-50000 \\\n",
        "~/vae/20170708-150701/attribute_vectors.h5 \\\n",
        "~/vae/20170708-150701/add_smile.png"
      ],
      "execution_count": 116,
      "outputs": [
        {
          "output_type": "stream",
          "text": [
            "WARNING:tensorflow:\n",
            "The TensorFlow contrib module will not be included in TensorFlow 2.0.\n",
            "For more information, please see:\n",
            "  * https://github.com/tensorflow/community/blob/master/rfcs/20180907-contrib-sunset.md\n",
            "  * https://github.com/tensorflow/addons\n",
            "  * https://github.com/tensorflow/io (for I/O related ops)\n",
            "If you depend on functionality not listed there, please file an issue.\n",
            "\n",
            "WARNING:tensorflow:From /usr/local/lib/python3.6/dist-packages/facenet/src/generative/models/vae_base.py:45: The name tf.GraphKeys is deprecated. Please use tf.compat.v1.GraphKeys instead.\n",
            "\n",
            "WARNING:tensorflow:From facenet/src/generative/modify_attribute.py:52: The name tf.set_random_seed is deprecated. Please use tf.compat.v1.set_random_seed instead.\n",
            "\n",
            "WARNING:tensorflow:From facenet/src/generative/modify_attribute.py:54: The name tf.placeholder is deprecated. Please use tf.compat.v1.placeholder instead.\n",
            "\n",
            "WARNING:tensorflow:From facenet/src/generative/modify_attribute.py:60: The name tf.image.resize_images is deprecated. Please use tf.image.resize instead.\n",
            "\n",
            "WARNING:tensorflow:From /usr/local/lib/python3.6/dist-packages/facenet/src/generative/models/dfc_vae.py:45: The name tf.variable_scope is deprecated. Please use tf.compat.v1.variable_scope instead.\n",
            "\n",
            "WARNING:tensorflow:From /usr/local/lib/python3.6/dist-packages/tensorflow_core/contrib/layers/python/layers/layers.py:1057: Layer.apply (from tensorflow.python.keras.engine.base_layer) is deprecated and will be removed in a future version.\n",
            "Instructions for updating:\n",
            "Please use `layer.__call__` method instead.\n",
            "WARNING:tensorflow:From /usr/local/lib/python3.6/dist-packages/tensorflow_core/contrib/layers/python/layers/layers.py:1634: flatten (from tensorflow.python.layers.core) is deprecated and will be removed in a future version.\n",
            "Instructions for updating:\n",
            "Use keras.layers.flatten instead.\n",
            "WARNING:tensorflow:From facenet/src/generative/modify_attribute.py:65: The name tf.random_normal is deprecated. Please use tf.random.normal instead.\n",
            "\n",
            "WARNING:tensorflow:From /usr/local/lib/python3.6/dist-packages/facenet/src/generative/models/dfc_vae.py:76: The name tf.image.resize_nearest_neighbor is deprecated. Please use tf.compat.v1.image.resize_nearest_neighbor instead.\n",
            "\n",
            "WARNING:tensorflow:From facenet/src/generative/modify_attribute.py:76: The name tf.train.Saver is deprecated. Please use tf.compat.v1.train.Saver instead.\n",
            "\n",
            "WARNING:tensorflow:From facenet/src/generative/modify_attribute.py:76: The name tf.trainable_variables is deprecated. Please use tf.compat.v1.trainable_variables instead.\n",
            "\n",
            "WARNING:tensorflow:From facenet/src/generative/modify_attribute.py:80: The name tf.GPUOptions is deprecated. Please use tf.compat.v1.GPUOptions instead.\n",
            "\n",
            "WARNING:tensorflow:From facenet/src/generative/modify_attribute.py:81: The name tf.Session is deprecated. Please use tf.compat.v1.Session instead.\n",
            "\n",
            "WARNING:tensorflow:From facenet/src/generative/modify_attribute.py:81: The name tf.ConfigProto is deprecated. Please use tf.compat.v1.ConfigProto instead.\n",
            "\n",
            "WARNING:tensorflow:From facenet/src/generative/modify_attribute.py:82: The name tf.global_variables_initializer is deprecated. Please use tf.compat.v1.global_variables_initializer instead.\n",
            "\n",
            "WARNING:tensorflow:From facenet/src/generative/modify_attribute.py:83: The name tf.local_variables_initializer is deprecated. Please use tf.compat.v1.local_variables_initializer instead.\n",
            "\n",
            "WARNING:tensorflow:From facenet/src/generative/modify_attribute.py:85: start_queue_runners (from tensorflow.python.training.queue_runner_impl) is deprecated and will be removed in a future version.\n",
            "Instructions for updating:\n",
            "To construct input pipelines, use the `tf.data` module.\n",
            "WARNING:tensorflow:`tf.train.start_queue_runners()` was called when no queue runners were defined. You can safely remove the call to this deprecated function.\n",
            "Restoring VAE checkpoint: /root/vae/20170708-150701/model.ckpt-50000\n",
            "Traceback (most recent call last):\n",
            "  File \"facenet/src/generative/modify_attribute.py\", line 142, in <module>\n",
            "    main(parse_arguments(sys.argv[1:]))\n",
            "  File \"facenet/src/generative/modify_attribute.py\", line 115, in main\n",
            "    img = facenet.put_images_on_grid(recon, shape=(nrof_interp_steps*2,int(math.ceil(nrof_images/2))))\n",
            "AttributeError: module 'facenet' has no attribute 'put_images_on_grid'\n"
          ],
          "name": "stdout"
        }
      ]
    },
    {
      "cell_type": "code",
      "metadata": {
        "id": "h96hOrJ2lTyL",
        "colab_type": "code",
        "colab": {
          "base_uri": "https://localhost:8080/",
          "height": 1000
        },
        "outputId": "ea68b75c-4d08-4cce-e884-133acbd8908d"
      },
      "source": [
        "with sess.as_default():\n",
        "    \n",
        "    # Load checkpoint\n",
        "    #在tensorflow中checkpoints文件是一个二进制文件，\n",
        "    #用于存储所有的weights,biases,gradients和其他variables的值。.meta文件则用于存储 graph中所有的variables, operations, collections等。\n",
        "    #简言之一个存储参数，一个存储图。\n",
        "\n",
        "\n",
        "    vae_checkpoint = os.path.expanduser('/content/facenet/vae/20170708-150701/model.ckpt-50000.data-00000-of-00001')\n",
        "    print('Restoring VAE checkpoint: %s' % vae_checkpoint)\n",
        "    saver.restore(sess, vae_checkpoint)\n",
        "    \n",
        "    # Load attribute file\n",
        "    filename = os.path.expanduser('/content/facenet/20170708-150701/attribute_vectors.h5')\n",
        "    with h5py.File(filename,'r') as f:\n",
        "        latent_vars = np.array(f.get('latent_vars'))\n",
        "        attributes = np.array(f.get('attributes'))\n",
        "        #fields = np.array(f.get('fields'))\n",
        "        attribute_vectors = np.array(f.get('attribute_vectors'))\n",
        "\n",
        "    attribute_index = 31\n",
        "    image_indices = [8]\n",
        "    nrof_images = len(image_indices)\n",
        "    nrof_interp_steps = 2\n",
        "    sweep_latent_var = np.zeros((nrof_interp_steps * nrof_images, latentVarSize), np.float32)\n",
        "    for j in range(nrof_images):\n",
        "        image_index = image_indices[j]\n",
        "        idx = np.argwhere(attributes[:, attribute_index] == -1)[image_index, 0]\n",
        "        initialGenes = latent_vars[idx,:]\n",
        "        for i in range(nrof_interp_steps):\n",
        "            sweep_latent_var[i+nrof_interp_steps*j,:] = latent_vars[idx,:] + 5.0*i/nrof_interp_steps*attribute_vectors[attribute_index,:]\n",
        "            print (sweep_latent_var.shape)\n",
        "    recon = sess.run(reconstructed, feed_dict={latent_var:sweep_latent_var})\n",
        "\n",
        "    for i in range(recon.shape[0]):           \n",
        "        img = facenet.put_images_on_grid(recon[i : i + 1], shape=(1, 1))\n",
        "        image_filename = os.path.expanduser('/home/aprml6/kush/ai/facenet/vae/add_smile') + str(i) + '.png'\n",
        "        print('Writing generated image to %s' % image_filename)\n",
        "        misc.imsave(image_filename, img)"
      ],
      "execution_count": 87,
      "outputs": [
        {
          "output_type": "stream",
          "text": [
            "Restoring VAE checkpoint: /content/facenet/vae/20170708-150701/model.ckpt-50000.data-00000-of-00001\n"
          ],
          "name": "stdout"
        },
        {
          "output_type": "error",
          "ename": "DataLossError",
          "evalue": "ignored",
          "traceback": [
            "\u001b[0;31m---------------------------------------------------------------------------\u001b[0m",
            "\u001b[0;31mDataLossError\u001b[0m                             Traceback (most recent call last)",
            "\u001b[0;32m/usr/local/lib/python3.6/dist-packages/tensorflow_core/python/client/session.py\u001b[0m in \u001b[0;36m_do_call\u001b[0;34m(self, fn, *args)\u001b[0m\n\u001b[1;32m   1364\u001b[0m     \u001b[0;32mtry\u001b[0m\u001b[0;34m:\u001b[0m\u001b[0;34m\u001b[0m\u001b[0;34m\u001b[0m\u001b[0m\n\u001b[0;32m-> 1365\u001b[0;31m       \u001b[0;32mreturn\u001b[0m \u001b[0mfn\u001b[0m\u001b[0;34m(\u001b[0m\u001b[0;34m*\u001b[0m\u001b[0margs\u001b[0m\u001b[0;34m)\u001b[0m\u001b[0;34m\u001b[0m\u001b[0;34m\u001b[0m\u001b[0m\n\u001b[0m\u001b[1;32m   1366\u001b[0m     \u001b[0;32mexcept\u001b[0m \u001b[0merrors\u001b[0m\u001b[0;34m.\u001b[0m\u001b[0mOpError\u001b[0m \u001b[0;32mas\u001b[0m \u001b[0me\u001b[0m\u001b[0;34m:\u001b[0m\u001b[0;34m\u001b[0m\u001b[0;34m\u001b[0m\u001b[0m\n",
            "\u001b[0;32m/usr/local/lib/python3.6/dist-packages/tensorflow_core/python/client/session.py\u001b[0m in \u001b[0;36m_run_fn\u001b[0;34m(feed_dict, fetch_list, target_list, options, run_metadata)\u001b[0m\n\u001b[1;32m   1349\u001b[0m       return self._call_tf_sessionrun(options, feed_dict, fetch_list,\n\u001b[0;32m-> 1350\u001b[0;31m                                       target_list, run_metadata)\n\u001b[0m\u001b[1;32m   1351\u001b[0m \u001b[0;34m\u001b[0m\u001b[0m\n",
            "\u001b[0;32m/usr/local/lib/python3.6/dist-packages/tensorflow_core/python/client/session.py\u001b[0m in \u001b[0;36m_call_tf_sessionrun\u001b[0;34m(self, options, feed_dict, fetch_list, target_list, run_metadata)\u001b[0m\n\u001b[1;32m   1442\u001b[0m                                             \u001b[0mfetch_list\u001b[0m\u001b[0;34m,\u001b[0m \u001b[0mtarget_list\u001b[0m\u001b[0;34m,\u001b[0m\u001b[0;34m\u001b[0m\u001b[0;34m\u001b[0m\u001b[0m\n\u001b[0;32m-> 1443\u001b[0;31m                                             run_metadata)\n\u001b[0m\u001b[1;32m   1444\u001b[0m \u001b[0;34m\u001b[0m\u001b[0m\n",
            "\u001b[0;31mDataLossError\u001b[0m: Unable to open table file /content/facenet/vae/20170708-150701/model.ckpt-50000.data-00000-of-00001: Data loss: not an sstable (bad magic number): perhaps your file is in a different file format and you need to use a different restore operator?\n\t [[{{node save/RestoreV2}}]]",
            "\nDuring handling of the above exception, another exception occurred:\n",
            "\u001b[0;31mDataLossError\u001b[0m                             Traceback (most recent call last)",
            "\u001b[0;32m<ipython-input-87-810c654414aa>\u001b[0m in \u001b[0;36m<module>\u001b[0;34m()\u001b[0m\n\u001b[1;32m      9\u001b[0m     \u001b[0mvae_checkpoint\u001b[0m \u001b[0;34m=\u001b[0m \u001b[0mos\u001b[0m\u001b[0;34m.\u001b[0m\u001b[0mpath\u001b[0m\u001b[0;34m.\u001b[0m\u001b[0mexpanduser\u001b[0m\u001b[0;34m(\u001b[0m\u001b[0;34m'/content/facenet/vae/20170708-150701/model.ckpt-50000.data-00000-of-00001'\u001b[0m\u001b[0;34m)\u001b[0m\u001b[0;34m\u001b[0m\u001b[0;34m\u001b[0m\u001b[0m\n\u001b[1;32m     10\u001b[0m     \u001b[0mprint\u001b[0m\u001b[0;34m(\u001b[0m\u001b[0;34m'Restoring VAE checkpoint: %s'\u001b[0m \u001b[0;34m%\u001b[0m \u001b[0mvae_checkpoint\u001b[0m\u001b[0;34m)\u001b[0m\u001b[0;34m\u001b[0m\u001b[0;34m\u001b[0m\u001b[0m\n\u001b[0;32m---> 11\u001b[0;31m     \u001b[0msaver\u001b[0m\u001b[0;34m.\u001b[0m\u001b[0mrestore\u001b[0m\u001b[0;34m(\u001b[0m\u001b[0msess\u001b[0m\u001b[0;34m,\u001b[0m \u001b[0mvae_checkpoint\u001b[0m\u001b[0;34m)\u001b[0m\u001b[0;34m\u001b[0m\u001b[0;34m\u001b[0m\u001b[0m\n\u001b[0m\u001b[1;32m     12\u001b[0m \u001b[0;34m\u001b[0m\u001b[0m\n\u001b[1;32m     13\u001b[0m     \u001b[0;31m# Load attribute file\u001b[0m\u001b[0;34m\u001b[0m\u001b[0;34m\u001b[0m\u001b[0;34m\u001b[0m\u001b[0m\n",
            "\u001b[0;32m/usr/local/lib/python3.6/dist-packages/tensorflow_core/python/training/saver.py\u001b[0m in \u001b[0;36mrestore\u001b[0;34m(self, sess, save_path)\u001b[0m\n\u001b[1;32m   1288\u001b[0m       \u001b[0;32melse\u001b[0m\u001b[0;34m:\u001b[0m\u001b[0;34m\u001b[0m\u001b[0;34m\u001b[0m\u001b[0m\n\u001b[1;32m   1289\u001b[0m         sess.run(self.saver_def.restore_op_name,\n\u001b[0;32m-> 1290\u001b[0;31m                  {self.saver_def.filename_tensor_name: save_path})\n\u001b[0m\u001b[1;32m   1291\u001b[0m     \u001b[0;32mexcept\u001b[0m \u001b[0merrors\u001b[0m\u001b[0;34m.\u001b[0m\u001b[0mNotFoundError\u001b[0m \u001b[0;32mas\u001b[0m \u001b[0merr\u001b[0m\u001b[0;34m:\u001b[0m\u001b[0;34m\u001b[0m\u001b[0;34m\u001b[0m\u001b[0m\n\u001b[1;32m   1292\u001b[0m       \u001b[0;31m# There are three common conditions that might cause this error:\u001b[0m\u001b[0;34m\u001b[0m\u001b[0;34m\u001b[0m\u001b[0;34m\u001b[0m\u001b[0m\n",
            "\u001b[0;32m/usr/local/lib/python3.6/dist-packages/tensorflow_core/python/client/session.py\u001b[0m in \u001b[0;36mrun\u001b[0;34m(self, fetches, feed_dict, options, run_metadata)\u001b[0m\n\u001b[1;32m    954\u001b[0m     \u001b[0;32mtry\u001b[0m\u001b[0;34m:\u001b[0m\u001b[0;34m\u001b[0m\u001b[0;34m\u001b[0m\u001b[0m\n\u001b[1;32m    955\u001b[0m       result = self._run(None, fetches, feed_dict, options_ptr,\n\u001b[0;32m--> 956\u001b[0;31m                          run_metadata_ptr)\n\u001b[0m\u001b[1;32m    957\u001b[0m       \u001b[0;32mif\u001b[0m \u001b[0mrun_metadata\u001b[0m\u001b[0;34m:\u001b[0m\u001b[0;34m\u001b[0m\u001b[0;34m\u001b[0m\u001b[0m\n\u001b[1;32m    958\u001b[0m         \u001b[0mproto_data\u001b[0m \u001b[0;34m=\u001b[0m \u001b[0mtf_session\u001b[0m\u001b[0;34m.\u001b[0m\u001b[0mTF_GetBuffer\u001b[0m\u001b[0;34m(\u001b[0m\u001b[0mrun_metadata_ptr\u001b[0m\u001b[0;34m)\u001b[0m\u001b[0;34m\u001b[0m\u001b[0;34m\u001b[0m\u001b[0m\n",
            "\u001b[0;32m/usr/local/lib/python3.6/dist-packages/tensorflow_core/python/client/session.py\u001b[0m in \u001b[0;36m_run\u001b[0;34m(self, handle, fetches, feed_dict, options, run_metadata)\u001b[0m\n\u001b[1;32m   1178\u001b[0m     \u001b[0;32mif\u001b[0m \u001b[0mfinal_fetches\u001b[0m \u001b[0;32mor\u001b[0m \u001b[0mfinal_targets\u001b[0m \u001b[0;32mor\u001b[0m \u001b[0;34m(\u001b[0m\u001b[0mhandle\u001b[0m \u001b[0;32mand\u001b[0m \u001b[0mfeed_dict_tensor\u001b[0m\u001b[0;34m)\u001b[0m\u001b[0;34m:\u001b[0m\u001b[0;34m\u001b[0m\u001b[0;34m\u001b[0m\u001b[0m\n\u001b[1;32m   1179\u001b[0m       results = self._do_run(handle, final_targets, final_fetches,\n\u001b[0;32m-> 1180\u001b[0;31m                              feed_dict_tensor, options, run_metadata)\n\u001b[0m\u001b[1;32m   1181\u001b[0m     \u001b[0;32melse\u001b[0m\u001b[0;34m:\u001b[0m\u001b[0;34m\u001b[0m\u001b[0;34m\u001b[0m\u001b[0m\n\u001b[1;32m   1182\u001b[0m       \u001b[0mresults\u001b[0m \u001b[0;34m=\u001b[0m \u001b[0;34m[\u001b[0m\u001b[0;34m]\u001b[0m\u001b[0;34m\u001b[0m\u001b[0;34m\u001b[0m\u001b[0m\n",
            "\u001b[0;32m/usr/local/lib/python3.6/dist-packages/tensorflow_core/python/client/session.py\u001b[0m in \u001b[0;36m_do_run\u001b[0;34m(self, handle, target_list, fetch_list, feed_dict, options, run_metadata)\u001b[0m\n\u001b[1;32m   1357\u001b[0m     \u001b[0;32mif\u001b[0m \u001b[0mhandle\u001b[0m \u001b[0;32mis\u001b[0m \u001b[0;32mNone\u001b[0m\u001b[0;34m:\u001b[0m\u001b[0;34m\u001b[0m\u001b[0;34m\u001b[0m\u001b[0m\n\u001b[1;32m   1358\u001b[0m       return self._do_call(_run_fn, feeds, fetches, targets, options,\n\u001b[0;32m-> 1359\u001b[0;31m                            run_metadata)\n\u001b[0m\u001b[1;32m   1360\u001b[0m     \u001b[0;32melse\u001b[0m\u001b[0;34m:\u001b[0m\u001b[0;34m\u001b[0m\u001b[0;34m\u001b[0m\u001b[0m\n\u001b[1;32m   1361\u001b[0m       \u001b[0;32mreturn\u001b[0m \u001b[0mself\u001b[0m\u001b[0;34m.\u001b[0m\u001b[0m_do_call\u001b[0m\u001b[0;34m(\u001b[0m\u001b[0m_prun_fn\u001b[0m\u001b[0;34m,\u001b[0m \u001b[0mhandle\u001b[0m\u001b[0;34m,\u001b[0m \u001b[0mfeeds\u001b[0m\u001b[0;34m,\u001b[0m \u001b[0mfetches\u001b[0m\u001b[0;34m)\u001b[0m\u001b[0;34m\u001b[0m\u001b[0;34m\u001b[0m\u001b[0m\n",
            "\u001b[0;32m/usr/local/lib/python3.6/dist-packages/tensorflow_core/python/client/session.py\u001b[0m in \u001b[0;36m_do_call\u001b[0;34m(self, fn, *args)\u001b[0m\n\u001b[1;32m   1382\u001b[0m                     \u001b[0;34m'\\nsession_config.graph_options.rewrite_options.'\u001b[0m\u001b[0;34m\u001b[0m\u001b[0;34m\u001b[0m\u001b[0m\n\u001b[1;32m   1383\u001b[0m                     'disable_meta_optimizer = True')\n\u001b[0;32m-> 1384\u001b[0;31m       \u001b[0;32mraise\u001b[0m \u001b[0mtype\u001b[0m\u001b[0;34m(\u001b[0m\u001b[0me\u001b[0m\u001b[0;34m)\u001b[0m\u001b[0;34m(\u001b[0m\u001b[0mnode_def\u001b[0m\u001b[0;34m,\u001b[0m \u001b[0mop\u001b[0m\u001b[0;34m,\u001b[0m \u001b[0mmessage\u001b[0m\u001b[0;34m)\u001b[0m\u001b[0;34m\u001b[0m\u001b[0;34m\u001b[0m\u001b[0m\n\u001b[0m\u001b[1;32m   1385\u001b[0m \u001b[0;34m\u001b[0m\u001b[0m\n\u001b[1;32m   1386\u001b[0m   \u001b[0;32mdef\u001b[0m \u001b[0m_extend_graph\u001b[0m\u001b[0;34m(\u001b[0m\u001b[0mself\u001b[0m\u001b[0;34m)\u001b[0m\u001b[0;34m:\u001b[0m\u001b[0;34m\u001b[0m\u001b[0;34m\u001b[0m\u001b[0m\n",
            "\u001b[0;31mDataLossError\u001b[0m: Unable to open table file /content/facenet/vae/20170708-150701/model.ckpt-50000.data-00000-of-00001: Data loss: not an sstable (bad magic number): perhaps your file is in a different file format and you need to use a different restore operator?\n\t [[node save/RestoreV2 (defined at /usr/local/lib/python3.6/dist-packages/tensorflow_core/python/framework/ops.py:1748) ]]\n\nOriginal stack trace for 'save/RestoreV2':\n  File \"/usr/lib/python3.6/runpy.py\", line 193, in _run_module_as_main\n    \"__main__\", mod_spec)\n  File \"/usr/lib/python3.6/runpy.py\", line 85, in _run_code\n    exec(code, run_globals)\n  File \"/usr/local/lib/python3.6/dist-packages/ipykernel_launcher.py\", line 16, in <module>\n    app.launch_new_instance()\n  File \"/usr/local/lib/python3.6/dist-packages/traitlets/config/application.py\", line 664, in launch_instance\n    app.start()\n  File \"/usr/local/lib/python3.6/dist-packages/ipykernel/kernelapp.py\", line 477, in start\n    ioloop.IOLoop.instance().start()\n  File \"/usr/local/lib/python3.6/dist-packages/tornado/ioloop.py\", line 888, in start\n    handler_func(fd_obj, events)\n  File \"/usr/local/lib/python3.6/dist-packages/tornado/stack_context.py\", line 277, in null_wrapper\n    return fn(*args, **kwargs)\n  File \"/usr/local/lib/python3.6/dist-packages/zmq/eventloop/zmqstream.py\", line 450, in _handle_events\n    self._handle_recv()\n  File \"/usr/local/lib/python3.6/dist-packages/zmq/eventloop/zmqstream.py\", line 480, in _handle_recv\n    self._run_callback(callback, msg)\n  File \"/usr/local/lib/python3.6/dist-packages/zmq/eventloop/zmqstream.py\", line 432, in _run_callback\n    callback(*args, **kwargs)\n  File \"/usr/local/lib/python3.6/dist-packages/tornado/stack_context.py\", line 277, in null_wrapper\n    return fn(*args, **kwargs)\n  File \"/usr/local/lib/python3.6/dist-packages/ipykernel/kernelbase.py\", line 283, in dispatcher\n    return self.dispatch_shell(stream, msg)\n  File \"/usr/local/lib/python3.6/dist-packages/ipykernel/kernelbase.py\", line 235, in dispatch_shell\n    handler(stream, idents, msg)\n  File \"/usr/local/lib/python3.6/dist-packages/ipykernel/kernelbase.py\", line 399, in execute_request\n    user_expressions, allow_stdin)\n  File \"/usr/local/lib/python3.6/dist-packages/ipykernel/ipkernel.py\", line 196, in do_execute\n    res = shell.run_cell(code, store_history=store_history, silent=silent)\n  File \"/usr/local/lib/python3.6/dist-packages/ipykernel/zmqshell.py\", line 533, in run_cell\n    return super(ZMQInteractiveShell, self).run_cell(*args, **kwargs)\n  File \"/usr/local/lib/python3.6/dist-packages/IPython/core/interactiveshell.py\", line 2718, in run_cell\n    interactivity=interactivity, compiler=compiler, result=result)\n  File \"/usr/local/lib/python3.6/dist-packages/IPython/core/interactiveshell.py\", line 2822, in run_ast_nodes\n    if self.run_code(code, result):\n  File \"/usr/local/lib/python3.6/dist-packages/IPython/core/interactiveshell.py\", line 2882, in run_code\n    exec(code_obj, self.user_global_ns, self.user_ns)\n  File \"<ipython-input-69-ccc6c8460b38>\", line 25, in <module>\n    saver = tf.train.Saver(tf.trainable_variables(), max_to_keep=3)\n  File \"/usr/local/lib/python3.6/dist-packages/tensorflow_core/python/training/saver.py\", line 828, in __init__\n    self.build()\n  File \"/usr/local/lib/python3.6/dist-packages/tensorflow_core/python/training/saver.py\", line 840, in build\n    self._build(self._filename, build_save=True, build_restore=True)\n  File \"/usr/local/lib/python3.6/dist-packages/tensorflow_core/python/training/saver.py\", line 878, in _build\n    build_restore=build_restore)\n  File \"/usr/local/lib/python3.6/dist-packages/tensorflow_core/python/training/saver.py\", line 508, in _build_internal\n    restore_sequentially, reshape)\n  File \"/usr/local/lib/python3.6/dist-packages/tensorflow_core/python/training/saver.py\", line 328, in _AddRestoreOps\n    restore_sequentially)\n  File \"/usr/local/lib/python3.6/dist-packages/tensorflow_core/python/training/saver.py\", line 575, in bulk_restore\n    return io_ops.restore_v2(filename_tensor, names, slices, dtypes)\n  File \"/usr/local/lib/python3.6/dist-packages/tensorflow_core/python/ops/gen_io_ops.py\", line 1696, in restore_v2\n    name=name)\n  File \"/usr/local/lib/python3.6/dist-packages/tensorflow_core/python/framework/op_def_library.py\", line 794, in _apply_op_helper\n    op_def=op_def)\n  File \"/usr/local/lib/python3.6/dist-packages/tensorflow_core/python/util/deprecation.py\", line 507, in new_func\n    return func(*args, **kwargs)\n  File \"/usr/local/lib/python3.6/dist-packages/tensorflow_core/python/framework/ops.py\", line 3357, in create_op\n    attrs, op_def, compute_device)\n  File \"/usr/local/lib/python3.6/dist-packages/tensorflow_core/python/framework/ops.py\", line 3426, in _create_op_internal\n    op_def=op_def)\n  File \"/usr/local/lib/python3.6/dist-packages/tensorflow_core/python/framework/ops.py\", line 1748, in __init__\n    self._traceback = tf_stack.extract_stack()\n"
          ]
        }
      ]
    }
  ]
}