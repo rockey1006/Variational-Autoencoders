{
  "nbformat": 4,
  "nbformat_minor": 0,
  "metadata": {
    "colab": {
      "name": "extract_one_shot_images.ipynb",
      "provenance": [],
      "authorship_tag": "ABX9TyNzJUZlnY2VDtprGCHHW2OP",
      "include_colab_link": true
    },
    "kernelspec": {
      "name": "python3",
      "display_name": "Python 3"
    }
  },
  "cells": [
    {
      "cell_type": "markdown",
      "metadata": {
        "id": "view-in-github",
        "colab_type": "text"
      },
      "source": [
        "<a href=\"https://colab.research.google.com/github/rockey1006/Variational-Autoencoders/blob/master/extract_one_shot_images.ipynb\" target=\"_parent\"><img src=\"https://colab.research.google.com/assets/colab-badge.svg\" alt=\"Open In Colab\"/></a>"
      ]
    },
    {
      "cell_type": "code",
      "metadata": {
        "id": "FPiVNVkddDgi",
        "outputId": "26bc50e6-2c47-47b6-a50a-b773e02149e9",
        "colab": {
          "base_uri": "https://localhost:8080/",
          "height": 34
        }
      },
      "source": [
        "from google.colab import drive\n",
        "drive.mount('/content/drive')"
      ],
      "execution_count": 1,
      "outputs": [
        {
          "output_type": "stream",
          "text": [
            "Mounted at /content/drive\n"
          ],
          "name": "stdout"
        }
      ]
    },
    {
      "cell_type": "code",
      "metadata": {
        "id": "kZ8iJZCudcmu"
      },
      "source": [
        "from zipfile import ZipFile\n",
        "with ZipFile('/content/drive/My Drive/one.zip', 'r') as zipObj:\n",
        "   # Extract all the contents of zip file in different directory\n",
        "   zipObj.extractall('one')"
      ],
      "execution_count": 2,
      "outputs": []
    },
    {
      "cell_type": "code",
      "metadata": {
        "id": "Cgs-CJ_xdqK0"
      },
      "source": [
        "import os\n"
      ],
      "execution_count": 3,
      "outputs": []
    },
    {
      "cell_type": "code",
      "metadata": {
        "id": "2o7RgmpxdxoL"
      },
      "source": [
        "src_path = '/content/one/one/'"
      ],
      "execution_count": 34,
      "outputs": []
    },
    {
      "cell_type": "code",
      "metadata": {
        "id": "9BnlkKikd-SF"
      },
      "source": [
        "target_path = '/content/new1/'\n"
      ],
      "execution_count": 35,
      "outputs": []
    },
    {
      "cell_type": "code",
      "metadata": {
        "id": "LIaHcYG7u0-0"
      },
      "source": [
        "from PIL import Image #入PIL模块用于读取图片，也可使用opencv\n",
        "import matplotlib.pyplot as plt\n",
        "import cv2\n",
        "\n",
        "\n",
        "def copy_picture(src_path, target_path):\n",
        "    for name_file in os.listdir(src_path):\n",
        "      count = 0\n",
        "      for img_file in os.listdir(src_path+name_file):\n",
        "        count = count+1\n",
        "      if count == 1:\n",
        "        for img_file in os.listdir(src_path+name_file):\n",
        "          path = os.path.join(src_path+name_file+'/'+img_file)\n",
        "          with open(path, 'rb') as rstream:\n",
        "                container = rstream.read()\n",
        "                path1 = os.path.join(target_path+name_file)\n",
        "                if not os.path.exists(path1):\n",
        "                  os.mkdir(path1)\n",
        "                path1 = os.path.join(target_path+name_file+'/'+img_file)\n",
        "                with open(path1, 'wb') as wstream:\n",
        "                    wstream.write(container)\n",
        "         \n",
        "\n",
        "         \n",
        "      \n",
        "\n",
        "      \n"
      ],
      "execution_count": 117,
      "outputs": []
    },
    {
      "cell_type": "code",
      "metadata": {
        "id": "vP4Lx_-LjZTL"
      },
      "source": [
        "copy_picture(src_path, target_path)\n"
      ],
      "execution_count": 118,
      "outputs": []
    }
  ]
}