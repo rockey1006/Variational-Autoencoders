{
  "nbformat": 4,
  "nbformat_minor": 0,
  "metadata": {
    "colab": {
      "name": "classifier10_20.ipynb",
      "provenance": [],
      "authorship_tag": "ABX9TyNuXRbxzcN+3Rjy7QY8dZfB",
      "include_colab_link": true
    },
    "kernelspec": {
      "name": "python3",
      "display_name": "Python 3"
    },
    "accelerator": "GPU"
  },
  "cells": [
    {
      "cell_type": "markdown",
      "metadata": {
        "id": "view-in-github",
        "colab_type": "text"
      },
      "source": [
        "<a href=\"https://colab.research.google.com/github/rockey1006/Variational-Autoencoders/blob/master/classifier10_20.ipynb\" target=\"_parent\"><img src=\"https://colab.research.google.com/assets/colab-badge.svg\" alt=\"Open In Colab\"/></a>"
      ]
    },
    {
      "cell_type": "code",
      "metadata": {
        "id": "9bNeIls_vvHu",
        "outputId": "b01820e3-c4ba-4f1f-ee1e-29dbcf667eab",
        "colab": {
          "base_uri": "https://localhost:8080/",
          "height": 122
        }
      },
      "source": [
        "!git clone https://github.com/rockey1006/classifier.git"
      ],
      "execution_count": 1,
      "outputs": [
        {
          "output_type": "stream",
          "text": [
            "Cloning into 'classifier'...\n",
            "remote: Enumerating objects: 17, done.\u001b[K\n",
            "remote: Counting objects: 100% (17/17), done.\u001b[K\n",
            "remote: Compressing objects: 100% (15/15), done.\u001b[K\n",
            "remote: Total 17 (delta 0), reused 0 (delta 0), pack-reused 0\u001b[K\n",
            "Unpacking objects: 100% (17/17), done.\n"
          ],
          "name": "stdout"
        }
      ]
    },
    {
      "cell_type": "code",
      "metadata": {
        "id": "hkoslNjev4S3",
        "outputId": "e9d546bf-d2ca-4765-c0ec-e9ea6b3c9c07",
        "colab": {
          "base_uri": "https://localhost:8080/",
          "height": 34
        }
      },
      "source": [
        "\n",
        "from google.colab import drive\n",
        "drive.mount('/content/drive')"
      ],
      "execution_count": 2,
      "outputs": [
        {
          "output_type": "stream",
          "text": [
            "Mounted at /content/drive\n"
          ],
          "name": "stdout"
        }
      ]
    },
    {
      "cell_type": "code",
      "metadata": {
        "id": "5O3YtJGvwQHK"
      },
      "source": [
        "from zipfile import ZipFile\n",
        "with ZipFile('/content/drive/My Drive/train.zip', 'r') as zipObj:\n",
        "   # Extract all the contents of zip file in different directory\n",
        "   zipObj.extractall('content/train/')"
      ],
      "execution_count": 6,
      "outputs": []
    },
    {
      "cell_type": "code",
      "metadata": {
        "id": "hoF7iCYcxO3E"
      },
      "source": [
        "from zipfile import ZipFile\n",
        "with ZipFile('/content/drive/My Drive/test.zip', 'r') as zipObj:\n",
        "   # Extract all the contents of zip file in different directory\n",
        "   zipObj.extractall('content/test/')"
      ],
      "execution_count": 7,
      "outputs": []
    },
    {
      "cell_type": "code",
      "metadata": {
        "id": "q9Lnx9nZwc6B"
      },
      "source": [
        "from zipfile import ZipFile\n",
        "with ZipFile('/content/drive/My Drive/vgg_face_weights.zip', 'r') as zipObj:\n",
        "   # Extract all the contents of zip file in different directory\n",
        "   zipObj.extractall('content/vgg_face_weights/')"
      ],
      "execution_count": 8,
      "outputs": []
    },
    {
      "cell_type": "code",
      "metadata": {
        "id": "KVil8UF5xjYW",
        "outputId": "ba74636f-4416-446c-a3b5-efa614bb47ca",
        "colab": {
          "base_uri": "https://localhost:8080/",
          "height": 1000
        }
      },
      "source": [
        "!python /content/classifier/Face2020.py"
      ],
      "execution_count": 14,
      "outputs": [
        {
          "output_type": "stream",
          "text": [
            "2020-10-21 01:37:42.529650: I tensorflow/stream_executor/platform/default/dso_loader.cc:48] Successfully opened dynamic library libcudart.so.10.1\n",
            "2020-10-21 01:37:45.149163: I tensorflow/stream_executor/platform/default/dso_loader.cc:48] Successfully opened dynamic library libcuda.so.1\n",
            "2020-10-21 01:37:45.149369: I tensorflow/stream_executor/cuda/cuda_gpu_executor.cc:982] successful NUMA node read from SysFS had negative value (-1), but there must be at least one NUMA node, so returning NUMA node zero\n",
            "2020-10-21 01:37:45.149916: I tensorflow/core/common_runtime/gpu/gpu_device.cc:1716] Found device 0 with properties: \n",
            "pciBusID: 0000:00:04.0 name: Tesla P100-PCIE-16GB computeCapability: 6.0\n",
            "coreClock: 1.3285GHz coreCount: 56 deviceMemorySize: 15.90GiB deviceMemoryBandwidth: 681.88GiB/s\n",
            "2020-10-21 01:37:45.149972: I tensorflow/stream_executor/platform/default/dso_loader.cc:48] Successfully opened dynamic library libcudart.so.10.1\n",
            "2020-10-21 01:37:45.150024: I tensorflow/stream_executor/platform/default/dso_loader.cc:48] Successfully opened dynamic library libcublas.so.10\n",
            "2020-10-21 01:37:45.151441: I tensorflow/stream_executor/platform/default/dso_loader.cc:48] Successfully opened dynamic library libcufft.so.10\n",
            "2020-10-21 01:37:45.151527: I tensorflow/stream_executor/platform/default/dso_loader.cc:48] Successfully opened dynamic library libcurand.so.10\n",
            "2020-10-21 01:37:45.151560: I tensorflow/stream_executor/platform/default/dso_loader.cc:48] Successfully opened dynamic library libcusolver.so.10\n",
            "2020-10-21 01:37:45.152201: I tensorflow/stream_executor/platform/default/dso_loader.cc:48] Successfully opened dynamic library libcusparse.so.10\n",
            "2020-10-21 01:37:45.152292: I tensorflow/stream_executor/platform/default/dso_loader.cc:48] Successfully opened dynamic library libcudnn.so.7\n",
            "2020-10-21 01:37:45.152383: I tensorflow/stream_executor/cuda/cuda_gpu_executor.cc:982] successful NUMA node read from SysFS had negative value (-1), but there must be at least one NUMA node, so returning NUMA node zero\n",
            "2020-10-21 01:37:45.152940: I tensorflow/stream_executor/cuda/cuda_gpu_executor.cc:982] successful NUMA node read from SysFS had negative value (-1), but there must be at least one NUMA node, so returning NUMA node zero\n",
            "2020-10-21 01:37:45.153537: I tensorflow/core/common_runtime/gpu/gpu_device.cc:1858] Adding visible gpu devices: 0\n",
            "2020-10-21 01:37:45.158333: I tensorflow/core/platform/profile_utils/cpu_utils.cc:104] CPU Frequency: 2200000000 Hz\n",
            "2020-10-21 01:37:45.158581: I tensorflow/compiler/xla/service/service.cc:168] XLA service 0x1e3c04c0 initialized for platform Host (this does not guarantee that XLA will be used). Devices:\n",
            "2020-10-21 01:37:45.158617: I tensorflow/compiler/xla/service/service.cc:176]   StreamExecutor device (0): Host, Default Version\n",
            "2020-10-21 01:37:45.159913: I tensorflow/stream_executor/cuda/cuda_gpu_executor.cc:982] successful NUMA node read from SysFS had negative value (-1), but there must be at least one NUMA node, so returning NUMA node zero\n",
            "2020-10-21 01:37:45.160558: I tensorflow/compiler/xla/service/service.cc:168] XLA service 0x1e3c0680 initialized for platform CUDA (this does not guarantee that XLA will be used). Devices:\n",
            "2020-10-21 01:37:45.160582: I tensorflow/compiler/xla/service/service.cc:176]   StreamExecutor device (0): Tesla P100-PCIE-16GB, Compute Capability 6.0\n",
            "2020-10-21 01:37:45.160717: I tensorflow/stream_executor/cuda/cuda_gpu_executor.cc:982] successful NUMA node read from SysFS had negative value (-1), but there must be at least one NUMA node, so returning NUMA node zero\n",
            "2020-10-21 01:37:45.161212: I tensorflow/core/common_runtime/gpu/gpu_device.cc:1716] Found device 0 with properties: \n",
            "pciBusID: 0000:00:04.0 name: Tesla P100-PCIE-16GB computeCapability: 6.0\n",
            "coreClock: 1.3285GHz coreCount: 56 deviceMemorySize: 15.90GiB deviceMemoryBandwidth: 681.88GiB/s\n",
            "2020-10-21 01:37:45.161261: I tensorflow/stream_executor/platform/default/dso_loader.cc:48] Successfully opened dynamic library libcudart.so.10.1\n",
            "2020-10-21 01:37:45.161282: I tensorflow/stream_executor/platform/default/dso_loader.cc:48] Successfully opened dynamic library libcublas.so.10\n",
            "2020-10-21 01:37:45.161310: I tensorflow/stream_executor/platform/default/dso_loader.cc:48] Successfully opened dynamic library libcufft.so.10\n",
            "2020-10-21 01:37:45.161327: I tensorflow/stream_executor/platform/default/dso_loader.cc:48] Successfully opened dynamic library libcurand.so.10\n",
            "2020-10-21 01:37:45.161342: I tensorflow/stream_executor/platform/default/dso_loader.cc:48] Successfully opened dynamic library libcusolver.so.10\n",
            "2020-10-21 01:37:45.161361: I tensorflow/stream_executor/platform/default/dso_loader.cc:48] Successfully opened dynamic library libcusparse.so.10\n",
            "2020-10-21 01:37:45.161376: I tensorflow/stream_executor/platform/default/dso_loader.cc:48] Successfully opened dynamic library libcudnn.so.7\n",
            "2020-10-21 01:37:45.161436: I tensorflow/stream_executor/cuda/cuda_gpu_executor.cc:982] successful NUMA node read from SysFS had negative value (-1), but there must be at least one NUMA node, so returning NUMA node zero\n",
            "2020-10-21 01:37:45.161962: I tensorflow/stream_executor/cuda/cuda_gpu_executor.cc:982] successful NUMA node read from SysFS had negative value (-1), but there must be at least one NUMA node, so returning NUMA node zero\n",
            "2020-10-21 01:37:45.162462: I tensorflow/core/common_runtime/gpu/gpu_device.cc:1858] Adding visible gpu devices: 0\n",
            "2020-10-21 01:37:45.162506: I tensorflow/stream_executor/platform/default/dso_loader.cc:48] Successfully opened dynamic library libcudart.so.10.1\n",
            "2020-10-21 01:37:45.759980: I tensorflow/core/common_runtime/gpu/gpu_device.cc:1257] Device interconnect StreamExecutor with strength 1 edge matrix:\n",
            "2020-10-21 01:37:45.760050: I tensorflow/core/common_runtime/gpu/gpu_device.cc:1263]      0 \n",
            "2020-10-21 01:37:45.760063: I tensorflow/core/common_runtime/gpu/gpu_device.cc:1276] 0:   N \n",
            "2020-10-21 01:37:45.760268: I tensorflow/stream_executor/cuda/cuda_gpu_executor.cc:982] successful NUMA node read from SysFS had negative value (-1), but there must be at least one NUMA node, so returning NUMA node zero\n",
            "2020-10-21 01:37:45.760865: I tensorflow/stream_executor/cuda/cuda_gpu_executor.cc:982] successful NUMA node read from SysFS had negative value (-1), but there must be at least one NUMA node, so returning NUMA node zero\n",
            "2020-10-21 01:37:45.761393: W tensorflow/core/common_runtime/gpu/gpu_bfc_allocator.cc:39] Overriding allow_growth setting because the TF_FORCE_GPU_ALLOW_GROWTH environment variable is set. Original config value was 0.\n",
            "2020-10-21 01:37:45.761438: I tensorflow/core/common_runtime/gpu/gpu_device.cc:1402] Created TensorFlow device (/job:localhost/replica:0/task:0/device:GPU:0 with 14455 MB memory) -> physical GPU (device: 0, name: Tesla P100-PCIE-16GB, pci bus id: 0000:00:04.0, compute capability: 6.0)\n",
            "model loaded-------------\n",
            "2020-10-21 01:37:46.355052: I tensorflow/stream_executor/platform/default/dso_loader.cc:48] Successfully opened dynamic library libcudnn.so.7\n",
            "2020-10-21 01:37:46.457559: I tensorflow/stream_executor/platform/default/dso_loader.cc:48] Successfully opened dynamic library libcublas.so.10\n",
            "(17, 2622)\n",
            "(17,)\n",
            "Epoch 1/30\n",
            "1/1 [==============================] - 0s 127ms/step - loss: 8.9932 - accuracy: 0.0000e+00 - val_loss: 9.1650 - val_accuracy: 0.0000e+00\n",
            "Epoch 2/30\n",
            "1/1 [==============================] - 0s 12ms/step - loss: 7.8924 - accuracy: 0.0000e+00 - val_loss: 9.2170 - val_accuracy: 0.0000e+00\n",
            "Epoch 3/30\n",
            "1/1 [==============================] - 0s 13ms/step - loss: 7.0815 - accuracy: 0.0588 - val_loss: 9.1603 - val_accuracy: 0.0000e+00\n",
            "Epoch 4/30\n",
            "1/1 [==============================] - 0s 13ms/step - loss: 6.7410 - accuracy: 0.0000e+00 - val_loss: 9.1376 - val_accuracy: 0.0000e+00\n",
            "Epoch 5/30\n",
            "1/1 [==============================] - 0s 12ms/step - loss: 6.3360 - accuracy: 0.2941 - val_loss: 9.1054 - val_accuracy: 0.0000e+00\n",
            "Epoch 6/30\n",
            "1/1 [==============================] - 0s 12ms/step - loss: 6.0280 - accuracy: 0.4118 - val_loss: 9.0594 - val_accuracy: 0.0000e+00\n",
            "Epoch 7/30\n",
            "1/1 [==============================] - 0s 12ms/step - loss: 5.8053 - accuracy: 0.5294 - val_loss: 8.9235 - val_accuracy: 0.0000e+00\n",
            "Epoch 8/30\n",
            "1/1 [==============================] - 0s 12ms/step - loss: 5.8730 - accuracy: 0.5294 - val_loss: 8.9004 - val_accuracy: 0.0000e+00\n",
            "Epoch 9/30\n",
            "1/1 [==============================] - 0s 13ms/step - loss: 5.6742 - accuracy: 0.6471 - val_loss: 8.7589 - val_accuracy: 0.0000e+00\n",
            "Epoch 10/30\n",
            "1/1 [==============================] - 0s 16ms/step - loss: 5.4403 - accuracy: 0.8235 - val_loss: 8.7762 - val_accuracy: 0.0000e+00\n",
            "Epoch 11/30\n",
            "1/1 [==============================] - 0s 12ms/step - loss: 5.3902 - accuracy: 0.7059 - val_loss: 8.6940 - val_accuracy: 0.0000e+00\n",
            "Epoch 12/30\n",
            "1/1 [==============================] - 0s 12ms/step - loss: 5.2479 - accuracy: 0.8824 - val_loss: 8.6349 - val_accuracy: 0.0000e+00\n",
            "Epoch 13/30\n",
            "1/1 [==============================] - 0s 12ms/step - loss: 5.1911 - accuracy: 0.8824 - val_loss: 8.5864 - val_accuracy: 0.0000e+00\n",
            "Epoch 14/30\n",
            "1/1 [==============================] - 0s 12ms/step - loss: 5.0413 - accuracy: 1.0000 - val_loss: 8.5081 - val_accuracy: 0.0000e+00\n",
            "Epoch 15/30\n",
            "1/1 [==============================] - 0s 13ms/step - loss: 4.9218 - accuracy: 0.9412 - val_loss: 8.4063 - val_accuracy: 0.0000e+00\n",
            "Epoch 16/30\n",
            "1/1 [==============================] - 0s 14ms/step - loss: 5.0424 - accuracy: 1.0000 - val_loss: 8.2865 - val_accuracy: 0.0000e+00\n",
            "Epoch 17/30\n",
            "1/1 [==============================] - 0s 12ms/step - loss: 4.6250 - accuracy: 1.0000 - val_loss: 8.1932 - val_accuracy: 0.0000e+00\n",
            "Epoch 18/30\n",
            "1/1 [==============================] - 0s 12ms/step - loss: 4.6396 - accuracy: 1.0000 - val_loss: 8.0841 - val_accuracy: 0.0000e+00\n",
            "Epoch 19/30\n",
            "1/1 [==============================] - 0s 18ms/step - loss: 4.4617 - accuracy: 0.9412 - val_loss: 8.0365 - val_accuracy: 0.0000e+00\n",
            "Epoch 20/30\n",
            "1/1 [==============================] - 0s 12ms/step - loss: 4.5456 - accuracy: 0.9412 - val_loss: 7.9239 - val_accuracy: 0.0000e+00\n",
            "Epoch 21/30\n",
            "1/1 [==============================] - 0s 19ms/step - loss: 4.4168 - accuracy: 1.0000 - val_loss: 7.8118 - val_accuracy: 0.0000e+00\n",
            "Epoch 22/30\n",
            "1/1 [==============================] - 0s 12ms/step - loss: 4.3815 - accuracy: 1.0000 - val_loss: 7.7501 - val_accuracy: 0.0000e+00\n",
            "Epoch 23/30\n",
            "1/1 [==============================] - 0s 12ms/step - loss: 3.9772 - accuracy: 1.0000 - val_loss: 7.6286 - val_accuracy: 0.0000e+00\n",
            "Epoch 24/30\n",
            "1/1 [==============================] - 0s 12ms/step - loss: 4.1011 - accuracy: 1.0000 - val_loss: 7.5710 - val_accuracy: 0.0000e+00\n",
            "Epoch 25/30\n",
            "1/1 [==============================] - 0s 12ms/step - loss: 4.1227 - accuracy: 1.0000 - val_loss: 7.5533 - val_accuracy: 0.0000e+00\n",
            "Epoch 26/30\n",
            "1/1 [==============================] - 0s 12ms/step - loss: 4.0988 - accuracy: 1.0000 - val_loss: 7.4623 - val_accuracy: 0.0000e+00\n",
            "Epoch 27/30\n",
            "1/1 [==============================] - 0s 12ms/step - loss: 3.7876 - accuracy: 1.0000 - val_loss: 7.3841 - val_accuracy: 0.0000e+00\n",
            "Epoch 28/30\n",
            "1/1 [==============================] - 0s 12ms/step - loss: 3.7852 - accuracy: 1.0000 - val_loss: 7.3228 - val_accuracy: 0.0000e+00\n",
            "Epoch 29/30\n",
            "1/1 [==============================] - 0s 12ms/step - loss: 3.6764 - accuracy: 0.9412 - val_loss: 7.2436 - val_accuracy: 0.0000e+00\n",
            "Epoch 30/30\n",
            "1/1 [==============================] - 0s 12ms/step - loss: 3.8402 - accuracy: 1.0000 - val_loss: 7.1059 - val_accuracy: 0.0000e+00\n",
            "done..\n"
          ],
          "name": "stdout"
        }
      ]
    }
  ]
}