{
  "nbformat": 4,
  "nbformat_minor": 0,
  "metadata": {
    "colab": {
      "name": "verification40_1120.ipynb",
      "provenance": [],
      "authorship_tag": "ABX9TyPZh2LAm6BQLsQUl91afRE6",
      "include_colab_link": true
    },
    "kernelspec": {
      "name": "python3",
      "display_name": "Python 3"
    },
    "accelerator": "GPU"
  },
  "cells": [
    {
      "cell_type": "markdown",
      "metadata": {
        "id": "view-in-github",
        "colab_type": "text"
      },
      "source": [
        "<a href=\"https://colab.research.google.com/github/rockey1006/Variational-Autoencoders/blob/master/verification40_1120.ipynb\" target=\"_parent\"><img src=\"https://colab.research.google.com/assets/colab-badge.svg\" alt=\"Open In Colab\"/></a>"
      ]
    },
    {
      "cell_type": "code",
      "metadata": {
        "id": "dBiyk65bfgF3"
      },
      "source": [
        "!pip install deepface\n"
      ],
      "execution_count": null,
      "outputs": []
    },
    {
      "cell_type": "code",
      "metadata": {
        "id": "hQ6Azs8YfojR"
      },
      "source": [
        "from deepface import DeepFace\n"
      ],
      "execution_count": 9,
      "outputs": []
    },
    {
      "cell_type": "code",
      "metadata": {
        "colab": {
          "base_uri": "https://localhost:8080/"
        },
        "id": "Iea8DoTWfpyS",
        "outputId": "f109c696-58e7-4515-811c-1c79ca1e6504"
      },
      "source": [
        "from google.colab import drive\n",
        "drive.mount('/content/drive')"
      ],
      "execution_count": 3,
      "outputs": [
        {
          "output_type": "stream",
          "text": [
            "Mounted at /content/drive\n"
          ],
          "name": "stdout"
        }
      ]
    },
    {
      "cell_type": "code",
      "metadata": {
        "id": "KIBKSzZmfwAL"
      },
      "source": [
        "\n",
        "from zipfile import ZipFile\n",
        "with ZipFile('/content/drive/My Drive/facenet_weights.zip', 'r') as zipObj:\n",
        "   # Extract all the contents of zip file in different directory\n",
        "   zipObj.extractall('/root/.deepface/weights/')"
      ],
      "execution_count": 4,
      "outputs": []
    },
    {
      "cell_type": "code",
      "metadata": {
        "id": "lZjH63cBgEb5"
      },
      "source": [
        "\n",
        "from zipfile import ZipFile\n",
        "with ZipFile('/content/drive/MyDrive/000031.zip', 'r') as zipObj:\n",
        "   # Extract all the contents of zip file in different directory\n",
        "   zipObj.extractall('000031/')"
      ],
      "execution_count": 5,
      "outputs": []
    },
    {
      "cell_type": "code",
      "metadata": {
        "id": "_a0GzTNarKtc"
      },
      "source": [
        "import imageio\n",
        "import imageio.core.util\n",
        "def silence_imageio_warning(*args, **kwargs):\n",
        "    pass\n",
        "imageio.core.util._precision_warn = silence_imageio_warning\n",
        "import warnings\n",
        "\n",
        "def fxn():\n",
        "    warnings.warn(\"deprecated\", DeprecationWarning)\n",
        "\n",
        "with warnings.catch_warnings():\n",
        "    warnings.simplefilter(\"ignore\")\n",
        "    fxn()\n",
        "import warnings\n",
        "warnings.filterwarnings(\"ignore\")\n",
        "import os\n",
        "os.environ['TF_CPP_MIN_LOG_LEVEL'] = '3' \n",
        "import tensorflow as tf\n",
        "import logging\n",
        "tf.get_logger().setLevel(logging.ERROR)"
      ],
      "execution_count": 10,
      "outputs": []
    },
    {
      "cell_type": "code",
      "metadata": {
        "id": "rvW8x-Oxi5n6"
      },
      "source": [
        "import os \n",
        "\n",
        "g = os.walk(r\"/content/000031/000031\")  \n",
        "srcPath='/content/verified_000031/'\n",
        "\n",
        "for path,dir_list,file_list in g:  \n",
        "    for file_name in file_list:  \n",
        "      try:\n",
        "          result  = DeepFace.verify(\"/content/000031/000031/000031.png\", os.path.join(path, file_name),model_name=\"Facenet\",distance_metric='euclidean_l2')\n",
        "      except:\n",
        "        continue\n",
        "      result  = DeepFace.verify(\"/content/000031/000031/000031.png\", os.path.join(path, file_name),model_name=\"Facenet\",distance_metric='euclidean_l2')\n",
        "       \n",
        "      print(\"euclidean_l2 distance: \",result[\"distance\"])\n",
        "      print(os.path.join(path, file_name))\n",
        "  \n",
        "      if result[\"distance\"]<1.1:\n",
        "        path = os.path.join(srcPath+'/'+file_name)\n",
        "        with open(path, 'rb') as rstream:\n",
        "          container = rstream.read()\n",
        "          with open(path, 'wb') as wstream:\n",
        "            wstream.write(container)\n",
        "\n"
      ],
      "execution_count": 1,
      "outputs": []
    }
  ]
}