{
  "nbformat": 4,
  "nbformat_minor": 0,
  "metadata": {
    "colab": {
      "name": "Extract_LDFfeatures_with_Resnet+VAE.ipynb",
      "provenance": [],
      "collapsed_sections": [],
      "include_colab_link": true
    },
    "kernelspec": {
      "name": "python3",
      "display_name": "Python 3"
    }
  },
  "cells": [
    {
      "cell_type": "markdown",
      "metadata": {
        "id": "view-in-github",
        "colab_type": "text"
      },
      "source": [
        "<a href=\"https://colab.research.google.com/github/rockey1006/Variational-Autoencoders/blob/master/Extract_LDFfeatures_with_Resnet%2BVAE.ipynb\" target=\"_parent\"><img src=\"https://colab.research.google.com/assets/colab-badge.svg\" alt=\"Open In Colab\"/></a>"
      ]
    },
    {
      "cell_type": "code",
      "metadata": {
        "id": "HurGhCm40lky",
        "colab_type": "code",
        "colab": {
          "base_uri": "https://localhost:8080/",
          "height": 552
        },
        "outputId": "969736a7-93e5-4fb5-9273-31ef984d47fe"
      },
      "source": [
        "from keras.applications.resnet import ResNet101\n",
        "from keras.preprocessing import image\n",
        "from keras.applications.resnet import preprocess_input\n",
        "from keras.models import Model\n",
        "import numpy as np\n",
        "import matplotlib.pyplot as plt\n",
        "from scipy.stats import norm\n",
        "from keras.layers import Input, Dense, Lambda\n",
        "from keras.models import Model\n",
        "from keras import backend as K\n",
        "from keras import metrics\n",
        "import tensorflow as tf\n",
        "from tensorflow import keras\n",
        "import numpy as np\n",
        "%matplotlib inline\n",
        "import matplotlib.pyplot as plt\n",
        "from matplotlib.image import imread\n",
        "from skimage.transform import resize\n",
        "import glob\n",
        "import pandas as pd\n",
        "from sklearn.model_selection import train_test_split\n",
        "base_model = ResNet101(weights='imagenet')\n",
        "model = Model(inputs=base_model.input, outputs=base_model.layers[-2].output)\n"
      ],
      "execution_count": 1,
      "outputs": [
        {
          "output_type": "stream",
          "text": [
            "Using TensorFlow backend.\n"
          ],
          "name": "stderr"
        },
        {
          "output_type": "display_data",
          "data": {
            "text/html": [
              "<p style=\"color: red;\">\n",
              "The default version of TensorFlow in Colab will soon switch to TensorFlow 2.x.<br>\n",
              "We recommend you <a href=\"https://www.tensorflow.org/guide/migrate\" target=\"_blank\">upgrade</a> now \n",
              "or ensure your notebook will continue to use TensorFlow 1.x via the <code>%tensorflow_version 1.x</code> magic:\n",
              "<a href=\"https://colab.research.google.com/notebooks/tensorflow_version.ipynb\" target=\"_blank\">more info</a>.</p>\n"
            ],
            "text/plain": [
              "<IPython.core.display.HTML object>"
            ]
          },
          "metadata": {
            "tags": []
          }
        },
        {
          "output_type": "stream",
          "text": [
            "WARNING:tensorflow:From /usr/local/lib/python3.6/dist-packages/keras/backend/tensorflow_backend.py:66: The name tf.get_default_graph is deprecated. Please use tf.compat.v1.get_default_graph instead.\n",
            "\n",
            "WARNING:tensorflow:From /usr/local/lib/python3.6/dist-packages/keras/backend/tensorflow_backend.py:541: The name tf.placeholder is deprecated. Please use tf.compat.v1.placeholder instead.\n",
            "\n",
            "WARNING:tensorflow:From /usr/local/lib/python3.6/dist-packages/keras/backend/tensorflow_backend.py:4432: The name tf.random_uniform is deprecated. Please use tf.random.uniform instead.\n",
            "\n",
            "WARNING:tensorflow:From /usr/local/lib/python3.6/dist-packages/keras/backend/tensorflow_backend.py:190: The name tf.get_default_session is deprecated. Please use tf.compat.v1.get_default_session instead.\n",
            "\n",
            "WARNING:tensorflow:From /usr/local/lib/python3.6/dist-packages/keras/backend/tensorflow_backend.py:197: The name tf.ConfigProto is deprecated. Please use tf.compat.v1.ConfigProto instead.\n",
            "\n",
            "WARNING:tensorflow:From /usr/local/lib/python3.6/dist-packages/keras/backend/tensorflow_backend.py:203: The name tf.Session is deprecated. Please use tf.compat.v1.Session instead.\n",
            "\n",
            "WARNING:tensorflow:From /usr/local/lib/python3.6/dist-packages/keras/backend/tensorflow_backend.py:207: The name tf.global_variables is deprecated. Please use tf.compat.v1.global_variables instead.\n",
            "\n",
            "WARNING:tensorflow:From /usr/local/lib/python3.6/dist-packages/keras/backend/tensorflow_backend.py:216: The name tf.is_variable_initialized is deprecated. Please use tf.compat.v1.is_variable_initialized instead.\n",
            "\n",
            "WARNING:tensorflow:From /usr/local/lib/python3.6/dist-packages/keras/backend/tensorflow_backend.py:223: The name tf.variables_initializer is deprecated. Please use tf.compat.v1.variables_initializer instead.\n",
            "\n",
            "WARNING:tensorflow:From /usr/local/lib/python3.6/dist-packages/keras/backend/tensorflow_backend.py:2041: The name tf.nn.fused_batch_norm is deprecated. Please use tf.compat.v1.nn.fused_batch_norm instead.\n",
            "\n",
            "WARNING:tensorflow:From /usr/local/lib/python3.6/dist-packages/keras/backend/tensorflow_backend.py:148: The name tf.placeholder_with_default is deprecated. Please use tf.compat.v1.placeholder_with_default instead.\n",
            "\n",
            "WARNING:tensorflow:From /usr/local/lib/python3.6/dist-packages/keras/backend/tensorflow_backend.py:4267: The name tf.nn.max_pool is deprecated. Please use tf.nn.max_pool2d instead.\n",
            "\n",
            "Downloading data from https://github.com/keras-team/keras-applications/releases/download/resnet/resnet101_weights_tf_dim_ordering_tf_kernels.h5\n",
            "179650560/179648224 [==============================] - 7s 0us/step\n"
          ],
          "name": "stdout"
        }
      ]
    },
    {
      "cell_type": "code",
      "metadata": {
        "id": "HKmOaNiE01sj",
        "colab_type": "code",
        "colab": {}
      },
      "source": [
        "#from google.colab import files\n",
        "#uploaded = files.upload()"
      ],
      "execution_count": 0,
      "outputs": []
    },
    {
      "cell_type": "code",
      "metadata": {
        "id": "GRWfsIyigFfD",
        "colab_type": "code",
        "colab": {}
      },
      "source": [
        "import tarfile\n",
        "tar = tarfile.open('/content/lfw.tgz')\n",
        "names = tar.getnames()\n",
        "for name in names:\n",
        "  tar.extract(name,path='/content/lfw')\n",
        "tar.close()"
      ],
      "execution_count": 0,
      "outputs": []
    },
    {
      "cell_type": "code",
      "metadata": {
        "id": "aZlItTBI9A1D",
        "colab_type": "code",
        "colab": {
          "base_uri": "https://localhost:8080/",
          "height": 35
        },
        "outputId": "97438034-d9e7-4930-c23f-185e7eb720d1"
      },
      "source": [
        "paths_path = \"/content/lfw/lfw/*/*\"\n",
        "paths_list = glob.glob(paths_path)\n",
        "paths_list[:1]\n",
        "labels = [p.split(\"/\")[-1].split(\"00\")[0].replace(\"_\", \" \").rstrip() for p in paths_list]\n",
        "labels[:5]\n",
        "len(labels)#13233 images\n",
        "#5749 people\n",
        "#1680 people with two or more images"
      ],
      "execution_count": 5,
      "outputs": [
        {
          "output_type": "execute_result",
          "data": {
            "text/plain": [
              "13233"
            ]
          },
          "metadata": {
            "tags": []
          },
          "execution_count": 5
        }
      ]
    },
    {
      "cell_type": "code",
      "metadata": {
        "id": "wOPj6jxRFP_I",
        "colab_type": "code",
        "colab": {
          "base_uri": "https://localhost:8080/",
          "height": 87
        },
        "outputId": "ef2ba6d9-f046-45c0-e8e4-47b9d2b8d0fe"
      },
      "source": [
        "face_labels = pd.Series(labels)\n",
        "top_faces = face_labels.value_counts()[:10]\n",
        "top_face_names = top_faces.index\n",
        "top_face_names\n"
      ],
      "execution_count": 6,
      "outputs": [
        {
          "output_type": "execute_result",
          "data": {
            "text/plain": [
              "Index(['George W Bush', 'Donald Rumsfeld', 'Colin Powell', 'Gerhard Schroeder',\n",
              "       'Tony Blair', 'Ariel Sharon', 'Hugo Chavez', 'Junichiro Koizumi',\n",
              "       'Jean Chretien', 'John Ashcroft'],\n",
              "      dtype='object')"
            ]
          },
          "metadata": {
            "tags": []
          },
          "execution_count": 6
        }
      ]
    },
    {
      "cell_type": "code",
      "metadata": {
        "id": "0eTZnGcxFalL",
        "colab_type": "code",
        "colab": {
          "base_uri": "https://localhost:8080/",
          "height": 35
        },
        "outputId": "028a6cb0-9c35-428e-d84d-ded12651fc49"
      },
      "source": [
        "\n",
        "face_lookup = pd.Series(top_face_names)\n",
        "face_lookup = face_lookup.reset_index()\n",
        "face_lookup.columns = ['num_label', 'name']\n",
        "face_lookup.head()\n",
        "fac_labels = face_labels.reset_index()\n",
        "fac_labels.columns = ['idx', 'name']\n",
        "fac_labels.head()\n",
        "mgd = pd.merge(fac_labels, face_lookup, how=\"inner\", left_on='name', right_on=\"name\")\n",
        "mgd.head()\n",
        "mgd.shape"
      ],
      "execution_count": 7,
      "outputs": [
        {
          "output_type": "execute_result",
          "data": {
            "text/plain": [
              "(811, 3)"
            ]
          },
          "metadata": {
            "tags": []
          },
          "execution_count": 7
        }
      ]
    },
    {
      "cell_type": "code",
      "metadata": {
        "id": "xKScdJFAFi-U",
        "colab_type": "code",
        "colab": {
          "base_uri": "https://localhost:8080/",
          "height": 269
        },
        "outputId": "a6993c20-1ca9-4f95-9c7f-05a8488774df"
      },
      "source": [
        "df = mgd.set_index(\"idx\")\n",
        "df = mgd['name']\n",
        "y = mgd['num_label'] \n",
        "X_train, X_test, y_train, y_test = train_test_split(df, y, test_size=0.2, \n",
        "                                                    random_state=42)\n",
        "img_train = [imread(img) for i, img in enumerate(paths_list) if i in X_train.index]\n",
        "img_test = [imread(img) for i, img in enumerate(paths_list) if i in X_test.index]\n",
        "\n",
        "def resize_image(img):\n",
        "    img = resize(img, (224, 224), anti_aliasing=True)\n",
        "    return img\n",
        "\n",
        "def rescale_image(img):\n",
        "    return img /255\n",
        "\n",
        "#First resize...\n",
        "img_train = [resize_image(i) for i in img_train]\n",
        "img_test = [resize_image(i) for i in img_test]\n",
        "\n",
        "#...then output a sample to check it has worked...\n",
        "io = resize_image(img_train[0])\n",
        "plt.figure()\n",
        "plt.imshow(io)\n",
        "plt.colorbar()\n",
        "plt.grid(False)\n",
        "plt.show()"
      ],
      "execution_count": 8,
      "outputs": [
        {
          "output_type": "display_data",
          "data": {
            "image/png": "[encoded data removed]",
            "text/plain": [
              "<Figure size 432x288 with 2 Axes>"
            ]
          },
          "metadata": {
            "tags": []
          }
        }
      ]
    },
    {
      "cell_type": "code",
      "metadata": {
        "id": "fIPahMplFoCj",
        "colab_type": "code",
        "colab": {
          "base_uri": "https://localhost:8080/",
          "height": 35
        },
        "outputId": "4eefeab0-0518-4bd5-a4d9-3c0d481f9bfd"
      },
      "source": [
        "len(img_train)\n",
        "#len(img_test)"
      ],
      "execution_count": 57,
      "outputs": [
        {
          "output_type": "execute_result",
          "data": {
            "text/plain": [
              "648"
            ]
          },
          "metadata": {
            "tags": []
          },
          "execution_count": 57
        }
      ]
    },
    {
      "cell_type": "code",
      "metadata": {
        "id": "8ZWi52GNF-4n",
        "colab_type": "code",
        "colab": {
          "base_uri": "https://localhost:8080/",
          "height": 35
        },
        "outputId": "a937d1e8-e095-48a8-eb87-4dad5973e4ee"
      },
      "source": [
        "print(img_train[0].shape)"
      ],
      "execution_count": 53,
      "outputs": [
        {
          "output_type": "stream",
          "text": [
            "(224, 224, 3)\n"
          ],
          "name": "stdout"
        }
      ]
    },
    {
      "cell_type": "code",
      "metadata": {
        "id": "ZlfFc_lx06Wh",
        "colab_type": "code",
        "colab": {}
      },
      "source": [
        "#img = image.load_img(img_path,target_size=(224, 224))\n",
        "features=[]\n",
        "for i, element in enumerate(img_train):\n",
        "  x = image.img_to_array(element)\n",
        "  x = np.expand_dims(x, axis=0)\n",
        "  x = preprocess_input(x)\n",
        "\n",
        "  features.append(model.predict(x))\n",
        "  \n"
      ],
      "execution_count": 0,
      "outputs": []
    },
    {
      "cell_type": "code",
      "metadata": {
        "id": "VeH4B1MBZrRO",
        "colab_type": "code",
        "colab": {}
      },
      "source": [
        "features_test=[]\n",
        "for i, element in enumerate(img_test):\n",
        "  x = image.img_to_array(element)\n",
        "  x = np.expand_dims(x, axis=0)\n",
        "  x = preprocess_input(x)\n",
        "  features_test.append(model.predict(x))"
      ],
      "execution_count": 0,
      "outputs": []
    },
    {
      "cell_type": "code",
      "metadata": {
        "id": "lYY05K9HI-3M",
        "colab_type": "code",
        "colab": {
          "base_uri": "https://localhost:8080/",
          "height": 35
        },
        "outputId": "796fe0e2-dff0-4b49-8ebd-6b60348ae52e"
      },
      "source": [
        "len(features)"
      ],
      "execution_count": 11,
      "outputs": [
        {
          "output_type": "execute_result",
          "data": {
            "text/plain": [
              "648"
            ]
          },
          "metadata": {
            "tags": []
          },
          "execution_count": 11
        }
      ]
    },
    {
      "cell_type": "code",
      "metadata": {
        "id": "J4kr-HrxcaHC",
        "colab_type": "code",
        "colab": {
          "base_uri": "https://localhost:8080/",
          "height": 35
        },
        "outputId": "f9f12fb3-58fb-47e2-c634-73300b353780"
      },
      "source": [
        "len(features_test)"
      ],
      "execution_count": 12,
      "outputs": [
        {
          "output_type": "execute_result",
          "data": {
            "text/plain": [
              "163"
            ]
          },
          "metadata": {
            "tags": []
          },
          "execution_count": 12
        }
      ]
    },
    {
      "cell_type": "code",
      "metadata": {
        "id": "bDASBh5gcfwA",
        "colab_type": "code",
        "colab": {
          "base_uri": "https://localhost:8080/",
          "height": 35
        },
        "outputId": "5f14f746-bfdf-4124-83d7-330b661e1781"
      },
      "source": [
        "len(y_train)"
      ],
      "execution_count": 13,
      "outputs": [
        {
          "output_type": "execute_result",
          "data": {
            "text/plain": [
              "648"
            ]
          },
          "metadata": {
            "tags": []
          },
          "execution_count": 13
        }
      ]
    },
    {
      "cell_type": "code",
      "metadata": {
        "id": "SEVlFcHRclKB",
        "colab_type": "code",
        "colab": {
          "base_uri": "https://localhost:8080/",
          "height": 35
        },
        "outputId": "fbd84991-3d0a-4220-aab9-6f7f8136c19a"
      },
      "source": [
        "len(y_test)"
      ],
      "execution_count": 14,
      "outputs": [
        {
          "output_type": "execute_result",
          "data": {
            "text/plain": [
              "163"
            ]
          },
          "metadata": {
            "tags": []
          },
          "execution_count": 14
        }
      ]
    },
    {
      "cell_type": "code",
      "metadata": {
        "id": "2mOEuKJk1HYF",
        "colab_type": "code",
        "colab": {
          "base_uri": "https://localhost:8080/",
          "height": 35
        },
        "outputId": "99836804-2f9a-4038-fd30-32cb70215bf6"
      },
      "source": [
        "print(features[2])\n"
      ],
      "execution_count": 79,
      "outputs": [
        {
          "output_type": "stream",
          "text": [
            "[[0.8473449 0.        0.        ... 0.        0.        0.       ]]\n"
          ],
          "name": "stdout"
        }
      ]
    },
    {
      "cell_type": "code",
      "metadata": {
        "id": "KzYDnJev1NmF",
        "colab_type": "code",
        "colab": {
          "base_uri": "https://localhost:8080/",
          "height": 35
        },
        "outputId": "2d8c03ff-9e08-45b6-c87e-213ac8711bbf"
      },
      "source": [
        "print(features[2].shape)\n"
      ],
      "execution_count": 81,
      "outputs": [
        {
          "output_type": "stream",
          "text": [
            "(1, 2048)\n"
          ],
          "name": "stdout"
        }
      ]
    },
    {
      "cell_type": "code",
      "metadata": {
        "id": "GQmoJtzTlSPS",
        "colab_type": "code",
        "colab": {}
      },
      "source": [
        "batch_size = 100 \n",
        "original_dim = 2048\n",
        "latent_dim = 2\n",
        "intermediate_dim = 256\n",
        "epochs = 50\n",
        "epsilon_std = 1.0\n",
        "x = Input(shape=(original_dim,))#输入x,输入层784个结点\n",
        "h = Dense(intermediate_dim, activation='relu')(x)#中间结果h，隐藏层256个结点，激活函数relu\n",
        "z_mean = Dense(latent_dim)(h)#隐变量输出层1有2 个结点\n",
        "z_log_var = Dense(latent_dim)(h)#隐变量输出层2有2个结点"
      ],
      "execution_count": 0,
      "outputs": []
    },
    {
      "cell_type": "code",
      "metadata": {
        "id": "XsKvrcajlsZf",
        "colab_type": "code",
        "colab": {
          "base_uri": "https://localhost:8080/",
          "height": 592
        },
        "outputId": "648e503d-4a07-47fa-db77-9149ad2309a3"
      },
      "source": [
        "def sampling(args):\n",
        "    z_mean, z_log_var = args\n",
        "    epsilon = K.random_normal(shape=(K.shape(z_mean)[0], latent_dim), mean=0., stddev=epsilon_std)\n",
        "    return z_mean + K.exp(z_log_var / 2) * epsilon\n",
        "# note that \"output_shape\" isn't necessary with the TensorFlow backend\n",
        "z = Lambda(sampling, output_shape=(latent_dim,))([z_mean, z_log_var])#输入是z_mean和z_log_var，输出是z\n",
        "decoder_h = Dense(intermediate_dim, activation='relu')#隐藏层\n",
        "decoder_mean = Dense(original_dim, activation='sigmoid')#输出层\n",
        "h_decoded = decoder_h(z)#中间值\n",
        "x_decoded_mean = decoder_mean(h_decoded)#输出值\n",
        "vae = Model(x, x_decoded_mean)\n",
        "#model = Model(inputs=[a1, a2], outputs=[b1, b3, b3])\n",
        "\n",
        "# Compute VAE loss\n",
        "xent_loss = original_dim * metrics.binary_crossentropy(x, x_decoded_mean)\n",
        "kl_loss = - 0.5 * K.sum(1 + z_log_var - K.square(z_mean) - K.exp(z_log_var), axis=-1) #KL+交叉熵\n",
        "vae_loss = K.mean(xent_loss + kl_loss)\n",
        "\n",
        "vae.add_loss(vae_loss) #复杂损失函数所以不在compile声明，而使用add_loss\n",
        "vae.compile(optimizer='rmsprop') #用于配置训练模型。\n",
        "\n",
        "#compile(self, optimizer, loss, metrics=None, loss_weights=None, sample_weight_mode=None, \n",
        "#weighted_metrics=None, target_tensors=None)\n",
        "\n",
        "vae.summary() #model.summary()：打印出模型概况，它实际调用的是keras.utils.print_summary\n"
      ],
      "execution_count": 16,
      "outputs": [
        {
          "output_type": "stream",
          "text": [
            "WARNING:tensorflow:From /usr/local/lib/python3.6/dist-packages/keras/backend/tensorflow_backend.py:4409: The name tf.random_normal is deprecated. Please use tf.random.normal instead.\n",
            "\n",
            "WARNING:tensorflow:From /usr/local/lib/python3.6/dist-packages/keras/backend/tensorflow_backend.py:3657: The name tf.log is deprecated. Please use tf.math.log instead.\n",
            "\n",
            "WARNING:tensorflow:From /usr/local/lib/python3.6/dist-packages/tensorflow_core/python/ops/nn_impl.py:183: where (from tensorflow.python.ops.array_ops) is deprecated and will be removed in a future version.\n",
            "Instructions for updating:\n",
            "Use tf.where in 2.0, which has the same broadcast rule as np.where\n",
            "WARNING:tensorflow:From /usr/local/lib/python3.6/dist-packages/keras/optimizers.py:793: The name tf.train.Optimizer is deprecated. Please use tf.compat.v1.train.Optimizer instead.\n",
            "\n",
            "Model: \"model_2\"\n",
            "__________________________________________________________________________________________________\n",
            "Layer (type)                    Output Shape         Param #     Connected to                     \n",
            "==================================================================================================\n",
            "input_2 (InputLayer)            (None, 2048)         0                                            \n",
            "__________________________________________________________________________________________________\n",
            "dense_1 (Dense)                 (None, 256)          524544      input_2[0][0]                    \n",
            "__________________________________________________________________________________________________\n",
            "dense_2 (Dense)                 (None, 2)            514         dense_1[0][0]                    \n",
            "__________________________________________________________________________________________________\n",
            "dense_3 (Dense)                 (None, 2)            514         dense_1[0][0]                    \n",
            "__________________________________________________________________________________________________\n",
            "lambda_1 (Lambda)               (None, 2)            0           dense_2[0][0]                    \n",
            "                                                                 dense_3[0][0]                    \n",
            "__________________________________________________________________________________________________\n",
            "dense_4 (Dense)                 (None, 256)          768         lambda_1[0][0]                   \n",
            "__________________________________________________________________________________________________\n",
            "dense_5 (Dense)                 (None, 2048)         526336      dense_4[0][0]                    \n",
            "==================================================================================================\n",
            "Total params: 1,052,676\n",
            "Trainable params: 1,052,676\n",
            "Non-trainable params: 0\n",
            "__________________________________________________________________________________________________\n"
          ],
          "name": "stdout"
        }
      ]
    },
    {
      "cell_type": "code",
      "metadata": {
        "id": "_0o9V4_b8rXb",
        "colab_type": "code",
        "colab": {
          "base_uri": "https://localhost:8080/",
          "height": 52
        },
        "outputId": "e4a1fa97-29be-4048-e397-a991ea41faff"
      },
      "source": [
        "x_train = np.array(features) \n",
        "print(x_train.shape)\n",
        "x_train = x_train.reshape((len(x_train), np.prod(x_train.shape[1:])))\n",
        "print(x_train.shape)"
      ],
      "execution_count": 17,
      "outputs": [
        {
          "output_type": "stream",
          "text": [
            "(648, 1, 2048)\n",
            "(648, 2048)\n"
          ],
          "name": "stdout"
        }
      ]
    },
    {
      "cell_type": "code",
      "metadata": {
        "id": "pT1oy-CgdY9n",
        "colab_type": "code",
        "colab": {
          "base_uri": "https://localhost:8080/",
          "height": 52
        },
        "outputId": "d5636d63-17be-465e-ceaa-a9198a3c447e"
      },
      "source": [
        "x_test = np.array(features_test) \n",
        "print(x_test.shape)\n",
        "x_test = x_test.reshape((len(x_test), np.prod(x_test.shape[1:])))#改变shape\n",
        "print(x_test.shape)"
      ],
      "execution_count": 18,
      "outputs": [
        {
          "output_type": "stream",
          "text": [
            "(163, 1, 2048)\n",
            "(163, 2048)\n"
          ],
          "name": "stdout"
        }
      ]
    },
    {
      "cell_type": "code",
      "metadata": {
        "id": "GJmUAd8-mnsP",
        "colab_type": "code",
        "colab": {
          "base_uri": "https://localhost:8080/",
          "height": 1000
        },
        "outputId": "00a4c571-3c38-4766-dac0-0377933ba431"
      },
      "source": [
        "vae.fit(x_train,#算输出和输入分布的差异所以没有y\n",
        "        shuffle=True,\n",
        "        epochs=epochs,\n",
        "        batch_size=batch_size,\n",
        "        verbose=2,\n",
        "        validation_data=(x_test, None))"
      ],
      "execution_count": 19,
      "outputs": [
        {
          "output_type": "stream",
          "text": [
            "WARNING:tensorflow:From /usr/local/lib/python3.6/dist-packages/keras/backend/tensorflow_backend.py:1033: The name tf.assign_add is deprecated. Please use tf.compat.v1.assign_add instead.\n",
            "\n",
            "WARNING:tensorflow:From /usr/local/lib/python3.6/dist-packages/keras/backend/tensorflow_backend.py:1020: The name tf.assign is deprecated. Please use tf.compat.v1.assign instead.\n",
            "\n",
            "Train on 648 samples, validate on 163 samples\n",
            "Epoch 1/50\n",
            " - 2s - loss: 679.2946 - val_loss: -1.1449e+02\n",
            "Epoch 2/50\n",
            " - 0s - loss: -3.8219e+02 - val_loss: -8.5386e+02\n",
            "Epoch 3/50\n",
            " - 0s - loss: -9.6706e+02 - val_loss: -1.0308e+03\n",
            "Epoch 4/50\n",
            " - 0s - loss: -1.1222e+03 - val_loss: -1.1921e+03\n",
            "Epoch 5/50\n",
            " - 0s - loss: -1.2099e+03 - val_loss: -1.2418e+03\n",
            "Epoch 6/50\n",
            " - 0s - loss: -1.2650e+03 - val_loss: -1.2905e+03\n",
            "Epoch 7/50\n",
            " - 0s - loss: -1.3064e+03 - val_loss: -1.3237e+03\n",
            "Epoch 8/50\n",
            " - 0s - loss: -1.3389e+03 - val_loss: -1.3355e+03\n",
            "Epoch 9/50\n",
            " - 0s - loss: -1.3596e+03 - val_loss: -1.3325e+03\n",
            "Epoch 10/50\n",
            " - 0s - loss: -1.3757e+03 - val_loss: -1.3612e+03\n",
            "Epoch 11/50\n",
            " - 0s - loss: -1.3896e+03 - val_loss: -1.3766e+03\n",
            "Epoch 12/50\n",
            " - 0s - loss: -1.4043e+03 - val_loss: -1.4080e+03\n",
            "Epoch 13/50\n",
            " - 0s - loss: -1.4093e+03 - val_loss: -1.4135e+03\n",
            "Epoch 14/50\n",
            " - 0s - loss: -1.4206e+03 - val_loss: -1.4186e+03\n",
            "Epoch 15/50\n",
            " - 0s - loss: -1.4285e+03 - val_loss: -1.4307e+03\n",
            "Epoch 16/50\n",
            " - 0s - loss: -1.4359e+03 - val_loss: -1.4276e+03\n",
            "Epoch 17/50\n",
            " - 0s - loss: -1.4350e+03 - val_loss: -1.4204e+03\n",
            "Epoch 18/50\n",
            " - 0s - loss: -1.4417e+03 - val_loss: -1.4413e+03\n",
            "Epoch 19/50\n",
            " - 0s - loss: -1.4487e+03 - val_loss: -1.4448e+03\n",
            "Epoch 20/50\n",
            " - 0s - loss: -1.4467e+03 - val_loss: -1.4436e+03\n",
            "Epoch 21/50\n",
            " - 0s - loss: -1.4543e+03 - val_loss: -1.4505e+03\n",
            "Epoch 22/50\n",
            " - 0s - loss: -1.4551e+03 - val_loss: -1.4229e+03\n",
            "Epoch 23/50\n",
            " - 0s - loss: -1.4539e+03 - val_loss: -1.4193e+03\n",
            "Epoch 24/50\n",
            " - 0s - loss: -1.4521e+03 - val_loss: -1.4533e+03\n",
            "Epoch 25/50\n",
            " - 0s - loss: -1.4626e+03 - val_loss: -1.4462e+03\n",
            "Epoch 26/50\n",
            " - 0s - loss: -1.4629e+03 - val_loss: -1.4222e+03\n",
            "Epoch 27/50\n",
            " - 0s - loss: -1.4561e+03 - val_loss: -1.4591e+03\n",
            "Epoch 28/50\n",
            " - 0s - loss: -1.4661e+03 - val_loss: -1.4587e+03\n",
            "Epoch 29/50\n",
            " - 0s - loss: -1.4629e+03 - val_loss: -1.4605e+03\n",
            "Epoch 30/50\n",
            " - 0s - loss: -1.4658e+03 - val_loss: -1.4608e+03\n",
            "Epoch 31/50\n",
            " - 0s - loss: -1.4683e+03 - val_loss: -1.4624e+03\n",
            "Epoch 32/50\n",
            " - 0s - loss: -1.4694e+03 - val_loss: -1.4505e+03\n",
            "Epoch 33/50\n",
            " - 0s - loss: -1.4634e+03 - val_loss: -1.4573e+03\n",
            "Epoch 34/50\n",
            " - 0s - loss: -1.4698e+03 - val_loss: -1.4644e+03\n",
            "Epoch 35/50\n",
            " - 0s - loss: -1.4707e+03 - val_loss: -1.4624e+03\n",
            "Epoch 36/50\n",
            " - 0s - loss: -1.4705e+03 - val_loss: -1.4645e+03\n",
            "Epoch 37/50\n",
            " - 0s - loss: -1.4723e+03 - val_loss: -1.4406e+03\n",
            "Epoch 38/50\n",
            " - 0s - loss: -1.4681e+03 - val_loss: -1.4655e+03\n",
            "Epoch 39/50\n",
            " - 0s - loss: -1.4728e+03 - val_loss: -1.4637e+03\n",
            "Epoch 40/50\n",
            " - 0s - loss: -1.4728e+03 - val_loss: -1.4659e+03\n",
            "Epoch 41/50\n",
            " - 0s - loss: -1.4729e+03 - val_loss: -1.4645e+03\n",
            "Epoch 42/50\n",
            " - 0s - loss: -1.4741e+03 - val_loss: -1.4654e+03\n",
            "Epoch 43/50\n",
            " - 0s - loss: -1.4739e+03 - val_loss: -1.4672e+03\n",
            "Epoch 44/50\n",
            " - 0s - loss: -1.4747e+03 - val_loss: -1.4648e+03\n",
            "Epoch 45/50\n",
            " - 0s - loss: -1.4683e+03 - val_loss: -1.4657e+03\n",
            "Epoch 46/50\n",
            " - 0s - loss: -1.4754e+03 - val_loss: -1.4678e+03\n",
            "Epoch 47/50\n",
            " - 0s - loss: -1.4763e+03 - val_loss: -1.4684e+03\n",
            "Epoch 48/50\n",
            " - 0s - loss: -1.4744e+03 - val_loss: -1.4674e+03\n",
            "Epoch 49/50\n",
            " - 0s - loss: -1.4758e+03 - val_loss: -1.4680e+03\n",
            "Epoch 50/50\n",
            " - 0s - loss: -1.4745e+03 - val_loss: -1.4682e+03\n"
          ],
          "name": "stdout"
        },
        {
          "output_type": "execute_result",
          "data": {
            "text/plain": [
              "<keras.callbacks.History at 0x7fbdfaa8dc88>"
            ]
          },
          "metadata": {
            "tags": []
          },
          "execution_count": 19
        }
      ]
    },
    {
      "cell_type": "code",
      "metadata": {
        "id": "UX0yg4gWmwq2",
        "colab_type": "code",
        "colab": {}
      },
      "source": [
        "encoder = Model(x, z_mean)\n",
        "# display a 2D plot of the digit classes in the latent space\n",
        "x_test_encoded = encoder.predict(x_test, batch_size=batch_size)"
      ],
      "execution_count": 0,
      "outputs": []
    },
    {
      "cell_type": "code",
      "metadata": {
        "id": "kKiMN77upGq_",
        "colab_type": "code",
        "colab": {
          "base_uri": "https://localhost:8080/",
          "height": 52
        },
        "outputId": "78d1e280-862e-4ccd-a186-2a778e60ccc9"
      },
      "source": [
        "plt.figure(figsize=(18, 16), dpi=200)#Create a new figure."
      ],
      "execution_count": 36,
      "outputs": [
        {
          "output_type": "execute_result",
          "data": {
            "text/plain": [
              "<Figure size 3600x3200 with 0 Axes>"
            ]
          },
          "metadata": {
            "tags": []
          },
          "execution_count": 36
        },
        {
          "output_type": "display_data",
          "data": {
            "text/plain": [
              "<Figure size 3600x3200 with 0 Axes>"
            ]
          },
          "metadata": {
            "tags": []
          }
        }
      ]
    },
    {
      "cell_type": "code",
      "metadata": {
        "id": "3NE1hvk_uQPi",
        "colab_type": "code",
        "colab": {
          "base_uri": "https://localhost:8080/",
          "height": 281
        },
        "outputId": "79095242-892c-4323-9f6d-580e99024d94"
      },
      "source": [
        "plt.scatter(x_test_encoded[:, 0], x_test_encoded[:, 1],c=y_test)\n",
        "plt.title('Variational Autoencoder')\n",
        "plt.colorbar()\n",
        "plt.show()\n"
      ],
      "execution_count": 38,
      "outputs": [
        {
          "output_type": "display_data",
          "data": {
            "image/png": "[encoded data removed]",
            "text/plain": [
              "<Figure size 432x288 with 2 Axes>"
            ]
          },
          "metadata": {
            "tags": []
          }
        }
      ]
    }
  ]
}