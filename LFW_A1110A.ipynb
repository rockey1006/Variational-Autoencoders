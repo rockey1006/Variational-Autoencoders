{
  "nbformat": 4,
  "nbformat_minor": 0,
  "metadata": {
    "colab": {
      "name": "LFW_A1110A.ipynb",
      "provenance": [],
      "authorship_tag": "ABX9TyNF/yG2ALWHIn5PGXyEdciq",
      "include_colab_link": true
    },
    "kernelspec": {
      "name": "python3",
      "display_name": "Python 3"
    },
    "accelerator": "GPU"
  },
  "cells": [
    {
      "cell_type": "markdown",
      "metadata": {
        "id": "view-in-github",
        "colab_type": "text"
      },
      "source": [
        "<a href=\"https://colab.research.google.com/github/rockey1006/Variational-Autoencoders/blob/master/LFW_A1110A.ipynb\" target=\"_parent\"><img src=\"https://colab.research.google.com/assets/colab-badge.svg\" alt=\"Open In Colab\"/></a>"
      ]
    },
    {
      "cell_type": "code",
      "metadata": {
        "id": "dXNUoWburV_Q",
        "outputId": "ff37536a-e77d-46c6-cff3-1ee955936ffb",
        "colab": {
          "base_uri": "https://localhost:8080/"
        }
      },
      "source": [
        "\n",
        "from google.colab import drive\n",
        "drive.mount('/content/drive')"
      ],
      "execution_count": 1,
      "outputs": [
        {
          "output_type": "stream",
          "text": [
            "Mounted at /content/drive\n"
          ],
          "name": "stdout"
        }
      ]
    },
    {
      "cell_type": "code",
      "metadata": {
        "id": "6JYzdtJrrfv7"
      },
      "source": [
        "from zipfile import ZipFile\n",
        "with ZipFile('/content/drive/My Drive/LFW_A.zip', 'r') as zipObj:\n",
        "   # Extract all the contents of zip file in different directory\n",
        "   zipObj.extractall('LFW_A')"
      ],
      "execution_count": 2,
      "outputs": []
    },
    {
      "cell_type": "code",
      "metadata": {
        "id": "75WlDfX6tScj"
      },
      "source": [
        "\n",
        "import os,sys\n",
        "import random\n",
        "import shutil\n",
        "from PIL import Image\n",
        " \n",
        "\n",
        "def random_copyfile(srcPath,dstPath):\n",
        "    for name_file in os.listdir(srcPath):\n",
        "        temp = []\n",
        "        for img_file in os.listdir(srcPath+name_file):      \n",
        "            temp.append(img_file)\n",
        "        if len(temp) == 0:\n",
        "            continue\n",
        "        randomfile = random.choice(temp)\n",
        "        path = os.path.join(srcPath+name_file+'/'+randomfile)\n",
        "        with open(path, 'rb') as rstream:\n",
        "                container = rstream.read()\n",
        "                path1 = os.path.join(dstPath+name_file)\n",
        "                if not os.path.exists(path1):\n",
        "                  os.mkdir(path1)\n",
        "                  path1 = os.path.join(dstPath+name_file+'/'+randomfile)\n",
        "  \n",
        "                with open(path1, 'wb') as wstream:\n",
        "                    wstream.write(container)\n",
        "\n",
        " \n",
        "\n",
        " \n",
        "\n",
        "srcPath='/content/LFW_A/LFW_A/'\n",
        "dstPath = '/content/new_A2/'"
      ],
      "execution_count": 6,
      "outputs": []
    },
    {
      "cell_type": "code",
      "metadata": {
        "id": "D4L9HL3wt2Rt",
        "outputId": "aff6e16c-1b32-47cc-efc2-359a7db9b142",
        "colab": {
          "base_uri": "https://localhost:8080/"
        }
      },
      "source": [
        "!git clone https://github.com/rockey1006/classifier.git"
      ],
      "execution_count": 9,
      "outputs": [
        {
          "output_type": "stream",
          "text": [
            "Cloning into 'classifier'...\n",
            "remote: Enumerating objects: 17, done.\u001b[K\n",
            "remote: Counting objects: 100% (17/17), done.\u001b[K\n",
            "remote: Compressing objects: 100% (15/15), done.\u001b[K\n",
            "remote: Total 17 (delta 0), reused 0 (delta 0), pack-reused 0\u001b[K\n",
            "Unpacking objects: 100% (17/17), done.\n"
          ],
          "name": "stdout"
        }
      ]
    },
    {
      "cell_type": "code",
      "metadata": {
        "id": "1Vprc48Kt_q8"
      },
      "source": [
        "from zipfile import ZipFile\n",
        "with ZipFile('/content/drive/My Drive/vgg_face_weights.zip', 'r') as zipObj:\n",
        "   # Extract all the contents of zip file in different directory\n",
        "   zipObj.extractall('vgg_face_weights/')"
      ],
      "execution_count": 10,
      "outputs": []
    },
    {
      "cell_type": "code",
      "metadata": {
        "id": "BbM7zcib1aon"
      },
      "source": [
        ""
      ],
      "execution_count": null,
      "outputs": []
    },
    {
      "cell_type": "code",
      "metadata": {
        "id": "gor9Q0GJuDnw"
      },
      "source": [
        "!python /content/classifier/Face2020.py\n",
        "'''      print(\"Evaluate on test data\")\n",
        "        results = classifier_model.evaluate(x_test, y_test, batch_size=128)\n",
        "        print(\"test loss, test acc:\", results)\n",
        "        print(\"wrong data\")\n",
        "        predictions = classifier_model.predict_classes(x_test)\n",
        "        wrong = np.where(predictions != y_test)\n",
        "        print(\"positions:\", wrong)\n",
        "'''"
      ],
      "execution_count": null,
      "outputs": []
    },
    {
      "cell_type": "code",
      "metadata": {
        "id": "rHVDqeO8vx4N"
      },
      "source": [
        "!zip -r /content/fileA.zip /content/new_A1"
      ],
      "execution_count": null,
      "outputs": []
    },
    {
      "cell_type": "code",
      "metadata": {
        "id": "sdYwDp39v4S7"
      },
      "source": [
        "!zip -r /content/fileB.zip /content/new_A2"
      ],
      "execution_count": null,
      "outputs": []
    },
    {
      "cell_type": "code",
      "metadata": {
        "id": "pp76uIDLwDa2",
        "outputId": "803a0843-2695-4345-ba5b-dcad752c7e3a",
        "colab": {
          "base_uri": "https://localhost:8080/",
          "height": 17
        }
      },
      "source": [
        "from google.colab import files\n",
        "files.download(\"/content/fileA.zip\")"
      ],
      "execution_count": 16,
      "outputs": [
        {
          "output_type": "display_data",
          "data": {
            "application/javascript": [
              "\n",
              "    async function download(id, filename, size) {\n",
              "      if (!google.colab.kernel.accessAllowed) {\n",
              "        return;\n",
              "      }\n",
              "      const div = document.createElement('div');\n",
              "      const label = document.createElement('label');\n",
              "      label.textContent = `Downloading \"${filename}\": `;\n",
              "      div.appendChild(label);\n",
              "      const progress = document.createElement('progress');\n",
              "      progress.max = size;\n",
              "      div.appendChild(progress);\n",
              "      document.body.appendChild(div);\n",
              "\n",
              "      const buffers = [];\n",
              "      let downloaded = 0;\n",
              "\n",
              "      const channel = await google.colab.kernel.comms.open(id);\n",
              "      // Send a message to notify the kernel that we're ready.\n",
              "      channel.send({})\n",
              "\n",
              "      for await (const message of channel.messages) {\n",
              "        // Send a message to notify the kernel that we're ready.\n",
              "        channel.send({})\n",
              "        if (message.buffers) {\n",
              "          for (const buffer of message.buffers) {\n",
              "            buffers.push(buffer);\n",
              "            downloaded += buffer.byteLength;\n",
              "            progress.value = downloaded;\n",
              "          }\n",
              "        }\n",
              "      }\n",
              "      const blob = new Blob(buffers, {type: 'application/binary'});\n",
              "      const a = document.createElement('a');\n",
              "      a.href = window.URL.createObjectURL(blob);\n",
              "      a.download = filename;\n",
              "      div.appendChild(a);\n",
              "      a.click();\n",
              "      div.remove();\n",
              "    }\n",
              "  "
            ],
            "text/plain": [
              "<IPython.core.display.Javascript object>"
            ]
          },
          "metadata": {
            "tags": []
          }
        },
        {
          "output_type": "display_data",
          "data": {
            "application/javascript": [
              "download(\"download_c7bb8233-65aa-4a2f-b21c-b6af53a92dda\", \"fileA.zip\", 18958846)"
            ],
            "text/plain": [
              "<IPython.core.display.Javascript object>"
            ]
          },
          "metadata": {
            "tags": []
          }
        }
      ]
    },
    {
      "cell_type": "code",
      "metadata": {
        "id": "sWNwOLo9wcyy",
        "outputId": "117051fc-ee4e-41eb-e9d2-8de2a5363e07",
        "colab": {
          "base_uri": "https://localhost:8080/",
          "height": 17
        }
      },
      "source": [
        "from google.colab import files\n",
        "files.download(\"/content/fileB.zip\")"
      ],
      "execution_count": 17,
      "outputs": [
        {
          "output_type": "display_data",
          "data": {
            "application/javascript": [
              "\n",
              "    async function download(id, filename, size) {\n",
              "      if (!google.colab.kernel.accessAllowed) {\n",
              "        return;\n",
              "      }\n",
              "      const div = document.createElement('div');\n",
              "      const label = document.createElement('label');\n",
              "      label.textContent = `Downloading \"${filename}\": `;\n",
              "      div.appendChild(label);\n",
              "      const progress = document.createElement('progress');\n",
              "      progress.max = size;\n",
              "      div.appendChild(progress);\n",
              "      document.body.appendChild(div);\n",
              "\n",
              "      const buffers = [];\n",
              "      let downloaded = 0;\n",
              "\n",
              "      const channel = await google.colab.kernel.comms.open(id);\n",
              "      // Send a message to notify the kernel that we're ready.\n",
              "      channel.send({})\n",
              "\n",
              "      for await (const message of channel.messages) {\n",
              "        // Send a message to notify the kernel that we're ready.\n",
              "        channel.send({})\n",
              "        if (message.buffers) {\n",
              "          for (const buffer of message.buffers) {\n",
              "            buffers.push(buffer);\n",
              "            downloaded += buffer.byteLength;\n",
              "            progress.value = downloaded;\n",
              "          }\n",
              "        }\n",
              "      }\n",
              "      const blob = new Blob(buffers, {type: 'application/binary'});\n",
              "      const a = document.createElement('a');\n",
              "      a.href = window.URL.createObjectURL(blob);\n",
              "      a.download = filename;\n",
              "      div.appendChild(a);\n",
              "      a.click();\n",
              "      div.remove();\n",
              "    }\n",
              "  "
            ],
            "text/plain": [
              "<IPython.core.display.Javascript object>"
            ]
          },
          "metadata": {
            "tags": []
          }
        },
        {
          "output_type": "display_data",
          "data": {
            "application/javascript": [
              "download(\"download_3cfd72a9-5acb-46f3-a7c1-b99d300f39bf\", \"fileB.zip\", 18977395)"
            ],
            "text/plain": [
              "<IPython.core.display.Javascript object>"
            ]
          },
          "metadata": {
            "tags": []
          }
        }
      ]
    },
    {
      "cell_type": "code",
      "metadata": {
        "id": "60eRH_ik7ige"
      },
      "source": [
        "\n",
        "import numpy as np\n",
        "import os\n",
        " \n",
        "img_path='/content/new_A1'\n",
        " \n",
        "img_list=sorted(os.listdir(img_path))\t#\n",
        "\n",
        "img_nums=len(img_list)\n"
      ],
      "execution_count": 58,
      "outputs": []
    },
    {
      "cell_type": "code",
      "metadata": {
        "id": "zq6yXBzl_Iie"
      },
      "source": [
        "import os,sys\n",
        "import random\n",
        "import shutil\n",
        "from PIL import Image\n",
        "\n",
        " \n",
        "\n",
        "def random_copyfile(srcPath,dstPath,c):\n",
        "    \n",
        "    for name_file in sorted(os.listdir(srcPath)):\n",
        "        c = c+1\n",
        "        if c==15 or c==26 or c==37 or c==43 or c==59 or c==69 or c==97 or c==119 or c==122 or c==134 or c==150 or c==183 or c==209 or c==211 or c==225 or c==240 or c==244 or c==300 or c==305 or c==322 or c==323 or c==364 or c==376 or c==388 or c==389 or c==393 or c==402 or c==418:\n",
        "            for img_file in sorted(os.listdir(srcPath+name_file)):      \n",
        "                path = os.path.join(srcPath+name_file+'/'+img_file)\n",
        "                with open(path, 'rb') as rstream:\n",
        "                    container = rstream.read()\n",
        "               \n",
        "                    path1 = os.path.join(dstPath+'/'+img_file)\n",
        "  \n",
        "                    with open(path1, 'wb') as wstream:\n",
        "                        wstream.write(container)\n",
        "\n",
        " \n",
        "\n",
        " \n",
        "\n",
        "srcPath='/content/new_A2/'\n",
        "dstPath = '/content/need2/'"
      ],
      "execution_count": 75,
      "outputs": []
    },
    {
      "cell_type": "code",
      "metadata": {
        "id": "WwuySH6KZbD1"
      },
      "source": [
        "random_copyfile(srcPath,dstPath,0)\n"
      ],
      "execution_count": 76,
      "outputs": []
    },
    {
      "cell_type": "code",
      "metadata": {
        "id": "mqtcJBFycCFD",
        "outputId": "31147231-d87a-45d5-9ff2-0c17adee8f0b",
        "colab": {
          "base_uri": "https://localhost:8080/"
        }
      },
      "source": [
        "!zip -r /content/fileB.zip /content/need2\n"
      ],
      "execution_count": 77,
      "outputs": [
        {
          "output_type": "stream",
          "text": [
            "  adding: content/need2/ (stored 0%)\n",
            "  adding: content/need2/Adam_Sandler_0002_0.png (deflated 0%)\n",
            "  adding: content/need2/Atal_Bihari_Vajpayee_0006_0.png (deflated 0%)\n",
            "  adding: content/need2/Alvaro_Uribe_0020_0.png (deflated 0%)\n",
            "  adding: content/need2/Angela_Bassett_0003_0.png (deflated 0%)\n",
            "  adding: content/need2/Abel_Pacheco_0001_0.png (deflated 0%)\n",
            "  adding: content/need2/Arlen_Specter_0003_0.png (deflated 0%)\n",
            "  adding: content/need2/Ali_Naimi_0001_0.png (deflated 0%)\n",
            "  adding: content/need2/Amer_al-Saadi_0001_0.png (deflated 0%)\n",
            "  adding: content/need2/Alan_Mulally_0002_0.png (deflated 0%)\n",
            "  adding: content/need2/Ashanti_0002_0.png (deflated 0%)\n",
            "  adding: content/need2/Art_Howe_0004_0.png (deflated 0%)\n",
            "  adding: content/need2/Adolfo_Rodriguez_Saa_0001_0.png (deflated 0%)\n",
            "  adding: content/need2/Alex_Barros_0002_0.png (deflated 0%)\n",
            "  adding: content/need2/Anna_Nicole_Smith_0002_0.png (deflated 0%)\n",
            "  adding: content/need2/Anastasia_Myskina_0001_0.png (deflated 0%)\n",
            "  adding: content/need2/Anwar_Ibrahim_0001_0.png (deflated 0%)\n",
            "  adding: content/need2/Arnoldo_Aleman_0005_0.png (deflated 0%)\n",
            "  adding: content/need2/Alec_Baldwin_0003_0.png (deflated 0%)\n",
            "  adding: content/need2/Anna_Kournikova_0009_0.png (deflated 0%)\n",
            "  adding: content/need2/Alejandro_Avila_0002_0.png (deflated 0%)\n",
            "  adding: content/need2/Alexander_Losyukov_0004_0.png (deflated 0%)\n",
            "  adding: content/need2/Ana_Palacio_0008_0.png (deflated 0%)\n",
            "  adding: content/need2/Abdoulaye_Wade_0003_0.png (deflated 0%)\n",
            "  adding: content/need2/Angelina_Jolie_0004_0.png (deflated 0%)\n",
            "  adding: content/need2/Alvaro_Noboa_0001_0.png (deflated 0%)\n",
            "  adding: content/need2/Ahmad_Masood_0001_0.png (deflated 0%)\n",
            "  adding: content/need2/Aicha_El_Ouafi_0003_0.png (deflated 0%)\n",
            "  adding: content/need2/Aron_Ralston_0002_0.png (deflated 0%)\n"
          ],
          "name": "stdout"
        }
      ]
    },
    {
      "cell_type": "code",
      "metadata": {
        "id": "B7JquzddcI4l",
        "outputId": "19d35919-85c7-466e-d152-ac393b466bc2",
        "colab": {
          "base_uri": "https://localhost:8080/",
          "height": 17
        }
      },
      "source": [
        "from google.colab import files\n",
        "files.download(\"/content/fileB.zip\")"
      ],
      "execution_count": 78,
      "outputs": [
        {
          "output_type": "display_data",
          "data": {
            "application/javascript": [
              "\n",
              "    async function download(id, filename, size) {\n",
              "      if (!google.colab.kernel.accessAllowed) {\n",
              "        return;\n",
              "      }\n",
              "      const div = document.createElement('div');\n",
              "      const label = document.createElement('label');\n",
              "      label.textContent = `Downloading \"${filename}\": `;\n",
              "      div.appendChild(label);\n",
              "      const progress = document.createElement('progress');\n",
              "      progress.max = size;\n",
              "      div.appendChild(progress);\n",
              "      document.body.appendChild(div);\n",
              "\n",
              "      const buffers = [];\n",
              "      let downloaded = 0;\n",
              "\n",
              "      const channel = await google.colab.kernel.comms.open(id);\n",
              "      // Send a message to notify the kernel that we're ready.\n",
              "      channel.send({})\n",
              "\n",
              "      for await (const message of channel.messages) {\n",
              "        // Send a message to notify the kernel that we're ready.\n",
              "        channel.send({})\n",
              "        if (message.buffers) {\n",
              "          for (const buffer of message.buffers) {\n",
              "            buffers.push(buffer);\n",
              "            downloaded += buffer.byteLength;\n",
              "            progress.value = downloaded;\n",
              "          }\n",
              "        }\n",
              "      }\n",
              "      const blob = new Blob(buffers, {type: 'application/binary'});\n",
              "      const a = document.createElement('a');\n",
              "      a.href = window.URL.createObjectURL(blob);\n",
              "      a.download = filename;\n",
              "      div.appendChild(a);\n",
              "      a.click();\n",
              "      div.remove();\n",
              "    }\n",
              "  "
            ],
            "text/plain": [
              "<IPython.core.display.Javascript object>"
            ]
          },
          "metadata": {
            "tags": []
          }
        },
        {
          "output_type": "display_data",
          "data": {
            "application/javascript": [
              "download(\"download_354b420d-f126-4160-bd02-68c6b522427a\", \"fileB.zip\", 20213627)"
            ],
            "text/plain": [
              "<IPython.core.display.Javascript object>"
            ]
          },
          "metadata": {
            "tags": []
          }
        }
      ]
    }
  ]
}