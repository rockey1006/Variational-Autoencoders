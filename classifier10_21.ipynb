{
  "nbformat": 4,
  "nbformat_minor": 0,
  "metadata": {
    "colab": {
      "name": "classifier10_20.ipynb",
      "provenance": [],
      "authorship_tag": "ABX9TyOz2HC7xiBq8HuTA2Thrabw",
      "include_colab_link": true
    },
    "kernelspec": {
      "name": "python3",
      "display_name": "Python 3"
    },
    "accelerator": "GPU"
  },
  "cells": [
    {
      "cell_type": "markdown",
      "metadata": {
        "id": "view-in-github",
        "colab_type": "text"
      },
      "source": [
        "<a href=\"https://colab.research.google.com/github/rockey1006/Variational-Autoencoders/blob/master/classifier10_21.ipynb\" target=\"_parent\"><img src=\"https://colab.research.google.com/assets/colab-badge.svg\" alt=\"Open In Colab\"/></a>"
      ]
    },
    {
      "cell_type": "code",
      "metadata": {
        "id": "9bNeIls_vvHu",
        "outputId": "b01820e3-c4ba-4f1f-ee1e-29dbcf667eab",
        "colab": {
          "base_uri": "https://localhost:8080/",
          "height": 122
        }
      },
      "source": [
        "!git clone https://github.com/rockey1006/classifier.git"
      ],
      "execution_count": 1,
      "outputs": [
        {
          "output_type": "stream",
          "text": [
            "Cloning into 'classifier'...\n",
            "remote: Enumerating objects: 17, done.\u001b[K\n",
            "remote: Counting objects: 100% (17/17), done.\u001b[K\n",
            "remote: Compressing objects: 100% (15/15), done.\u001b[K\n",
            "remote: Total 17 (delta 0), reused 0 (delta 0), pack-reused 0\u001b[K\n",
            "Unpacking objects: 100% (17/17), done.\n"
          ],
          "name": "stdout"
        }
      ]
    },
    {
      "cell_type": "code",
      "metadata": {
        "id": "hkoslNjev4S3",
        "outputId": "e9d546bf-d2ca-4765-c0ec-e9ea6b3c9c07",
        "colab": {
          "base_uri": "https://localhost:8080/",
          "height": 34
        }
      },
      "source": [
        "\n",
        "from google.colab import drive\n",
        "drive.mount('/content/drive')"
      ],
      "execution_count": 2,
      "outputs": [
        {
          "output_type": "stream",
          "text": [
            "Mounted at /content/drive\n"
          ],
          "name": "stdout"
        }
      ]
    },
    {
      "cell_type": "code",
      "metadata": {
        "id": "5O3YtJGvwQHK"
      },
      "source": [
        "from zipfile import ZipFile\n",
        "with ZipFile('/content/drive/My Drive/LFW_train.zip', 'r') as zipObj:\n",
        "   # Extract all the contents of zip file in different directory\n",
        "   zipObj.extractall('LFW/')"
      ],
      "execution_count": 17,
      "outputs": []
    },
    {
      "cell_type": "code",
      "metadata": {
        "id": "hoF7iCYcxO3E"
      },
      "source": [
        "from zipfile import ZipFile\n",
        "with ZipFile('/content/drive/My Drive/test.zip', 'r') as zipObj:\n",
        "   # Extract all the contents of zip file in different directory\n",
        "   zipObj.extractall('content/test/')"
      ],
      "execution_count": 7,
      "outputs": []
    },
    {
      "cell_type": "code",
      "metadata": {
        "id": "q9Lnx9nZwc6B"
      },
      "source": [
        "from zipfile import ZipFile\n",
        "with ZipFile('/content/drive/My Drive/vgg_face_weights.zip', 'r') as zipObj:\n",
        "   # Extract all the contents of zip file in different directory\n",
        "   zipObj.extractall('content/vgg_face_weights/')"
      ],
      "execution_count": 8,
      "outputs": []
    },
    {
      "cell_type": "code",
      "metadata": {
        "id": "KVil8UF5xjYW",
        "outputId": "398504dd-52f7-4235-bbcd-7bdffdd0ad80",
        "colab": {
          "base_uri": "https://localhost:8080/",
          "height": 1000
        }
      },
      "source": [
        "!python /content/classifier/Face2020.py"
      ],
      "execution_count": 19,
      "outputs": [
        {
          "output_type": "stream",
          "text": [
            "2020-10-21 01:54:44.098384: I tensorflow/stream_executor/platform/default/dso_loader.cc:48] Successfully opened dynamic library libcudart.so.10.1\n",
            "2020-10-21 01:54:46.776874: I tensorflow/stream_executor/platform/default/dso_loader.cc:48] Successfully opened dynamic library libcuda.so.1\n",
            "2020-10-21 01:54:46.777067: I tensorflow/stream_executor/cuda/cuda_gpu_executor.cc:982] successful NUMA node read from SysFS had negative value (-1), but there must be at least one NUMA node, so returning NUMA node zero\n",
            "2020-10-21 01:54:46.777643: I tensorflow/core/common_runtime/gpu/gpu_device.cc:1716] Found device 0 with properties: \n",
            "pciBusID: 0000:00:04.0 name: Tesla P100-PCIE-16GB computeCapability: 6.0\n",
            "coreClock: 1.3285GHz coreCount: 56 deviceMemorySize: 15.90GiB deviceMemoryBandwidth: 681.88GiB/s\n",
            "2020-10-21 01:54:46.777696: I tensorflow/stream_executor/platform/default/dso_loader.cc:48] Successfully opened dynamic library libcudart.so.10.1\n",
            "2020-10-21 01:54:46.777754: I tensorflow/stream_executor/platform/default/dso_loader.cc:48] Successfully opened dynamic library libcublas.so.10\n",
            "2020-10-21 01:54:46.779709: I tensorflow/stream_executor/platform/default/dso_loader.cc:48] Successfully opened dynamic library libcufft.so.10\n",
            "2020-10-21 01:54:46.779798: I tensorflow/stream_executor/platform/default/dso_loader.cc:48] Successfully opened dynamic library libcurand.so.10\n",
            "2020-10-21 01:54:46.779832: I tensorflow/stream_executor/platform/default/dso_loader.cc:48] Successfully opened dynamic library libcusolver.so.10\n",
            "2020-10-21 01:54:46.780654: I tensorflow/stream_executor/platform/default/dso_loader.cc:48] Successfully opened dynamic library libcusparse.so.10\n",
            "2020-10-21 01:54:46.780729: I tensorflow/stream_executor/platform/default/dso_loader.cc:48] Successfully opened dynamic library libcudnn.so.7\n",
            "2020-10-21 01:54:46.780828: I tensorflow/stream_executor/cuda/cuda_gpu_executor.cc:982] successful NUMA node read from SysFS had negative value (-1), but there must be at least one NUMA node, so returning NUMA node zero\n",
            "2020-10-21 01:54:46.781387: I tensorflow/stream_executor/cuda/cuda_gpu_executor.cc:982] successful NUMA node read from SysFS had negative value (-1), but there must be at least one NUMA node, so returning NUMA node zero\n",
            "2020-10-21 01:54:46.781862: I tensorflow/core/common_runtime/gpu/gpu_device.cc:1858] Adding visible gpu devices: 0\n",
            "2020-10-21 01:54:46.787403: I tensorflow/core/platform/profile_utils/cpu_utils.cc:104] CPU Frequency: 2200000000 Hz\n",
            "2020-10-21 01:54:46.787587: I tensorflow/compiler/xla/service/service.cc:168] XLA service 0x26340c40 initialized for platform Host (this does not guarantee that XLA will be used). Devices:\n",
            "2020-10-21 01:54:46.787614: I tensorflow/compiler/xla/service/service.cc:176]   StreamExecutor device (0): Host, Default Version\n",
            "2020-10-21 01:54:46.789052: I tensorflow/stream_executor/cuda/cuda_gpu_executor.cc:982] successful NUMA node read from SysFS had negative value (-1), but there must be at least one NUMA node, so returning NUMA node zero\n",
            "2020-10-21 01:54:46.789654: I tensorflow/compiler/xla/service/service.cc:168] XLA service 0x26340e00 initialized for platform CUDA (this does not guarantee that XLA will be used). Devices:\n",
            "2020-10-21 01:54:46.789679: I tensorflow/compiler/xla/service/service.cc:176]   StreamExecutor device (0): Tesla P100-PCIE-16GB, Compute Capability 6.0\n",
            "2020-10-21 01:54:46.789807: I tensorflow/stream_executor/cuda/cuda_gpu_executor.cc:982] successful NUMA node read from SysFS had negative value (-1), but there must be at least one NUMA node, so returning NUMA node zero\n",
            "2020-10-21 01:54:46.790328: I tensorflow/core/common_runtime/gpu/gpu_device.cc:1716] Found device 0 with properties: \n",
            "pciBusID: 0000:00:04.0 name: Tesla P100-PCIE-16GB computeCapability: 6.0\n",
            "coreClock: 1.3285GHz coreCount: 56 deviceMemorySize: 15.90GiB deviceMemoryBandwidth: 681.88GiB/s\n",
            "2020-10-21 01:54:46.790365: I tensorflow/stream_executor/platform/default/dso_loader.cc:48] Successfully opened dynamic library libcudart.so.10.1\n",
            "2020-10-21 01:54:46.790385: I tensorflow/stream_executor/platform/default/dso_loader.cc:48] Successfully opened dynamic library libcublas.so.10\n",
            "2020-10-21 01:54:46.790413: I tensorflow/stream_executor/platform/default/dso_loader.cc:48] Successfully opened dynamic library libcufft.so.10\n",
            "2020-10-21 01:54:46.790432: I tensorflow/stream_executor/platform/default/dso_loader.cc:48] Successfully opened dynamic library libcurand.so.10\n",
            "2020-10-21 01:54:46.790448: I tensorflow/stream_executor/platform/default/dso_loader.cc:48] Successfully opened dynamic library libcusolver.so.10\n",
            "2020-10-21 01:54:46.790467: I tensorflow/stream_executor/platform/default/dso_loader.cc:48] Successfully opened dynamic library libcusparse.so.10\n",
            "2020-10-21 01:54:46.790482: I tensorflow/stream_executor/platform/default/dso_loader.cc:48] Successfully opened dynamic library libcudnn.so.7\n",
            "2020-10-21 01:54:46.790544: I tensorflow/stream_executor/cuda/cuda_gpu_executor.cc:982] successful NUMA node read from SysFS had negative value (-1), but there must be at least one NUMA node, so returning NUMA node zero\n",
            "2020-10-21 01:54:46.791066: I tensorflow/stream_executor/cuda/cuda_gpu_executor.cc:982] successful NUMA node read from SysFS had negative value (-1), but there must be at least one NUMA node, so returning NUMA node zero\n",
            "2020-10-21 01:54:46.791707: I tensorflow/core/common_runtime/gpu/gpu_device.cc:1858] Adding visible gpu devices: 0\n",
            "2020-10-21 01:54:46.791768: I tensorflow/stream_executor/platform/default/dso_loader.cc:48] Successfully opened dynamic library libcudart.so.10.1\n",
            "2020-10-21 01:54:47.394660: I tensorflow/core/common_runtime/gpu/gpu_device.cc:1257] Device interconnect StreamExecutor with strength 1 edge matrix:\n",
            "2020-10-21 01:54:47.394724: I tensorflow/core/common_runtime/gpu/gpu_device.cc:1263]      0 \n",
            "2020-10-21 01:54:47.394738: I tensorflow/core/common_runtime/gpu/gpu_device.cc:1276] 0:   N \n",
            "2020-10-21 01:54:47.394936: I tensorflow/stream_executor/cuda/cuda_gpu_executor.cc:982] successful NUMA node read from SysFS had negative value (-1), but there must be at least one NUMA node, so returning NUMA node zero\n",
            "2020-10-21 01:54:47.395562: I tensorflow/stream_executor/cuda/cuda_gpu_executor.cc:982] successful NUMA node read from SysFS had negative value (-1), but there must be at least one NUMA node, so returning NUMA node zero\n",
            "2020-10-21 01:54:47.396052: W tensorflow/core/common_runtime/gpu/gpu_bfc_allocator.cc:39] Overriding allow_growth setting because the TF_FORCE_GPU_ALLOW_GROWTH environment variable is set. Original config value was 0.\n",
            "2020-10-21 01:54:47.396093: I tensorflow/core/common_runtime/gpu/gpu_device.cc:1402] Created TensorFlow device (/job:localhost/replica:0/task:0/device:GPU:0 with 14455 MB memory) -> physical GPU (device: 0, name: Tesla P100-PCIE-16GB, pci bus id: 0000:00:04.0, compute capability: 6.0)\n",
            "model loaded-------------\n",
            "2020-10-21 01:54:48.003857: I tensorflow/stream_executor/platform/default/dso_loader.cc:48] Successfully opened dynamic library libcudnn.so.7\n",
            "2020-10-21 01:54:48.117835: I tensorflow/stream_executor/platform/default/dso_loader.cc:48] Successfully opened dynamic library libcublas.so.10\n",
            "(13233, 2622)\n",
            "(13233,)\n",
            "Epoch 1/50\n",
            "414/414 [==============================] - 2s 4ms/step - loss: 8.0283 - accuracy: 0.1182 - val_loss: 9.0930 - val_accuracy: 0.0000e+00\n",
            "Epoch 2/50\n",
            "414/414 [==============================] - 2s 4ms/step - loss: 6.9376 - accuracy: 0.2052 - val_loss: 9.1148 - val_accuracy: 0.0000e+00\n",
            "Epoch 3/50\n",
            "414/414 [==============================] - 2s 4ms/step - loss: 6.2641 - accuracy: 0.2597 - val_loss: 9.1768 - val_accuracy: 0.0000e+00\n",
            "Epoch 4/50\n",
            "414/414 [==============================] - 2s 4ms/step - loss: 5.6545 - accuracy: 0.3030 - val_loss: 9.4096 - val_accuracy: 0.0000e+00\n",
            "Epoch 5/50\n",
            "414/414 [==============================] - 2s 4ms/step - loss: 5.0500 - accuracy: 0.3526 - val_loss: 9.2029 - val_accuracy: 0.0000e+00\n",
            "Epoch 6/50\n",
            "414/414 [==============================] - 2s 4ms/step - loss: 4.4686 - accuracy: 0.4010 - val_loss: 9.1382 - val_accuracy: 0.0000e+00\n",
            "Epoch 7/50\n",
            "414/414 [==============================] - 2s 4ms/step - loss: 3.8634 - accuracy: 0.4557 - val_loss: 9.4785 - val_accuracy: 0.0000e+00\n",
            "Epoch 8/50\n",
            "414/414 [==============================] - 2s 4ms/step - loss: 3.2717 - accuracy: 0.5157 - val_loss: 9.8898 - val_accuracy: 0.0000e+00\n",
            "Epoch 9/50\n",
            "414/414 [==============================] - 2s 4ms/step - loss: 2.6846 - accuracy: 0.5900 - val_loss: 10.5712 - val_accuracy: 0.0000e+00\n",
            "Epoch 10/50\n",
            "414/414 [==============================] - 2s 4ms/step - loss: 2.1320 - accuracy: 0.6820 - val_loss: 11.0440 - val_accuracy: 0.0000e+00\n",
            "Epoch 11/50\n",
            "414/414 [==============================] - 2s 4ms/step - loss: 1.6358 - accuracy: 0.7897 - val_loss: 11.8667 - val_accuracy: 0.0000e+00\n",
            "Epoch 12/50\n",
            "414/414 [==============================] - 2s 4ms/step - loss: 1.2092 - accuracy: 0.8696 - val_loss: 12.4125 - val_accuracy: 0.0000e+00\n",
            "Epoch 13/50\n",
            "414/414 [==============================] - 2s 4ms/step - loss: 0.8780 - accuracy: 0.9268 - val_loss: 13.4546 - val_accuracy: 0.0000e+00\n",
            "Epoch 14/50\n",
            "414/414 [==============================] - 2s 4ms/step - loss: 0.6304 - accuracy: 0.9601 - val_loss: 13.3381 - val_accuracy: 0.0000e+00\n",
            "Epoch 15/50\n",
            "414/414 [==============================] - 2s 4ms/step - loss: 0.4645 - accuracy: 0.9758 - val_loss: 14.9336 - val_accuracy: 0.0000e+00\n",
            "Epoch 16/50\n",
            "414/414 [==============================] - 2s 4ms/step - loss: 0.3472 - accuracy: 0.9853 - val_loss: 14.9475 - val_accuracy: 0.0000e+00\n",
            "Epoch 17/50\n",
            "414/414 [==============================] - 2s 4ms/step - loss: 0.2729 - accuracy: 0.9890 - val_loss: 15.2629 - val_accuracy: 0.0000e+00\n",
            "Epoch 18/50\n",
            "414/414 [==============================] - 2s 4ms/step - loss: 0.2214 - accuracy: 0.9923 - val_loss: 15.1841 - val_accuracy: 0.0000e+00\n",
            "Epoch 19/50\n",
            "414/414 [==============================] - 2s 4ms/step - loss: 0.1745 - accuracy: 0.9955 - val_loss: 17.0070 - val_accuracy: 0.0000e+00\n",
            "Epoch 20/50\n",
            "414/414 [==============================] - 2s 4ms/step - loss: 0.1504 - accuracy: 0.9943 - val_loss: 17.4620 - val_accuracy: 0.0000e+00\n",
            "Epoch 21/50\n",
            "414/414 [==============================] - 2s 4ms/step - loss: 0.1360 - accuracy: 0.9948 - val_loss: 17.6155 - val_accuracy: 0.0000e+00\n",
            "Epoch 22/50\n",
            "414/414 [==============================] - 2s 4ms/step - loss: 0.1092 - accuracy: 0.9966 - val_loss: 18.3616 - val_accuracy: 0.0000e+00\n",
            "Epoch 23/50\n",
            "414/414 [==============================] - 2s 4ms/step - loss: 0.0956 - accuracy: 0.9971 - val_loss: 19.3978 - val_accuracy: 0.0000e+00\n",
            "Epoch 24/50\n",
            "414/414 [==============================] - 2s 4ms/step - loss: 0.0894 - accuracy: 0.9968 - val_loss: 18.1576 - val_accuracy: 0.0000e+00\n",
            "Epoch 25/50\n",
            "414/414 [==============================] - 2s 4ms/step - loss: 0.0762 - accuracy: 0.9969 - val_loss: 20.3632 - val_accuracy: 0.0000e+00\n",
            "Epoch 26/50\n",
            "414/414 [==============================] - 2s 4ms/step - loss: 0.0746 - accuracy: 0.9963 - val_loss: 19.9713 - val_accuracy: 0.0000e+00\n",
            "Epoch 27/50\n",
            "414/414 [==============================] - 2s 4ms/step - loss: 0.0695 - accuracy: 0.9971 - val_loss: 19.1224 - val_accuracy: 0.0000e+00\n",
            "Epoch 28/50\n",
            "414/414 [==============================] - 2s 4ms/step - loss: 0.0623 - accuracy: 0.9969 - val_loss: 20.5183 - val_accuracy: 0.0000e+00\n",
            "Epoch 29/50\n",
            "414/414 [==============================] - 2s 4ms/step - loss: 0.0543 - accuracy: 0.9973 - val_loss: 20.2642 - val_accuracy: 0.0000e+00\n",
            "Epoch 30/50\n",
            "414/414 [==============================] - 2s 4ms/step - loss: 0.0494 - accuracy: 0.9982 - val_loss: 22.1182 - val_accuracy: 0.0000e+00\n",
            "Epoch 31/50\n",
            "414/414 [==============================] - 2s 4ms/step - loss: 0.0553 - accuracy: 0.9966 - val_loss: 20.9502 - val_accuracy: 0.0000e+00\n",
            "Epoch 32/50\n",
            "414/414 [==============================] - 2s 4ms/step - loss: 0.0434 - accuracy: 0.9981 - val_loss: 21.0413 - val_accuracy: 0.0000e+00\n",
            "Epoch 33/50\n",
            "414/414 [==============================] - 2s 4ms/step - loss: 0.0391 - accuracy: 0.9981 - val_loss: 21.3412 - val_accuracy: 0.0000e+00\n",
            "Epoch 34/50\n",
            "414/414 [==============================] - 2s 4ms/step - loss: 0.0398 - accuracy: 0.9977 - val_loss: 22.4512 - val_accuracy: 0.0000e+00\n",
            "Epoch 35/50\n",
            "414/414 [==============================] - 2s 4ms/step - loss: 0.0370 - accuracy: 0.9980 - val_loss: 21.8524 - val_accuracy: 0.0000e+00\n",
            "Epoch 36/50\n",
            "414/414 [==============================] - 2s 4ms/step - loss: 0.0358 - accuracy: 0.9978 - val_loss: 22.7195 - val_accuracy: 0.0000e+00\n",
            "Epoch 37/50\n",
            "414/414 [==============================] - 2s 4ms/step - loss: 0.0335 - accuracy: 0.9983 - val_loss: 22.7223 - val_accuracy: 0.0000e+00\n",
            "Epoch 38/50\n",
            "414/414 [==============================] - 2s 4ms/step - loss: 0.0411 - accuracy: 0.9968 - val_loss: 22.7635 - val_accuracy: 0.0000e+00\n",
            "Epoch 39/50\n",
            "414/414 [==============================] - 2s 4ms/step - loss: 0.0350 - accuracy: 0.9970 - val_loss: 23.8148 - val_accuracy: 0.0000e+00\n",
            "Epoch 40/50\n",
            "414/414 [==============================] - 2s 4ms/step - loss: 0.0295 - accuracy: 0.9977 - val_loss: 23.9201 - val_accuracy: 0.0000e+00\n",
            "Epoch 41/50\n",
            "414/414 [==============================] - 2s 4ms/step - loss: 0.0240 - accuracy: 0.9986 - val_loss: 24.3436 - val_accuracy: 0.0000e+00\n",
            "Epoch 42/50\n",
            "414/414 [==============================] - 2s 4ms/step - loss: 0.0273 - accuracy: 0.9977 - val_loss: 22.5293 - val_accuracy: 0.0000e+00\n",
            "Epoch 43/50\n",
            "414/414 [==============================] - 2s 4ms/step - loss: 0.0260 - accuracy: 0.9977 - val_loss: 24.6738 - val_accuracy: 0.0000e+00\n",
            "Epoch 44/50\n",
            "414/414 [==============================] - 2s 4ms/step - loss: 0.0250 - accuracy: 0.9974 - val_loss: 23.5325 - val_accuracy: 0.0000e+00\n",
            "Epoch 45/50\n",
            "414/414 [==============================] - 2s 4ms/step - loss: 0.0320 - accuracy: 0.9969 - val_loss: 23.6022 - val_accuracy: 0.0000e+00\n",
            "Epoch 46/50\n",
            "414/414 [==============================] - 2s 4ms/step - loss: 0.0213 - accuracy: 0.9987 - val_loss: 25.7582 - val_accuracy: 0.0000e+00\n",
            "Epoch 47/50\n",
            "414/414 [==============================] - 2s 4ms/step - loss: 0.0176 - accuracy: 0.9986 - val_loss: 26.6842 - val_accuracy: 0.0000e+00\n",
            "Epoch 48/50\n",
            "414/414 [==============================] - 2s 4ms/step - loss: 0.0225 - accuracy: 0.9976 - val_loss: 25.9429 - val_accuracy: 0.0000e+00\n",
            "Epoch 49/50\n",
            "414/414 [==============================] - 2s 4ms/step - loss: 0.0220 - accuracy: 0.9981 - val_loss: 24.9334 - val_accuracy: 0.0000e+00\n",
            "Epoch 50/50\n",
            "414/414 [==============================] - 2s 4ms/step - loss: 0.0214 - accuracy: 0.9977 - val_loss: 24.9392 - val_accuracy: 0.0000e+00\n",
            "done..\n"
          ],
          "name": "stdout"
        }
      ]
    }
  ]
}