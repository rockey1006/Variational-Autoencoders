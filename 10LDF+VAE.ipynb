{
  "nbformat": 4,
  "nbformat_minor": 0,
  "metadata": {
    "colab": {
      "name": "10LDF+VAE.ipynb",
      "provenance": [],
      "collapsed_sections": [],
      "include_colab_link": true
    },
    "kernelspec": {
      "name": "python3",
      "display_name": "Python 3"
    }
  },
  "cells": [
    {
      "cell_type": "markdown",
      "metadata": {
        "id": "view-in-github",
        "colab_type": "text"
      },
      "source": [
        "<a href=\"https://colab.research.google.com/github/rockey1006/Variational-Autoencoders/blob/master/10LDF%2BVAE.ipynb\" target=\"_parent\"><img src=\"https://colab.research.google.com/assets/colab-badge.svg\" alt=\"Open In Colab\"/></a>"
      ]
    },
    {
      "cell_type": "code",
      "metadata": {
        "id": "HurGhCm40lky",
        "colab_type": "code",
        "outputId": "5bead3cd-8ae2-4198-da05-60523f417a72",
        "colab": {
          "base_uri": "https://localhost:8080/",
          "height": 552
        }
      },
      "source": [
        "from keras.applications.resnet import ResNet101\n",
        "from keras.preprocessing import image\n",
        "from keras.applications.resnet import preprocess_input\n",
        "from keras.models import Model\n",
        "import numpy as np\n",
        "import matplotlib.pyplot as plt\n",
        "from scipy.stats import norm\n",
        "from keras.layers import Input, Dense, Lambda\n",
        "from keras.models import Model\n",
        "from keras import backend as K\n",
        "from keras import metrics\n",
        "import tensorflow as tf\n",
        "from tensorflow import keras\n",
        "import numpy as np\n",
        "%matplotlib inline\n",
        "import matplotlib.pyplot as plt\n",
        "from matplotlib.image import imread\n",
        "from skimage.transform import resize\n",
        "import glob\n",
        "import pandas as pd\n",
        "from sklearn.model_selection import train_test_split\n",
        "base_model = ResNet101(weights='imagenet')\n",
        "model = Model(inputs=base_model.input, outputs=base_model.layers[-2].output)\n"
      ],
      "execution_count": 1,
      "outputs": [
        {
          "output_type": "stream",
          "text": [
            "Using TensorFlow backend.\n"
          ],
          "name": "stderr"
        },
        {
          "output_type": "display_data",
          "data": {
            "text/html": [
              "<p style=\"color: red;\">\n",
              "The default version of TensorFlow in Colab will soon switch to TensorFlow 2.x.<br>\n",
              "We recommend you <a href=\"https://www.tensorflow.org/guide/migrate\" target=\"_blank\">upgrade</a> now \n",
              "or ensure your notebook will continue to use TensorFlow 1.x via the <code>%tensorflow_version 1.x</code> magic:\n",
              "<a href=\"https://colab.research.google.com/notebooks/tensorflow_version.ipynb\" target=\"_blank\">more info</a>.</p>\n"
            ],
            "text/plain": [
              "<IPython.core.display.HTML object>"
            ]
          },
          "metadata": {
            "tags": []
          }
        },
        {
          "output_type": "stream",
          "text": [
            "WARNING:tensorflow:From /usr/local/lib/python3.6/dist-packages/keras/backend/tensorflow_backend.py:66: The name tf.get_default_graph is deprecated. Please use tf.compat.v1.get_default_graph instead.\n",
            "\n",
            "WARNING:tensorflow:From /usr/local/lib/python3.6/dist-packages/keras/backend/tensorflow_backend.py:541: The name tf.placeholder is deprecated. Please use tf.compat.v1.placeholder instead.\n",
            "\n",
            "WARNING:tensorflow:From /usr/local/lib/python3.6/dist-packages/keras/backend/tensorflow_backend.py:4432: The name tf.random_uniform is deprecated. Please use tf.random.uniform instead.\n",
            "\n",
            "WARNING:tensorflow:From /usr/local/lib/python3.6/dist-packages/keras/backend/tensorflow_backend.py:190: The name tf.get_default_session is deprecated. Please use tf.compat.v1.get_default_session instead.\n",
            "\n",
            "WARNING:tensorflow:From /usr/local/lib/python3.6/dist-packages/keras/backend/tensorflow_backend.py:197: The name tf.ConfigProto is deprecated. Please use tf.compat.v1.ConfigProto instead.\n",
            "\n",
            "WARNING:tensorflow:From /usr/local/lib/python3.6/dist-packages/keras/backend/tensorflow_backend.py:203: The name tf.Session is deprecated. Please use tf.compat.v1.Session instead.\n",
            "\n",
            "WARNING:tensorflow:From /usr/local/lib/python3.6/dist-packages/keras/backend/tensorflow_backend.py:207: The name tf.global_variables is deprecated. Please use tf.compat.v1.global_variables instead.\n",
            "\n",
            "WARNING:tensorflow:From /usr/local/lib/python3.6/dist-packages/keras/backend/tensorflow_backend.py:216: The name tf.is_variable_initialized is deprecated. Please use tf.compat.v1.is_variable_initialized instead.\n",
            "\n",
            "WARNING:tensorflow:From /usr/local/lib/python3.6/dist-packages/keras/backend/tensorflow_backend.py:223: The name tf.variables_initializer is deprecated. Please use tf.compat.v1.variables_initializer instead.\n",
            "\n",
            "WARNING:tensorflow:From /usr/local/lib/python3.6/dist-packages/keras/backend/tensorflow_backend.py:2041: The name tf.nn.fused_batch_norm is deprecated. Please use tf.compat.v1.nn.fused_batch_norm instead.\n",
            "\n",
            "WARNING:tensorflow:From /usr/local/lib/python3.6/dist-packages/keras/backend/tensorflow_backend.py:148: The name tf.placeholder_with_default is deprecated. Please use tf.compat.v1.placeholder_with_default instead.\n",
            "\n",
            "WARNING:tensorflow:From /usr/local/lib/python3.6/dist-packages/keras/backend/tensorflow_backend.py:4267: The name tf.nn.max_pool is deprecated. Please use tf.nn.max_pool2d instead.\n",
            "\n",
            "Downloading data from https://github.com/keras-team/keras-applications/releases/download/resnet/resnet101_weights_tf_dim_ordering_tf_kernels.h5\n",
            "179650560/179648224 [==============================] - 6s 0us/step\n"
          ],
          "name": "stdout"
        }
      ]
    },
    {
      "cell_type": "code",
      "metadata": {
        "id": "YKO9R0xGvfZp",
        "colab_type": "code",
        "outputId": "3201fe07-53ff-4819-f4a0-ea31e9627ecc",
        "colab": {
          "base_uri": "https://localhost:8080/",
          "height": 124
        }
      },
      "source": [
        "from google.colab import drive\n",
        "drive.mount('/content/drive')"
      ],
      "execution_count": 2,
      "outputs": [
        {
          "output_type": "stream",
          "text": [
            "Go to this URL in a browser: https://accounts.google.com/o/oauth2/auth?client_id=947318989803-6bn6qk8qdgf4n4g3pfee6491hc0brc4i.apps.googleusercontent.com&redirect_uri=urn%3aietf%3awg%3aoauth%3a2.0%3aoob&response_type=code&scope=email%20https%3a%2f%2fwww.googleapis.com%2fauth%2fdocs.test%20https%3a%2f%2fwww.googleapis.com%2fauth%2fdrive%20https%3a%2f%2fwww.googleapis.com%2fauth%2fdrive.photos.readonly%20https%3a%2f%2fwww.googleapis.com%2fauth%2fpeopleapi.readonly\n",
            "\n",
            "Enter your authorization code:\n",
            "··········\n",
            "Mounted at /content/drive\n"
          ],
          "name": "stdout"
        }
      ]
    },
    {
      "cell_type": "code",
      "metadata": {
        "id": "HKmOaNiE01sj",
        "colab_type": "code",
        "colab": {}
      },
      "source": [
        "#from google.colab import files\n",
        "#uploaded = files.upload()"
      ],
      "execution_count": 0,
      "outputs": []
    },
    {
      "cell_type": "code",
      "metadata": {
        "id": "GRWfsIyigFfD",
        "colab_type": "code",
        "colab": {}
      },
      "source": [
        "import tarfile\n",
        "tar = tarfile.open('/content/drive/My Drive/lfw.tgz')\n",
        "names = tar.getnames()\n",
        "for name in names:\n",
        "  tar.extract(name,path='/content/lfw')\n",
        "tar.close()"
      ],
      "execution_count": 0,
      "outputs": []
    },
    {
      "cell_type": "code",
      "metadata": {
        "id": "aZlItTBI9A1D",
        "colab_type": "code",
        "outputId": "a8006926-f6fb-48cd-eb4b-fbedaea7c5be",
        "colab": {
          "base_uri": "https://localhost:8080/",
          "height": 35
        }
      },
      "source": [
        "paths_path = \"/content/lfw/lfw/*/*\"\n",
        "paths_list = glob.glob(paths_path)\n",
        "paths_list[:1]\n",
        "labels = [p.split(\"/\")[-1].split(\"00\")[0].replace(\"_\", \" \").rstrip() for p in paths_list]\n",
        "labels[:5]\n",
        "len(labels)#13233 images\n",
        "#5749 people\n",
        "#1680 people with two or more images"
      ],
      "execution_count": 4,
      "outputs": [
        {
          "output_type": "execute_result",
          "data": {
            "text/plain": [
              "13233"
            ]
          },
          "metadata": {
            "tags": []
          },
          "execution_count": 4
        }
      ]
    },
    {
      "cell_type": "code",
      "metadata": {
        "id": "wOPj6jxRFP_I",
        "colab_type": "code",
        "outputId": "21405bea-d9ca-4443-8c53-73942d4241b1",
        "colab": {
          "base_uri": "https://localhost:8080/",
          "height": 87
        }
      },
      "source": [
        "face_labels = pd.Series(labels)\n",
        "top_faces = face_labels.value_counts()[:10]\n",
        "top_face_names = top_faces.index\n",
        "top_face_names\n"
      ],
      "execution_count": 5,
      "outputs": [
        {
          "output_type": "execute_result",
          "data": {
            "text/plain": [
              "Index(['Gerhard Schroeder', 'Donald Rumsfeld', 'George W Bush', 'Tony Blair',\n",
              "       'Colin Powell', 'Ariel Sharon', 'Hugo Chavez', 'Junichiro Koizumi',\n",
              "       'Jean Chretien', 'John Ashcroft'],\n",
              "      dtype='object')"
            ]
          },
          "metadata": {
            "tags": []
          },
          "execution_count": 5
        }
      ]
    },
    {
      "cell_type": "code",
      "metadata": {
        "id": "0eTZnGcxFalL",
        "colab_type": "code",
        "outputId": "0d245a1c-07b7-4e56-b076-a3ac4e774ec4",
        "colab": {
          "base_uri": "https://localhost:8080/",
          "height": 35
        }
      },
      "source": [
        "\n",
        "face_lookup = pd.Series(top_face_names)\n",
        "face_lookup = face_lookup.reset_index()\n",
        "face_lookup.columns = ['num_label', 'name']\n",
        "face_lookup.head()\n",
        "fac_labels = face_labels.reset_index()\n",
        "fac_labels.columns = ['idx', 'name']\n",
        "fac_labels.head()\n",
        "mgd = pd.merge(fac_labels, face_lookup, how=\"inner\", left_on='name', right_on=\"name\")\n",
        "mgd.head()\n",
        "mgd.shape"
      ],
      "execution_count": 6,
      "outputs": [
        {
          "output_type": "execute_result",
          "data": {
            "text/plain": [
              "(811, 3)"
            ]
          },
          "metadata": {
            "tags": []
          },
          "execution_count": 6
        }
      ]
    },
    {
      "cell_type": "code",
      "metadata": {
        "id": "xKScdJFAFi-U",
        "colab_type": "code",
        "outputId": "25a4aedc-bb46-4dd7-be81-7ff4c7d2a821",
        "colab": {
          "base_uri": "https://localhost:8080/",
          "height": 268
        }
      },
      "source": [
        "import numpy as np\n",
        "import matplotlib.pyplot as plt\n",
        "import matplotlib.image as mpimg\n",
        "df = mgd.set_index(\"idx\")\n",
        "df = mgd['name']\n",
        "y = mgd['num_label'] \n",
        "X_train, X_test, y_train, y_test = train_test_split(df, y, test_size=0.2, \n",
        "                                                    random_state=42)\n",
        "img_train = [imread(img) for i, img in enumerate(paths_list) if i in X_train.index]\n",
        "img_test = [imread(img) for i, img in enumerate(paths_list) if i in X_test.index]\n",
        "\n",
        "def resize_image(img):\n",
        "    img = resize(img, (100, 100), anti_aliasing=True)\n",
        "    return img\n",
        "\n",
        "def rescale_image(img):\n",
        "    return img /255\n",
        "\n",
        "#First resize...\n",
        "img_train = [resize_image(i) for i in img_train]\n",
        "img_test = [resize_image(i) for i in img_test]\n",
        "\n",
        "    \n",
        "\n",
        "#...then output a sample to check it has worked...\n",
        "io = resize_image(img_train[0])\n",
        "plt.figure()\n",
        "plt.imshow(io)\n",
        "plt.colorbar()\n",
        "plt.grid(False)\n",
        "plt.show()"
      ],
      "execution_count": 7,
      "outputs": [
        {
          "output_type": "display_data",
          "data": {
            "image/png": "[encoded data removed]",
            "text/plain": [
              "<Figure size 432x288 with 2 Axes>"
            ]
          },
          "metadata": {
            "tags": []
          }
        }
      ]
    },
    {
      "cell_type": "code",
      "metadata": {
        "id": "8ZWi52GNF-4n",
        "colab_type": "code",
        "outputId": "532d5580-c3ab-4452-c38f-191d15c03a6c",
        "colab": {
          "base_uri": "https://localhost:8080/",
          "height": 35
        }
      },
      "source": [
        "print(img_train[0].shape)"
      ],
      "execution_count": 8,
      "outputs": [
        {
          "output_type": "stream",
          "text": [
            "(100, 100, 3)\n"
          ],
          "name": "stdout"
        }
      ]
    },
    {
      "cell_type": "code",
      "metadata": {
        "id": "Bk6MokKWEsLd",
        "colab_type": "code",
        "colab": {}
      },
      "source": [
        ""
      ],
      "execution_count": 0,
      "outputs": []
    },
    {
      "cell_type": "code",
      "metadata": {
        "id": "GQmoJtzTlSPS",
        "colab_type": "code",
        "colab": {}
      },
      "source": [
        "batch_size = 10\n",
        "original_dim = 30000\n",
        "latent_dim = 2\n",
        "intermediate_dim = 256\n",
        "epochs = 20\n",
        "epsilon_std = 1.0\n",
        "x = Input(shape=(original_dim,))\n",
        "h = Dense(intermediate_dim, activation='relu')(x)#中间结果h，隐藏层256个结点，激活函数relu\n",
        "z_mean = Dense(latent_dim)(h)#隐变量输出层1有2 个结点\n",
        "z_log_var = Dense(latent_dim)(h)#隐变量输出层2有2个结点"
      ],
      "execution_count": 0,
      "outputs": []
    },
    {
      "cell_type": "code",
      "metadata": {
        "id": "XsKvrcajlsZf",
        "colab_type": "code",
        "outputId": "8fb00369-3066-43ab-d6a6-eac2fd9d8ac3",
        "colab": {
          "base_uri": "https://localhost:8080/",
          "height": 416
        }
      },
      "source": [
        "def sampling(args):\n",
        "    z_mean, z_log_var = args\n",
        "    epsilon = K.random_normal(shape=(K.shape(z_mean)[0], latent_dim), mean=0., stddev=epsilon_std)\n",
        "    return z_mean + K.exp(z_log_var / 2) * epsilon\n",
        "# note that \"output_shape\" isn't necessary with the TensorFlow backend\n",
        "z = Lambda(sampling, output_shape=(latent_dim,))([z_mean, z_log_var])#输入是z_mean和z_log_var，输出是z\n",
        "decoder_h = Dense(intermediate_dim, activation='relu')#隐藏层\n",
        "decoder_mean = Dense(original_dim, activation='sigmoid')#输出层\n",
        "h_decoded = decoder_h(z)#中间值\n",
        "x_decoded_mean = decoder_mean(h_decoded)#输出值\n",
        "vae = Model(x, x_decoded_mean)\n",
        "#model = Model(inputs=[a1, a2], outputs=[b1, b3, b3])\n",
        "\n",
        "# Compute VAE loss\n",
        "xent_loss = original_dim * metrics.binary_crossentropy(x, x_decoded_mean)\n",
        "kl_loss = - 0.5 * K.sum(1 + z_log_var - K.square(z_mean) - K.exp(z_log_var), axis=-1) #KL+交叉熵\n",
        "vae_loss = K.mean(xent_loss + kl_loss)\n",
        "\n",
        "vae.add_loss(vae_loss) #复杂损失函数所以不在compile声明，而使用add_loss\n",
        "vae.compile(optimizer='rmsprop') #用于配置训练模型。\n",
        "\n",
        "#compile(self, optimizer, loss, metrics=None, loss_weights=None, sample_weight_mode=None, \n",
        "#weighted_metrics=None, target_tensors=None)\n",
        "\n",
        "vae.summary() #model.summary()：打印出模型概况，它实际调用的是keras.utils.print_summary\n"
      ],
      "execution_count": 42,
      "outputs": [
        {
          "output_type": "stream",
          "text": [
            "Model: \"model_9\"\n",
            "__________________________________________________________________________________________________\n",
            "Layer (type)                    Output Shape         Param #     Connected to                     \n",
            "==================================================================================================\n",
            "input_7 (InputLayer)            (None, 30000)        0                                            \n",
            "__________________________________________________________________________________________________\n",
            "dense_22 (Dense)                (None, 256)          7680256     input_7[0][0]                    \n",
            "__________________________________________________________________________________________________\n",
            "dense_23 (Dense)                (None, 2)            514         dense_22[0][0]                   \n",
            "__________________________________________________________________________________________________\n",
            "dense_24 (Dense)                (None, 2)            514         dense_22[0][0]                   \n",
            "__________________________________________________________________________________________________\n",
            "lambda_4 (Lambda)               (None, 2)            0           dense_23[0][0]                   \n",
            "                                                                 dense_24[0][0]                   \n",
            "__________________________________________________________________________________________________\n",
            "dense_25 (Dense)                (None, 256)          768         lambda_4[0][0]                   \n",
            "__________________________________________________________________________________________________\n",
            "dense_26 (Dense)                (None, 30000)        7710000     dense_25[0][0]                   \n",
            "==================================================================================================\n",
            "Total params: 15,392,052\n",
            "Trainable params: 15,392,052\n",
            "Non-trainable params: 0\n",
            "__________________________________________________________________________________________________\n"
          ],
          "name": "stdout"
        }
      ]
    },
    {
      "cell_type": "code",
      "metadata": {
        "id": "1hVzPOqs0Km5",
        "colab_type": "code",
        "outputId": "59e39bec-70b7-4fb2-c1c6-bcdec7539848",
        "colab": {
          "base_uri": "https://localhost:8080/",
          "height": 52
        }
      },
      "source": [
        "x_train = np.array(img_train) \n",
        "print(x_train.shape)\n",
        "x_train = x_train.reshape((len(x_train), np.prod(x_train.shape[1:])))\n",
        "print(x_train.shape)"
      ],
      "execution_count": 43,
      "outputs": [
        {
          "output_type": "stream",
          "text": [
            "(648, 100, 100, 3)\n",
            "(648, 30000)\n"
          ],
          "name": "stdout"
        }
      ]
    },
    {
      "cell_type": "code",
      "metadata": {
        "id": "pT1oy-CgdY9n",
        "colab_type": "code",
        "outputId": "5fa6b13b-9821-4a05-b715-1607cb57b444",
        "colab": {
          "base_uri": "https://localhost:8080/",
          "height": 52
        }
      },
      "source": [
        "x_test = np.array(img_test) \n",
        "print(x_test.shape)\n",
        "x_test = x_test.reshape((len(x_test), np.prod(x_test.shape[1:])))#改变shape\n",
        "print(x_test.shape)"
      ],
      "execution_count": 44,
      "outputs": [
        {
          "output_type": "stream",
          "text": [
            "(163, 100, 100, 3)\n",
            "(163, 30000)\n"
          ],
          "name": "stdout"
        }
      ]
    },
    {
      "cell_type": "code",
      "metadata": {
        "id": "r_NvmzwoEw62",
        "colab_type": "code",
        "colab": {}
      },
      "source": [
        "x_train = x_train.astype('float32') / 255.#数据预处理归一化\n",
        "x_test = x_test.astype('float32') / 255.#数据预处理归一化\n",
        "\n"
      ],
      "execution_count": 0,
      "outputs": []
    },
    {
      "cell_type": "code",
      "metadata": {
        "id": "GJmUAd8-mnsP",
        "colab_type": "code",
        "outputId": "8177377b-4dbe-46f5-ebd1-1cdb25c14204",
        "colab": {
          "base_uri": "https://localhost:8080/",
          "height": 745
        }
      },
      "source": [
        "vae.fit(x_train,#算输出和输入分布的差异所以没有y\n",
        "        shuffle=True,\n",
        "        epochs=epochs,\n",
        "        batch_size=batch_size,\n",
        "        verbose=2,\n",
        "        validation_data=(x_test, None))"
      ],
      "execution_count": 51,
      "outputs": [
        {
          "output_type": "stream",
          "text": [
            "Train on 648 samples, validate on 163 samples\n",
            "Epoch 1/20\n",
            " - 13s - loss: 354.2063 - val_loss: 345.4779\n",
            "Epoch 2/20\n",
            " - 12s - loss: 352.3973 - val_loss: 344.3207\n",
            "Epoch 3/20\n",
            " - 12s - loss: 350.8195 - val_loss: 343.3084\n",
            "Epoch 4/20\n",
            " - 12s - loss: 350.1871 - val_loss: 342.1876\n",
            "Epoch 5/20\n",
            " - 12s - loss: 348.8609 - val_loss: 340.8027\n",
            "Epoch 6/20\n",
            " - 12s - loss: 347.8751 - val_loss: 342.0319\n",
            "Epoch 7/20\n",
            " - 12s - loss: 346.8882 - val_loss: 342.5132\n",
            "Epoch 8/20\n",
            " - 12s - loss: 346.2241 - val_loss: 340.2234\n",
            "Epoch 9/20\n",
            " - 12s - loss: 345.8586 - val_loss: 339.0260\n",
            "Epoch 10/20\n",
            " - 12s - loss: 345.1863 - val_loss: 338.9375\n",
            "Epoch 11/20\n",
            " - 12s - loss: 344.8248 - val_loss: 338.3350\n",
            "Epoch 12/20\n",
            " - 12s - loss: 344.5440 - val_loss: 340.5742\n",
            "Epoch 13/20\n",
            " - 12s - loss: 344.0965 - val_loss: 337.5193\n",
            "Epoch 14/20\n",
            " - 12s - loss: 343.5969 - val_loss: 337.8186\n",
            "Epoch 15/20\n",
            " - 12s - loss: 342.9225 - val_loss: 337.3438\n",
            "Epoch 16/20\n",
            " - 12s - loss: 341.7457 - val_loss: 335.8704\n",
            "Epoch 17/20\n",
            " - 12s - loss: 341.3629 - val_loss: 335.6963\n",
            "Epoch 18/20\n",
            " - 12s - loss: 341.3254 - val_loss: 335.6672\n",
            "Epoch 19/20\n",
            " - 12s - loss: 341.3060 - val_loss: 335.6665\n",
            "Epoch 20/20\n",
            " - 12s - loss: 341.2562 - val_loss: 335.4653\n"
          ],
          "name": "stdout"
        },
        {
          "output_type": "execute_result",
          "data": {
            "text/plain": [
              "<keras.callbacks.History at 0x7fe0b0e03dd8>"
            ]
          },
          "metadata": {
            "tags": []
          },
          "execution_count": 51
        }
      ]
    },
    {
      "cell_type": "code",
      "metadata": {
        "id": "UX0yg4gWmwq2",
        "colab_type": "code",
        "colab": {}
      },
      "source": [
        "encoder = Model(x, z_mean)\n",
        "# display a 2D plot of the digit classes in the latent space\n",
        "x_test_encoded = encoder.predict(x_test, batch_size=batch_size)"
      ],
      "execution_count": 0,
      "outputs": []
    },
    {
      "cell_type": "code",
      "metadata": {
        "id": "kKiMN77upGq_",
        "colab_type": "code",
        "outputId": "d91e59c5-cbb6-4e6f-82ff-d74cf96ed9e4",
        "colab": {
          "base_uri": "https://localhost:8080/",
          "height": 52
        }
      },
      "source": [
        "plt.figure(figsize=(18, 16), dpi=200)#Create a new figure."
      ],
      "execution_count": 48,
      "outputs": [
        {
          "output_type": "execute_result",
          "data": {
            "text/plain": [
              "<Figure size 3600x3200 with 0 Axes>"
            ]
          },
          "metadata": {
            "tags": []
          },
          "execution_count": 48
        },
        {
          "output_type": "display_data",
          "data": {
            "text/plain": [
              "<Figure size 3600x3200 with 0 Axes>"
            ]
          },
          "metadata": {
            "tags": []
          }
        }
      ]
    },
    {
      "cell_type": "code",
      "metadata": {
        "id": "3NE1hvk_uQPi",
        "colab_type": "code",
        "outputId": "2a43f77a-f114-4ce1-9e8c-5c7cc4b28eef",
        "colab": {
          "base_uri": "https://localhost:8080/",
          "height": 281
        }
      },
      "source": [
        "plt.scatter(x_test_encoded[:, 0], x_test_encoded[:, 1],c=y_test)\n",
        "plt.title('Variational Autoencoder')\n",
        "plt.colorbar()\n",
        "plt.show()\n"
      ],
      "execution_count": 49,
      "outputs": [
        {
          "output_type": "display_data",
          "data": {
            "image/png": "[encoded data removed]",
            "text/plain": [
              "<Figure size 432x288 with 2 Axes>"
            ]
          },
          "metadata": {
            "tags": []
          }
        }
      ]
    },
    {
      "cell_type": "code",
      "metadata": {
        "id": "mB7lwBriMk7e",
        "colab_type": "code",
        "colab": {}
      },
      "source": [
        ""
      ],
      "execution_count": 0,
      "outputs": []
    }
  ]
}