{
 "cells": [
  {
   "cell_type": "code",
   "execution_count": 1,
   "metadata": {},
   "outputs": [
    {
     "name": "stderr",
     "output_type": "stream",
     "text": [
      "Using TensorFlow backend.\n"
     ]
    },
    {
     "name": "stdout",
     "output_type": "stream",
     "text": [
      "number of data points:  50000\n"
     ]
    },
    {
     "data": {
      "text/html": [
       "<div>\n",
       "<style scoped>\n",
       "    .dataframe tbody tr th:only-of-type {\n",
       "        vertical-align: middle;\n",
       "    }\n",
       "\n",
       "    .dataframe tbody tr th {\n",
       "        vertical-align: top;\n",
       "    }\n",
       "\n",
       "    .dataframe thead th {\n",
       "        text-align: right;\n",
       "    }\n",
       "</style>\n",
       "<table border=\"1\" class=\"dataframe\">\n",
       "  <thead>\n",
       "    <tr style=\"text-align: right;\">\n",
       "      <th></th>\n",
       "      <th>name</th>\n",
       "      <th>sequence</th>\n",
       "    </tr>\n",
       "  </thead>\n",
       "  <tbody>\n",
       "    <tr>\n",
       "      <th>0</th>\n",
       "      <td>PABP_YEAST/115-210</td>\n",
       "      <td>qrdpslrkKGSGNIFIKNLHPDIDNKALYDTFSVFGDILSSKIATD...</td>\n",
       "    </tr>\n",
       "    <tr>\n",
       "      <th>1</th>\n",
       "      <td>ur|UPI0004E53ABB|UniRef100_UPI0004E53ABB/203-294</td>\n",
       "      <td>..epangsPKFFNVYVKNLPEKYTDDDLKSEFEAFGEITSAVVVKD...</td>\n",
       "    </tr>\n",
       "    <tr>\n",
       "      <th>2</th>\n",
       "      <td>ur|UPI0004E53ABB|UniRef100_UPI0004E53ABB/534-625</td>\n",
       "      <td>..epangsPKFFNVYVKNLPEKYTDDDLKSEFEASGEITSAVVVKD...</td>\n",
       "    </tr>\n",
       "    <tr>\n",
       "      <th>3</th>\n",
       "      <td>ur|UPI0004E53ABB|UniRef100_UPI0004E53ABB/312-398</td>\n",
       "      <td>........IRGLNLYLKNLDDTIDDERLKELFRPFGTIISCKVMVD...</td>\n",
       "    </tr>\n",
       "    <tr>\n",
       "      <th>4</th>\n",
       "      <td>ur|UPI0004E53ABB|UniRef100_UPI0004E53ABB/33-112</td>\n",
       "      <td>........---ASLYVGDLDLSVTEGQLFDLFSQIGPVASVRVCRD...</td>\n",
       "    </tr>\n",
       "  </tbody>\n",
       "</table>\n",
       "</div>"
      ],
      "text/plain": [
       "                                               name  \\\n",
       "0                                PABP_YEAST/115-210   \n",
       "1  ur|UPI0004E53ABB|UniRef100_UPI0004E53ABB/203-294   \n",
       "2  ur|UPI0004E53ABB|UniRef100_UPI0004E53ABB/534-625   \n",
       "3  ur|UPI0004E53ABB|UniRef100_UPI0004E53ABB/312-398   \n",
       "4   ur|UPI0004E53ABB|UniRef100_UPI0004E53ABB/33-112   \n",
       "\n",
       "                                            sequence  \n",
       "0  qrdpslrkKGSGNIFIKNLHPDIDNKALYDTFSVFGDILSSKIATD...  \n",
       "1  ..epangsPKFFNVYVKNLPEKYTDDDLKSEFEAFGEITSAVVVKD...  \n",
       "2  ..epangsPKFFNVYVKNLPEKYTDDDLKSEFEASGEITSAVVVKD...  \n",
       "3  ........IRGLNLYLKNLDDTIDDERLKELFRPFGTIISCKVMVD...  \n",
       "4  ........---ASLYVGDLDLSVTEGQLFDLFSQIGPVASVRVCRD...  "
      ]
     },
     "execution_count": 1,
     "metadata": {},
     "output_type": "execute_result"
    }
   ],
   "source": [
    "# Generic imports\n",
    "from __future__ import print_function\n",
    "%matplotlib inline\n",
    "import matplotlib.pyplot as plt\n",
    "import numpy as np\n",
    "import pandas as pd\n",
    "import math,random,re\n",
    "import time\n",
    "#Machine learning/Stats imports \n",
    "from scipy.stats import norm\n",
    "from scipy.stats import spearmanr,pearsonr\n",
    "from sklearn.preprocessing import normalize\n",
    "import tensorflow as tf\n",
    "import keras\n",
    "from keras.layers import Input, Dense\n",
    "from keras.models import Model\n",
    "from keras import regularizers\n",
    "from keras.layers import LSTM, RepeatVector\n",
    "from keras.layers import Input, Dense, Lambda, Dropout,Activation, TimeDistributed\n",
    "from keras import backend as Kw\n",
    "from keras import objectives\n",
    "from keras.callbacks import EarlyStopping\n",
    "from keras.layers.normalization import BatchNormalization\n",
    "from keras import regularizers\n",
    "#Invariants\n",
    "ORDER_KEY=\"XILVAGMFYWEDQNHCRKSTPBZ-\"[::-1]\n",
    "ORDER_LIST=list(ORDER_KEY)\n",
    "%reload_ext autoreload\n",
    "%autoreload 1\n",
    "from helper_tools import *\n",
    "from helper_tools_for_plotting import *\n",
    "data=pdataframe_from_alignment_file(\"PABP_YEAST_hmmerbit_plmc_n5_m30_f50_t0.2_r115-210_id100_b48.a2m\",50000)\n",
    "print (\"number of data points: \",len(data))\n",
    "data_set_size=len(data)\n",
    "data.head()\n"
   ]
  },
  {
   "cell_type": "code",
   "execution_count": null,
   "metadata": {},
   "outputs": [],
   "source": []
  },
  {
   "cell_type": "code",
   "execution_count": 2,
   "metadata": {},
   "outputs": [
    {
     "data": {
      "text/html": [
       "<div>\n",
       "<style scoped>\n",
       "    .dataframe tbody tr th:only-of-type {\n",
       "        vertical-align: middle;\n",
       "    }\n",
       "\n",
       "    .dataframe tbody tr th {\n",
       "        vertical-align: top;\n",
       "    }\n",
       "\n",
       "    .dataframe thead th {\n",
       "        text-align: right;\n",
       "    }\n",
       "</style>\n",
       "<table border=\"1\" class=\"dataframe\">\n",
       "  <thead>\n",
       "    <tr style=\"text-align: right;\">\n",
       "      <th></th>\n",
       "      <th>name</th>\n",
       "      <th>sequence</th>\n",
       "      <th>seq</th>\n",
       "    </tr>\n",
       "  </thead>\n",
       "  <tbody>\n",
       "    <tr>\n",
       "      <th>0</th>\n",
       "      <td>PABP_YEAST/115-210</td>\n",
       "      <td>qrdpslrkKGSGNIFIKNLHPDIDNKALYDTFSVFGDILSSKIATD...</td>\n",
       "      <td>KGSGNIFIKNLHPDIDNKALYDTFSVFGDILSSKIATDENGKSKGF...</td>\n",
       "    </tr>\n",
       "    <tr>\n",
       "      <th>1</th>\n",
       "      <td>ur|UPI0004E53ABB|UniRef100_UPI0004E53ABB/203-294</td>\n",
       "      <td>..epangsPKFFNVYVKNLPEKYTDDDLKSEFEAFGEITSAVVVKD...</td>\n",
       "      <td>PKFFNVYVKNLPEKYTDDDLKSEFEAFGEITSAVVVKDENGNSRGF...</td>\n",
       "    </tr>\n",
       "    <tr>\n",
       "      <th>2</th>\n",
       "      <td>ur|UPI0004E53ABB|UniRef100_UPI0004E53ABB/534-625</td>\n",
       "      <td>..epangsPKFFNVYVKNLPEKYTDDDLKSEFEASGEITSAVVVKD...</td>\n",
       "      <td>PKFFNVYVKNLPEKYTDDDLKSEFEASGEITSAVVVKDENGNSRGF...</td>\n",
       "    </tr>\n",
       "    <tr>\n",
       "      <th>3</th>\n",
       "      <td>ur|UPI0004E53ABB|UniRef100_UPI0004E53ABB/312-398</td>\n",
       "      <td>........IRGLNLYLKNLDDTIDDERLKELFRPFGTIISCKVMVD...</td>\n",
       "      <td>IRGLNLYLKNLDDTIDDERLKELFRPFGTIISCKVMVDSQGQSKGS...</td>\n",
       "    </tr>\n",
       "    <tr>\n",
       "      <th>4</th>\n",
       "      <td>ur|UPI0004E53ABB|UniRef100_UPI0004E53ABB/33-112</td>\n",
       "      <td>........---ASLYVGDLDLSVTEGQLFDLFSQIGPVASVRVCRD...</td>\n",
       "      <td>---ASLYVGDLDLSVTEGQLFDLFSQIGPVASVRVCRDIRRVSLGY...</td>\n",
       "    </tr>\n",
       "  </tbody>\n",
       "</table>\n",
       "</div>"
      ],
      "text/plain": [
       "                                               name  \\\n",
       "0                                PABP_YEAST/115-210   \n",
       "1  ur|UPI0004E53ABB|UniRef100_UPI0004E53ABB/203-294   \n",
       "2  ur|UPI0004E53ABB|UniRef100_UPI0004E53ABB/534-625   \n",
       "3  ur|UPI0004E53ABB|UniRef100_UPI0004E53ABB/312-398   \n",
       "4   ur|UPI0004E53ABB|UniRef100_UPI0004E53ABB/33-112   \n",
       "\n",
       "                                            sequence  \\\n",
       "0  qrdpslrkKGSGNIFIKNLHPDIDNKALYDTFSVFGDILSSKIATD...   \n",
       "1  ..epangsPKFFNVYVKNLPEKYTDDDLKSEFEAFGEITSAVVVKD...   \n",
       "2  ..epangsPKFFNVYVKNLPEKYTDDDLKSEFEASGEITSAVVVKD...   \n",
       "3  ........IRGLNLYLKNLDDTIDDERLKELFRPFGTIISCKVMVD...   \n",
       "4  ........---ASLYVGDLDLSVTEGQLFDLFSQIGPVASVRVCRD...   \n",
       "\n",
       "                                                 seq  \n",
       "0  KGSGNIFIKNLHPDIDNKALYDTFSVFGDILSSKIATDENGKSKGF...  \n",
       "1  PKFFNVYVKNLPEKYTDDDLKSEFEAFGEITSAVVVKDENGNSRGF...  \n",
       "2  PKFFNVYVKNLPEKYTDDDLKSEFEASGEITSAVVVKDENGNSRGF...  \n",
       "3  IRGLNLYLKNLDDTIDDERLKELFRPFGTIISCKVMVDSQGQSKGS...  \n",
       "4  ---ASLYVGDLDLSVTEGQLFDLFSQIGPVASVRVCRDIRRVSLGY...  "
      ]
     },
     "execution_count": 2,
     "metadata": {},
     "output_type": "execute_result"
    }
   ],
   "source": [
    "indices=index_of_non_lower_case_dot(data.iloc[0][\"sequence\"])\n",
    "data[\"seq\"]=list(map(prune_seq,data[\"sequence\"]))\n",
    "data.head()"
   ]
  },
  {
   "cell_type": "code",
   "execution_count": 3,
   "metadata": {},
   "outputs": [
    {
     "name": "stdout",
     "output_type": "stream",
     "text": [
      "50000\n",
      "(50000, 1968)\n",
      "number of mutants:  1188\n"
     ]
    },
    {
     "data": {
      "text/html": [
       "<div>\n",
       "<style scoped>\n",
       "    .dataframe tbody tr th:only-of-type {\n",
       "        vertical-align: middle;\n",
       "    }\n",
       "\n",
       "    .dataframe tbody tr th {\n",
       "        vertical-align: top;\n",
       "    }\n",
       "\n",
       "    .dataframe thead th {\n",
       "        text-align: right;\n",
       "    }\n",
       "</style>\n",
       "<table border=\"1\" class=\"dataframe\">\n",
       "  <thead>\n",
       "    <tr style=\"text-align: right;\">\n",
       "      <th></th>\n",
       "      <th>index</th>\n",
       "      <th>mutant</th>\n",
       "      <th>effect_prediction_epistatic</th>\n",
       "      <th>effect_prediction_independent</th>\n",
       "      <th>linear</th>\n",
       "    </tr>\n",
       "  </thead>\n",
       "  <tbody>\n",
       "    <tr>\n",
       "      <th>0</th>\n",
       "      <td>1</td>\n",
       "      <td>G126C</td>\n",
       "      <td>-5.663638</td>\n",
       "      <td>-0.027602</td>\n",
       "      <td>0.449027</td>\n",
       "    </tr>\n",
       "    <tr>\n",
       "      <th>1</th>\n",
       "      <td>2</td>\n",
       "      <td>G126E</td>\n",
       "      <td>-6.611062</td>\n",
       "      <td>-1.827612</td>\n",
       "      <td>0.588928</td>\n",
       "    </tr>\n",
       "    <tr>\n",
       "      <th>2</th>\n",
       "      <td>3</td>\n",
       "      <td>G126D</td>\n",
       "      <td>-7.270577</td>\n",
       "      <td>-1.180094</td>\n",
       "      <td>0.229853</td>\n",
       "    </tr>\n",
       "    <tr>\n",
       "      <th>3</th>\n",
       "      <td>4</td>\n",
       "      <td>G126N</td>\n",
       "      <td>-5.809167</td>\n",
       "      <td>0.387443</td>\n",
       "      <td>0.679435</td>\n",
       "    </tr>\n",
       "    <tr>\n",
       "      <th>4</th>\n",
       "      <td>5</td>\n",
       "      <td>G126S</td>\n",
       "      <td>-4.617248</td>\n",
       "      <td>0.661686</td>\n",
       "      <td>0.721788</td>\n",
       "    </tr>\n",
       "    <tr>\n",
       "      <th>5</th>\n",
       "      <td>6</td>\n",
       "      <td>G126R</td>\n",
       "      <td>-5.582381</td>\n",
       "      <td>1.144148</td>\n",
       "      <td>0.313690</td>\n",
       "    </tr>\n",
       "    <tr>\n",
       "      <th>6</th>\n",
       "      <td>7</td>\n",
       "      <td>G126W</td>\n",
       "      <td>-8.079901</td>\n",
       "      <td>-2.052391</td>\n",
       "      <td>0.226032</td>\n",
       "    </tr>\n",
       "    <tr>\n",
       "      <th>7</th>\n",
       "      <td>8</td>\n",
       "      <td>G126V</td>\n",
       "      <td>-5.435631</td>\n",
       "      <td>-0.800307</td>\n",
       "      <td>0.230315</td>\n",
       "    </tr>\n",
       "    <tr>\n",
       "      <th>8</th>\n",
       "      <td>9</td>\n",
       "      <td>N127A</td>\n",
       "      <td>-4.987206</td>\n",
       "      <td>-2.251823</td>\n",
       "      <td>0.062650</td>\n",
       "    </tr>\n",
       "    <tr>\n",
       "      <th>9</th>\n",
       "      <td>10</td>\n",
       "      <td>N127C</td>\n",
       "      <td>-8.044181</td>\n",
       "      <td>-2.215639</td>\n",
       "      <td>0.024996</td>\n",
       "    </tr>\n",
       "  </tbody>\n",
       "</table>\n",
       "</div>"
      ],
      "text/plain": [
       "   index mutant  effect_prediction_epistatic  effect_prediction_independent  \\\n",
       "0      1  G126C                    -5.663638                      -0.027602   \n",
       "1      2  G126E                    -6.611062                      -1.827612   \n",
       "2      3  G126D                    -7.270577                      -1.180094   \n",
       "3      4  G126N                    -5.809167                       0.387443   \n",
       "4      5  G126S                    -4.617248                       0.661686   \n",
       "5      6  G126R                    -5.582381                       1.144148   \n",
       "6      7  G126W                    -8.079901                      -2.052391   \n",
       "7      8  G126V                    -5.435631                      -0.800307   \n",
       "8      9  N127A                    -4.987206                      -2.251823   \n",
       "9     10  N127C                    -8.044181                      -2.215639   \n",
       "\n",
       "     linear  \n",
       "0  0.449027  \n",
       "1  0.588928  \n",
       "2  0.229853  \n",
       "3  0.679435  \n",
       "4  0.721788  \n",
       "5  0.313690  \n",
       "6  0.226032  \n",
       "7  0.230315  \n",
       "8  0.062650  \n",
       "9  0.024996  "
      ]
     },
     "execution_count": 3,
     "metadata": {},
     "output_type": "execute_result"
    }
   ],
   "source": [
    "PRUNED_SEQ_LENGTH=len(data.iloc[0][\"seq\"])\n",
    "with open (\"PABP_YEAST_hmmerbit_t0.2_r50000.reweight\",\"rb\") as to_read:\n",
    "    new_weights=np.load(to_read)\n",
    "\n",
    "#new_weights=reweight_sequences(data[\"seq\"],0.1)\n",
    "len(new_weights),new_weights[:10]\n",
    "#Encode training data in one_hot vectors\n",
    "training_data_one_hot=[]\n",
    "labels=[]\n",
    "for i, row in data.iterrows():\n",
    "    training_data_one_hot.append(translate_string_to_one_hot(row[\"seq\"],ORDER_LIST))\n",
    "print (len(training_data_one_hot))\n",
    "#plt.imshow(training_data_one_hot[0],cmap=\"Greys\")\n",
    "training_data=np.array([np.array(list(sample.flatten())).T for sample in training_data_one_hot])\n",
    "print(training_data.shape)\n",
    "exp_data_full=pd.read_csv(\n",
    "    \"PABP_YEAST_Fields2013-singles.csv\", sep=\";\", comment=\"#\"\n",
    ")\n",
    "print (\"number of mutants: \",len(exp_data_full))\n",
    "exp_data_full.head()\n",
    "exp_data_full.iloc[87]\n",
    "exp_data_full.corr(method=\"spearman\")\n",
    "OFFSET=117\n",
    "#Deciding offset requires investigating the dataset and alignment.\n",
    "exp_data_singles=pd.DataFrame(columns=exp_data_full.columns)\n",
    "#decide starting index depending on how the file is \"headered\"\n",
    "for i,row in exp_data_full[1:].iterrows():\n",
    "        pos=re.split(r'(\\d+)', row.mutant) \n",
    "        if int(pos[1])-OFFSET in indices:\n",
    "            exp_data_singles=exp_data_singles.append(row)\n",
    "exp_data_singles=exp_data_singles.reset_index()\n",
    "target_values_singles=list(exp_data_singles[\"linear\"])\n",
    "exp_data_singles.head(10) "
   ]
  },
  {
   "cell_type": "code",
   "execution_count": 4,
   "metadata": {},
   "outputs": [
    {
     "name": "stdout",
     "output_type": "stream",
     "text": [
      "1187 1187\n",
      "[('K', 'K'), ('G', 'G'), ('S', 'S'), ('G', 'N'), ('N', 'N'), ('I', 'I'), ('F', 'F'), ('I', 'I'), ('K', 'K'), ('N', 'N')]\n"
     ]
    }
   ],
   "source": [
    "mutation_data=[re.split(r'(\\d+)', s) for s in exp_data_singles.mutant]#split the mutant coll e.g.N,126,C\n",
    "wt_sequence=data.iloc[0].seq#wt:KGSGNIFIKNLHPDIDNKALYDTFSVFGDILSS\n",
    "mutants=mutate_single(wt_sequence,mutation_data,offset=0,index=3) #note that you change index to 1\n",
    "\n",
    "#sanity checks\n",
    "print (len(mutants),len(exp_data_singles))\n",
    "#the mutant should be in the correct place\n",
    "print (list(zip(wt_sequence,mutants[3]))[:10])#change the index [3] G to N and pring the first 10 position of mutant\n",
    "#Test data with wt at 0 index\n",
    "one_hot_mutants=[]#encode each matant to one hot \n",
    "mutants_plus=[data.iloc[0][\"seq\"]]+mutants\n",
    "for mutant in mutants_plus:\n",
    "    one_hot_mutants.append(translate_string_to_one_hot(\"\".join(mutant),ORDER_LIST))\n",
    "\n",
    "test_data_plus=np.array([np.array(list(sample.flatten())).T for sample in one_hot_mutants])"
   ]
  },
  {
   "cell_type": "code",
   "execution_count": 5,
   "metadata": {},
   "outputs": [
    {
     "name": "stdout",
     "output_type": "stream",
     "text": [
      "number of mutants:  36522\n",
      "13876 13876\n",
      "[('G', 'G'), ('K', 'K'), ('S', 'S'), ('K', 'K'), ('G', 'G'), ('F', 'F'), ('G', 'A'), ('F', 'I'), ('V', 'V'), ('H', 'H')]\n"
     ]
    }
   ],
   "source": [
    "exp_data_full=pd.read_csv(\n",
    "    \"PABP_YEAST_Fields2013-doubles.csv\", sep=\";\", comment=\"#\"\n",
    ")\n",
    "print (\"number of mutants: \",len(exp_data_full))\n",
    "exp_data_full.head()\n",
    "exp_data_full.iloc[0]\n",
    "exp_data_full.corr(method=\"spearman\")\n",
    "OFFSET=160\n",
    "#Deciding offset requires investigating the dataset and alignment.\n",
    "exp_data_doubles=pd.DataFrame(columns=exp_data_full.columns)\n",
    "#decide starting index depending on how the file is \"headered\"\n",
    "for i,row in exp_data_full[0:].iterrows():\n",
    "        pos=re.split(r'(\\d+)', row.mutant) \n",
    "        if int(pos[1])-OFFSET in indices and int(pos[3])-OFFSET in indices:\n",
    "            exp_data_doubles=exp_data_doubles.append(row)\n",
    "exp_data_doubles=exp_data_doubles.reset_index()\n",
    "exp_data_doubles.head(5)\n",
    "target_values_doubles=list(exp_data_doubles[\"XY_Enrichment_score\"])\n",
    "exp_data_doubles.corr(method=\"spearman\")\n",
    "mutation_data1=[re.split(r'(\\d+)', s.split(\",\")[0]) for s in exp_data_doubles.mutant]\n",
    "mutation_data2=[re.split(r'(\\d+)', s.split(\",\")[1]) for s in exp_data_doubles.mutant]\n",
    "wt_sequence=data.iloc[0].seq#KGSGNIFIKNLHPDIDNKALYDTFSVFGDILSS\n",
    "\n",
    "mutants_double=mutate_double(wt_sequence,mutation_data1,mutation_data2,offset=0,index=46)\n",
    "\n",
    "#sanity checks\n",
    "print (len(mutants_double),len(exp_data_doubles))\n",
    "#the mutant should be in the correct place\n",
    "print (list(zip(wt_sequence,mutants_double[2]))[40:50])\n",
    "#Test data with wt at 0 index\n",
    "one_hot_mutants=[]\n",
    "mutants_plus=[data.iloc[0][\"seq\"]]+mutants_double\n",
    "for mutant in mutants_plus:\n",
    "    one_hot_mutants.append(translate_string_to_one_hot(\"\".join(mutant),ORDER_LIST))\n",
    "\n",
    "test_data_doubles_plus=np.array([np.array(list(sample.flatten())).T for sample in one_hot_mutants])"
   ]
  },
  {
   "cell_type": "code",
   "execution_count": 6,
   "metadata": {},
   "outputs": [],
   "source": [
    "all_test_data=np.vstack([test_data_plus,test_data_doubles_plus[1:]])\n",
    "all_test_data_flattened=np.array([np.array(list(sample.flatten())).T for sample in all_test_data])"
   ]
  },
  {
   "cell_type": "code",
   "execution_count": 7,
   "metadata": {},
   "outputs": [],
   "source": [
    "class rho_vs_mutants(keras.callbacks.Callback):\n",
    "    def __init__(self,mutants,test_set_size,aa_size,sequence_size):\n",
    "        self.mutants=mutants\n",
    "        self.sample_size=test_set_size\n",
    "        self.aa_size=aa_size\n",
    "        self.sequence_size=sequence_size\n",
    "        self.scores=[]\n",
    "        self.count_batch=0\n",
    "    def on_train_begin(self, logs={}):\n",
    "        self.losses = []\n",
    "    def on_batch_end(self, batch, logs={}):\n",
    "        self.losses.append(logs.get('loss'))\n",
    "    #This allows us to track the \"progress\" of the model on different epochs\n",
    "    def on_epoch_end(self,batch,logs):\n",
    "        x_decoded=vae.predict(test_data_plus[0:self.sample_size],batch_size=batch_size)\n",
    "        digit = x_decoded[0].reshape(self.aa_size,self.sequence_size)\n",
    "        digit_wt = normalize(digit,axis=0, norm='l1')\n",
    "        wt_prob=compute_log_probability(digit,digit_wt)\n",
    "        fitnesses=[]\n",
    "        for sample in range(1,self.sample_size):\n",
    "            digit = x_decoded[sample].reshape(self.aa_size,self.sequence_size)\n",
    "            digit = normalize(digit,axis=0, norm='l1')\n",
    "            fitness=compute_log_probability(test_data_plus[sample].reshape(self.aa_size,self.sequence_size),digit)-wt_prob\n",
    "            fitnesses.append(fitness)\n",
    "#Recontruction sample generated from the decoder with test data after each epoch            \n",
    "#Using these reconstructions, compute the (log) probability of a sequence\n",
    "#Once we have computed P(σi) for every sequence σi in our mutant set, \n",
    "#we can compare the rho of each sequence with the experimentally measured function of the sequence.\n",
    "        print (\",\"+str(spearmanr(fitnesses,target_values_singles[:self.sample_size-1])))\n",
    "        #target_values_singles=list(exp_data_singles[\"linear\"])\n",
    "        self.scores.append(spearmanr(fitnesses,target_values_singles[:self.sample_size-1])[0])\n",
    "            "
   ]
  },
  {
   "cell_type": "code",
   "execution_count": 8,
   "metadata": {},
   "outputs": [
    {
     "name": "stderr",
     "output_type": "stream",
     "text": [
      "C:\\Users\\wruoq\\Anaconda3\\envs\\tensorflow\\lib\\site-packages\\ipykernel_launcher.py:34: UserWarning: Update your `BatchNormalization` call to the Keras 2 API: `BatchNormalization()`\n"
     ]
    }
   ],
   "source": [
    "batch_size = 20\n",
    "original_dim=len(ORDER_LIST)*PRUNED_SEQ_LENGTH\n",
    "output_dim=len(ORDER_LIST)*PRUNED_SEQ_LENGTH\n",
    "latent_dim = 2\n",
    "intermediate_dim = 250#500\n",
    "nb_epoch = 2\n",
    "epsilon_std = 1.0\n",
    "np.random.seed(42)  \n",
    "#cnn based vae  \n",
    "def sampling(args):\n",
    "    \"\"\"Reparameterization trick by sampling from an isotropic unit Gaussian.\n",
    "    # Arguments\n",
    "        args (tensor): mean and log of variance of Q(z|X)\n",
    "    # Returns\n",
    "        z (tensor): sampled latent vector\n",
    "    \"\"\"\n",
    "\n",
    "    z_mean, z_log_var = args\n",
    "    batch = K.shape(z_mean)[0]\n",
    "    dim = K.int_shape(z_mean)[1]\n",
    "    # by default, random_normal has mean = 0 and std = 1.0\n",
    "    epsilon = K.random_normal(shape=(batch, dim))\n",
    "    return z_mean + K.exp(0.5 * z_log_var) * epsilon\n",
    "def vae_loss(x, x_decoded_mean):\n",
    "    xent_loss = original_dim * objectives.categorical_crossentropy(x,  x_decoded_mean)\n",
    "    kl_loss = - 0.5 * K.sum(1 + z_log_var - K.square(z_mean) - K.exp(z_log_var), axis=-1)\n",
    "    return xent_loss + kl_loss\n",
    "\n",
    "#Encoding Layers\n",
    "x = Input(batch_shape=(batch_size, original_dim))\n",
    "h = Dense(intermediate_dim,activation=\"elu\")(x)\n",
    "h= Dropout(0.7)(h)\n",
    "h = Dense(intermediate_dim, activation='elu')(h)\n",
    "h=BatchNormalization(mode=0)(h)\n",
    "h = Dense(intermediate_dim, activation='elu')(h)\n",
    "#Latent layers\n",
    "z_mean=Dense(latent_dim)(h)\n",
    "z_log_var=Dense(latent_dim)(h)\n",
    "z = Lambda(sampling, output_shape=(latent_dim,))([z_mean, z_log_var])\n",
    "\n",
    "#Decoding layers \n",
    "\n",
    "decoder_1= Dense(intermediate_dim, activation='elu')\n",
    "decoder_2=Dense(intermediate_dim, activation='elu')\n",
    "decoder_2d=Dropout(0.7)\n",
    "decoder_3=Dense(intermediate_dim, activation='elu')\n",
    "decoder_out=Dense(output_dim, activation='sigmoid')\n",
    "x_decoded_mean = decoder_out(decoder_3(decoder_2d(decoder_2(decoder_1(z)))))\n",
    "\n",
    "vae = Model(x, x_decoded_mean)\n",
    "\n",
    "#Potentially better results, but requires further hyperparameter tuning\n",
    "#optimizer=keras.optimizers.SGD(lr=0.005, momentum=0.001, decay=0.0, nesterov=False,clipvalue=0.05)\n",
    "vae.compile(optimizer=\"adam\", loss=vae_loss)"
   ]
  },
  {
   "cell_type": "code",
   "execution_count": 9,
   "metadata": {},
   "outputs": [
    {
     "name": "stderr",
     "output_type": "stream",
     "text": [
      "C:\\Users\\wruoq\\Anaconda3\\envs\\tensorflow\\lib\\site-packages\\ipykernel_launcher.py:12: UserWarning: The `nb_epoch` argument in `fit` has been renamed `epochs`.\n",
      "  if sys.path[0] == '':\n"
     ]
    },
    {
     "name": "stdout",
     "output_type": "stream",
     "text": [
      "Train on 45000 samples, validate on 5000 samples\n",
      "Epoch 1/2\n",
      "45000/45000 [==============================] - 77s 2ms/step - loss: 923945.5066 - val_loss: 972223.8510\n",
      ",SpearmanrResult(correlation=0.5772832298937196, pvalue=1.0099605777711195e-105)\n",
      "Epoch 2/2\n",
      "45000/45000 [==============================] - 75s 2ms/step - loss: 881497.9942 - val_loss: 966916.0312\n",
      ",SpearmanrResult(correlation=0.613050809867873, pvalue=1.2988959485688695e-122)\n"
     ]
    }
   ],
   "source": [
    "x_train=training_data[:data_set_size] #this needs to be divisible by batch size and less than or equal to dataset size\n",
    "x_train = x_train.astype('float32')\n",
    "x_train = x_train.reshape((len(x_train), np.prod(x_train.shape[1:])))\n",
    "\n",
    "early_stopping = EarlyStopping(monitor='val_loss', patience=3)\n",
    "spearman_measure=rho_vs_mutants(test_data_plus,batch_size*int(len(test_data_plus)/batch_size),len(ORDER_LIST),PRUNED_SEQ_LENGTH)\n",
    "\n",
    "hist=vae.fit(x_train,x_train ,\n",
    "        shuffle=True,\n",
    "        nb_epoch=nb_epoch,\n",
    "        batch_size=batch_size, #sample_weight=np.array(new_weights),\n",
    "        validation_split=0.1,callbacks=[early_stopping,spearman_measure])"
   ]
  },
  {
   "cell_type": "code",
   "execution_count": 10,
   "metadata": {},
   "outputs": [
    {
     "data": {
      "image/png": "[encoded data removed]",
      "text/plain": [
       "<Figure size 432x288 with 1 Axes>"
      ]
     },
     "metadata": {
      "needs_background": "light"
     },
     "output_type": "display_data"
    }
   ],
   "source": [
    "plt.plot(spearman_measure.scores)\n",
    "plt.title(\"Spearman corr over epochs\")\n",
    "plt.xlabel(\"epochs\")\n",
    "plt.ylabel(\"Spearman corr\");"
   ]
  },
  {
   "cell_type": "code",
   "execution_count": 11,
   "metadata": {},
   "outputs": [],
   "source": [
    "encoder = Model(x, z_mean)\n",
    "sample_points=data_set_size\n",
    "\n",
    "sample_size=batch_size*int(len(test_data_plus)/batch_size)\n",
    "sample_for_averging_size=100\n",
    "sequence_size=PRUNED_SEQ_LENGTH#82\n",
    "digit_size = len(ORDER_LIST)"
   ]
  },
  {
   "cell_type": "code",
   "execution_count": 12,
   "metadata": {
    "scrolled": true
   },
   "outputs": [
    {
     "data": {
      "text/plain": [
       "Text(0.5,1,'one hot encoding of input sequence (wt(red))')"
      ]
     },
     "execution_count": 12,
     "metadata": {},
     "output_type": "execute_result"
    },
    {
     "data": {
      "image/png": "[encoded data removed]",
      "text/plain": [
       "<Figure size 864x1296 with 1 Axes>"
      ]
     },
     "metadata": {
      "needs_background": "light"
     },
     "output_type": "display_data"
    }
   ],
   "source": [
    "fig = plt.figure(figsize=(12,18))\n",
    "\n",
    "fig.add_subplot(411)\n",
    "\n",
    "plt.pcolor(test_data_plus[0].reshape(digit_size,sequence_size),cmap=\"hot\",vmin=0,vmax=3)\n",
    "\n",
    "plt.xlim(0,82);\n",
    "plt.ylim(0,24);\n",
    "plt.yticks(range(24),ORDER_LIST)\n",
    "\n",
    "plt.title(\"one hot encoding of input sequence (wt(red))\")\n"
   ]
  },
  {
   "cell_type": "code",
   "execution_count": 13,
   "metadata": {},
   "outputs": [
    {
     "data": {
      "text/plain": [
       "Text(0.5,1,'one hot encoding of recontruction sequence (wt(red))')"
      ]
     },
     "execution_count": 13,
     "metadata": {},
     "output_type": "execute_result"
    },
    {
     "data": {
      "image/png": "[encoded data removed]",
      "text/plain": [
       "<Figure size 864x1296 with 1 Axes>"
      ]
     },
     "metadata": {
      "needs_background": "light"
     },
     "output_type": "display_data"
    }
   ],
   "source": [
    "x_decoded=vae.predict(test_data_plus[0:1000],batch_size=batch_size)\n",
    "digit_wt = x_decoded[0].reshape(digit_size,sequence_size)#24*82\n",
    "fig = plt.figure(figsize=(12,18))\n",
    "\n",
    "fig.add_subplot(411)\n",
    "\n",
    "plt.pcolor(digit_wt.reshape(digit_size,sequence_size),cmap=\"hot\",vmin=0,vmax=3)\n",
    "\n",
    "plt.xlim(0,82);\n",
    "plt.ylim(0,24);\n",
    "plt.yticks(range(24),ORDER_LIST)\n",
    "\n",
    "plt.title(\"one hot encoding of recontruction sequence (wt(red))\")\n"
   ]
  },
  {
   "cell_type": "code",
   "execution_count": 14,
   "metadata": {},
   "outputs": [
    {
     "name": "stdout",
     "output_type": "stream",
     "text": [
      "[[3.11181605e-01 2.84892648e-01 1.82243377e-01 ... 8.77042562e-02\n",
      "  9.75638628e-02 9.06487182e-02]\n",
      " [1.55548259e-05 2.20356269e-05 2.06595050e-05 ... 1.51344875e-05\n",
      "  1.77092406e-05 2.11796560e-05]\n",
      " [1.76547928e-05 1.73862227e-05 2.43094655e-05 ... 1.80460029e-05\n",
      "  2.00160066e-05 1.58810017e-05]\n",
      " ...\n",
      " [3.79917561e-03 5.78414463e-03 7.21947383e-03 ... 4.55877036e-01\n",
      "  7.15733785e-03 7.23293843e-03]\n",
      " [2.47406890e-03 5.05201286e-03 3.27042304e-02 ... 7.58978426e-01\n",
      "  1.55135844e-04 2.38095687e-04]\n",
      " [4.44633944e-04 6.74537441e-05 4.96774737e-05 ... 7.78630085e-04\n",
      "  2.51648705e-02 1.58720475e-03]]\n"
     ]
    }
   ],
   "source": [
    "print(digit_wt)"
   ]
  },
  {
   "cell_type": "code",
   "execution_count": 100,
   "metadata": {},
   "outputs": [
    {
     "data": {
      "image/png": "[encoded data removed]",
      "text/plain": [
       "<Figure size 864x1296 with 1 Axes>"
      ]
     },
     "metadata": {
      "needs_background": "light"
     },
     "output_type": "display_data"
    },
    {
     "data": {
      "image/png": "[encoded data removed]",
      "text/plain": [
       "<Figure size 864x1296 with 3 Axes>"
      ]
     },
     "metadata": {
      "needs_background": "light"
     },
     "output_type": "display_data"
    }
   ],
   "source": [
    "fig = plt.figure(figsize=(12,18))\n",
    "\n",
    "fig.add_subplot(411)\n",
    "\n",
    "plt.pcolor(training_data_one_hot[0].reshape(digit_size,sequence_size),cmap=\"hot\",vmin=0,vmax=3)\n",
    "\n",
    "plt.xlim(0,82);\n",
    "plt.ylim(0,24);\n",
    "plt.yticks(range(24),ORDER_LIST)\n",
    "\n",
    "plt.title(\"one hot encoding of input sequence (wt(red))\")\n",
    "\n",
    "fig = plt.figure(figsize=(12,18))\n",
    "\n",
    "fig.add_subplot(411)\n",
    "\n",
    "plt.pcolor(test_data_plus[0].reshape(digit_size,sequence_size),cmap=\"hot\",vmin=0,vmax=3)\n",
    "\n",
    "plt.xlim(0,82);\n",
    "plt.ylim(0,24);\n",
    "plt.yticks(range(24),ORDER_LIST)\n",
    "\n",
    "plt.title(\"one hot encoding of input sequence (wt(red))\")\n",
    "fig.add_subplot(414)\n",
    "\n",
    "plt.pcolor(test_data_plus[0].reshape(digit_size,sequence_size)-training_data_one_hot[0].reshape(digit_size,sequence_size),cmap=\"bwr\",vmin=-0.05,vmax=0.05)\n",
    "plt.colorbar()\n",
    "plt.xlim(0,82);\n",
    "plt.ylim(0,24);\n",
    "plt.yticks(range(24),ORDER_LIST)\n",
    "\n",
    "plt.title(\"difference of (input-input): Notice that the scale is different\");\n"
   ]
  },
  {
   "cell_type": "code",
   "execution_count": 33,
   "metadata": {},
   "outputs": [
    {
     "data": {
      "text/plain": [
       "Text(0.5,1,'one hot encoding of recontruction sequence (wt(red))')"
      ]
     },
     "execution_count": 33,
     "metadata": {},
     "output_type": "execute_result"
    },
    {
     "data": {
      "image/png": "[encoded data removed]",
      "text/plain": [
       "<Figure size 864x1296 with 1 Axes>"
      ]
     },
     "metadata": {
      "needs_background": "light"
     },
     "output_type": "display_data"
    }
   ],
   "source": [
    "x_decoded=vae.predict(test_data_plus[0:1000],batch_size=batch_size)\n",
    "digit_wt = x_decoded[0].reshape(digit_size,sequence_size)#24*82\n",
    "fig = plt.figure(figsize=(12,18))\n",
    "\n",
    "fig.add_subplot(411)\n",
    "\n",
    "plt.pcolor(digit_wt.reshape(digit_size,sequence_size),cmap=\"hot\",vmin=0,vmax=3)\n",
    "\n",
    "plt.xlim(0,82);\n",
    "plt.ylim(0,24);\n",
    "plt.yticks(range(24),ORDER_LIST)\n",
    "\n",
    "plt.title(\"one hot encoding of recontruction sequence (wt(red))\")\n",
    "\n"
   ]
  },
  {
   "cell_type": "code",
   "execution_count": 77,
   "metadata": {},
   "outputs": [
    {
     "name": "stdout",
     "output_type": "stream",
     "text": [
      "(1968,)\n",
      "(24, 82)\n",
      "[[3.1089953e-01 2.8453225e-01 1.8195631e-01 ... 8.7469213e-02\n",
      "  9.7384281e-02 9.0328589e-02]\n",
      " [1.5377378e-05 2.1793432e-05 2.0410389e-05 ... 1.4957597e-05\n",
      "  1.7510974e-05 2.0987660e-05]\n",
      " [1.7475439e-05 1.7186572e-05 2.4082461e-05 ... 1.7845428e-05\n",
      "  1.9791874e-05 1.5705598e-05]\n",
      " ...\n",
      " [3.7994646e-03 5.7517025e-03 7.1712914e-03 ... 4.5569518e-01\n",
      "  7.1279625e-03 7.2107986e-03]\n",
      " [2.4633326e-03 5.0217570e-03 3.2596886e-02 ... 7.5904989e-01\n",
      "  1.5339439e-04 2.3673930e-04]\n",
      " [4.4132929e-04 6.6534114e-05 4.9117851e-05 ... 7.7235018e-04\n",
      "  2.5001936e-02 1.5832651e-03]]\n",
      "(82,)\n",
      "[0.69775265 0.885178   0.43489003 0.9723219  0.9982217  0.719194\n",
      " 0.99720424 0.8297824  0.9985258  0.99491924 0.9990171  0.9339682\n",
      " 0.74082446 0.7028039  0.85703546 0.96715784 0.9299564  0.94434935\n",
      " 0.89258343 0.9897886  0.82319796 0.9140754  0.9233972  0.9928854\n",
      " 0.73664135 0.47201154 0.94344574 0.9999033  0.7762223  0.9165303\n",
      " 0.906487   0.9979335  0.92515886 0.98876697 0.96617895 0.9307743\n",
      " 0.4733455  0.97132707 0.7480013  0.33967295 0.9938566  0.39945957\n",
      " 0.99673456 0.955152   0.999608   0.945588   0.94535655 0.98788005\n",
      " 0.987987   0.947326   0.9569523  0.9808631  0.7156442  0.805414\n",
      " 0.9125803  0.82995474 0.998514   0.282787   0.30614904 0.99874413\n",
      " 0.9044875  0.57937956 0.7613954  0.7687768  0.9917223  0.96459043\n",
      " 0.9364287  0.85214967 0.86397356 0.93688136 0.77799135 0.8332181\n",
      " 0.6721875  0.8911604  0.8295171  0.99542564 0.99578923 0.470351\n",
      " 0.9394571  0.7590499  0.45290405 0.63163036]\n"
     ]
    }
   ],
   "source": [
    "x_decoded=vae.predict(test_data_plus[0:1000],batch_size=batch_size)\n",
    "print(x_decoded[0].shape)\n",
    "\n",
    "digit_wt = x_decoded[0].reshape(digit_size,sequence_size)#24*82\n",
    "print(digit_wt.shape)\n",
    "print(digit_wt)\n",
    "max = np.max(digit_wt,axis=0)\n",
    "#print(max.shape)\n",
    "#print(max)"
   ]
  },
  {
   "cell_type": "code",
   "execution_count": 101,
   "metadata": {
    "scrolled": false,
    "slideshow": {
     "slide_type": "-"
    }
   },
   "outputs": [
    {
     "data": {
      "image/png": "[encoded data removed]",
      "text/plain": [
       "<Figure size 864x1296 with 1 Axes>"
      ]
     },
     "metadata": {
      "needs_background": "light"
     },
     "output_type": "display_data"
    },
    {
     "data": {
      "image/png": "[encoded data removed]",
      "text/plain": [
       "<Figure size 864x1296 with 1 Axes>"
      ]
     },
     "metadata": {
      "needs_background": "light"
     },
     "output_type": "display_data"
    },
    {
     "data": {
      "image/png": "[encoded data removed]",
      "text/plain": [
       "<Figure size 864x1296 with 1 Axes>"
      ]
     },
     "metadata": {
      "needs_background": "light"
     },
     "output_type": "display_data"
    },
    {
     "data": {
      "image/png": "[encoded data removed]",
      "text/plain": [
       "<Figure size 864x1296 with 2 Axes>"
      ]
     },
     "metadata": {
      "needs_background": "light"
     },
     "output_type": "display_data"
    }
   ],
   "source": [
    "x_decoded=vae.predict(test_data_plus[0:200],batch_size=batch_size)\n",
    "digit_wt = x_decoded[0].reshape(digit_size,sequence_size)#24*82\n",
    "fig = plt.figure(figsize=(12,18))\n",
    "\n",
    "fig.add_subplot(411)\n",
    "\n",
    "plt.pcolor(digit_wt.reshape(digit_size,sequence_size),cmap=\"hot\",vmin=0,vmax=3)\n",
    "\n",
    "plt.xlim(0,82);\n",
    "plt.ylim(0,24);\n",
    "plt.yticks(range(24),ORDER_LIST)\n",
    "\n",
    "plt.title(\"one hot encoding of recontruction sequence (wt(red))\")\n",
    "\n",
    "import numpy as np\n",
    "\n",
    "max = np.max(digit_wt,axis=0)\n",
    "for i in range(82):  \n",
    "    for j in range(24):\n",
    "        if (max[i]>digit_wt[j,i]):\n",
    "            digit_wt [j,i] = 0\n",
    "        else:\n",
    "            digit_wt [j,i] = 1\n",
    "#print(digit_wt)  \n",
    "fig = plt.figure(figsize=(12,18))\n",
    "\n",
    "fig.add_subplot(412)\n",
    "\n",
    "plt.pcolor(digit_wt.reshape(digit_size,sequence_size),cmap=\"hot\",vmin=0,vmax=3)\n",
    "\n",
    "plt.xlim(0,82);\n",
    "plt.ylim(0,24);\n",
    "plt.yticks(range(24),ORDER_LIST)\n",
    "\n",
    "plt.title(\"one hot encoding of recontruction sequence (wt(red))\")\n",
    "\n",
    "fig = plt.figure(figsize=(12,18))\n",
    "\n",
    "fig.add_subplot(411)\n",
    "\n",
    "plt.pcolor(test_data_plus[0].reshape(digit_size,sequence_size),cmap=\"hot\",vmin=0,vmax=3)\n",
    "\n",
    "plt.xlim(0,82);\n",
    "plt.ylim(0,24);\n",
    "plt.yticks(range(24),ORDER_LIST)\n",
    "\n",
    "plt.title(\"one hot encoding of input sequence (wt(red))\")\n",
    "\n",
    "\n",
    "fig = plt.figure(figsize=(12,18))\n",
    "\n",
    "fig.add_subplot(413)\n",
    "plt.pcolor(test_data_plus[0].reshape(digit_size,sequence_size)-digit_wt,cmap=\"bwr\",vmin=-0.05,vmax=0.05)\n",
    "plt.colorbar()\n",
    "plt.xlim(0,82);\n",
    "plt.ylim(0,24);\n",
    "plt.yticks(range(24),ORDER_LIST)\n",
    "\n",
    "plt.title(\"differences of input and recontruction\");\n",
    "\n"
   ]
  }
 ],
 "metadata": {
  "celltoolbar": "Tags",
  "kernelspec": {
   "display_name": "Python 3",
   "language": "python",
   "name": "python3"
  },
  "language_info": {
   "codemirror_mode": {
    "name": "ipython",
    "version": 3
   },
   "file_extension": ".py",
   "mimetype": "text/x-python",
   "name": "python",
   "nbconvert_exporter": "python",
   "pygments_lexer": "ipython3",
   "version": "3.5.6"
  }
 },
 "nbformat": 4,
 "nbformat_minor": 2
}
