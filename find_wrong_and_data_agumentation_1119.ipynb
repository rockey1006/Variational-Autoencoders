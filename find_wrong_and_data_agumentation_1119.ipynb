{
  "nbformat": 4,
  "nbformat_minor": 0,
  "metadata": {
    "colab": {
      "name": "find_wrong_and_data_agumentation_1119.ipynb",
      "provenance": [],
      "toc_visible": true,
      "authorship_tag": "ABX9TyO/APdo3oip+6sXfR5e+dp7",
      "include_colab_link": true
    },
    "kernelspec": {
      "name": "python3",
      "display_name": "Python 3"
    },
    "accelerator": "GPU"
  },
  "cells": [
    {
      "cell_type": "markdown",
      "metadata": {
        "id": "view-in-github",
        "colab_type": "text"
      },
      "source": [
        "<a href=\"https://colab.research.google.com/github/rockey1006/Variational-Autoencoders/blob/master/find_wrong_and_data_agumentation_1119.ipynb\" target=\"_parent\"><img src=\"https://colab.research.google.com/assets/colab-badge.svg\" alt=\"Open In Colab\"/></a>"
      ]
    },
    {
      "cell_type": "code",
      "metadata": {
        "id": "ZQg2e14XJuxU"
      },
      "source": [
        "!pip install deepface"
      ],
      "execution_count": null,
      "outputs": []
    },
    {
      "cell_type": "code",
      "metadata": {
        "colab": {
          "base_uri": "https://localhost:8080/"
        },
        "id": "WYvBRyJkJ12A",
        "outputId": "40d9e36f-ef05-4533-ce4d-6befa07d7912"
      },
      "source": [
        "from deepface import DeepFace"
      ],
      "execution_count": null,
      "outputs": [
        {
          "output_type": "stream",
          "text": [
            "Directory  /root /.deepface created\n",
            "Directory  /root /.deepface/weights created\n"
          ],
          "name": "stdout"
        }
      ]
    },
    {
      "cell_type": "code",
      "metadata": {
        "colab": {
          "base_uri": "https://localhost:8080/"
        },
        "id": "pSis551NKJfH",
        "outputId": "b437b921-3e13-4ede-f669-9be0001a7e5f"
      },
      "source": [
        "from google.colab import drive\n",
        "drive.mount('/content/drive')"
      ],
      "execution_count": null,
      "outputs": [
        {
          "output_type": "stream",
          "text": [
            "Mounted at /content/drive\n"
          ],
          "name": "stdout"
        }
      ]
    },
    {
      "cell_type": "code",
      "metadata": {
        "id": "4BszvhyvKRD3"
      },
      "source": [
        "from zipfile import ZipFile\n",
        "with ZipFile('/content/drive/My Drive/facenet_weights.zip', 'r') as zipObj:\n",
        "   # Extract all the contents of zip file in different directory\n",
        "   zipObj.extractall('/root/.deepface/weights/')"
      ],
      "execution_count": null,
      "outputs": []
    },
    {
      "cell_type": "code",
      "metadata": {
        "colab": {
          "base_uri": "https://localhost:8080/"
        },
        "id": "6FVyjq-EKVc4",
        "outputId": "4f447a8a-f450-4f10-eada-72871f4d824d"
      },
      "source": [
        "from deepface import DeepFace\n",
        "result  = DeepFace.verify(\"/content/test/Adam_Sandler_0004_0.png\", \"/content/test/Adam_Sandler_0003_0.png\",model_name=\"Facenet\",distance_metric='euclidean_l2')\n",
        "\n",
        "print(\"Is verified by facenet: \", result[\"verified\"])\n",
        "print(\"euclidean_l2 distance: \",result[\"distance\"])\n",
        "## for Eucledian < 1.1 is same person"
      ],
      "execution_count": null,
      "outputs": [
        {
          "output_type": "stream",
          "text": [
            "Using Facenet model backend euclidean_l2 distance.\n",
            "WARNING:tensorflow:6 out of the last 11 calls to <function Model.make_predict_function.<locals>.predict_function at 0x7f2f0594a510> triggered tf.function retracing. Tracing is expensive and the excessive number of tracings could be due to (1) creating @tf.function repeatedly in a loop, (2) passing tensors with different shapes, (3) passing Python objects instead of tensors. For (1), please define your @tf.function outside of the loop. For (2), @tf.function has experimental_relax_shapes=True option that relaxes argument shapes that can avoid unnecessary retracing. For (3), please refer to https://www.tensorflow.org/tutorials/customization/performance#python_or_tensor_args and https://www.tensorflow.org/api_docs/python/tf/function for  more details.\n",
            "Is verified by facenet:  False\n",
            "euclidean_l2 distance:  1.037149\n"
          ],
          "name": "stdout"
        }
      ]
    },
    {
      "cell_type": "code",
      "metadata": {
        "id": "wiyL1Cl2OUSA"
      },
      "source": [
        "\n",
        "from zipfile import ZipFile\n",
        "with ZipFile('/content/drive/MyDrive/new_A1.zip', 'r') as zipObj:\n",
        "   # Extract all the contents of zip file in different directory\n",
        "   zipObj.extractall('new_A1')"
      ],
      "execution_count": null,
      "outputs": []
    },
    {
      "cell_type": "code",
      "metadata": {
        "id": "QN8qA_cuOtAc"
      },
      "source": [
        "from zipfile import ZipFile\n",
        "with ZipFile('/content/drive/MyDrive/new_A2.zip', 'r') as zipObj:\n",
        "   # Extract all the contents of zip file in different directory\n",
        "   zipObj.extractall('new_A2')"
      ],
      "execution_count": null,
      "outputs": []
    },
    {
      "cell_type": "code",
      "metadata": {
        "colab": {
          "base_uri": "https://localhost:8080/"
        },
        "id": "6mET3ZQqO0mY",
        "outputId": "c95ffda5-4f68-4a46-8c21-05cd30372b7a"
      },
      "source": [
        "!git clone https://github.com/rockey1006/classifier_1110.git\n"
      ],
      "execution_count": null,
      "outputs": [
        {
          "output_type": "stream",
          "text": [
            "Cloning into 'classifier_1110'...\n",
            "remote: Enumerating objects: 15, done.\u001b[K\n",
            "remote: Counting objects: 100% (15/15), done.\u001b[K\n",
            "remote: Compressing objects: 100% (14/14), done.\u001b[K\n",
            "remote: Total 15 (delta 0), reused 0 (delta 0), pack-reused 0\u001b[K\n",
            "Unpacking objects: 100% (15/15), done.\n"
          ],
          "name": "stdout"
        }
      ]
    },
    {
      "cell_type": "code",
      "metadata": {
        "id": "Gen5svs4PkCw"
      },
      "source": [
        ""
      ],
      "execution_count": null,
      "outputs": []
    },
    {
      "cell_type": "code",
      "metadata": {
        "id": "HWBqsBowO538"
      },
      "source": [
        "\n",
        "from zipfile import ZipFile\n",
        "with ZipFile('/content/drive/My Drive/vgg_face_weights.zip', 'r') as zipObj:\n",
        "   # Extract all the contents of zip file in different directory\n",
        "   zipObj.extractall('vgg_face_weights/')"
      ],
      "execution_count": null,
      "outputs": []
    },
    {
      "cell_type": "code",
      "metadata": {
        "colab": {
          "base_uri": "https://localhost:8080/"
        },
        "id": "PGwvpAQHPmUz",
        "outputId": "bd369e36-3d67-4974-cef7-99dc69f3ab27"
      },
      "source": [
        "!python /content/classifier_1110/Face2020.py\n"
      ],
      "execution_count": null,
      "outputs": [
        {
          "output_type": "stream",
          "text": [
            "model loaded-------------\n",
            "Traceback (most recent call last):\n",
            "  File \"/content/classifier_1110/Face2020.py\", line 46, in <module>\n",
            "    sys.exit(int(main() or 0))\n",
            "  File \"/content/classifier_1110/Face2020.py\", line 32, in main\n",
            "    x_train, y_train, x_test, y_test, person_rep = pd.prepare_data('',vgg_face)\n",
            "  File \"/content/classifier_1110/PrepareDataset.py\", line 21, in prepare_data\n",
            "    img=load_img(traindir + person+'/'+image_name,target_size=(224,224))\n",
            "  File \"/usr/local/lib/python3.6/dist-packages/tensorflow/python/keras/preprocessing/image.py\", line 301, in load_img\n",
            "    target_size=target_size, interpolation=interpolation)\n",
            "  File \"/usr/local/lib/python3.6/dist-packages/keras_preprocessing/image/utils.py\", line 113, in load_img\n",
            "    with open(path, 'rb') as f:\n",
            "IsADirectoryError: [Errno 21] Is a directory: '/content/new_A1/new_A1/Adam_Sandler/.ipynb_checkpoints'\n"
          ],
          "name": "stdout"
        }
      ]
    },
    {
      "cell_type": "code",
      "metadata": {
        "id": "CaJsXdpnQge8"
      },
      "source": [
        "\n",
        "import numpy as np\n",
        "import os\n",
        " \n",
        "img_path='/content/new_A1/new_A1'\n",
        " \n",
        "img_list=sorted(os.listdir(img_path))\t#\n",
        "\n",
        "img_nums=len(img_list)"
      ],
      "execution_count": null,
      "outputs": []
    },
    {
      "cell_type": "code",
      "metadata": {
        "colab": {
          "base_uri": "https://localhost:8080/"
        },
        "id": "ItzOOOSrQphR",
        "outputId": "cb37da20-f695-4c2d-a4c9-8b64b9ba6979"
      },
      "source": [
        "c = 0\n",
        "for i in range(img_nums):\n",
        "    c = c+1\n",
        " \n",
        "\n",
        "    if c==37 or c==43 or c==59 or c==88 or c==97 or c==119 or c==128 or c==134 or c==149 or c==150 or c==209 or c==211 or c==225 or c==240 or c==244 or c==300 or c==322 or c==323 or c==364 or c==389 or c==402 or c==425:\n",
        "      print(img_list[i])"
      ],
      "execution_count": null,
      "outputs": [
        {
          "output_type": "stream",
          "text": [
            "Adam_Sandler\n",
            "Adolfo_Rodriguez_Saa\n",
            "Ahmad_Masood\n",
            "Al_Sharpton\n",
            "Alan_Mulally\n",
            "Alec_Baldwin\n",
            "Alejandro_Toledo\n",
            "Alex_Barros\n",
            "Alexander_Downer\n",
            "Alexander_Losyukov\n",
            "Alvaro_Noboa\n",
            "Alvaro_Uribe\n",
            "Amer_al-Saadi\n",
            "Ana_Palacio\n",
            "Anastasia_Myskina\n",
            "Angela_Bassett\n",
            "Anna_Kournikova\n",
            "Anna_Nicole_Smith\n",
            "Anwar_Ibrahim\n",
            "Aron_Ralston\n",
            "Ashanti\n",
            "Augustin_Calleri\n"
          ],
          "name": "stdout"
        }
      ]
    },
    {
      "cell_type": "code",
      "metadata": {
        "id": "Wzzz9rNnZY1i"
      },
      "source": [
        "from zipfile import ZipFile\n",
        "with ZipFile('/content/drive/MyDrive/new_A1_1118.zip', 'r') as zipObj:\n",
        "   # Extract all the contents of zip file in different directory\n",
        "   zipObj.extractall('new_A1_1118')"
      ],
      "execution_count": null,
      "outputs": []
    },
    {
      "cell_type": "code",
      "metadata": {
        "id": "mxFrWL0JZyDu"
      },
      "source": [
        "from zipfile import ZipFile\n",
        "with ZipFile('/content/drive/MyDrive/new_A21118.zip', 'r') as zipObj:\n",
        "   # Extract all the contents of zip file in different directory\n",
        "   zipObj.extractall('new_A2_1118')"
      ],
      "execution_count": null,
      "outputs": []
    },
    {
      "cell_type": "code",
      "metadata": {
        "id": "ZWOdYzyeZ4yT"
      },
      "source": [
        "!python /content/classifier_1110/Face2020.py"
      ],
      "execution_count": null,
      "outputs": []
    },
    {
      "cell_type": "code",
      "metadata": {
        "id": "0nnb8wudaii5"
      },
      "source": [
        "\n",
        "import numpy as np\n",
        "import os\n",
        " \n",
        "img_path='/content/new_A1_1118/new_A1'\n",
        " \n",
        "img_list=sorted(os.listdir(img_path))\t#\n",
        "\n",
        "img_nums=len(img_list)"
      ],
      "execution_count": null,
      "outputs": []
    },
    {
      "cell_type": "code",
      "metadata": {
        "colab": {
          "base_uri": "https://localhost:8080/"
        },
        "id": "MhAl8AWXewdZ",
        "outputId": "1c0e4cb0-3ee0-4bd0-cea3-61864351e64c"
      },
      "source": [
        "c = 0\n",
        "for i in range(img_nums):\n",
        "    c = c+1\n",
        " \n",
        "\n",
        "    if c == 6 or c==26 or c==37 or c==43 or c==59 or c==79 or c==88 or c==97 or c==119 or c==122 or c==128 or c==134 or c==144 or c==149 or c==150 or c==159 or c==183 or c==217 or c==225 or c==240 or c==244 or c==247 or c==292 or c==300 or c==305 or c==322 or c==323 or c==364 or c==376 or c==388 or c==389 or c==393 or c==402 or c==418or c==425 or c==427:\n",
        "      print(img_list[i])\n",
        "            \n",
        "            \n"
      ],
      "execution_count": null,
      "outputs": [
        {
          "output_type": "stream",
          "text": [
            "Aaron_Peirsol\n",
            "Abel_Pacheco\n",
            "Adam_Sandler\n",
            "Adolfo_Rodriguez_Saa\n",
            "Ahmad_Masood\n",
            "Akbar_Hashemi_Rafsanjani\n",
            "Al_Sharpton\n",
            "Alan_Mulally\n",
            "Alec_Baldwin\n",
            "Alejandro_Avila\n",
            "Alejandro_Toledo\n",
            "Alex_Barros\n",
            "Alex_Sink\n",
            "Alexander_Downer\n",
            "Alexander_Losyukov\n",
            "Alexandra_Vodjanikova\n",
            "Ali_Naimi\n",
            "Amanda_Coetzer\n",
            "Amer_al-Saadi\n",
            "Ana_Palacio\n",
            "Anastasia_Myskina\n",
            "Anders_Fogh_Rasmussen\n",
            "Andy_Roddick\n",
            "Angela_Bassett\n",
            "Angelina_Jolie\n",
            "Anna_Kournikova\n",
            "Anna_Nicole_Smith\n",
            "Anwar_Ibrahim\n",
            "Arlen_Specter\n",
            "Arnoldo_Aleman\n",
            "Aron_Ralston\n",
            "Art_Howe\n",
            "Ashanti\n",
            "Atal_Bihari_Vajpayee\n",
            "Augustin_Calleri\n",
            "Augusto_Roa_Bastos\n"
          ],
          "name": "stdout"
        }
      ]
    },
    {
      "cell_type": "code",
      "metadata": {
        "colab": {
          "base_uri": "https://localhost:8080/"
        },
        "id": "LwBzWZpD6Xnn",
        "outputId": "00310f8b-47fc-41c1-c37e-570c7556bcb9"
      },
      "source": [
        "!git clone https://github.com/rockey1006/facenet.git\n"
      ],
      "execution_count": null,
      "outputs": [
        {
          "output_type": "stream",
          "text": [
            "Cloning into 'facenet'...\n",
            "remote: Enumerating objects: 3159, done.\u001b[K\n",
            "remote: Total 3159 (delta 0), reused 0 (delta 0), pack-reused 3159\u001b[K\n",
            "Receiving objects: 100% (3159/3159), 2.94 MiB | 29.50 MiB/s, done.\n",
            "Resolving deltas: 100% (2238/2238), done.\n"
          ],
          "name": "stdout"
        }
      ]
    },
    {
      "cell_type": "code",
      "metadata": {
        "id": "r6RQPeiS6cn4"
      },
      "source": [
        "!pip uninstall tensorflow\n",
        "!pip install tensorflow==1.13.2\n",
        "!pip install scipy==1.2.1\n",
        "!pip install facenet"
      ],
      "execution_count": null,
      "outputs": []
    },
    {
      "cell_type": "code",
      "metadata": {
        "colab": {
          "base_uri": "https://localhost:8080/"
        },
        "id": "QWoYFJmQ7Mzb",
        "outputId": "cd3d0400-9a25-4863-b789-357c09beccd2"
      },
      "source": [
        "\n",
        "from google.colab import drive\n",
        "drive.mount('/content/drive')"
      ],
      "execution_count": null,
      "outputs": [
        {
          "output_type": "stream",
          "text": [
            "Mounted at /content/drive\n"
          ],
          "name": "stdout"
        }
      ]
    },
    {
      "cell_type": "code",
      "metadata": {
        "id": "eTOfuu1-7Cu-"
      },
      "source": [
        "from zipfile import ZipFile\n",
        "with ZipFile('/content/drive/My Drive/20170708-150701.zip', 'r') as zipObj:\n",
        "   # Extract all the contents of zip file in different directory\n",
        "   zipObj.extractall('/content/facenet/cnn')"
      ],
      "execution_count": null,
      "outputs": []
    },
    {
      "cell_type": "code",
      "metadata": {
        "id": "s4gFT5dV7WaG"
      },
      "source": [
        "from zipfile import ZipFile\n",
        "with ZipFile('/content/drive/MyDrive/needed1118_f.zip', 'r') as zipObj:\n",
        "   # Extract all the contents of zip file in different directory\n",
        "   zipObj.extractall('/content/need')"
      ],
      "execution_count": null,
      "outputs": []
    },
    {
      "cell_type": "code",
      "metadata": {
        "colab": {
          "base_uri": "https://localhost:8080/"
        },
        "id": "bHuHfyRx-Ol7",
        "outputId": "b6b4d0fc-a5b6-43d0-81b1-51e610929607"
      },
      "source": [
        "import h5py\n",
        "f = h5py.File('/content/attribute.h5' , 'r')\n",
        "f.keys()\n",
        "print([key for key in f.keys()])"
      ],
      "execution_count": null,
      "outputs": [
        {
          "output_type": "stream",
          "text": [
            "['attribute_vectors', 'attributes', 'fields', 'latent_vars']\n"
          ],
          "name": "stdout"
        }
      ]
    },
    {
      "cell_type": "code",
      "metadata": {
        "id": "t1DsyVLEEOOX"
      },
      "source": [
        ""
      ],
      "execution_count": null,
      "outputs": []
    },
    {
      "cell_type": "code",
      "metadata": {
        "colab": {
          "base_uri": "https://localhost:8080/"
        },
        "id": "6r8lfZit-TeT",
        "outputId": "c28fa710-e376-4942-e592-ddf1fdcedc15"
      },
      "source": [
        "print(f['latent_vars'][0])\n",
        "print(f['latent_vars'][0].shape)\n",
        "print(f['latent_vars'][:].shape)"
      ],
      "execution_count": null,
      "outputs": [
        {
          "output_type": "stream",
          "text": [
            "[ 2.45873615e-01 -9.92496204e+00 -6.08006656e-01  5.69257498e+00\n",
            " -8.97961521e+00 -7.25127637e-01 -6.14124012e+00  1.56379967e+01\n",
            "  1.37841663e+01  1.45176115e+01  2.27830029e+00  7.61508417e+00\n",
            " -8.11413574e+00  5.31785154e+00 -6.41132212e+00  1.25902510e+01\n",
            " -1.62208045e+00  1.23496747e+00 -7.07167089e-01  6.61537170e+00\n",
            " -2.58920364e+01 -7.95765924e+00 -2.66219139e+00 -1.06350546e+01\n",
            "  7.64343309e+00 -6.06451893e+00  2.38497758e+00  3.02388406e+00\n",
            "  2.12142747e-02 -3.68153071e+00  3.16986680e+00 -6.99969006e+00\n",
            " -8.06647110e+00 -2.56581545e+00 -1.40809879e+01  2.34128261e+00\n",
            "  5.24205828e+00 -6.72020102e+00 -1.50067415e+01 -2.50884604e+00\n",
            " -1.38513451e+01 -7.06947422e+00 -1.36750669e+01 -1.90550673e+00\n",
            " -6.93280077e+00  7.26082850e+00 -3.65605021e+00  1.07767618e+00\n",
            " -1.86004317e+00 -6.85721397e+00 -1.38190517e+01  4.60907984e+00\n",
            " -5.35452080e+00 -7.12398005e+00  2.41643488e-01 -1.38454247e+01\n",
            "  9.93675327e+00 -5.82446575e-01  1.84871769e+00 -3.01321650e+00\n",
            "  6.14736748e+00  6.14312601e+00  1.63377380e+01 -1.79860401e+01\n",
            " -1.15132580e+01 -6.03358793e+00  2.54969025e+00 -6.90361452e+00\n",
            "  1.26064272e+01  2.05074883e+01 -5.78373909e-01  1.42155457e+01\n",
            "  9.34513569e+00 -9.31861782e+00 -3.35374522e+00 -1.43076677e+01\n",
            " -1.00961761e+01 -2.25841928e+00 -1.01752651e+00 -2.99857402e+00\n",
            " -1.42788219e+01 -2.69208312e+00  4.60653162e+00 -5.80150986e+00\n",
            " -1.24376860e+01 -6.24368191e+00 -8.87919807e+00  3.17447042e+00\n",
            "  5.08980370e+00  9.34528923e+00  2.98225236e+00 -7.10347271e+00\n",
            "  1.04558730e+00 -1.57978511e+00 -9.65540588e-01  6.65144587e+00\n",
            "  6.45278263e+00 -7.07892942e+00 -1.10458469e+01 -1.59812279e+01]\n",
            "(100,)\n",
            "(35, 100)\n"
          ],
          "name": "stdout"
        }
      ]
    },
    {
      "cell_type": "code",
      "metadata": {
        "colab": {
          "base_uri": "https://localhost:8080/"
        },
        "id": "fO0YMeRBbWL3",
        "outputId": "19a57962-9b8b-416c-cfd7-4fe1717c4f06"
      },
      "source": [
        "print(f['fields'][0])\n",
        "print(f['fields'][0].shape)\n",
        "print(f['fields'][:].shape)"
      ],
      "execution_count": null,
      "outputs": [
        {
          "output_type": "stream",
          "text": [
            "b'5_o_Clock_Shadow'\n",
            "()\n",
            "(40,)\n"
          ],
          "name": "stdout"
        }
      ]
    },
    {
      "cell_type": "code",
      "metadata": {
        "id": "rFifRAInhNj_"
      },
      "source": [
        "import os\n",
        " \n",
        " \n",
        "def mkd():\n",
        "    path = \"/content/person2/person\" #创建的文件的位置\n",
        "    for i in range(1, 35):#创建名为01-64的文件夹\n",
        "        k = \"%02d\" % i\n",
        "        file_name = path + str(k) \n",
        "        os.makedirs(file_name)\n",
        "        i = i+1\n",
        "        \n",
        "        \n",
        "mkd()"
      ],
      "execution_count": 217,
      "outputs": []
    },
    {
      "cell_type": "code",
      "metadata": {
        "id": "dI7cO5Fm-WVA"
      },
      "source": [
        "!python facenet/src/generative/modify_attribute.py \\\n",
        "facenet.src.generative.models.dfc_vae \\\n",
        "/content/facenet/cnn/20170708-150701/model.ckpt-50000 \\\n",
        "/content/facenet/cnn/20170708-150701/attribute_vectors.h5 \\\n",
        "/content/attribute.h5  \\\n",
        "/content/person2/person35/a.png  \\"
      ],
      "execution_count": null,
      "outputs": []
    },
    {
      "cell_type": "code",
      "metadata": {
        "colab": {
          "base_uri": "https://localhost:8080/",
          "height": 297
        },
        "id": "vZX2UdaI-64Q",
        "outputId": "1da7d0cf-a9b6-48a5-84c5-0fddcaf11c2f"
      },
      "source": [
        "from skimage import data, io\n",
        "\n",
        "img = io.imread(\"/content/facenet/add6.png\")\n",
        "io.imshow(img)\n",
        "\n",
        "io.show()"
      ],
      "execution_count": null,
      "outputs": [
        {
          "output_type": "display_data",
          "data": {
            "image/png": "[encoded data removed]",
            "text/plain": [
              "<Figure size 432x288 with 1 Axes>"
            ]
          },
          "metadata": {
            "tags": [],
            "needs_background": "light"
          }
        }
      ]
    },
    {
      "cell_type": "code",
      "metadata": {
        "id": "y8AkNqC-EPX3"
      },
      "source": [
        "!zip -r /content/file.zip /content/person2\n"
      ],
      "execution_count": null,
      "outputs": []
    },
    {
      "cell_type": "code",
      "metadata": {
        "colab": {
          "base_uri": "https://localhost:8080/",
          "height": 35
        },
        "id": "05SHGLurEZ59",
        "outputId": "79c348be-460a-4de0-e31f-72d0fa3c70ee"
      },
      "source": [
        "from google.colab import files\n",
        "files.download(\"/content/file.zip\")"
      ],
      "execution_count": 255,
      "outputs": [
        {
          "output_type": "display_data",
          "data": {
            "application/javascript": [
              "\n",
              "    async function download(id, filename, size) {\n",
              "      if (!google.colab.kernel.accessAllowed) {\n",
              "        return;\n",
              "      }\n",
              "      const div = document.createElement('div');\n",
              "      const label = document.createElement('label');\n",
              "      label.textContent = `Downloading \"${filename}\": `;\n",
              "      div.appendChild(label);\n",
              "      const progress = document.createElement('progress');\n",
              "      progress.max = size;\n",
              "      div.appendChild(progress);\n",
              "      document.body.appendChild(div);\n",
              "\n",
              "      const buffers = [];\n",
              "      let downloaded = 0;\n",
              "\n",
              "      const channel = await google.colab.kernel.comms.open(id);\n",
              "      // Send a message to notify the kernel that we're ready.\n",
              "      channel.send({})\n",
              "\n",
              "      for await (const message of channel.messages) {\n",
              "        // Send a message to notify the kernel that we're ready.\n",
              "        channel.send({})\n",
              "        if (message.buffers) {\n",
              "          for (const buffer of message.buffers) {\n",
              "            buffers.push(buffer);\n",
              "            downloaded += buffer.byteLength;\n",
              "            progress.value = downloaded;\n",
              "          }\n",
              "        }\n",
              "      }\n",
              "      const blob = new Blob(buffers, {type: 'application/binary'});\n",
              "      const a = document.createElement('a');\n",
              "      a.href = window.URL.createObjectURL(blob);\n",
              "      a.download = filename;\n",
              "      div.appendChild(a);\n",
              "      a.click();\n",
              "      div.remove();\n",
              "    }\n",
              "  "
            ],
            "text/plain": [
              "<IPython.core.display.Javascript object>"
            ]
          },
          "metadata": {
            "tags": []
          }
        },
        {
          "output_type": "display_data",
          "data": {
            "application/javascript": [
              "download(\"download_3813c3ab-23a8-466e-a4a5-c32127c59f08\", \"file.zip\", 750677964)"
            ],
            "text/plain": [
              "<IPython.core.display.Javascript object>"
            ]
          },
          "metadata": {
            "tags": []
          }
        }
      ]
    }
  ]
}