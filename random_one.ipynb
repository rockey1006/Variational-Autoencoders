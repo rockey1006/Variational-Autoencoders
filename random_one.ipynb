{
  "nbformat": 4,
  "nbformat_minor": 0,
  "metadata": {
    "colab": {
      "name": "random_0ne.ipynb",
      "provenance": [],
      "authorship_tag": "ABX9TyNoXju9hx5faGSI8ewarjwX",
      "include_colab_link": true
    },
    "kernelspec": {
      "name": "python3",
      "display_name": "Python 3"
    },
    "accelerator": "GPU"
  },
  "cells": [
    {
      "cell_type": "markdown",
      "metadata": {
        "id": "view-in-github",
        "colab_type": "text"
      },
      "source": [
        "<a href=\"https://colab.research.google.com/github/rockey1006/Variational-Autoencoders/blob/master/random_one.ipynb\" target=\"_parent\"><img src=\"https://colab.research.google.com/assets/colab-badge.svg\" alt=\"Open In Colab\"/></a>"
      ]
    },
    {
      "cell_type": "code",
      "metadata": {
        "id": "xq0uYBZTlH4n",
        "outputId": "75ae05f1-82d9-4302-bbfb-d14463510166",
        "colab": {
          "base_uri": "https://localhost:8080/"
        }
      },
      "source": [
        "\n",
        "from google.colab import drive\n",
        "drive.mount('/content/drive')"
      ],
      "execution_count": 1,
      "outputs": [
        {
          "output_type": "stream",
          "text": [
            "Mounted at /content/drive\n"
          ],
          "name": "stdout"
        }
      ]
    },
    {
      "cell_type": "code",
      "metadata": {
        "id": "71u5CMo1labj"
      },
      "source": [
        "from zipfile import ZipFile\n",
        "with ZipFile('/content/drive/My Drive/base.zip', 'r') as zipObj:\n",
        "   # Extract all the contents of zip file in different directory\n",
        "   zipObj.extractall('base1')"
      ],
      "execution_count": 55,
      "outputs": []
    },
    {
      "cell_type": "code",
      "metadata": {
        "id": "oFILG2N7l_Tw"
      },
      "source": [
        "import os,sys\n",
        "import random\n",
        "import shutil\n",
        "from PIL import Image\n",
        " \n",
        "\n",
        "def random_copyfile(srcPath,dstPath):\n",
        "    for name_file in os.listdir(srcPath):\n",
        "        temp = []\n",
        "        for img_file in os.listdir(srcPath+name_file):      \n",
        "            temp.append(img_file)\n",
        "        if len(temp) == 0:\n",
        "            continue\n",
        "        randomfile = random.choice(temp)\n",
        "        path = os.path.join(srcPath+name_file+'/'+randomfile)\n",
        "        with open(path, 'rb') as rstream:\n",
        "                container = rstream.read()\n",
        "                path1 = os.path.join(dstPath+name_file)\n",
        "                if not os.path.exists(path1):\n",
        "                  os.mkdir(path1)\n",
        "                  path1 = os.path.join(dstPath+name_file+'/'+randomfile)\n",
        "  \n",
        "                with open(path1, 'wb') as wstream:\n",
        "                    wstream.write(container)\n",
        "\n",
        " \n",
        "\n",
        " \n",
        "\n",
        "srcPath='/content/base1/base/base/'\n",
        "dstPath = '/content/new6/'\n",
        " \n"
      ],
      "execution_count": 60,
      "outputs": []
    },
    {
      "cell_type": "code",
      "metadata": {
        "id": "5l26M164oB-l"
      },
      "source": [
        "random_copyfile(srcPath,dstPath)\n"
      ],
      "execution_count": 61,
      "outputs": []
    },
    {
      "cell_type": "code",
      "metadata": {
        "id": "aG6bF23s2ScK"
      },
      "source": [
        "!zip -r /content/file3.zip /content/new5"
      ],
      "execution_count": null,
      "outputs": []
    },
    {
      "cell_type": "code",
      "metadata": {
        "id": "tLlzIqb31z-L"
      },
      "source": [
        "!zip -r /content/file4.zip /content/new6\n"
      ],
      "execution_count": null,
      "outputs": []
    },
    {
      "cell_type": "code",
      "metadata": {
        "id": "c1yJ6cET1_L0",
        "outputId": "6e51cc4a-f021-45f5-ecd6-f481e10de234",
        "colab": {
          "base_uri": "https://localhost:8080/",
          "height": 17
        }
      },
      "source": [
        "\n",
        "from google.colab import files\n",
        "files.download(\"/content/file.zip\")"
      ],
      "execution_count": 43,
      "outputs": [
        {
          "output_type": "display_data",
          "data": {
            "application/javascript": [
              "\n",
              "    async function download(id, filename, size) {\n",
              "      if (!google.colab.kernel.accessAllowed) {\n",
              "        return;\n",
              "      }\n",
              "      const div = document.createElement('div');\n",
              "      const label = document.createElement('label');\n",
              "      label.textContent = `Downloading \"${filename}\": `;\n",
              "      div.appendChild(label);\n",
              "      const progress = document.createElement('progress');\n",
              "      progress.max = size;\n",
              "      div.appendChild(progress);\n",
              "      document.body.appendChild(div);\n",
              "\n",
              "      const buffers = [];\n",
              "      let downloaded = 0;\n",
              "\n",
              "      const channel = await google.colab.kernel.comms.open(id);\n",
              "      // Send a message to notify the kernel that we're ready.\n",
              "      channel.send({})\n",
              "\n",
              "      for await (const message of channel.messages) {\n",
              "        // Send a message to notify the kernel that we're ready.\n",
              "        channel.send({})\n",
              "        if (message.buffers) {\n",
              "          for (const buffer of message.buffers) {\n",
              "            buffers.push(buffer);\n",
              "            downloaded += buffer.byteLength;\n",
              "            progress.value = downloaded;\n",
              "          }\n",
              "        }\n",
              "      }\n",
              "      const blob = new Blob(buffers, {type: 'application/binary'});\n",
              "      const a = document.createElement('a');\n",
              "      a.href = window.URL.createObjectURL(blob);\n",
              "      a.download = filename;\n",
              "      div.appendChild(a);\n",
              "      a.click();\n",
              "      div.remove();\n",
              "    }\n",
              "  "
            ],
            "text/plain": [
              "<IPython.core.display.Javascript object>"
            ]
          },
          "metadata": {
            "tags": []
          }
        },
        {
          "output_type": "display_data",
          "data": {
            "application/javascript": [
              "download(\"download_bc96586e-0928-4d41-9a54-01271331fb34\", \"file.zip\", 251429361)"
            ],
            "text/plain": [
              "<IPython.core.display.Javascript object>"
            ]
          },
          "metadata": {
            "tags": []
          }
        }
      ]
    },
    {
      "cell_type": "code",
      "metadata": {
        "id": "PW-MyUXE2dWr",
        "outputId": "397cd835-5034-4acd-aa2a-c4f709108c4a",
        "colab": {
          "base_uri": "https://localhost:8080/",
          "height": 17
        }
      },
      "source": [
        "from google.colab import files\n",
        "files.download(\"/content/file2.zip\")"
      ],
      "execution_count": 47,
      "outputs": [
        {
          "output_type": "display_data",
          "data": {
            "application/javascript": [
              "\n",
              "    async function download(id, filename, size) {\n",
              "      if (!google.colab.kernel.accessAllowed) {\n",
              "        return;\n",
              "      }\n",
              "      const div = document.createElement('div');\n",
              "      const label = document.createElement('label');\n",
              "      label.textContent = `Downloading \"${filename}\": `;\n",
              "      div.appendChild(label);\n",
              "      const progress = document.createElement('progress');\n",
              "      progress.max = size;\n",
              "      div.appendChild(progress);\n",
              "      document.body.appendChild(div);\n",
              "\n",
              "      const buffers = [];\n",
              "      let downloaded = 0;\n",
              "\n",
              "      const channel = await google.colab.kernel.comms.open(id);\n",
              "      // Send a message to notify the kernel that we're ready.\n",
              "      channel.send({})\n",
              "\n",
              "      for await (const message of channel.messages) {\n",
              "        // Send a message to notify the kernel that we're ready.\n",
              "        channel.send({})\n",
              "        if (message.buffers) {\n",
              "          for (const buffer of message.buffers) {\n",
              "            buffers.push(buffer);\n",
              "            downloaded += buffer.byteLength;\n",
              "            progress.value = downloaded;\n",
              "          }\n",
              "        }\n",
              "      }\n",
              "      const blob = new Blob(buffers, {type: 'application/binary'});\n",
              "      const a = document.createElement('a');\n",
              "      a.href = window.URL.createObjectURL(blob);\n",
              "      a.download = filename;\n",
              "      div.appendChild(a);\n",
              "      a.click();\n",
              "      div.remove();\n",
              "    }\n",
              "  "
            ],
            "text/plain": [
              "<IPython.core.display.Javascript object>"
            ]
          },
          "metadata": {
            "tags": []
          }
        },
        {
          "output_type": "display_data",
          "data": {
            "application/javascript": [
              "download(\"download_a7077301-eb05-4872-976e-7b3a6208a697\", \"file2.zip\", 251500021)"
            ],
            "text/plain": [
              "<IPython.core.display.Javascript object>"
            ]
          },
          "metadata": {
            "tags": []
          }
        }
      ]
    },
    {
      "cell_type": "code",
      "metadata": {
        "id": "3JpiDnco2aVR",
        "outputId": "8bc05b9a-8fce-417d-f563-bf63a5dda128",
        "colab": {
          "base_uri": "https://localhost:8080/"
        }
      },
      "source": [
        "!git clone https://github.com/rockey1006/classifier.git\n"
      ],
      "execution_count": 48,
      "outputs": [
        {
          "output_type": "stream",
          "text": [
            "Cloning into 'classifier'...\n",
            "remote: Enumerating objects: 17, done.\u001b[K\n",
            "remote: Counting objects: 100% (17/17), done.\u001b[K\n",
            "remote: Compressing objects: 100% (15/15), done.\u001b[K\n",
            "remote: Total 17 (delta 0), reused 0 (delta 0), pack-reused 0\u001b[K\n",
            "Unpacking objects: 100% (17/17), done.\n"
          ],
          "name": "stdout"
        }
      ]
    },
    {
      "cell_type": "code",
      "metadata": {
        "id": "6bUTQ4OH2vyo"
      },
      "source": [
        "from zipfile import ZipFile\n",
        "with ZipFile('/content/file.zip', 'r') as zipObj:\n",
        "   # Extract all the contents of zip file in different directory\n",
        "   zipObj.extractall('train')"
      ],
      "execution_count": 49,
      "outputs": []
    },
    {
      "cell_type": "code",
      "metadata": {
        "id": "ypa82RBV3Fcx",
        "outputId": "dc466d4f-c17e-4ab9-873f-784e24fa8894",
        "colab": {
          "base_uri": "https://localhost:8080/"
        }
      },
      "source": [
        "from google.colab import drive\n",
        "drive.mount('/content/drive')"
      ],
      "execution_count": 50,
      "outputs": [
        {
          "output_type": "stream",
          "text": [
            "Drive already mounted at /content/drive; to attempt to forcibly remount, call drive.mount(\"/content/drive\", force_remount=True).\n"
          ],
          "name": "stdout"
        }
      ]
    },
    {
      "cell_type": "code",
      "metadata": {
        "id": "fbhae-Aa3Kpu"
      },
      "source": [
        "from zipfile import ZipFile\n",
        "with ZipFile('/content/drive/My Drive/vgg_face_weights.zip', 'r') as zipObj:\n",
        "   # Extract all the contents of zip file in different directory\n",
        "   zipObj.extractall('vgg_face_weights/')"
      ],
      "execution_count": 51,
      "outputs": []
    },
    {
      "cell_type": "code",
      "metadata": {
        "id": "NX5nZ8wV3OXH",
        "outputId": "4df5fed8-a012-4916-90a7-3f1a6cf931a7",
        "colab": {
          "base_uri": "https://localhost:8080/"
        }
      },
      "source": [
        "!python /content/classifier/Face2020.py\n"
      ],
      "execution_count": 62,
      "outputs": [
        {
          "output_type": "stream",
          "text": [
            "2020-11-04 11:18:14.825175: I tensorflow/stream_executor/platform/default/dso_loader.cc:48] Successfully opened dynamic library libcudart.so.10.1\n",
            "2020-11-04 11:18:18.448909: I tensorflow/stream_executor/platform/default/dso_loader.cc:48] Successfully opened dynamic library libcuda.so.1\n",
            "2020-11-04 11:18:18.449137: I tensorflow/stream_executor/cuda/cuda_gpu_executor.cc:982] successful NUMA node read from SysFS had negative value (-1), but there must be at least one NUMA node, so returning NUMA node zero\n",
            "2020-11-04 11:18:18.449720: I tensorflow/core/common_runtime/gpu/gpu_device.cc:1716] Found device 0 with properties: \n",
            "pciBusID: 0000:00:04.0 name: Tesla T4 computeCapability: 7.5\n",
            "coreClock: 1.59GHz coreCount: 40 deviceMemorySize: 14.73GiB deviceMemoryBandwidth: 298.08GiB/s\n",
            "2020-11-04 11:18:18.449774: I tensorflow/stream_executor/platform/default/dso_loader.cc:48] Successfully opened dynamic library libcudart.so.10.1\n",
            "2020-11-04 11:18:18.449839: I tensorflow/stream_executor/platform/default/dso_loader.cc:48] Successfully opened dynamic library libcublas.so.10\n",
            "2020-11-04 11:18:18.451666: I tensorflow/stream_executor/platform/default/dso_loader.cc:48] Successfully opened dynamic library libcufft.so.10\n",
            "2020-11-04 11:18:18.451747: I tensorflow/stream_executor/platform/default/dso_loader.cc:48] Successfully opened dynamic library libcurand.so.10\n",
            "2020-11-04 11:18:18.451791: I tensorflow/stream_executor/platform/default/dso_loader.cc:48] Successfully opened dynamic library libcusolver.so.10\n",
            "2020-11-04 11:18:18.452527: I tensorflow/stream_executor/platform/default/dso_loader.cc:48] Successfully opened dynamic library libcusparse.so.10\n",
            "2020-11-04 11:18:18.452602: I tensorflow/stream_executor/platform/default/dso_loader.cc:48] Successfully opened dynamic library libcudnn.so.7\n",
            "2020-11-04 11:18:18.452706: I tensorflow/stream_executor/cuda/cuda_gpu_executor.cc:982] successful NUMA node read from SysFS had negative value (-1), but there must be at least one NUMA node, so returning NUMA node zero\n",
            "2020-11-04 11:18:18.453276: I tensorflow/stream_executor/cuda/cuda_gpu_executor.cc:982] successful NUMA node read from SysFS had negative value (-1), but there must be at least one NUMA node, so returning NUMA node zero\n",
            "2020-11-04 11:18:18.453783: I tensorflow/core/common_runtime/gpu/gpu_device.cc:1858] Adding visible gpu devices: 0\n",
            "2020-11-04 11:18:18.458732: I tensorflow/core/platform/profile_utils/cpu_utils.cc:104] CPU Frequency: 2200000000 Hz\n",
            "2020-11-04 11:18:18.458976: I tensorflow/compiler/xla/service/service.cc:168] XLA service 0x4e2d3340 initialized for platform Host (this does not guarantee that XLA will be used). Devices:\n",
            "2020-11-04 11:18:18.459006: I tensorflow/compiler/xla/service/service.cc:176]   StreamExecutor device (0): Host, Default Version\n",
            "2020-11-04 11:18:18.460469: I tensorflow/stream_executor/cuda/cuda_gpu_executor.cc:982] successful NUMA node read from SysFS had negative value (-1), but there must be at least one NUMA node, so returning NUMA node zero\n",
            "2020-11-04 11:18:18.461115: I tensorflow/compiler/xla/service/service.cc:168] XLA service 0x4e2d3500 initialized for platform CUDA (this does not guarantee that XLA will be used). Devices:\n",
            "2020-11-04 11:18:18.461143: I tensorflow/compiler/xla/service/service.cc:176]   StreamExecutor device (0): Tesla T4, Compute Capability 7.5\n",
            "2020-11-04 11:18:18.461338: I tensorflow/stream_executor/cuda/cuda_gpu_executor.cc:982] successful NUMA node read from SysFS had negative value (-1), but there must be at least one NUMA node, so returning NUMA node zero\n",
            "2020-11-04 11:18:18.461879: I tensorflow/core/common_runtime/gpu/gpu_device.cc:1716] Found device 0 with properties: \n",
            "pciBusID: 0000:00:04.0 name: Tesla T4 computeCapability: 7.5\n",
            "coreClock: 1.59GHz coreCount: 40 deviceMemorySize: 14.73GiB deviceMemoryBandwidth: 298.08GiB/s\n",
            "2020-11-04 11:18:18.461915: I tensorflow/stream_executor/platform/default/dso_loader.cc:48] Successfully opened dynamic library libcudart.so.10.1\n",
            "2020-11-04 11:18:18.461937: I tensorflow/stream_executor/platform/default/dso_loader.cc:48] Successfully opened dynamic library libcublas.so.10\n",
            "2020-11-04 11:18:18.461967: I tensorflow/stream_executor/platform/default/dso_loader.cc:48] Successfully opened dynamic library libcufft.so.10\n",
            "2020-11-04 11:18:18.461985: I tensorflow/stream_executor/platform/default/dso_loader.cc:48] Successfully opened dynamic library libcurand.so.10\n",
            "2020-11-04 11:18:18.462003: I tensorflow/stream_executor/platform/default/dso_loader.cc:48] Successfully opened dynamic library libcusolver.so.10\n",
            "2020-11-04 11:18:18.462024: I tensorflow/stream_executor/platform/default/dso_loader.cc:48] Successfully opened dynamic library libcusparse.so.10\n",
            "2020-11-04 11:18:18.462041: I tensorflow/stream_executor/platform/default/dso_loader.cc:48] Successfully opened dynamic library libcudnn.so.7\n",
            "2020-11-04 11:18:18.462126: I tensorflow/stream_executor/cuda/cuda_gpu_executor.cc:982] successful NUMA node read from SysFS had negative value (-1), but there must be at least one NUMA node, so returning NUMA node zero\n",
            "2020-11-04 11:18:18.462684: I tensorflow/stream_executor/cuda/cuda_gpu_executor.cc:982] successful NUMA node read from SysFS had negative value (-1), but there must be at least one NUMA node, so returning NUMA node zero\n",
            "2020-11-04 11:18:18.463187: I tensorflow/core/common_runtime/gpu/gpu_device.cc:1858] Adding visible gpu devices: 0\n",
            "2020-11-04 11:18:18.463316: I tensorflow/stream_executor/platform/default/dso_loader.cc:48] Successfully opened dynamic library libcudart.so.10.1\n",
            "2020-11-04 11:18:19.145241: I tensorflow/core/common_runtime/gpu/gpu_device.cc:1257] Device interconnect StreamExecutor with strength 1 edge matrix:\n",
            "2020-11-04 11:18:19.145300: I tensorflow/core/common_runtime/gpu/gpu_device.cc:1263]      0 \n",
            "2020-11-04 11:18:19.145314: I tensorflow/core/common_runtime/gpu/gpu_device.cc:1276] 0:   N \n",
            "2020-11-04 11:18:19.145549: I tensorflow/stream_executor/cuda/cuda_gpu_executor.cc:982] successful NUMA node read from SysFS had negative value (-1), but there must be at least one NUMA node, so returning NUMA node zero\n",
            "2020-11-04 11:18:19.146238: I tensorflow/stream_executor/cuda/cuda_gpu_executor.cc:982] successful NUMA node read from SysFS had negative value (-1), but there must be at least one NUMA node, so returning NUMA node zero\n",
            "2020-11-04 11:18:19.146824: W tensorflow/core/common_runtime/gpu/gpu_bfc_allocator.cc:39] Overriding allow_growth setting because the TF_FORCE_GPU_ALLOW_GROWTH environment variable is set. Original config value was 0.\n",
            "2020-11-04 11:18:19.146871: I tensorflow/core/common_runtime/gpu/gpu_device.cc:1402] Created TensorFlow device (/job:localhost/replica:0/task:0/device:GPU:0 with 13603 MB memory) -> physical GPU (device: 0, name: Tesla T4, pci bus id: 0000:00:04.0, compute capability: 7.5)\n",
            "model loaded-------------\n",
            "2020-11-04 11:18:22.715540: I tensorflow/stream_executor/platform/default/dso_loader.cc:48] Successfully opened dynamic library libcudnn.so.7\n",
            "2020-11-04 11:18:22.866251: I tensorflow/stream_executor/platform/default/dso_loader.cc:48] Successfully opened dynamic library libcublas.so.10\n",
            "(1680, 2622)\n",
            "(1680,)\n",
            "Epoch 1/100\n",
            "53/53 [==============================] - 0s 4ms/step - loss: 9.2039 - accuracy: 0.0000e+00\n",
            "Epoch 2/100\n",
            "53/53 [==============================] - 0s 4ms/step - loss: 8.0906 - accuracy: 0.0012\n",
            "Epoch 3/100\n",
            "53/53 [==============================] - 0s 4ms/step - loss: 7.4839 - accuracy: 0.0089\n",
            "Epoch 4/100\n",
            "53/53 [==============================] - 0s 4ms/step - loss: 7.1037 - accuracy: 0.0250\n",
            "Epoch 5/100\n",
            "53/53 [==============================] - 0s 4ms/step - loss: 6.8288 - accuracy: 0.0488\n",
            "Epoch 6/100\n",
            "53/53 [==============================] - 0s 4ms/step - loss: 6.5513 - accuracy: 0.1018\n",
            "Epoch 7/100\n",
            "53/53 [==============================] - 0s 4ms/step - loss: 6.3506 - accuracy: 0.1518\n",
            "Epoch 8/100\n",
            "53/53 [==============================] - 0s 4ms/step - loss: 6.0894 - accuracy: 0.2619\n",
            "Epoch 9/100\n",
            "53/53 [==============================] - 0s 4ms/step - loss: 5.8801 - accuracy: 0.3423\n",
            "Epoch 10/100\n",
            "53/53 [==============================] - 0s 4ms/step - loss: 5.6520 - accuracy: 0.4405\n",
            "Epoch 11/100\n",
            "53/53 [==============================] - 0s 4ms/step - loss: 5.4143 - accuracy: 0.5464\n",
            "Epoch 12/100\n",
            "53/53 [==============================] - 0s 4ms/step - loss: 5.2180 - accuracy: 0.6161\n",
            "Epoch 13/100\n",
            "53/53 [==============================] - 0s 4ms/step - loss: 4.9999 - accuracy: 0.6768\n",
            "Epoch 14/100\n",
            "53/53 [==============================] - 0s 4ms/step - loss: 4.7700 - accuracy: 0.7536\n",
            "Epoch 15/100\n",
            "53/53 [==============================] - 0s 4ms/step - loss: 4.5485 - accuracy: 0.8149\n",
            "Epoch 16/100\n",
            "53/53 [==============================] - 0s 4ms/step - loss: 4.3295 - accuracy: 0.8464\n",
            "Epoch 17/100\n",
            "53/53 [==============================] - 0s 4ms/step - loss: 4.1199 - accuracy: 0.8780\n",
            "Epoch 18/100\n",
            "53/53 [==============================] - 0s 4ms/step - loss: 3.9213 - accuracy: 0.8982\n",
            "Epoch 19/100\n",
            "53/53 [==============================] - 0s 4ms/step - loss: 3.6869 - accuracy: 0.9345\n",
            "Epoch 20/100\n",
            "53/53 [==============================] - 0s 4ms/step - loss: 3.4385 - accuracy: 0.9524\n",
            "Epoch 21/100\n",
            "53/53 [==============================] - 0s 4ms/step - loss: 3.2572 - accuracy: 0.9619\n",
            "Epoch 22/100\n",
            "53/53 [==============================] - 0s 4ms/step - loss: 3.0261 - accuracy: 0.9714\n",
            "Epoch 23/100\n",
            "53/53 [==============================] - 0s 4ms/step - loss: 2.8218 - accuracy: 0.9768\n",
            "Epoch 24/100\n",
            "53/53 [==============================] - 0s 4ms/step - loss: 2.6411 - accuracy: 0.9815\n",
            "Epoch 25/100\n",
            "53/53 [==============================] - 0s 4ms/step - loss: 2.4270 - accuracy: 0.9869\n",
            "Epoch 26/100\n",
            "53/53 [==============================] - 0s 4ms/step - loss: 2.2195 - accuracy: 0.9899\n",
            "Epoch 27/100\n",
            "53/53 [==============================] - 0s 4ms/step - loss: 2.0594 - accuracy: 0.9893\n",
            "Epoch 28/100\n",
            "53/53 [==============================] - 0s 4ms/step - loss: 1.8660 - accuracy: 0.9952\n",
            "Epoch 29/100\n",
            "53/53 [==============================] - 0s 4ms/step - loss: 1.6875 - accuracy: 0.9976\n",
            "Epoch 30/100\n",
            "53/53 [==============================] - 0s 4ms/step - loss: 1.5633 - accuracy: 0.9976\n",
            "Epoch 31/100\n",
            "53/53 [==============================] - 0s 4ms/step - loss: 1.3883 - accuracy: 0.9988\n",
            "Epoch 32/100\n",
            "53/53 [==============================] - 0s 4ms/step - loss: 1.2796 - accuracy: 0.9994\n",
            "Epoch 33/100\n",
            "53/53 [==============================] - 0s 4ms/step - loss: 1.1485 - accuracy: 0.9994\n",
            "Epoch 34/100\n",
            "53/53 [==============================] - 0s 4ms/step - loss: 1.0308 - accuracy: 1.0000\n",
            "Epoch 35/100\n",
            "53/53 [==============================] - 0s 4ms/step - loss: 0.9421 - accuracy: 0.9988\n",
            "Epoch 36/100\n",
            "53/53 [==============================] - 0s 4ms/step - loss: 0.8589 - accuracy: 0.9994\n",
            "Epoch 37/100\n",
            "53/53 [==============================] - 0s 4ms/step - loss: 0.7665 - accuracy: 1.0000\n",
            "Epoch 38/100\n",
            "53/53 [==============================] - 0s 4ms/step - loss: 0.7098 - accuracy: 1.0000\n",
            "Epoch 39/100\n",
            "53/53 [==============================] - 0s 4ms/step - loss: 0.6342 - accuracy: 1.0000\n",
            "Epoch 40/100\n",
            "53/53 [==============================] - 0s 4ms/step - loss: 0.5591 - accuracy: 1.0000\n",
            "Epoch 41/100\n",
            "53/53 [==============================] - 0s 4ms/step - loss: 0.4928 - accuracy: 1.0000\n",
            "Epoch 42/100\n",
            "53/53 [==============================] - 0s 4ms/step - loss: 0.4600 - accuracy: 1.0000\n",
            "Epoch 43/100\n",
            "53/53 [==============================] - 0s 4ms/step - loss: 0.4334 - accuracy: 1.0000\n",
            "Epoch 44/100\n",
            "53/53 [==============================] - 0s 4ms/step - loss: 0.3838 - accuracy: 1.0000\n",
            "Epoch 45/100\n",
            "53/53 [==============================] - 0s 4ms/step - loss: 0.3591 - accuracy: 1.0000\n",
            "Epoch 46/100\n",
            "53/53 [==============================] - 0s 4ms/step - loss: 0.3254 - accuracy: 1.0000\n",
            "Epoch 47/100\n",
            "53/53 [==============================] - 0s 4ms/step - loss: 0.2904 - accuracy: 1.0000\n",
            "Epoch 48/100\n",
            "53/53 [==============================] - 0s 4ms/step - loss: 0.2908 - accuracy: 1.0000\n",
            "Epoch 49/100\n",
            "53/53 [==============================] - 0s 4ms/step - loss: 0.2737 - accuracy: 1.0000\n",
            "Epoch 50/100\n",
            "53/53 [==============================] - 0s 4ms/step - loss: 0.2390 - accuracy: 1.0000\n",
            "Epoch 51/100\n",
            "53/53 [==============================] - 0s 4ms/step - loss: 0.2234 - accuracy: 1.0000\n",
            "Epoch 52/100\n",
            "53/53 [==============================] - 0s 4ms/step - loss: 0.2121 - accuracy: 1.0000\n",
            "Epoch 53/100\n",
            "53/53 [==============================] - 0s 4ms/step - loss: 0.2127 - accuracy: 1.0000\n",
            "Epoch 54/100\n",
            "53/53 [==============================] - 0s 4ms/step - loss: 0.1836 - accuracy: 1.0000\n",
            "Epoch 55/100\n",
            "53/53 [==============================] - 0s 4ms/step - loss: 0.1797 - accuracy: 1.0000\n",
            "Epoch 56/100\n",
            "53/53 [==============================] - 0s 4ms/step - loss: 0.1725 - accuracy: 1.0000\n",
            "Epoch 57/100\n",
            "53/53 [==============================] - 0s 4ms/step - loss: 0.1561 - accuracy: 1.0000\n",
            "Epoch 58/100\n",
            "53/53 [==============================] - 0s 4ms/step - loss: 0.1395 - accuracy: 1.0000\n",
            "Epoch 59/100\n",
            "53/53 [==============================] - 0s 4ms/step - loss: 0.1436 - accuracy: 1.0000\n",
            "Epoch 60/100\n",
            "53/53 [==============================] - 0s 4ms/step - loss: 0.1322 - accuracy: 1.0000\n",
            "Epoch 61/100\n",
            "53/53 [==============================] - 0s 4ms/step - loss: 0.1144 - accuracy: 1.0000\n",
            "Epoch 62/100\n",
            "53/53 [==============================] - 0s 4ms/step - loss: 0.1233 - accuracy: 1.0000\n",
            "Epoch 63/100\n",
            "53/53 [==============================] - 0s 4ms/step - loss: 0.1126 - accuracy: 1.0000\n",
            "Epoch 64/100\n",
            "53/53 [==============================] - 0s 4ms/step - loss: 0.1114 - accuracy: 1.0000\n",
            "Epoch 65/100\n",
            "53/53 [==============================] - 0s 4ms/step - loss: 0.1007 - accuracy: 1.0000\n",
            "Epoch 66/100\n",
            "53/53 [==============================] - 0s 4ms/step - loss: 0.0990 - accuracy: 1.0000\n",
            "Epoch 67/100\n",
            "53/53 [==============================] - 0s 4ms/step - loss: 0.0978 - accuracy: 1.0000\n",
            "Epoch 68/100\n",
            "53/53 [==============================] - 0s 4ms/step - loss: 0.0835 - accuracy: 1.0000\n",
            "Epoch 69/100\n",
            "53/53 [==============================] - 0s 4ms/step - loss: 0.0867 - accuracy: 1.0000\n",
            "Epoch 70/100\n",
            "53/53 [==============================] - 0s 4ms/step - loss: 0.0811 - accuracy: 1.0000\n",
            "Epoch 71/100\n",
            "53/53 [==============================] - 0s 4ms/step - loss: 0.0769 - accuracy: 1.0000\n",
            "Epoch 72/100\n",
            "53/53 [==============================] - 0s 4ms/step - loss: 0.0755 - accuracy: 1.0000\n",
            "Epoch 73/100\n",
            "53/53 [==============================] - 0s 4ms/step - loss: 0.0721 - accuracy: 1.0000\n",
            "Epoch 74/100\n",
            "53/53 [==============================] - 0s 4ms/step - loss: 0.0696 - accuracy: 1.0000\n",
            "Epoch 75/100\n",
            "53/53 [==============================] - 0s 4ms/step - loss: 0.0661 - accuracy: 1.0000\n",
            "Epoch 76/100\n",
            "53/53 [==============================] - 0s 4ms/step - loss: 0.0617 - accuracy: 1.0000\n",
            "Epoch 77/100\n",
            "53/53 [==============================] - 0s 4ms/step - loss: 0.0634 - accuracy: 1.0000\n",
            "Epoch 78/100\n",
            "53/53 [==============================] - 0s 4ms/step - loss: 0.0620 - accuracy: 1.0000\n",
            "Epoch 79/100\n",
            "53/53 [==============================] - 0s 4ms/step - loss: 0.0568 - accuracy: 1.0000\n",
            "Epoch 80/100\n",
            "53/53 [==============================] - 0s 4ms/step - loss: 0.0547 - accuracy: 1.0000\n",
            "Epoch 81/100\n",
            "53/53 [==============================] - 0s 4ms/step - loss: 0.0566 - accuracy: 1.0000\n",
            "Epoch 82/100\n",
            "53/53 [==============================] - 0s 4ms/step - loss: 0.0542 - accuracy: 1.0000\n",
            "Epoch 83/100\n",
            "53/53 [==============================] - 0s 4ms/step - loss: 0.0486 - accuracy: 1.0000\n",
            "Epoch 84/100\n",
            "53/53 [==============================] - 0s 4ms/step - loss: 0.0485 - accuracy: 1.0000\n",
            "Epoch 85/100\n",
            "53/53 [==============================] - 0s 4ms/step - loss: 0.0463 - accuracy: 1.0000\n",
            "Epoch 86/100\n",
            "53/53 [==============================] - 0s 4ms/step - loss: 0.0407 - accuracy: 1.0000\n",
            "Epoch 87/100\n",
            "53/53 [==============================] - 0s 4ms/step - loss: 0.0437 - accuracy: 1.0000\n",
            "Epoch 88/100\n",
            "53/53 [==============================] - 0s 4ms/step - loss: 0.0413 - accuracy: 1.0000\n",
            "Epoch 89/100\n",
            "53/53 [==============================] - 0s 4ms/step - loss: 0.0351 - accuracy: 1.0000\n",
            "Epoch 90/100\n",
            "53/53 [==============================] - 0s 4ms/step - loss: 0.0380 - accuracy: 1.0000\n",
            "Epoch 91/100\n",
            "53/53 [==============================] - 0s 4ms/step - loss: 0.0338 - accuracy: 1.0000\n",
            "Epoch 92/100\n",
            "53/53 [==============================] - 0s 4ms/step - loss: 0.0340 - accuracy: 1.0000\n",
            "Epoch 93/100\n",
            "53/53 [==============================] - 0s 4ms/step - loss: 0.0341 - accuracy: 1.0000\n",
            "Epoch 94/100\n",
            "53/53 [==============================] - 0s 4ms/step - loss: 0.0355 - accuracy: 1.0000\n",
            "Epoch 95/100\n",
            "53/53 [==============================] - 0s 5ms/step - loss: 0.0314 - accuracy: 1.0000\n",
            "Epoch 96/100\n",
            "53/53 [==============================] - 0s 4ms/step - loss: 0.0325 - accuracy: 1.0000\n",
            "Epoch 97/100\n",
            "53/53 [==============================] - 0s 4ms/step - loss: 0.0311 - accuracy: 1.0000\n",
            "Epoch 98/100\n",
            "53/53 [==============================] - 0s 4ms/step - loss: 0.0283 - accuracy: 1.0000\n",
            "Epoch 99/100\n",
            "53/53 [==============================] - 0s 4ms/step - loss: 0.0269 - accuracy: 1.0000\n",
            "Epoch 100/100\n",
            "53/53 [==============================] - 0s 4ms/step - loss: 0.0277 - accuracy: 1.0000\n",
            "Evaluate on test data\n",
            "14/14 [==============================] - 0s 3ms/step - loss: 2.4703 - accuracy: 0.6518\n",
            "test loss, test acc: [2.4703330993652344, 0.6517857313156128]\n",
            "wrong data\n",
            "WARNING:tensorflow:From /content/classifier/FaceModel.py:79: Sequential.predict_classes (from tensorflow.python.keras.engine.sequential) is deprecated and will be removed after 2021-01-01.\n",
            "Instructions for updating:\n",
            "Please use instead:* `np.argmax(model.predict(x), axis=-1)`,   if your model does multi-class classification   (e.g. if it uses a `softmax` last-layer activation).* `(model.predict(x) > 0.5).astype(\"int32\")`,   if your model does binary classification   (e.g. if it uses a `sigmoid` last-layer activation).\n",
            "2020-11-04 11:19:34.208727: W tensorflow/core/framework/cpu_allocator_impl.cc:81] Allocation of 40320000 exceeds 10% of free system memory.\n",
            "positions: (array([   3,   17,   19,   26,   27,   28,   32,   36,   38,   39,   42,\n",
            "         43,   44,   46,   47,   50,   51,   55,   60,   67,   73,   76,\n",
            "         77,   82,   89,   91,   96,   99,  101,  106,  109,  110,  113,\n",
            "        117,  119,  122,  123,  127,  130,  135,  138,  140,  143,  144,\n",
            "        145,  146,  149,  158,  169,  172,  175,  180,  183,  185,  187,\n",
            "        192,  195,  201,  209,  213,  214,  216,  218,  225,  229,  230,\n",
            "        243,  245,  248,  250,  251,  253,  256,  259,  262,  264,  266,\n",
            "        267,  268,  271,  272,  277,  278,  281,  284,  285,  286,  287,\n",
            "        291,  294,  295,  298,  299,  304,  306,  308,  312,  313,  314,\n",
            "        315,  316,  321,  322,  323,  326,  331,  334,  336,  338,  340,\n",
            "        347,  348,  350,  351,  353,  354,  355,  356,  358,  363,  365,\n",
            "        368,  370,  372,  373,  375,  385,  389,  390,  391,  392,  395,\n",
            "        397,  400,  401,  406,  407,  409,  412,  413,  417,  418,  422,\n",
            "        423,  425,  428,  429,  431,  434,  437,  438,  439,  442,  445,\n",
            "        447,  448,  449,  450,  455,  456,  458,  460,  462,  463,  466,\n",
            "        471,  473,  479,  486,  488,  490,  494,  495,  500,  502,  509,\n",
            "        512,  513,  517,  519,  521,  530,  532,  543,  552,  553,  556,\n",
            "        562,  566,  567,  571,  572,  573,  574,  576,  577,  584,  585,\n",
            "        588,  589,  597,  598,  601,  602,  603,  617,  618,  619,  623,\n",
            "        627,  628,  632,  636,  641,  646,  649,  650,  653,  661,  663,\n",
            "        665,  672,  673,  678,  681,  690,  692,  694,  695,  698,  700,\n",
            "        702,  705,  707,  710,  714,  715,  716,  717,  718,  721,  722,\n",
            "        726,  731,  733,  741,  745,  750,  751,  755,  758,  759,  760,\n",
            "        768,  771,  773,  776,  777,  782,  787,  788,  792,  794,  795,\n",
            "        796,  801,  802,  803,  804,  806,  810,  816,  817,  818,  820,\n",
            "        828,  830,  831,  833,  834,  835,  840,  841,  843,  847,  848,\n",
            "        854,  859,  861,  864,  868,  870,  877,  880,  886,  887,  891,\n",
            "        892,  896,  897,  898,  899,  900,  906,  907,  911,  912,  913,\n",
            "        916,  918,  925,  926,  930,  931,  933,  938,  941,  942,  944,\n",
            "        945,  948,  950,  955,  957,  959,  964,  965,  966,  967,  971,\n",
            "        972,  974,  979,  980,  983,  988,  990,  992,  996, 1006, 1007,\n",
            "       1009, 1010, 1012, 1017, 1018, 1019, 1021, 1026, 1028, 1029, 1031,\n",
            "       1032, 1034, 1035, 1036, 1039, 1041, 1045, 1046, 1053, 1055, 1058,\n",
            "       1059, 1060, 1065, 1067, 1068, 1071, 1072, 1082, 1083, 1084, 1086,\n",
            "       1090, 1095, 1096, 1097, 1100, 1102, 1103, 1104, 1106, 1107, 1108,\n",
            "       1113, 1116, 1117, 1118, 1124, 1129, 1133, 1134, 1142, 1143, 1147,\n",
            "       1149, 1157, 1160, 1162, 1164, 1168, 1171, 1172, 1173, 1175, 1176,\n",
            "       1179, 1181, 1190, 1192, 1194, 1198, 1202, 1204, 1207, 1209, 1214,\n",
            "       1215, 1218, 1220, 1222, 1227, 1228, 1229, 1230, 1232, 1236, 1241,\n",
            "       1243, 1244, 1246, 1249, 1254, 1261, 1262, 1263, 1265, 1266, 1270,\n",
            "       1275, 1276, 1280, 1289, 1290, 1295, 1297, 1299, 1303, 1307, 1313,\n",
            "       1314, 1316, 1318, 1319, 1320, 1321, 1325, 1326, 1327, 1329, 1330,\n",
            "       1335, 1337, 1341, 1343, 1352, 1353, 1371, 1374, 1375, 1378, 1379,\n",
            "       1380, 1381, 1382, 1386, 1387, 1394, 1398, 1402, 1403, 1404, 1406,\n",
            "       1408, 1410, 1412, 1415, 1423, 1425, 1429, 1430, 1434, 1440, 1441,\n",
            "       1443, 1445, 1446, 1449, 1450, 1452, 1460, 1463, 1464, 1468, 1470,\n",
            "       1472, 1473, 1478, 1481, 1484, 1489, 1492, 1498, 1499, 1500, 1502,\n",
            "       1505, 1509, 1510, 1511, 1512, 1513, 1516, 1523, 1524, 1530, 1531,\n",
            "       1532, 1537, 1538, 1539, 1541, 1542, 1543, 1546, 1547, 1550, 1555,\n",
            "       1556, 1557, 1560, 1562, 1565, 1568, 1570, 1573, 1576, 1577, 1579,\n",
            "       1580, 1584, 1585, 1587, 1588, 1589, 1590, 1599, 1601, 1604, 1609,\n",
            "       1617, 1628, 1630, 1632, 1641, 1642, 1643, 1644, 1645, 1649, 1650,\n",
            "       1653, 1657, 1658, 1660, 1661, 1662, 1666, 1668, 1671, 1672, 1673,\n",
            "       1674, 1675]),)\n",
            "done..\n"
          ],
          "name": "stdout"
        }
      ]
    }
  ]
}