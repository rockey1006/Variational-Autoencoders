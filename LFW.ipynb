{
  "nbformat": 4,
  "nbformat_minor": 0,
  "metadata": {
    "colab": {
      "name": "LFW.ipynb",
      "provenance": [],
      "authorship_tag": "ABX9TyPoIZCPB3s8u0m4NOtHe84C",
      "include_colab_link": true
    },
    "kernelspec": {
      "name": "python3",
      "display_name": "Python 3"
    },
    "accelerator": "GPU"
  },
  "cells": [
    {
      "cell_type": "markdown",
      "metadata": {
        "id": "view-in-github",
        "colab_type": "text"
      },
      "source": [
        "<a href=\"https://colab.research.google.com/github/rockey1006/Variational-Autoencoders/blob/master/LFW.ipynb\" target=\"_parent\"><img src=\"https://colab.research.google.com/assets/colab-badge.svg\" alt=\"Open In Colab\"/></a>"
      ]
    },
    {
      "cell_type": "code",
      "metadata": {
        "id": "9bNeIls_vvHu",
        "outputId": "a67afdf4-1e63-4cb5-9c6a-122d2fb3cd62",
        "colab": {
          "base_uri": "https://localhost:8080/",
          "height": 122
        }
      },
      "source": [
        "!git clone https://github.com/rockey1006/classifier.git"
      ],
      "execution_count": 1,
      "outputs": [
        {
          "output_type": "stream",
          "text": [
            "Cloning into 'classifier'...\n",
            "remote: Enumerating objects: 17, done.\u001b[K\n",
            "remote: Counting objects: 100% (17/17), done.\u001b[K\n",
            "remote: Compressing objects: 100% (15/15), done.\u001b[K\n",
            "remote: Total 17 (delta 0), reused 0 (delta 0), pack-reused 0\u001b[K\n",
            "Unpacking objects: 100% (17/17), done.\n"
          ],
          "name": "stdout"
        }
      ]
    },
    {
      "cell_type": "code",
      "metadata": {
        "id": "hkoslNjev4S3",
        "outputId": "245f89d5-b7f8-4ca7-e921-496444c9b1d2",
        "colab": {
          "base_uri": "https://localhost:8080/",
          "height": 34
        }
      },
      "source": [
        "\n",
        "from google.colab import drive\n",
        "drive.mount('/content/drive')"
      ],
      "execution_count": 2,
      "outputs": [
        {
          "output_type": "stream",
          "text": [
            "Mounted at /content/drive\n"
          ],
          "name": "stdout"
        }
      ]
    },
    {
      "cell_type": "code",
      "metadata": {
        "id": "5O3YtJGvwQHK"
      },
      "source": [
        "from zipfile import ZipFile\n",
        "with ZipFile('/content/drive/My Drive/trainning_set.zip', 'r') as zipObj:\n",
        "   # Extract all the contents of zip file in different directory\n",
        "   zipObj.extractall('train')"
      ],
      "execution_count": 10,
      "outputs": []
    },
    {
      "cell_type": "code",
      "metadata": {
        "id": "hoF7iCYcxO3E"
      },
      "source": [
        "from zipfile import ZipFile\n",
        "with ZipFile('/content/drive/My Drive/one-shot_set.zip', 'r') as zipObj:\n",
        "   # Extract all the contents of zip file in different directory\n",
        "   zipObj.extractall('oneshotset')"
      ],
      "execution_count": 5,
      "outputs": []
    },
    {
      "cell_type": "code",
      "metadata": {
        "id": "L4jO1xBiqBkK"
      },
      "source": [
        "from zipfile import ZipFile\n",
        "with ZipFile('/content/drive/My Drive/base_set.zip', 'r') as zipObj:\n",
        "   # Extract all the contents of zip file in different directory\n",
        "   zipObj.extractall('baseset')"
      ],
      "execution_count": 6,
      "outputs": []
    },
    {
      "cell_type": "code",
      "metadata": {
        "id": "q9Lnx9nZwc6B"
      },
      "source": [
        "from zipfile import ZipFile\n",
        "with ZipFile('/content/drive/My Drive/vgg_face_weights.zip', 'r') as zipObj:\n",
        "   # Extract all the contents of zip file in different directory\n",
        "   zipObj.extractall('vgg_face_weights/')"
      ],
      "execution_count": 24,
      "outputs": []
    },
    {
      "cell_type": "code",
      "metadata": {
        "id": "KVil8UF5xjYW",
        "outputId": "08613d18-c1a5-45f5-9b9d-00cbb18ae0b3",
        "colab": {
          "base_uri": "https://localhost:8080/",
          "height": 1000
        }
      },
      "source": [
        "!python /content/classifier/Face2020.py"
      ],
      "execution_count": 28,
      "outputs": [
        {
          "output_type": "stream",
          "text": [
            "2020-10-23 01:08:21.715107: I tensorflow/stream_executor/platform/default/dso_loader.cc:48] Successfully opened dynamic library libcudart.so.10.1\n",
            "2020-10-23 01:08:25.118867: I tensorflow/stream_executor/platform/default/dso_loader.cc:48] Successfully opened dynamic library libcuda.so.1\n",
            "2020-10-23 01:08:25.119039: I tensorflow/stream_executor/cuda/cuda_gpu_executor.cc:982] successful NUMA node read from SysFS had negative value (-1), but there must be at least one NUMA node, so returning NUMA node zero\n",
            "2020-10-23 01:08:25.119584: I tensorflow/core/common_runtime/gpu/gpu_device.cc:1716] Found device 0 with properties: \n",
            "pciBusID: 0000:00:04.0 name: Tesla T4 computeCapability: 7.5\n",
            "coreClock: 1.59GHz coreCount: 40 deviceMemorySize: 14.73GiB deviceMemoryBandwidth: 298.08GiB/s\n",
            "2020-10-23 01:08:25.119636: I tensorflow/stream_executor/platform/default/dso_loader.cc:48] Successfully opened dynamic library libcudart.so.10.1\n",
            "2020-10-23 01:08:25.119692: I tensorflow/stream_executor/platform/default/dso_loader.cc:48] Successfully opened dynamic library libcublas.so.10\n",
            "2020-10-23 01:08:25.121235: I tensorflow/stream_executor/platform/default/dso_loader.cc:48] Successfully opened dynamic library libcufft.so.10\n",
            "2020-10-23 01:08:25.121321: I tensorflow/stream_executor/platform/default/dso_loader.cc:48] Successfully opened dynamic library libcurand.so.10\n",
            "2020-10-23 01:08:25.121353: I tensorflow/stream_executor/platform/default/dso_loader.cc:48] Successfully opened dynamic library libcusolver.so.10\n",
            "2020-10-23 01:08:25.122080: I tensorflow/stream_executor/platform/default/dso_loader.cc:48] Successfully opened dynamic library libcusparse.so.10\n",
            "2020-10-23 01:08:25.122157: I tensorflow/stream_executor/platform/default/dso_loader.cc:48] Successfully opened dynamic library libcudnn.so.7\n",
            "2020-10-23 01:08:25.122248: I tensorflow/stream_executor/cuda/cuda_gpu_executor.cc:982] successful NUMA node read from SysFS had negative value (-1), but there must be at least one NUMA node, so returning NUMA node zero\n",
            "2020-10-23 01:08:25.122799: I tensorflow/stream_executor/cuda/cuda_gpu_executor.cc:982] successful NUMA node read from SysFS had negative value (-1), but there must be at least one NUMA node, so returning NUMA node zero\n",
            "2020-10-23 01:08:25.123286: I tensorflow/core/common_runtime/gpu/gpu_device.cc:1858] Adding visible gpu devices: 0\n",
            "2020-10-23 01:08:25.128226: I tensorflow/core/platform/profile_utils/cpu_utils.cc:104] CPU Frequency: 2200000000 Hz\n",
            "2020-10-23 01:08:25.128426: I tensorflow/compiler/xla/service/service.cc:168] XLA service 0x48e9d180 initialized for platform Host (this does not guarantee that XLA will be used). Devices:\n",
            "2020-10-23 01:08:25.128457: I tensorflow/compiler/xla/service/service.cc:176]   StreamExecutor device (0): Host, Default Version\n",
            "2020-10-23 01:08:25.129879: I tensorflow/stream_executor/cuda/cuda_gpu_executor.cc:982] successful NUMA node read from SysFS had negative value (-1), but there must be at least one NUMA node, so returning NUMA node zero\n",
            "2020-10-23 01:08:25.130505: I tensorflow/compiler/xla/service/service.cc:168] XLA service 0x48e9d500 initialized for platform CUDA (this does not guarantee that XLA will be used). Devices:\n",
            "2020-10-23 01:08:25.130528: I tensorflow/compiler/xla/service/service.cc:176]   StreamExecutor device (0): Tesla T4, Compute Capability 7.5\n",
            "2020-10-23 01:08:25.130664: I tensorflow/stream_executor/cuda/cuda_gpu_executor.cc:982] successful NUMA node read from SysFS had negative value (-1), but there must be at least one NUMA node, so returning NUMA node zero\n",
            "2020-10-23 01:08:25.131183: I tensorflow/core/common_runtime/gpu/gpu_device.cc:1716] Found device 0 with properties: \n",
            "pciBusID: 0000:00:04.0 name: Tesla T4 computeCapability: 7.5\n",
            "coreClock: 1.59GHz coreCount: 40 deviceMemorySize: 14.73GiB deviceMemoryBandwidth: 298.08GiB/s\n",
            "2020-10-23 01:08:25.131224: I tensorflow/stream_executor/platform/default/dso_loader.cc:48] Successfully opened dynamic library libcudart.so.10.1\n",
            "2020-10-23 01:08:25.131244: I tensorflow/stream_executor/platform/default/dso_loader.cc:48] Successfully opened dynamic library libcublas.so.10\n",
            "2020-10-23 01:08:25.131276: I tensorflow/stream_executor/platform/default/dso_loader.cc:48] Successfully opened dynamic library libcufft.so.10\n",
            "2020-10-23 01:08:25.131294: I tensorflow/stream_executor/platform/default/dso_loader.cc:48] Successfully opened dynamic library libcurand.so.10\n",
            "2020-10-23 01:08:25.131310: I tensorflow/stream_executor/platform/default/dso_loader.cc:48] Successfully opened dynamic library libcusolver.so.10\n",
            "2020-10-23 01:08:25.131329: I tensorflow/stream_executor/platform/default/dso_loader.cc:48] Successfully opened dynamic library libcusparse.so.10\n",
            "2020-10-23 01:08:25.131345: I tensorflow/stream_executor/platform/default/dso_loader.cc:48] Successfully opened dynamic library libcudnn.so.7\n",
            "2020-10-23 01:08:25.131413: I tensorflow/stream_executor/cuda/cuda_gpu_executor.cc:982] successful NUMA node read from SysFS had negative value (-1), but there must be at least one NUMA node, so returning NUMA node zero\n",
            "2020-10-23 01:08:25.131941: I tensorflow/stream_executor/cuda/cuda_gpu_executor.cc:982] successful NUMA node read from SysFS had negative value (-1), but there must be at least one NUMA node, so returning NUMA node zero\n",
            "2020-10-23 01:08:25.132443: I tensorflow/core/common_runtime/gpu/gpu_device.cc:1858] Adding visible gpu devices: 0\n",
            "2020-10-23 01:08:25.132488: I tensorflow/stream_executor/platform/default/dso_loader.cc:48] Successfully opened dynamic library libcudart.so.10.1\n",
            "2020-10-23 01:08:25.729928: I tensorflow/core/common_runtime/gpu/gpu_device.cc:1257] Device interconnect StreamExecutor with strength 1 edge matrix:\n",
            "2020-10-23 01:08:25.729987: I tensorflow/core/common_runtime/gpu/gpu_device.cc:1263]      0 \n",
            "2020-10-23 01:08:25.729999: I tensorflow/core/common_runtime/gpu/gpu_device.cc:1276] 0:   N \n",
            "2020-10-23 01:08:25.730222: I tensorflow/stream_executor/cuda/cuda_gpu_executor.cc:982] successful NUMA node read from SysFS had negative value (-1), but there must be at least one NUMA node, so returning NUMA node zero\n",
            "2020-10-23 01:08:25.730805: I tensorflow/stream_executor/cuda/cuda_gpu_executor.cc:982] successful NUMA node read from SysFS had negative value (-1), but there must be at least one NUMA node, so returning NUMA node zero\n",
            "2020-10-23 01:08:25.731318: W tensorflow/core/common_runtime/gpu/gpu_bfc_allocator.cc:39] Overriding allow_growth setting because the TF_FORCE_GPU_ALLOW_GROWTH environment variable is set. Original config value was 0.\n",
            "2020-10-23 01:08:25.731364: I tensorflow/core/common_runtime/gpu/gpu_device.cc:1402] Created TensorFlow device (/job:localhost/replica:0/task:0/device:GPU:0 with 13603 MB memory) -> physical GPU (device: 0, name: Tesla T4, pci bus id: 0000:00:04.0, compute capability: 7.5)\n",
            "/content/vgg_face_weights\n",
            "2020-10-23 01:08:26.350733: I tensorflow/stream_executor/platform/default/dso_loader.cc:48] Successfully opened dynamic library libcudnn.so.7\n",
            "2020-10-23 01:08:26.516536: I tensorflow/stream_executor/platform/default/dso_loader.cc:48] Successfully opened dynamic library libcublas.so.10\n",
            "(13233, 2622)\n",
            "(13233,)\n",
            "Epoch 1/100\n",
            "331/331 [==============================] - 2s 5ms/step - loss: 7.7534 - accuracy: 0.1391 - val_loss: 11.4933 - val_accuracy: 0.0000e+00\n",
            "Epoch 2/100\n",
            "331/331 [==============================] - 1s 4ms/step - loss: 6.5842 - accuracy: 0.2310 - val_loss: 12.1963 - val_accuracy: 0.0000e+00\n",
            "Epoch 3/100\n",
            "331/331 [==============================] - 1s 4ms/step - loss: 5.9626 - accuracy: 0.2792 - val_loss: 12.9144 - val_accuracy: 0.0000e+00\n",
            "Epoch 4/100\n",
            "331/331 [==============================] - 1s 4ms/step - loss: 5.4220 - accuracy: 0.3201 - val_loss: 13.3080 - val_accuracy: 0.0000e+00\n",
            "Epoch 5/100\n",
            "331/331 [==============================] - 1s 4ms/step - loss: 4.9001 - accuracy: 0.3589 - val_loss: 13.9580 - val_accuracy: 0.0000e+00\n",
            "Epoch 6/100\n",
            "331/331 [==============================] - 1s 4ms/step - loss: 4.3952 - accuracy: 0.4053 - val_loss: 14.3084 - val_accuracy: 0.0000e+00\n",
            "Epoch 7/100\n",
            "331/331 [==============================] - 1s 4ms/step - loss: 3.8986 - accuracy: 0.4552 - val_loss: 14.4414 - val_accuracy: 0.0000e+00\n",
            "Epoch 8/100\n",
            "331/331 [==============================] - 2s 5ms/step - loss: 3.3991 - accuracy: 0.5063 - val_loss: 14.6103 - val_accuracy: 0.0000e+00\n",
            "Epoch 9/100\n",
            "331/331 [==============================] - 1s 4ms/step - loss: 2.9207 - accuracy: 0.5643 - val_loss: 14.6731 - val_accuracy: 0.0000e+00\n",
            "Epoch 10/100\n",
            "331/331 [==============================] - 1s 4ms/step - loss: 2.4365 - accuracy: 0.6327 - val_loss: 14.7823 - val_accuracy: 0.0000e+00\n",
            "Epoch 11/100\n",
            "331/331 [==============================] - 2s 5ms/step - loss: 1.9940 - accuracy: 0.7164 - val_loss: 14.8751 - val_accuracy: 0.0000e+00\n",
            "Epoch 12/100\n",
            "331/331 [==============================] - 1s 4ms/step - loss: 1.5712 - accuracy: 0.8037 - val_loss: 15.0109 - val_accuracy: 0.0000e+00\n",
            "Epoch 13/100\n",
            "331/331 [==============================] - 1s 4ms/step - loss: 1.2207 - accuracy: 0.8758 - val_loss: 15.0063 - val_accuracy: 0.0000e+00\n",
            "Epoch 14/100\n",
            "331/331 [==============================] - 1s 4ms/step - loss: 0.9156 - accuracy: 0.9250 - val_loss: 14.9245 - val_accuracy: 0.0000e+00\n",
            "Epoch 15/100\n",
            "331/331 [==============================] - 1s 4ms/step - loss: 0.6835 - accuracy: 0.9603 - val_loss: 15.1540 - val_accuracy: 0.0000e+00\n",
            "Epoch 16/100\n",
            "331/331 [==============================] - 1s 4ms/step - loss: 0.5198 - accuracy: 0.9758 - val_loss: 15.2493 - val_accuracy: 0.0000e+00\n",
            "Epoch 17/100\n",
            "331/331 [==============================] - 1s 4ms/step - loss: 0.3991 - accuracy: 0.9838 - val_loss: 15.0360 - val_accuracy: 0.0000e+00\n",
            "Epoch 18/100\n",
            "331/331 [==============================] - 1s 4ms/step - loss: 0.3059 - accuracy: 0.9907 - val_loss: 15.3254 - val_accuracy: 0.0000e+00\n",
            "Epoch 19/100\n",
            "331/331 [==============================] - 1s 4ms/step - loss: 0.2431 - accuracy: 0.9928 - val_loss: 15.3429 - val_accuracy: 0.0000e+00\n",
            "Epoch 20/100\n",
            "331/331 [==============================] - 1s 4ms/step - loss: 0.1984 - accuracy: 0.9963 - val_loss: 15.4879 - val_accuracy: 0.0000e+00\n",
            "Epoch 21/100\n",
            "331/331 [==============================] - 1s 4ms/step - loss: 0.1651 - accuracy: 0.9959 - val_loss: 15.3922 - val_accuracy: 0.0000e+00\n",
            "Epoch 22/100\n",
            "331/331 [==============================] - 1s 4ms/step - loss: 0.1404 - accuracy: 0.9964 - val_loss: 15.5041 - val_accuracy: 0.0000e+00\n",
            "Epoch 23/100\n",
            "331/331 [==============================] - 1s 4ms/step - loss: 0.1157 - accuracy: 0.9982 - val_loss: 15.5128 - val_accuracy: 0.0000e+00\n",
            "Epoch 24/100\n",
            "331/331 [==============================] - 1s 4ms/step - loss: 0.1037 - accuracy: 0.9982 - val_loss: 15.5646 - val_accuracy: 0.0000e+00\n",
            "Epoch 25/100\n",
            "331/331 [==============================] - 1s 4ms/step - loss: 0.0918 - accuracy: 0.9973 - val_loss: 15.7024 - val_accuracy: 0.0000e+00\n",
            "Epoch 26/100\n",
            "331/331 [==============================] - 1s 4ms/step - loss: 0.0878 - accuracy: 0.9975 - val_loss: 15.6427 - val_accuracy: 0.0000e+00\n",
            "Epoch 27/100\n",
            "331/331 [==============================] - 2s 5ms/step - loss: 0.0720 - accuracy: 0.9980 - val_loss: 15.5079 - val_accuracy: 0.0000e+00\n",
            "Epoch 28/100\n",
            "331/331 [==============================] - 1s 4ms/step - loss: 0.0681 - accuracy: 0.9984 - val_loss: 15.7869 - val_accuracy: 0.0000e+00\n",
            "Epoch 29/100\n",
            "331/331 [==============================] - 1s 4ms/step - loss: 0.0605 - accuracy: 0.9982 - val_loss: 15.7237 - val_accuracy: 0.0000e+00\n",
            "Epoch 30/100\n",
            "331/331 [==============================] - 1s 4ms/step - loss: 0.0529 - accuracy: 0.9989 - val_loss: 15.5869 - val_accuracy: 0.0000e+00\n",
            "Epoch 31/100\n",
            "331/331 [==============================] - 2s 5ms/step - loss: 0.0506 - accuracy: 0.9980 - val_loss: 15.7797 - val_accuracy: 0.0000e+00\n",
            "Epoch 32/100\n",
            "331/331 [==============================] - 1s 4ms/step - loss: 0.0470 - accuracy: 0.9983 - val_loss: 15.7053 - val_accuracy: 0.0000e+00\n",
            "Epoch 33/100\n",
            "331/331 [==============================] - 1s 4ms/step - loss: 0.0452 - accuracy: 0.9984 - val_loss: 15.7407 - val_accuracy: 0.0000e+00\n",
            "Epoch 34/100\n",
            "331/331 [==============================] - 1s 4ms/step - loss: 0.0451 - accuracy: 0.9979 - val_loss: 15.6655 - val_accuracy: 0.0000e+00\n",
            "Epoch 35/100\n",
            "331/331 [==============================] - 1s 4ms/step - loss: 0.0409 - accuracy: 0.9982 - val_loss: 15.8550 - val_accuracy: 0.0000e+00\n",
            "Epoch 36/100\n",
            "331/331 [==============================] - 1s 4ms/step - loss: 0.0299 - accuracy: 0.9992 - val_loss: 15.8604 - val_accuracy: 0.0000e+00\n",
            "Epoch 37/100\n",
            "331/331 [==============================] - 1s 4ms/step - loss: 0.0317 - accuracy: 0.9981 - val_loss: 15.6936 - val_accuracy: 0.0000e+00\n",
            "Epoch 38/100\n",
            "331/331 [==============================] - 1s 4ms/step - loss: 0.0329 - accuracy: 0.9990 - val_loss: 15.7931 - val_accuracy: 0.0000e+00\n",
            "Epoch 39/100\n",
            "331/331 [==============================] - 1s 4ms/step - loss: 0.0315 - accuracy: 0.9986 - val_loss: 15.8269 - val_accuracy: 0.0000e+00\n",
            "Epoch 40/100\n",
            "331/331 [==============================] - 1s 4ms/step - loss: 0.0368 - accuracy: 0.9974 - val_loss: 15.6873 - val_accuracy: 0.0000e+00\n",
            "Epoch 41/100\n",
            "331/331 [==============================] - 1s 4ms/step - loss: 0.0284 - accuracy: 0.9988 - val_loss: 15.8502 - val_accuracy: 0.0000e+00\n",
            "Epoch 42/100\n",
            "331/331 [==============================] - 1s 4ms/step - loss: 0.0229 - accuracy: 0.9986 - val_loss: 15.7530 - val_accuracy: 0.0000e+00\n",
            "Epoch 43/100\n",
            "331/331 [==============================] - 1s 4ms/step - loss: 0.0260 - accuracy: 0.9980 - val_loss: 15.7354 - val_accuracy: 0.0000e+00\n",
            "Epoch 44/100\n",
            "331/331 [==============================] - 1s 4ms/step - loss: 0.0301 - accuracy: 0.9977 - val_loss: 15.5960 - val_accuracy: 0.0000e+00\n",
            "Epoch 45/100\n",
            "331/331 [==============================] - 1s 4ms/step - loss: 0.0187 - accuracy: 0.9991 - val_loss: 15.7325 - val_accuracy: 0.0000e+00\n",
            "Epoch 46/100\n",
            "331/331 [==============================] - 1s 4ms/step - loss: 0.0219 - accuracy: 0.9987 - val_loss: 15.7033 - val_accuracy: 0.0000e+00\n",
            "Epoch 47/100\n",
            "331/331 [==============================] - 1s 4ms/step - loss: 0.0218 - accuracy: 0.9985 - val_loss: 15.7578 - val_accuracy: 0.0000e+00\n",
            "Epoch 48/100\n",
            "331/331 [==============================] - 1s 4ms/step - loss: 0.0278 - accuracy: 0.9973 - val_loss: 15.4876 - val_accuracy: 0.0000e+00\n",
            "Epoch 49/100\n",
            "331/331 [==============================] - 1s 4ms/step - loss: 0.0268 - accuracy: 0.9978 - val_loss: 15.5927 - val_accuracy: 0.0000e+00\n",
            "Epoch 50/100\n",
            "331/331 [==============================] - 2s 5ms/step - loss: 0.0173 - accuracy: 0.9988 - val_loss: 15.6520 - val_accuracy: 0.0000e+00\n",
            "Epoch 51/100\n",
            "331/331 [==============================] - 1s 4ms/step - loss: 0.0178 - accuracy: 0.9982 - val_loss: 15.6263 - val_accuracy: 0.0000e+00\n",
            "Epoch 52/100\n",
            "331/331 [==============================] - 1s 4ms/step - loss: 0.0182 - accuracy: 0.9987 - val_loss: 15.5045 - val_accuracy: 0.0000e+00\n",
            "Epoch 53/100\n",
            "331/331 [==============================] - 1s 4ms/step - loss: 0.0254 - accuracy: 0.9975 - val_loss: 15.5416 - val_accuracy: 0.0000e+00\n",
            "Epoch 54/100\n",
            "331/331 [==============================] - 1s 4ms/step - loss: 0.0160 - accuracy: 0.9988 - val_loss: 15.5367 - val_accuracy: 0.0000e+00\n",
            "Epoch 55/100\n",
            "331/331 [==============================] - 1s 4ms/step - loss: 0.0166 - accuracy: 0.9983 - val_loss: 15.3786 - val_accuracy: 0.0000e+00\n",
            "Epoch 56/100\n",
            "331/331 [==============================] - 1s 4ms/step - loss: 0.0184 - accuracy: 0.9981 - val_loss: 15.4396 - val_accuracy: 0.0000e+00\n",
            "Epoch 57/100\n",
            "331/331 [==============================] - 1s 4ms/step - loss: 0.0163 - accuracy: 0.9989 - val_loss: 15.4475 - val_accuracy: 0.0000e+00\n",
            "Epoch 58/100\n",
            "331/331 [==============================] - 1s 4ms/step - loss: 0.0110 - accuracy: 0.9992 - val_loss: 15.4477 - val_accuracy: 0.0000e+00\n",
            "Epoch 59/100\n",
            "331/331 [==============================] - 1s 4ms/step - loss: 0.0096 - accuracy: 0.9993 - val_loss: 15.4546 - val_accuracy: 0.0000e+00\n",
            "Epoch 60/100\n",
            "331/331 [==============================] - 1s 4ms/step - loss: 0.0104 - accuracy: 0.9990 - val_loss: 15.3157 - val_accuracy: 0.0000e+00\n",
            "Epoch 61/100\n",
            "331/331 [==============================] - 1s 4ms/step - loss: 0.0231 - accuracy: 0.9972 - val_loss: 15.3249 - val_accuracy: 0.0000e+00\n",
            "Epoch 62/100\n",
            "331/331 [==============================] - 1s 4ms/step - loss: 0.0184 - accuracy: 0.9977 - val_loss: 15.1097 - val_accuracy: 0.0000e+00\n",
            "Epoch 63/100\n",
            "331/331 [==============================] - 1s 4ms/step - loss: 0.0200 - accuracy: 0.9979 - val_loss: 15.2757 - val_accuracy: 0.0000e+00\n",
            "Epoch 64/100\n",
            "331/331 [==============================] - 1s 4ms/step - loss: 0.0154 - accuracy: 0.9983 - val_loss: 15.3163 - val_accuracy: 0.0000e+00\n",
            "Epoch 65/100\n",
            "331/331 [==============================] - 1s 4ms/step - loss: 0.0102 - accuracy: 0.9991 - val_loss: 15.1969 - val_accuracy: 0.0000e+00\n",
            "Epoch 66/100\n",
            "331/331 [==============================] - 2s 5ms/step - loss: 0.0084 - accuracy: 0.9991 - val_loss: 15.3023 - val_accuracy: 0.0000e+00\n",
            "Epoch 67/100\n",
            "331/331 [==============================] - 1s 4ms/step - loss: 0.0128 - accuracy: 0.9988 - val_loss: 14.8991 - val_accuracy: 0.0000e+00\n",
            "Epoch 68/100\n",
            "331/331 [==============================] - 2s 5ms/step - loss: 0.0150 - accuracy: 0.9986 - val_loss: 15.1549 - val_accuracy: 0.0000e+00\n",
            "Epoch 69/100\n",
            "331/331 [==============================] - 1s 4ms/step - loss: 0.0112 - accuracy: 0.9992 - val_loss: 15.1909 - val_accuracy: 0.0000e+00\n",
            "Epoch 70/100\n",
            "331/331 [==============================] - 1s 4ms/step - loss: 0.0073 - accuracy: 0.9992 - val_loss: 15.2384 - val_accuracy: 0.0000e+00\n",
            "Epoch 71/100\n",
            "331/331 [==============================] - 1s 4ms/step - loss: 0.0102 - accuracy: 0.9986 - val_loss: 15.0475 - val_accuracy: 0.0000e+00\n",
            "Epoch 72/100\n",
            "331/331 [==============================] - 1s 4ms/step - loss: 0.0145 - accuracy: 0.9980 - val_loss: 15.0207 - val_accuracy: 0.0000e+00\n",
            "Epoch 73/100\n",
            "331/331 [==============================] - 1s 4ms/step - loss: 0.0148 - accuracy: 0.9978 - val_loss: 14.8528 - val_accuracy: 0.0000e+00\n",
            "Epoch 74/100\n",
            "331/331 [==============================] - 2s 5ms/step - loss: 0.0191 - accuracy: 0.9967 - val_loss: 14.8705 - val_accuracy: 0.0000e+00\n",
            "Epoch 75/100\n",
            "331/331 [==============================] - 2s 5ms/step - loss: 0.0132 - accuracy: 0.9981 - val_loss: 14.9982 - val_accuracy: 0.0000e+00\n",
            "Epoch 76/100\n",
            "331/331 [==============================] - 1s 4ms/step - loss: 0.0080 - accuracy: 0.9993 - val_loss: 15.0530 - val_accuracy: 0.0000e+00\n",
            "Epoch 77/100\n",
            "331/331 [==============================] - 1s 4ms/step - loss: 0.0085 - accuracy: 0.9989 - val_loss: 14.8344 - val_accuracy: 0.0000e+00\n",
            "Epoch 78/100\n",
            "331/331 [==============================] - 2s 5ms/step - loss: 0.0076 - accuracy: 0.9995 - val_loss: 15.0000 - val_accuracy: 0.0000e+00\n",
            "Epoch 79/100\n",
            "331/331 [==============================] - 2s 5ms/step - loss: 0.0069 - accuracy: 0.9991 - val_loss: 14.9988 - val_accuracy: 0.0000e+00\n",
            "Epoch 80/100\n",
            "331/331 [==============================] - 2s 5ms/step - loss: 0.0071 - accuracy: 0.9992 - val_loss: 14.8812 - val_accuracy: 0.0000e+00\n",
            "Epoch 81/100\n",
            "331/331 [==============================] - 1s 4ms/step - loss: 0.0069 - accuracy: 0.9992 - val_loss: 14.8432 - val_accuracy: 0.0000e+00\n",
            "Epoch 82/100\n",
            "331/331 [==============================] - 2s 5ms/step - loss: 0.0177 - accuracy: 0.9974 - val_loss: 14.7314 - val_accuracy: 0.0000e+00\n",
            "Epoch 83/100\n",
            "331/331 [==============================] - 1s 4ms/step - loss: 0.0165 - accuracy: 0.9976 - val_loss: 14.6057 - val_accuracy: 0.0000e+00\n",
            "Epoch 84/100\n",
            "331/331 [==============================] - 1s 4ms/step - loss: 0.0086 - accuracy: 0.9986 - val_loss: 14.7817 - val_accuracy: 0.0000e+00\n",
            "Epoch 85/100\n",
            "331/331 [==============================] - 1s 4ms/step - loss: 0.0065 - accuracy: 0.9991 - val_loss: 14.7546 - val_accuracy: 0.0000e+00\n",
            "Epoch 86/100\n",
            "331/331 [==============================] - 2s 5ms/step - loss: 0.0053 - accuracy: 0.9996 - val_loss: 14.8908 - val_accuracy: 0.0000e+00\n",
            "Epoch 87/100\n",
            "331/331 [==============================] - 1s 4ms/step - loss: 0.0065 - accuracy: 0.9993 - val_loss: 14.6677 - val_accuracy: 0.0000e+00\n",
            "Epoch 88/100\n",
            "331/331 [==============================] - 1s 4ms/step - loss: 0.0100 - accuracy: 0.9989 - val_loss: 14.6260 - val_accuracy: 0.0000e+00\n",
            "Epoch 89/100\n",
            "331/331 [==============================] - 2s 5ms/step - loss: 0.0131 - accuracy: 0.9979 - val_loss: 14.5600 - val_accuracy: 0.0000e+00\n",
            "Epoch 90/100\n",
            "331/331 [==============================] - 1s 4ms/step - loss: 0.0115 - accuracy: 0.9983 - val_loss: 14.5228 - val_accuracy: 0.0000e+00\n",
            "Epoch 91/100\n",
            "331/331 [==============================] - 1s 4ms/step - loss: 0.0090 - accuracy: 0.9988 - val_loss: 14.7380 - val_accuracy: 0.0000e+00\n",
            "Epoch 92/100\n",
            "331/331 [==============================] - 1s 4ms/step - loss: 0.0062 - accuracy: 0.9992 - val_loss: 14.7044 - val_accuracy: 0.0000e+00\n",
            "Epoch 93/100\n",
            "331/331 [==============================] - 1s 4ms/step - loss: 0.0049 - accuracy: 0.9993 - val_loss: 14.5622 - val_accuracy: 0.0000e+00\n",
            "Epoch 94/100\n",
            "331/331 [==============================] - 1s 4ms/step - loss: 0.0081 - accuracy: 0.9990 - val_loss: 14.6460 - val_accuracy: 0.0000e+00\n",
            "Epoch 95/100\n",
            "331/331 [==============================] - 1s 4ms/step - loss: 0.0069 - accuracy: 0.9992 - val_loss: 14.6048 - val_accuracy: 0.0000e+00\n",
            "Epoch 96/100\n",
            "331/331 [==============================] - 1s 4ms/step - loss: 0.0065 - accuracy: 0.9988 - val_loss: 14.5881 - val_accuracy: 0.0000e+00\n",
            "Epoch 97/100\n",
            "331/331 [==============================] - 1s 4ms/step - loss: 0.0139 - accuracy: 0.9975 - val_loss: 14.4820 - val_accuracy: 0.0000e+00\n",
            "Epoch 98/100\n",
            "331/331 [==============================] - 1s 4ms/step - loss: 0.0089 - accuracy: 0.9991 - val_loss: 14.4602 - val_accuracy: 0.0000e+00\n",
            "Epoch 99/100\n",
            "331/331 [==============================] - 1s 4ms/step - loss: 0.0079 - accuracy: 0.9991 - val_loss: 14.5683 - val_accuracy: 0.0000e+00\n",
            "Epoch 100/100\n",
            "331/331 [==============================] - 1s 4ms/step - loss: 0.0049 - accuracy: 0.9995 - val_loss: 14.5772 - val_accuracy: 0.0000e+00\n",
            "done..\n"
          ],
          "name": "stdout"
        }
      ]
    },
    {
      "cell_type": "code",
      "metadata": {
        "id": "cgBZ8kqtBqJs"
      },
      "source": [
        ""
      ],
      "execution_count": null,
      "outputs": []
    }
  ]
}