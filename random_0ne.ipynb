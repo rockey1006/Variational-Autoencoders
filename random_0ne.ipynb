{
  "nbformat": 4,
  "nbformat_minor": 0,
  "metadata": {
    "colab": {
      "name": "random_0ne.ipynb",
      "provenance": [],
      "authorship_tag": "ABX9TyOXfa+v97zviuT3kPAZ8X2e",
      "include_colab_link": true
    },
    "kernelspec": {
      "name": "python3",
      "display_name": "Python 3"
    },
    "accelerator": "GPU"
  },
  "cells": [
    {
      "cell_type": "markdown",
      "metadata": {
        "id": "view-in-github",
        "colab_type": "text"
      },
      "source": [
        "<a href=\"https://colab.research.google.com/github/rockey1006/Variational-Autoencoders/blob/master/random_0ne.ipynb\" target=\"_parent\"><img src=\"https://colab.research.google.com/assets/colab-badge.svg\" alt=\"Open In Colab\"/></a>"
      ]
    },
    {
      "cell_type": "code",
      "metadata": {
        "id": "xq0uYBZTlH4n",
        "outputId": "75ae05f1-82d9-4302-bbfb-d14463510166",
        "colab": {
          "base_uri": "https://localhost:8080/"
        }
      },
      "source": [
        "\n",
        "from google.colab import drive\n",
        "drive.mount('/content/drive')"
      ],
      "execution_count": 1,
      "outputs": [
        {
          "output_type": "stream",
          "text": [
            "Mounted at /content/drive\n"
          ],
          "name": "stdout"
        }
      ]
    },
    {
      "cell_type": "code",
      "metadata": {
        "id": "71u5CMo1labj"
      },
      "source": [
        "from zipfile import ZipFile\n",
        "with ZipFile('/content/drive/My Drive/LFW1026.zip', 'r') as zipObj:\n",
        "   # Extract all the contents of zip file in different directory\n",
        "   zipObj.extractall('LFW')"
      ],
      "execution_count": 2,
      "outputs": []
    },
    {
      "cell_type": "code",
      "metadata": {
        "id": "oFILG2N7l_Tw"
      },
      "source": [
        "import os,sys\n",
        "import random\n",
        "import shutil\n",
        "from PIL import Image\n",
        " \n",
        "\n",
        "def random_copyfile(srcPath,dstPath):\n",
        "    for name_file in os.listdir(srcPath):\n",
        "        temp = []\n",
        "        for img_file in os.listdir(srcPath+name_file):      \n",
        "            temp.append(img_file)\n",
        "        if len(temp) == 0:\n",
        "            continue\n",
        "        randomfile = random.choice(temp)\n",
        "        path = os.path.join(srcPath+name_file+'/'+randomfile)\n",
        "        with open(path, 'rb') as rstream:\n",
        "                container = rstream.read()\n",
        "                path1 = os.path.join(dstPath+name_file)\n",
        "                if not os.path.exists(path1):\n",
        "                  os.mkdir(path1)\n",
        "                  path1 = os.path.join(dstPath+name_file+'/'+randomfile)\n",
        "  \n",
        "                with open(path1, 'wb') as wstream:\n",
        "                    wstream.write(container)\n",
        "\n",
        " \n",
        "\n",
        " \n",
        "\n",
        "srcPath='/content/LFW/Align/'\n",
        "dstPath = '/content/new3/'\n",
        " \n"
      ],
      "execution_count": 40,
      "outputs": []
    },
    {
      "cell_type": "code",
      "metadata": {
        "id": "5l26M164oB-l"
      },
      "source": [
        "random_copyfile(srcPath,dstPath)\n"
      ],
      "execution_count": 41,
      "outputs": []
    }
  ]
}