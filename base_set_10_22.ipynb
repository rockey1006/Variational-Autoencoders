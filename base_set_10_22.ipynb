{
  "nbformat": 4,
  "nbformat_minor": 0,
  "metadata": {
    "colab": {
      "name": "classifier10_20.ipynb",
      "provenance": [],
      "authorship_tag": "ABX9TyNYBfFxm9AGvMeRUMXIlFLN",
      "include_colab_link": true
    },
    "kernelspec": {
      "name": "python3",
      "display_name": "Python 3"
    },
    "accelerator": "GPU"
  },
  "cells": [
    {
      "cell_type": "markdown",
      "metadata": {
        "id": "view-in-github",
        "colab_type": "text"
      },
      "source": [
        "<a href=\"https://colab.research.google.com/github/rockey1006/Variational-Autoencoders/blob/master/base_set_10_22.ipynb\" target=\"_parent\"><img src=\"https://colab.research.google.com/assets/colab-badge.svg\" alt=\"Open In Colab\"/></a>"
      ]
    },
    {
      "cell_type": "code",
      "metadata": {
        "id": "9bNeIls_vvHu",
        "outputId": "a67afdf4-1e63-4cb5-9c6a-122d2fb3cd62",
        "colab": {
          "base_uri": "https://localhost:8080/",
          "height": 122
        }
      },
      "source": [
        "!git clone https://github.com/rockey1006/classifier.git"
      ],
      "execution_count": 1,
      "outputs": [
        {
          "output_type": "stream",
          "text": [
            "Cloning into 'classifier'...\n",
            "remote: Enumerating objects: 17, done.\u001b[K\n",
            "remote: Counting objects: 100% (17/17), done.\u001b[K\n",
            "remote: Compressing objects: 100% (15/15), done.\u001b[K\n",
            "remote: Total 17 (delta 0), reused 0 (delta 0), pack-reused 0\u001b[K\n",
            "Unpacking objects: 100% (17/17), done.\n"
          ],
          "name": "stdout"
        }
      ]
    },
    {
      "cell_type": "code",
      "metadata": {
        "id": "hkoslNjev4S3",
        "outputId": "245f89d5-b7f8-4ca7-e921-496444c9b1d2",
        "colab": {
          "base_uri": "https://localhost:8080/",
          "height": 34
        }
      },
      "source": [
        "\n",
        "from google.colab import drive\n",
        "drive.mount('/content/drive')"
      ],
      "execution_count": 2,
      "outputs": [
        {
          "output_type": "stream",
          "text": [
            "Mounted at /content/drive\n"
          ],
          "name": "stdout"
        }
      ]
    },
    {
      "cell_type": "code",
      "metadata": {
        "id": "5O3YtJGvwQHK"
      },
      "source": [
        "from zipfile import ZipFile\n",
        "with ZipFile('/content/drive/My Drive/trainning_set.zip', 'r') as zipObj:\n",
        "   # Extract all the contents of zip file in different directory\n",
        "   zipObj.extractall('train')"
      ],
      "execution_count": 10,
      "outputs": []
    },
    {
      "cell_type": "code",
      "metadata": {
        "id": "hoF7iCYcxO3E"
      },
      "source": [
        "from zipfile import ZipFile\n",
        "with ZipFile('/content/drive/My Drive/one-shot_set.zip', 'r') as zipObj:\n",
        "   # Extract all the contents of zip file in different directory\n",
        "   zipObj.extractall('oneshotset')"
      ],
      "execution_count": 5,
      "outputs": []
    },
    {
      "cell_type": "code",
      "metadata": {
        "id": "L4jO1xBiqBkK"
      },
      "source": [
        "from zipfile import ZipFile\n",
        "with ZipFile('/content/drive/My Drive/base_set.zip', 'r') as zipObj:\n",
        "   # Extract all the contents of zip file in different directory\n",
        "   zipObj.extractall('baseset')"
      ],
      "execution_count": 6,
      "outputs": []
    },
    {
      "cell_type": "code",
      "metadata": {
        "id": "q9Lnx9nZwc6B"
      },
      "source": [
        "from zipfile import ZipFile\n",
        "with ZipFile('/content/drive/My Drive/vgg_face_weights.zip', 'r') as zipObj:\n",
        "   # Extract all the contents of zip file in different directory\n",
        "   zipObj.extractall('vgg_face_weights/')"
      ],
      "execution_count": 8,
      "outputs": []
    },
    {
      "cell_type": "code",
      "metadata": {
        "id": "KVil8UF5xjYW",
        "outputId": "29de8c5e-b148-4cb2-e152-f0d6632b163b",
        "colab": {
          "base_uri": "https://localhost:8080/",
          "height": 1000
        }
      },
      "source": [
        "!python /content/classifier/Face2020.py"
      ],
      "execution_count": 17,
      "outputs": [
        {
          "output_type": "stream",
          "text": [
            "2020-10-22 23:56:44.294372: I tensorflow/stream_executor/platform/default/dso_loader.cc:48] Successfully opened dynamic library libcudart.so.10.1\n",
            "2020-10-22 23:56:47.630468: I tensorflow/stream_executor/platform/default/dso_loader.cc:48] Successfully opened dynamic library libcuda.so.1\n",
            "2020-10-22 23:56:47.630637: I tensorflow/stream_executor/cuda/cuda_gpu_executor.cc:982] successful NUMA node read from SysFS had negative value (-1), but there must be at least one NUMA node, so returning NUMA node zero\n",
            "2020-10-22 23:56:47.631204: I tensorflow/core/common_runtime/gpu/gpu_device.cc:1716] Found device 0 with properties: \n",
            "pciBusID: 0000:00:04.0 name: Tesla T4 computeCapability: 7.5\n",
            "coreClock: 1.59GHz coreCount: 40 deviceMemorySize: 14.73GiB deviceMemoryBandwidth: 298.08GiB/s\n",
            "2020-10-22 23:56:47.631261: I tensorflow/stream_executor/platform/default/dso_loader.cc:48] Successfully opened dynamic library libcudart.so.10.1\n",
            "2020-10-22 23:56:47.631322: I tensorflow/stream_executor/platform/default/dso_loader.cc:48] Successfully opened dynamic library libcublas.so.10\n",
            "2020-10-22 23:56:47.632940: I tensorflow/stream_executor/platform/default/dso_loader.cc:48] Successfully opened dynamic library libcufft.so.10\n",
            "2020-10-22 23:56:47.633028: I tensorflow/stream_executor/platform/default/dso_loader.cc:48] Successfully opened dynamic library libcurand.so.10\n",
            "2020-10-22 23:56:47.633073: I tensorflow/stream_executor/platform/default/dso_loader.cc:48] Successfully opened dynamic library libcusolver.so.10\n",
            "2020-10-22 23:56:47.633792: I tensorflow/stream_executor/platform/default/dso_loader.cc:48] Successfully opened dynamic library libcusparse.so.10\n",
            "2020-10-22 23:56:47.633869: I tensorflow/stream_executor/platform/default/dso_loader.cc:48] Successfully opened dynamic library libcudnn.so.7\n",
            "2020-10-22 23:56:47.633970: I tensorflow/stream_executor/cuda/cuda_gpu_executor.cc:982] successful NUMA node read from SysFS had negative value (-1), but there must be at least one NUMA node, so returning NUMA node zero\n",
            "2020-10-22 23:56:47.634759: I tensorflow/stream_executor/cuda/cuda_gpu_executor.cc:982] successful NUMA node read from SysFS had negative value (-1), but there must be at least one NUMA node, so returning NUMA node zero\n",
            "2020-10-22 23:56:47.635260: I tensorflow/core/common_runtime/gpu/gpu_device.cc:1858] Adding visible gpu devices: 0\n",
            "2020-10-22 23:56:47.640341: I tensorflow/core/platform/profile_utils/cpu_utils.cc:104] CPU Frequency: 2200000000 Hz\n",
            "2020-10-22 23:56:47.640517: I tensorflow/compiler/xla/service/service.cc:168] XLA service 0x3cb5d180 initialized for platform Host (this does not guarantee that XLA will be used). Devices:\n",
            "2020-10-22 23:56:47.640544: I tensorflow/compiler/xla/service/service.cc:176]   StreamExecutor device (0): Host, Default Version\n",
            "2020-10-22 23:56:47.641846: I tensorflow/stream_executor/cuda/cuda_gpu_executor.cc:982] successful NUMA node read from SysFS had negative value (-1), but there must be at least one NUMA node, so returning NUMA node zero\n",
            "2020-10-22 23:56:47.642477: I tensorflow/compiler/xla/service/service.cc:168] XLA service 0x3cb5d500 initialized for platform CUDA (this does not guarantee that XLA will be used). Devices:\n",
            "2020-10-22 23:56:47.642500: I tensorflow/compiler/xla/service/service.cc:176]   StreamExecutor device (0): Tesla T4, Compute Capability 7.5\n",
            "2020-10-22 23:56:47.642627: I tensorflow/stream_executor/cuda/cuda_gpu_executor.cc:982] successful NUMA node read from SysFS had negative value (-1), but there must be at least one NUMA node, so returning NUMA node zero\n",
            "2020-10-22 23:56:47.643155: I tensorflow/core/common_runtime/gpu/gpu_device.cc:1716] Found device 0 with properties: \n",
            "pciBusID: 0000:00:04.0 name: Tesla T4 computeCapability: 7.5\n",
            "coreClock: 1.59GHz coreCount: 40 deviceMemorySize: 14.73GiB deviceMemoryBandwidth: 298.08GiB/s\n",
            "2020-10-22 23:56:47.643196: I tensorflow/stream_executor/platform/default/dso_loader.cc:48] Successfully opened dynamic library libcudart.so.10.1\n",
            "2020-10-22 23:56:47.643216: I tensorflow/stream_executor/platform/default/dso_loader.cc:48] Successfully opened dynamic library libcublas.so.10\n",
            "2020-10-22 23:56:47.643247: I tensorflow/stream_executor/platform/default/dso_loader.cc:48] Successfully opened dynamic library libcufft.so.10\n",
            "2020-10-22 23:56:47.643264: I tensorflow/stream_executor/platform/default/dso_loader.cc:48] Successfully opened dynamic library libcurand.so.10\n",
            "2020-10-22 23:56:47.643280: I tensorflow/stream_executor/platform/default/dso_loader.cc:48] Successfully opened dynamic library libcusolver.so.10\n",
            "2020-10-22 23:56:47.643298: I tensorflow/stream_executor/platform/default/dso_loader.cc:48] Successfully opened dynamic library libcusparse.so.10\n",
            "2020-10-22 23:56:47.643313: I tensorflow/stream_executor/platform/default/dso_loader.cc:48] Successfully opened dynamic library libcudnn.so.7\n",
            "2020-10-22 23:56:47.643378: I tensorflow/stream_executor/cuda/cuda_gpu_executor.cc:982] successful NUMA node read from SysFS had negative value (-1), but there must be at least one NUMA node, so returning NUMA node zero\n",
            "2020-10-22 23:56:47.643899: I tensorflow/stream_executor/cuda/cuda_gpu_executor.cc:982] successful NUMA node read from SysFS had negative value (-1), but there must be at least one NUMA node, so returning NUMA node zero\n",
            "2020-10-22 23:56:47.644398: I tensorflow/core/common_runtime/gpu/gpu_device.cc:1858] Adding visible gpu devices: 0\n",
            "2020-10-22 23:56:47.644442: I tensorflow/stream_executor/platform/default/dso_loader.cc:48] Successfully opened dynamic library libcudart.so.10.1\n",
            "2020-10-22 23:56:48.246697: I tensorflow/core/common_runtime/gpu/gpu_device.cc:1257] Device interconnect StreamExecutor with strength 1 edge matrix:\n",
            "2020-10-22 23:56:48.246757: I tensorflow/core/common_runtime/gpu/gpu_device.cc:1263]      0 \n",
            "2020-10-22 23:56:48.246769: I tensorflow/core/common_runtime/gpu/gpu_device.cc:1276] 0:   N \n",
            "2020-10-22 23:56:48.247005: I tensorflow/stream_executor/cuda/cuda_gpu_executor.cc:982] successful NUMA node read from SysFS had negative value (-1), but there must be at least one NUMA node, so returning NUMA node zero\n",
            "2020-10-22 23:56:48.247881: I tensorflow/stream_executor/cuda/cuda_gpu_executor.cc:982] successful NUMA node read from SysFS had negative value (-1), but there must be at least one NUMA node, so returning NUMA node zero\n",
            "2020-10-22 23:56:48.248418: W tensorflow/core/common_runtime/gpu/gpu_bfc_allocator.cc:39] Overriding allow_growth setting because the TF_FORCE_GPU_ALLOW_GROWTH environment variable is set. Original config value was 0.\n",
            "2020-10-22 23:56:48.248474: I tensorflow/core/common_runtime/gpu/gpu_device.cc:1402] Created TensorFlow device (/job:localhost/replica:0/task:0/device:GPU:0 with 13603 MB memory) -> physical GPU (device: 0, name: Tesla T4, pci bus id: 0000:00:04.0, compute capability: 7.5)\n",
            "/content/vgg_face_weights\n",
            "2020-10-22 23:56:48.860621: I tensorflow/stream_executor/platform/default/dso_loader.cc:48] Successfully opened dynamic library libcudnn.so.7\n",
            "2020-10-22 23:56:49.001757: I tensorflow/stream_executor/platform/default/dso_loader.cc:48] Successfully opened dynamic library libcublas.so.10\n",
            "(1054, 2622)\n",
            "(1054,)\n",
            "Epoch 1/50\n",
            "33/33 [==============================] - 0s 10ms/step - loss: 7.7357 - accuracy: 0.1698 - val_loss: 8.0890 - val_accuracy: 0.0013\n",
            "Epoch 2/50\n",
            "33/33 [==============================] - 0s 5ms/step - loss: 5.4857 - accuracy: 0.3321 - val_loss: 7.5267 - val_accuracy: 0.0000e+00\n",
            "Epoch 3/50\n",
            "33/33 [==============================] - 0s 6ms/step - loss: 4.4104 - accuracy: 0.3776 - val_loss: 7.2239 - val_accuracy: 0.0000e+00\n",
            "Epoch 4/50\n",
            "33/33 [==============================] - 0s 6ms/step - loss: 3.8477 - accuracy: 0.4269 - val_loss: 7.1266 - val_accuracy: 0.0000e+00\n",
            "Epoch 5/50\n",
            "33/33 [==============================] - 0s 6ms/step - loss: 3.5208 - accuracy: 0.4715 - val_loss: 7.1443 - val_accuracy: 0.0000e+00\n",
            "Epoch 6/50\n",
            "33/33 [==============================] - 0s 6ms/step - loss: 3.2822 - accuracy: 0.4953 - val_loss: 7.1076 - val_accuracy: 0.0000e+00\n",
            "Epoch 7/50\n",
            "33/33 [==============================] - 0s 6ms/step - loss: 3.0539 - accuracy: 0.5190 - val_loss: 7.0733 - val_accuracy: 0.0000e+00\n",
            "Epoch 8/50\n",
            "33/33 [==============================] - 0s 6ms/step - loss: 2.8555 - accuracy: 0.5522 - val_loss: 7.1022 - val_accuracy: 0.0000e+00\n",
            "Epoch 9/50\n",
            "33/33 [==============================] - 0s 6ms/step - loss: 2.6957 - accuracy: 0.5844 - val_loss: 7.1324 - val_accuracy: 0.0000e+00\n",
            "Epoch 10/50\n",
            "33/33 [==============================] - 0s 6ms/step - loss: 2.5153 - accuracy: 0.6176 - val_loss: 7.1631 - val_accuracy: 0.0000e+00\n",
            "Epoch 11/50\n",
            "33/33 [==============================] - 0s 6ms/step - loss: 2.3497 - accuracy: 0.6499 - val_loss: 7.1666 - val_accuracy: 0.0000e+00\n",
            "Epoch 12/50\n",
            "33/33 [==============================] - 0s 6ms/step - loss: 2.2047 - accuracy: 0.6765 - val_loss: 7.1571 - val_accuracy: 0.0000e+00\n",
            "Epoch 13/50\n",
            "33/33 [==============================] - 0s 6ms/step - loss: 2.0345 - accuracy: 0.7173 - val_loss: 7.2581 - val_accuracy: 0.0000e+00\n",
            "Epoch 14/50\n",
            "33/33 [==============================] - 0s 6ms/step - loss: 1.9433 - accuracy: 0.7438 - val_loss: 7.3010 - val_accuracy: 0.0000e+00\n",
            "Epoch 15/50\n",
            "33/33 [==============================] - 0s 6ms/step - loss: 1.8183 - accuracy: 0.7694 - val_loss: 7.2815 - val_accuracy: 0.0000e+00\n",
            "Epoch 16/50\n",
            "33/33 [==============================] - 0s 6ms/step - loss: 1.7038 - accuracy: 0.8027 - val_loss: 7.4638 - val_accuracy: 0.0000e+00\n",
            "Epoch 17/50\n",
            "33/33 [==============================] - 0s 6ms/step - loss: 1.5789 - accuracy: 0.8444 - val_loss: 7.4787 - val_accuracy: 0.0000e+00\n",
            "Epoch 18/50\n",
            "33/33 [==============================] - 0s 6ms/step - loss: 1.4674 - accuracy: 0.8710 - val_loss: 7.5913 - val_accuracy: 0.0000e+00\n",
            "Epoch 19/50\n",
            "33/33 [==============================] - 0s 6ms/step - loss: 1.3630 - accuracy: 0.8880 - val_loss: 7.6595 - val_accuracy: 0.0000e+00\n",
            "Epoch 20/50\n",
            "33/33 [==============================] - 0s 6ms/step - loss: 1.2516 - accuracy: 0.9194 - val_loss: 7.7679 - val_accuracy: 0.0000e+00\n",
            "Epoch 21/50\n",
            "33/33 [==============================] - 0s 6ms/step - loss: 1.1746 - accuracy: 0.9326 - val_loss: 7.7352 - val_accuracy: 0.0000e+00\n",
            "Epoch 22/50\n",
            "33/33 [==============================] - 0s 7ms/step - loss: 1.0988 - accuracy: 0.9364 - val_loss: 7.8370 - val_accuracy: 0.0000e+00\n",
            "Epoch 23/50\n",
            "33/33 [==============================] - 0s 7ms/step - loss: 1.0126 - accuracy: 0.9583 - val_loss: 7.9115 - val_accuracy: 0.0000e+00\n",
            "Epoch 24/50\n",
            "33/33 [==============================] - 0s 6ms/step - loss: 0.9335 - accuracy: 0.9620 - val_loss: 7.9828 - val_accuracy: 0.0000e+00\n",
            "Epoch 25/50\n",
            "33/33 [==============================] - 0s 7ms/step - loss: 0.8355 - accuracy: 0.9753 - val_loss: 8.0295 - val_accuracy: 0.0000e+00\n",
            "Epoch 26/50\n",
            "33/33 [==============================] - 0s 7ms/step - loss: 0.7785 - accuracy: 0.9820 - val_loss: 8.2200 - val_accuracy: 0.0000e+00\n",
            "Epoch 27/50\n",
            "33/33 [==============================] - 0s 6ms/step - loss: 0.7206 - accuracy: 0.9896 - val_loss: 8.3292 - val_accuracy: 0.0000e+00\n",
            "Epoch 28/50\n",
            "33/33 [==============================] - 0s 6ms/step - loss: 0.6570 - accuracy: 0.9915 - val_loss: 8.2489 - val_accuracy: 0.0000e+00\n",
            "Epoch 29/50\n",
            "33/33 [==============================] - 0s 6ms/step - loss: 0.6076 - accuracy: 0.9943 - val_loss: 8.4160 - val_accuracy: 0.0000e+00\n",
            "Epoch 30/50\n",
            "33/33 [==============================] - 0s 6ms/step - loss: 0.5536 - accuracy: 0.9924 - val_loss: 8.5558 - val_accuracy: 0.0000e+00\n",
            "Epoch 31/50\n",
            "33/33 [==============================] - 0s 7ms/step - loss: 0.5267 - accuracy: 0.9953 - val_loss: 8.6019 - val_accuracy: 0.0000e+00\n",
            "Epoch 32/50\n",
            "33/33 [==============================] - 0s 7ms/step - loss: 0.4773 - accuracy: 0.9953 - val_loss: 8.8112 - val_accuracy: 0.0000e+00\n",
            "Epoch 33/50\n",
            "33/33 [==============================] - 0s 6ms/step - loss: 0.4529 - accuracy: 0.9981 - val_loss: 8.8093 - val_accuracy: 0.0000e+00\n",
            "Epoch 34/50\n",
            "33/33 [==============================] - 0s 6ms/step - loss: 0.3993 - accuracy: 0.9991 - val_loss: 8.8406 - val_accuracy: 0.0000e+00\n",
            "Epoch 35/50\n",
            "33/33 [==============================] - 0s 6ms/step - loss: 0.3850 - accuracy: 0.9972 - val_loss: 8.9255 - val_accuracy: 0.0000e+00\n",
            "Epoch 36/50\n",
            "33/33 [==============================] - 0s 6ms/step - loss: 0.3391 - accuracy: 0.9991 - val_loss: 9.1946 - val_accuracy: 0.0000e+00\n",
            "Epoch 37/50\n",
            "33/33 [==============================] - 0s 6ms/step - loss: 0.3204 - accuracy: 1.0000 - val_loss: 9.2446 - val_accuracy: 0.0000e+00\n",
            "Epoch 38/50\n",
            "33/33 [==============================] - 0s 6ms/step - loss: 0.2888 - accuracy: 0.9991 - val_loss: 9.2236 - val_accuracy: 0.0000e+00\n",
            "Epoch 39/50\n",
            "33/33 [==============================] - 0s 5ms/step - loss: 0.2663 - accuracy: 1.0000 - val_loss: 9.2735 - val_accuracy: 0.0000e+00\n",
            "Epoch 40/50\n",
            "33/33 [==============================] - 0s 5ms/step - loss: 0.2552 - accuracy: 0.9991 - val_loss: 9.4807 - val_accuracy: 0.0000e+00\n",
            "Epoch 41/50\n",
            "33/33 [==============================] - 0s 5ms/step - loss: 0.2416 - accuracy: 1.0000 - val_loss: 9.6242 - val_accuracy: 0.0000e+00\n",
            "Epoch 42/50\n",
            "33/33 [==============================] - 0s 6ms/step - loss: 0.2120 - accuracy: 0.9981 - val_loss: 9.4942 - val_accuracy: 0.0000e+00\n",
            "Epoch 43/50\n",
            "33/33 [==============================] - 0s 6ms/step - loss: 0.2025 - accuracy: 0.9981 - val_loss: 9.6111 - val_accuracy: 0.0000e+00\n",
            "Epoch 44/50\n",
            "33/33 [==============================] - 0s 5ms/step - loss: 0.1830 - accuracy: 0.9991 - val_loss: 9.7644 - val_accuracy: 0.0000e+00\n",
            "Epoch 45/50\n",
            "33/33 [==============================] - 0s 5ms/step - loss: 0.1862 - accuracy: 1.0000 - val_loss: 9.9687 - val_accuracy: 0.0000e+00\n",
            "Epoch 46/50\n",
            "33/33 [==============================] - 0s 5ms/step - loss: 0.1723 - accuracy: 1.0000 - val_loss: 10.0683 - val_accuracy: 0.0000e+00\n",
            "Epoch 47/50\n",
            "33/33 [==============================] - 0s 7ms/step - loss: 0.1623 - accuracy: 1.0000 - val_loss: 10.0882 - val_accuracy: 0.0000e+00\n",
            "Epoch 48/50\n",
            "33/33 [==============================] - 0s 7ms/step - loss: 0.1492 - accuracy: 0.9991 - val_loss: 10.0713 - val_accuracy: 0.0000e+00\n",
            "Epoch 49/50\n",
            "33/33 [==============================] - 0s 6ms/step - loss: 0.1449 - accuracy: 0.9981 - val_loss: 10.0937 - val_accuracy: 0.0000e+00\n",
            "Epoch 50/50\n",
            "33/33 [==============================] - 0s 5ms/step - loss: 0.1389 - accuracy: 1.0000 - val_loss: 10.1643 - val_accuracy: 0.0000e+00\n",
            "done..\n"
          ],
          "name": "stdout"
        }
      ]
    }
  ]
}